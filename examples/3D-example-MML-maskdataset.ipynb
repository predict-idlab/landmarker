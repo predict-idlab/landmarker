{
 "cells": [
  {
   "cell_type": "markdown",
   "metadata": {},
   "source": [
    "<p align=\"center\">\n",
    "    <a href=\"https://predict-idlab.github.io/landmarker\">\n",
    "        <img alt=\"landmarker\" src=\"https://raw.githubusercontent.com/predict-idlab/landmarker/main/docs/_static/images/logo.svg\" width=\"66%\">\n",
    "    </a>\n",
    "</p>\n",
    "\n",
    "# Training and Evaluating One-hot Encoded (Mask) Regression Model for Landmark Localizatioin on MML (3D)\n",
    "\n",
    "In this tutorial, we will train and evaluate an one-hot encoded (mask) regression model for landmark \n",
    "localization on MML. The Mandibular Molar Landmarking (MML) dataset, which consists of 658\n",
    "annotated CT volumes of the skull. The CT volumes are transformed to a uniform scale of 512 × 512 × 256. Multiple\n",
    "junior and senior clinicians annotated the CT volumes. It includes 14 mandibular landmarks, specifically, 4 crowns, 8\n",
    "roots of the second and third mandibular molars, and 2 cups of cuspids. Note that the number of landmarks in a single CT\n",
    "volume is arbitrary, i.e., some landmarks are absent in the images. We filter out all CT volumes where not all landmarks are present, reducing the dataset size to 399.\n",
    "\n",
    "We will go through the following steps:\n",
    "* [Loading the dataset](#Loading-the-dataset)\n",
    "* [Inspecting the dataset](#Inspecting-the-dataset)\n",
    "* [Training and initializing the UNet model](#Training-the-model)\n",
    "* [Evaluating the model](#Evaluating-the-model)\n",
    "\n",
    "<a target=\"_blank\" href=\"https://colab.research.google.com/github/predict-idlab/landmarker/examples/3D-example-MML-maskdataset.ipynb\">\n",
    "  <img src=\"https://colab.research.google.com/assets/colab-badge.svg\" alt=\"Open In Colab\"/>\n",
    "</a>"
   ]
  },
  {
   "cell_type": "markdown",
   "metadata": {},
   "source": [
    "## Setup environment"
   ]
  },
  {
   "cell_type": "code",
   "execution_count": 1,
   "metadata": {},
   "outputs": [],
   "source": [
    "# !python -c \"import landmarker\" || pip install landmarker\n",
    "\n",
    "import sys\n",
    "import os\n",
    "\n",
    "sys.path.append(\"../src/\")\n",
    "import landmarker"
   ]
  },
  {
   "cell_type": "markdown",
   "metadata": {},
   "source": [
    "## Setup imports and variables"
   ]
  },
  {
   "cell_type": "code",
   "execution_count": 2,
   "metadata": {},
   "outputs": [],
   "source": [
    "import numpy as np\n",
    "import torch\n",
    "from torch.utils.data import DataLoader\n",
    "from tqdm.notebook import tqdm"
   ]
  },
  {
   "cell_type": "code",
   "execution_count": 3,
   "metadata": {},
   "outputs": [],
   "source": [
    "if torch.cuda.is_available():\n",
    "    device = 'cuda'\n",
    "elif torch.backends.mps.is_available():\n",
    "    device = 'mps'\n",
    "else:\n",
    "    device = 'cpu'"
   ]
  },
  {
   "cell_type": "markdown",
   "metadata": {},
   "source": [
    "## Loading the dataset\n",
    "\n",
    "### Short description of the data and dataset module\n",
    "The [landmarker](https://github.com/predict-idlab/landmarker) package has several built-in\n",
    "datasets in the `landmarker.datasets` module, as well as utility classes for building your own\n",
    "datasets in the `landmarker.data` module. There are three types of datasets: 'LandmarkDataset',\n",
    "'HeatmapDataset', and 'MaskDataset'. The 'LandmarkDataset' is a dataset of images with landmarks,\n",
    "the 'HeatmapDataset' is a dataset of images with heatmaps, and the 'MaskDataset' is a dataset of\n",
    "images with masks (i.e., binary segmentation masks indiciating the location of the landmarks). The \n",
    "'HeatmapDataset' and 'MaskDataset' both inherit from the 'LandmarkDataset' class, and thus also \n",
    "contain information about the landmarks. The 'MaskDataset' can be constructed from specified image \n",
    "and landmarks pairs, or from images and masks pairs, because often that is how the data is\n",
    "distributed. The 'HeatmapDataset' can be constructed from images and landmarks pairs.\n",
    "\n",
    "Images can be provided as a list of paths to stored images, or as a a numpy arary, torch tensor, \n",
    "list of numpy  arrays or list of torch tensors. Landmarks can be as numpy arrays or torch tensors.\n",
    "These landmarks can be provided in three different shapes: (1) (N, D) where N is the number of\n",
    "samples and D is the number of dimensions, (2) (N, C, D) where C is the number of landmark\n",
    "classes, (3) (N, C, I, D) where I is the number of instances per landmark class, if less than I\n",
    "instances are provided, the remaining instances are filled with NaNs."
   ]
  },
  {
   "cell_type": "code",
   "execution_count": 4,
   "metadata": {},
   "outputs": [],
   "source": [
    "from monai.transforms import (Compose, ScaleIntensityd)\n",
    "\n",
    "fn_keys = ('image', 'mask')\n",
    "spatial_transformd = []\n",
    "\n",
    "train_transformd = Compose([\n",
    "                            ScaleIntensityd(('image', )),  # Scale intensity\n",
    "                        ] + spatial_transformd)\n",
    "\n",
    "inference_transformd = Compose([\n",
    "    ScaleIntensityd(('image', )),\n",
    "])"
   ]
  },
  {
   "cell_type": "code",
   "execution_count": null,
   "metadata": {},
   "outputs": [],
   "source": [
    "from glob import glob\n",
    "\n",
    "path_data = \"...\"\n",
    "\n",
    "# Warning ensure that lists of paths for volumes, landmarks, and pixel_spacings\n",
    "\n",
    "# volume paths\n",
    "volume_paths_train = sorted(glob(f\"{path_data}/train/*_volume.npy\"))\n",
    "volume_paths_val = sorted(glob(f\"{path_data}/val/*_volume.npy\"))\n",
    "volume_paths_test = sorted(glob(f\"{path_data}/test/*_volume.npy\"))\n",
    "\n",
    "# landmark paths and transform to single numpy arrays for each set\n",
    "landmarks_paths_train = sorted(glob(f\"{path_data}/train/*_label.npy\"))\n",
    "landmarks_train = np.stack([np.load(path) for path in landmarks_paths_train])\n",
    "landmarks_paths_val = sorted(glob(f\"{path_data}/val/*_label.npy\"))\n",
    "landmarks_val = np.stack([np.load(path) for path in landmarks_paths_val])\n",
    "landmarks_paths_test = sorted(glob(f\"{path_data}/test/*_label.npy\"))\n",
    "landmarks_test = np.stack([np.load(path) for path in landmarks_paths_test])\n",
    "\n",
    "# voxel spacing paths and transform to single numpy arrays for each set\n",
    "spacing_paths_train = sorted(glob(f\"{path_data}/train/*_spacing.npy\"))\n",
    "pixel_spacings_train = np.stack([np.load(path) for path in spacing_paths_train])\n",
    "spacing_paths_val = sorted(glob(f\"{path_data}/val/*_spacing.npy\"))\n",
    "pixel_spacings_val = np.stack([np.load(path) for path in spacing_paths_val])\n",
    "spacing_paths_test = sorted(glob(f\"{path_data}/test/*_spacing.npy\"))\n",
    "pixel_spacings_test = np.stack([np.load(path) for path in spacing_paths_test])\n"
   ]
  },
  {
   "cell_type": "code",
   "execution_count": 7,
   "metadata": {},
   "outputs": [],
   "source": [
    "dim_img = (128, 128, 64)"
   ]
  },
  {
   "cell_type": "code",
   "execution_count": 8,
   "metadata": {},
   "outputs": [],
   "source": [
    "from landmarker.data import MaskDataset\n",
    "\n",
    "ds_train = MaskDataset(\n",
    "    imgs=volume_paths_train,\n",
    "    landmarks=landmarks_train,\n",
    "    spatial_dims=3,\n",
    "    pixel_spacing=pixel_spacings_train,\n",
    "    transform=train_transformd,\n",
    "    store_imgs=False,\n",
    "    dim_img=dim_img\n",
    ")\n",
    "\n",
    "ds_val = MaskDataset(\n",
    "    imgs=volume_paths_val,\n",
    "    landmarks=landmarks_val,\n",
    "    spatial_dims=3,\n",
    "    pixel_spacing=pixel_spacings_val,\n",
    "    transform=inference_transformd,\n",
    "    store_imgs=False,\n",
    "    dim_img=dim_img\n",
    ")\n",
    "\n",
    "ds_test = MaskDataset(\n",
    "    imgs=volume_paths_test,\n",
    "    landmarks=landmarks_test,\n",
    "    spatial_dims=3,\n",
    "    pixel_spacing=pixel_spacings_test,\n",
    "    transform=inference_transformd,\n",
    "    store_imgs=False,\n",
    "    dim_img=dim_img\n",
    ")"
   ]
  },
  {
   "cell_type": "markdown",
   "metadata": {},
   "source": [
    "## Inspecting the dataset"
   ]
  },
  {
   "cell_type": "code",
   "execution_count": 9,
   "metadata": {},
   "outputs": [],
   "source": [
    "batch = ds_train[0]"
   ]
  },
  {
   "cell_type": "code",
   "execution_count": 10,
   "metadata": {},
   "outputs": [],
   "source": [
    "# %pip install 'napari[all]'\n",
    "# %pip install 'ipyvolume'"
   ]
  },
  {
   "cell_type": "markdown",
   "metadata": {},
   "source": [
    "### Visualize 3D Image + Landmarks"
   ]
  },
  {
   "cell_type": "code",
   "execution_count": 11,
   "metadata": {},
   "outputs": [],
   "source": [
    "import napari\n",
    "import numpy as np\n",
    "\n",
    "\n",
    "viewer = napari.Viewer(ndisplay=3)\n",
    "\n",
    "viewer.add_image(batch[\"image\"][0])\n",
    "\n",
    "# Add landmarks (as points layer)\n",
    "viewer.add_points(\n",
    "    batch[\"landmark\"],\n",
    "    size=5,\n",
    "    face_color=\"red\",\n",
    "    name=\"landmarks\"\n",
    ")\n",
    "\n",
    "napari.run()\n"
   ]
  },
  {
   "cell_type": "code",
   "execution_count": 14,
   "metadata": {},
   "outputs": [
    {
     "name": "stderr",
     "output_type": "stream",
     "text": [
      "/opt/anaconda3/envs/vision/lib/python3.10/site-packages/ipyvolume/serialize.py:102: RuntimeWarning: invalid value encountered in cast\n",
      "  subdata[..., i] = ((gradient[i][zindex] / 2.0 + 0.5) * 255).astype(np.uint8)\n"
     ]
    },
    {
     "data": {
      "application/vnd.jupyter.widget-view+json": {
       "model_id": "0147eec59a07456baf4bed1bf3f914a4",
       "version_major": 2,
       "version_minor": 0
      },
      "text/plain": [
       "Container(children=[VBox(children=(HBox(children=(Label(value='levels:'), FloatSlider(value=0.3, max=1.0, step…"
      ]
     },
     "metadata": {},
     "output_type": "display_data"
    }
   ],
   "source": [
    "import ipyvolume as ipv\n",
    "import numpy as np\n",
    "\n",
    "# Show volume\n",
    "ipv.quickvolshow(batch[\"image\"][0], level=[0.3, 0.6], opacity=0.03)\n",
    "\n",
    "# Extract xyz coords\n",
    "z, y, x = batch[\"landmark\"].T\n",
    "\n",
    "# Plot landmarks\n",
    "ipv.scatter(x, y, z, color=\"red\", size=5, marker=\"sphere\")\n",
    "\n",
    "ipv.show()"
   ]
  },
  {
   "cell_type": "markdown",
   "metadata": {},
   "source": [
    "### Visualize 3D Image + Masks + Landmarks"
   ]
  },
  {
   "cell_type": "code",
   "execution_count": 18,
   "metadata": {},
   "outputs": [],
   "source": [
    "import napari\n",
    "\n",
    "# Launch viewer\n",
    "viewer = napari.Viewer(ndisplay=3)\n",
    "\n",
    "# Add base volume\n",
    "viewer.add_image(batch[\"image\"][0], name=\"volume\")\n",
    "\n",
    "# Add landmarks (as points layer)\n",
    "viewer.add_points(\n",
    "    batch[\"landmark\"],\n",
    "    size=2,\n",
    "    face_color=\"blue\",\n",
    "    name=\"landmarks\"\n",
    ")\n",
    "\n",
    "# Add each channel as a label layer (colored mask)\n",
    "for c in range(14):\n",
    "    viewer.add_labels(batch[\"mask\"][c].int(), name=f\"landmark_{c}\")\n",
    "\n",
    "napari.run()"
   ]
  },
  {
   "cell_type": "markdown",
   "metadata": {},
   "source": [
    "## Training and initializing the Unet model"
   ]
  },
  {
   "cell_type": "markdown",
   "metadata": {},
   "source": [
    "### Initializing the model, optimizer and loss function"
   ]
  },
  {
   "cell_type": "code",
   "execution_count": null,
   "metadata": {},
   "outputs": [
    {
     "name": "stdout",
     "output_type": "stream",
     "text": [
      "Number of learnable parameters: 10630738\n"
     ]
    }
   ],
   "source": [
    "from monai.networks.nets import FlexibleUNet\n",
    "from landmarker.losses import NLLLoss\n",
    "from landmarker.models.utils import SoftmaxND\n",
    "\n",
    "model = FlexibleUNet(\n",
    "                    in_channels=1,\n",
    "                    out_channels=14, # nb of landmarks\n",
    "                    backbone=\"efficientnet-b0\",\n",
    "                    pretrained=True,\n",
    "                    decoder_channels=[128, 128, 128, 128, 128],\n",
    "                    spatial_dims=3,\n",
    "                    norm=\"batch\",\n",
    "                    act=\"relu\",\n",
    "                    dropout=0.5,\n",
    "                    decoder_bias=False,\n",
    "                    upsample=\"nontrainable\",\n",
    "                    pre_conv=\"default\",\n",
    "                    interp_mode=\"nearest\",\n",
    "                    is_pad=True,\n",
    "                    ).to(device)\n",
    "print(\"Number of learnable parameters: {}\".format(\n",
    "    sum(p.numel() for p in model.parameters() if p.requires_grad)))\n",
    "lr = 1e-5\n",
    "batch_size = 1\n",
    "epochs = 60\n",
    "\n",
    "optimizer = torch.optim.Adam(\n",
    "            [\n",
    "                {\"params\": model.parameters()},\n",
    "            ],\n",
    "            lr=lr,\n",
    ")\n",
    "\n",
    "\n",
    "criterion = NLLLoss(spatial_dims=3)\n",
    "\n",
    "decoder_method = \"argmax\"\n",
    "\n",
    "lr_scheduler = torch.optim.lr_scheduler.ReduceLROnPlateau(optimizer, mode='min', factor=0.5,\n",
    "                                                          patience=10, cooldown=10)"
   ]
  },
  {
   "cell_type": "markdown",
   "metadata": {},
   "source": [
    "### Setting the data loaders"
   ]
  },
  {
   "cell_type": "code",
   "execution_count": 9,
   "metadata": {},
   "outputs": [],
   "source": [
    "train_loader = DataLoader(ds_train, batch_size=batch_size, shuffle=True, num_workers=4)\n",
    "val_loader = DataLoader(ds_val, batch_size=batch_size, shuffle=False, num_workers=4)\n",
    "test_loader = DataLoader(ds_test, batch_size=batch_size, shuffle=False, num_workers=4)"
   ]
  },
  {
   "cell_type": "markdown",
   "metadata": {},
   "source": [
    "### Training the model"
   ]
  },
  {
   "cell_type": "code",
   "execution_count": 10,
   "metadata": {},
   "outputs": [],
   "source": [
    "from landmarker.heatmap.decoder import heatmap_to_coord\n",
    "from landmarker.metrics import point_error\n",
    "\n",
    "def train_epoch(model, train_loader, criterion, optimizer, device):\n",
    "    running_loss = 0\n",
    "    model.train()\n",
    "    for i, batch in enumerate(tqdm(train_loader)):\n",
    "        images = batch[\"image\"].to(device)\n",
    "        masks = batch[\"mask\"].to(device)\n",
    "        optimizer.zero_grad()\n",
    "        outputs = model(images)\n",
    "        loss = criterion(outputs, masks)\n",
    "        loss.backward()\n",
    "        torch.nn.utils.clip_grad_norm_(model.parameters(), 10000.0)\n",
    "        optimizer.step()\n",
    "        running_loss += loss.item()\n",
    "    return running_loss / len(train_loader)\n",
    "\n",
    "def val_epoch(model, val_loader, criterion, device, method=\"argmax\"):\n",
    "    eval_loss = 0\n",
    "    eval_mpe = 0\n",
    "    model.eval()\n",
    "    with torch.no_grad():\n",
    "        for i, batch in enumerate(tqdm(val_loader)):\n",
    "            images = batch[\"image\"].to(device)\n",
    "            outputs = model(images)\n",
    "            dim_orig = batch[\"dim_original\"].to(device)\n",
    "            pixel_spacing = batch[\"spacing\"].to(device)\n",
    "            padding = batch[\"padding\"].to(device)\n",
    "            masks = batch[\"mask\"].to(device)\n",
    "            landmarks = batch[\"landmark\"].to(device)\n",
    "            loss = criterion(outputs, masks)\n",
    "            pred_landmarks = heatmap_to_coord(outputs, method=method, spatial_dims=3)\n",
    "            eval_loss += loss.item()\n",
    "            eval_mpe += point_error(landmarks, pred_landmarks, images.shape[-3:], dim_orig,\n",
    "                                    pixel_spacing, padding, reduction=\"mean\")\n",
    "    return eval_loss / len(val_loader), eval_mpe / len(val_loader)\n",
    "\n",
    "def train(model, train_loader, val_loader, criterion, optimizer, device, epochs=1000):\n",
    "    for epoch in tqdm(range(epochs)):\n",
    "        train_loss = train_epoch(model, train_loader, criterion, optimizer, device)\n",
    "        val_loss, val_mpe = val_epoch(model, val_loader, criterion, device)\n",
    "        print(f\"Epoch {epoch+1}/{epochs} - Train loss: {train_loss:.4f} - Val loss: {val_loss:.4f} - Val mpe: {val_mpe:.4f}\")\n",
    "        lr_scheduler.step(val_loss)"
   ]
  },
  {
   "cell_type": "code",
   "execution_count": 11,
   "metadata": {},
   "outputs": [
    {
     "data": {
      "application/vnd.jupyter.widget-view+json": {
       "model_id": "9d41890bdf414fa3b8d43d9c5676f710",
       "version_major": 2,
       "version_minor": 0
      },
      "text/plain": [
       "  0%|          | 0/60 [00:00<?, ?it/s]"
      ]
     },
     "metadata": {},
     "output_type": "display_data"
    },
    {
     "data": {
      "application/vnd.jupyter.widget-view+json": {
       "model_id": "b5b07fb9aaf1438e83c25eab6c469c4f",
       "version_major": 2,
       "version_minor": 0
      },
      "text/plain": [
       "  0%|          | 0/199 [00:00<?, ?it/s]"
      ]
     },
     "metadata": {},
     "output_type": "display_data"
    },
    {
     "data": {
      "application/vnd.jupyter.widget-view+json": {
       "model_id": "097f5f18c16e49a08a750e2e59bfc9cd",
       "version_major": 2,
       "version_minor": 0
      },
      "text/plain": [
       "  0%|          | 0/100 [00:00<?, ?it/s]"
      ]
     },
     "metadata": {},
     "output_type": "display_data"
    },
    {
     "name": "stdout",
     "output_type": "stream",
     "text": [
      "Epoch 1/60 - Train loss: 13.6618 - Val loss: 13.8672 - Val mpe: 61.5504\n"
     ]
    },
    {
     "data": {
      "application/vnd.jupyter.widget-view+json": {
       "model_id": "556ee93720ef4042828fc19c087494ab",
       "version_major": 2,
       "version_minor": 0
      },
      "text/plain": [
       "  0%|          | 0/199 [00:00<?, ?it/s]"
      ]
     },
     "metadata": {},
     "output_type": "display_data"
    },
    {
     "data": {
      "application/vnd.jupyter.widget-view+json": {
       "model_id": "815857a3ff234c70932a755927677d4d",
       "version_major": 2,
       "version_minor": 0
      },
      "text/plain": [
       "  0%|          | 0/100 [00:00<?, ?it/s]"
      ]
     },
     "metadata": {},
     "output_type": "display_data"
    },
    {
     "name": "stdout",
     "output_type": "stream",
     "text": [
      "Epoch 2/60 - Train loss: 13.0834 - Val loss: 13.8411 - Val mpe: 65.8023\n"
     ]
    },
    {
     "data": {
      "application/vnd.jupyter.widget-view+json": {
       "model_id": "0e26945f3c1849b8a3e48c53620389dc",
       "version_major": 2,
       "version_minor": 0
      },
      "text/plain": [
       "  0%|          | 0/199 [00:00<?, ?it/s]"
      ]
     },
     "metadata": {},
     "output_type": "display_data"
    },
    {
     "data": {
      "application/vnd.jupyter.widget-view+json": {
       "model_id": "72f698c62bc648b1901afb6b096fd680",
       "version_major": 2,
       "version_minor": 0
      },
      "text/plain": [
       "  0%|          | 0/100 [00:00<?, ?it/s]"
      ]
     },
     "metadata": {},
     "output_type": "display_data"
    },
    {
     "name": "stdout",
     "output_type": "stream",
     "text": [
      "Epoch 3/60 - Train loss: 12.6250 - Val loss: 13.2749 - Val mpe: 31.9457\n"
     ]
    },
    {
     "data": {
      "application/vnd.jupyter.widget-view+json": {
       "model_id": "799d792f83a34e10834fea4e1ead6560",
       "version_major": 2,
       "version_minor": 0
      },
      "text/plain": [
       "  0%|          | 0/199 [00:00<?, ?it/s]"
      ]
     },
     "metadata": {},
     "output_type": "display_data"
    },
    {
     "data": {
      "application/vnd.jupyter.widget-view+json": {
       "model_id": "2f0d119810c945a7b027c0da14b1b216",
       "version_major": 2,
       "version_minor": 0
      },
      "text/plain": [
       "  0%|          | 0/100 [00:00<?, ?it/s]"
      ]
     },
     "metadata": {},
     "output_type": "display_data"
    },
    {
     "name": "stdout",
     "output_type": "stream",
     "text": [
      "Epoch 4/60 - Train loss: 12.0499 - Val loss: 11.4506 - Val mpe: 25.9390\n"
     ]
    },
    {
     "data": {
      "application/vnd.jupyter.widget-view+json": {
       "model_id": "d2c19cec6b2e423bb554a67601c9c4ad",
       "version_major": 2,
       "version_minor": 0
      },
      "text/plain": [
       "  0%|          | 0/199 [00:00<?, ?it/s]"
      ]
     },
     "metadata": {},
     "output_type": "display_data"
    },
    {
     "data": {
      "application/vnd.jupyter.widget-view+json": {
       "model_id": "90d428d6939a4f6685ca88faf7dde912",
       "version_major": 2,
       "version_minor": 0
      },
      "text/plain": [
       "  0%|          | 0/100 [00:00<?, ?it/s]"
      ]
     },
     "metadata": {},
     "output_type": "display_data"
    },
    {
     "name": "stdout",
     "output_type": "stream",
     "text": [
      "Epoch 5/60 - Train loss: 11.1521 - Val loss: 9.7715 - Val mpe: 20.8436\n"
     ]
    },
    {
     "data": {
      "application/vnd.jupyter.widget-view+json": {
       "model_id": "f624ab5cb33d4608b58dbe40d8a9ee3d",
       "version_major": 2,
       "version_minor": 0
      },
      "text/plain": [
       "  0%|          | 0/199 [00:00<?, ?it/s]"
      ]
     },
     "metadata": {},
     "output_type": "display_data"
    },
    {
     "data": {
      "application/vnd.jupyter.widget-view+json": {
       "model_id": "63829635fa58495ca05ab3192289a186",
       "version_major": 2,
       "version_minor": 0
      },
      "text/plain": [
       "  0%|          | 0/100 [00:00<?, ?it/s]"
      ]
     },
     "metadata": {},
     "output_type": "display_data"
    },
    {
     "name": "stdout",
     "output_type": "stream",
     "text": [
      "Epoch 6/60 - Train loss: 10.0226 - Val loss: 8.4791 - Val mpe: 13.2843\n"
     ]
    },
    {
     "data": {
      "application/vnd.jupyter.widget-view+json": {
       "model_id": "787422d5352648558f37573e5b7d2005",
       "version_major": 2,
       "version_minor": 0
      },
      "text/plain": [
       "  0%|          | 0/199 [00:00<?, ?it/s]"
      ]
     },
     "metadata": {},
     "output_type": "display_data"
    },
    {
     "data": {
      "application/vnd.jupyter.widget-view+json": {
       "model_id": "152458a4795e45a5946acfffbf6dde02",
       "version_major": 2,
       "version_minor": 0
      },
      "text/plain": [
       "  0%|          | 0/100 [00:00<?, ?it/s]"
      ]
     },
     "metadata": {},
     "output_type": "display_data"
    },
    {
     "name": "stdout",
     "output_type": "stream",
     "text": [
      "Epoch 7/60 - Train loss: 9.1855 - Val loss: 7.8617 - Val mpe: 11.9547\n"
     ]
    },
    {
     "data": {
      "application/vnd.jupyter.widget-view+json": {
       "model_id": "51a297339bf147c5ad412cae49dbf0eb",
       "version_major": 2,
       "version_minor": 0
      },
      "text/plain": [
       "  0%|          | 0/199 [00:00<?, ?it/s]"
      ]
     },
     "metadata": {},
     "output_type": "display_data"
    },
    {
     "data": {
      "application/vnd.jupyter.widget-view+json": {
       "model_id": "909a24f0191f4331a11aae703635b38d",
       "version_major": 2,
       "version_minor": 0
      },
      "text/plain": [
       "  0%|          | 0/100 [00:00<?, ?it/s]"
      ]
     },
     "metadata": {},
     "output_type": "display_data"
    },
    {
     "name": "stdout",
     "output_type": "stream",
     "text": [
      "Epoch 8/60 - Train loss: 8.7283 - Val loss: 7.6428 - Val mpe: 11.1689\n"
     ]
    },
    {
     "data": {
      "application/vnd.jupyter.widget-view+json": {
       "model_id": "7be85a7136404800bd05d7df6046a889",
       "version_major": 2,
       "version_minor": 0
      },
      "text/plain": [
       "  0%|          | 0/199 [00:00<?, ?it/s]"
      ]
     },
     "metadata": {},
     "output_type": "display_data"
    },
    {
     "data": {
      "application/vnd.jupyter.widget-view+json": {
       "model_id": "d29bf60b24c74ff3bac9b7ed2bd626dd",
       "version_major": 2,
       "version_minor": 0
      },
      "text/plain": [
       "  0%|          | 0/100 [00:00<?, ?it/s]"
      ]
     },
     "metadata": {},
     "output_type": "display_data"
    },
    {
     "name": "stdout",
     "output_type": "stream",
     "text": [
      "Epoch 9/60 - Train loss: 8.4043 - Val loss: 7.2731 - Val mpe: 9.5265\n"
     ]
    },
    {
     "data": {
      "application/vnd.jupyter.widget-view+json": {
       "model_id": "a0c30e16028747969eb12cd9aa9a07cf",
       "version_major": 2,
       "version_minor": 0
      },
      "text/plain": [
       "  0%|          | 0/199 [00:00<?, ?it/s]"
      ]
     },
     "metadata": {},
     "output_type": "display_data"
    },
    {
     "data": {
      "application/vnd.jupyter.widget-view+json": {
       "model_id": "e4bd25bdaf3e40b686b344b985b28e6a",
       "version_major": 2,
       "version_minor": 0
      },
      "text/plain": [
       "  0%|          | 0/100 [00:00<?, ?it/s]"
      ]
     },
     "metadata": {},
     "output_type": "display_data"
    },
    {
     "name": "stdout",
     "output_type": "stream",
     "text": [
      "Epoch 10/60 - Train loss: 8.2231 - Val loss: 7.1468 - Val mpe: 8.4783\n"
     ]
    },
    {
     "data": {
      "application/vnd.jupyter.widget-view+json": {
       "model_id": "6ba9a1cbe881402aac88de82039a6b51",
       "version_major": 2,
       "version_minor": 0
      },
      "text/plain": [
       "  0%|          | 0/199 [00:00<?, ?it/s]"
      ]
     },
     "metadata": {},
     "output_type": "display_data"
    },
    {
     "data": {
      "application/vnd.jupyter.widget-view+json": {
       "model_id": "9ff06b7b9e67463885bf3c22e86c9528",
       "version_major": 2,
       "version_minor": 0
      },
      "text/plain": [
       "  0%|          | 0/100 [00:00<?, ?it/s]"
      ]
     },
     "metadata": {},
     "output_type": "display_data"
    },
    {
     "name": "stdout",
     "output_type": "stream",
     "text": [
      "Epoch 11/60 - Train loss: 7.9650 - Val loss: 6.9264 - Val mpe: 6.8929\n"
     ]
    },
    {
     "data": {
      "application/vnd.jupyter.widget-view+json": {
       "model_id": "05a74f2e79994e1a9b9cb78b4b66d4ef",
       "version_major": 2,
       "version_minor": 0
      },
      "text/plain": [
       "  0%|          | 0/199 [00:00<?, ?it/s]"
      ]
     },
     "metadata": {},
     "output_type": "display_data"
    },
    {
     "data": {
      "application/vnd.jupyter.widget-view+json": {
       "model_id": "8d2ed0ccfdc04ce6a45d9201527f77fe",
       "version_major": 2,
       "version_minor": 0
      },
      "text/plain": [
       "  0%|          | 0/100 [00:00<?, ?it/s]"
      ]
     },
     "metadata": {},
     "output_type": "display_data"
    },
    {
     "name": "stdout",
     "output_type": "stream",
     "text": [
      "Epoch 12/60 - Train loss: 7.7510 - Val loss: 6.7333 - Val mpe: 6.3739\n"
     ]
    },
    {
     "data": {
      "application/vnd.jupyter.widget-view+json": {
       "model_id": "f8ad4fb38d6c4e2b858f6659cf68911a",
       "version_major": 2,
       "version_minor": 0
      },
      "text/plain": [
       "  0%|          | 0/199 [00:00<?, ?it/s]"
      ]
     },
     "metadata": {},
     "output_type": "display_data"
    },
    {
     "data": {
      "application/vnd.jupyter.widget-view+json": {
       "model_id": "9c6b6cb843fa4ef786902966d4deb033",
       "version_major": 2,
       "version_minor": 0
      },
      "text/plain": [
       "  0%|          | 0/100 [00:00<?, ?it/s]"
      ]
     },
     "metadata": {},
     "output_type": "display_data"
    },
    {
     "name": "stdout",
     "output_type": "stream",
     "text": [
      "Epoch 13/60 - Train loss: 7.5878 - Val loss: 6.5279 - Val mpe: 4.9365\n"
     ]
    },
    {
     "data": {
      "application/vnd.jupyter.widget-view+json": {
       "model_id": "171ab1be7bc849d3aae2957143fa1b41",
       "version_major": 2,
       "version_minor": 0
      },
      "text/plain": [
       "  0%|          | 0/199 [00:00<?, ?it/s]"
      ]
     },
     "metadata": {},
     "output_type": "display_data"
    },
    {
     "data": {
      "application/vnd.jupyter.widget-view+json": {
       "model_id": "fc51b42eca1a4cf993729e4289fcfde0",
       "version_major": 2,
       "version_minor": 0
      },
      "text/plain": [
       "  0%|          | 0/100 [00:00<?, ?it/s]"
      ]
     },
     "metadata": {},
     "output_type": "display_data"
    },
    {
     "name": "stdout",
     "output_type": "stream",
     "text": [
      "Epoch 14/60 - Train loss: 7.4038 - Val loss: 6.3934 - Val mpe: 4.3503\n"
     ]
    },
    {
     "data": {
      "application/vnd.jupyter.widget-view+json": {
       "model_id": "9af712698da0494f95c4c0e31d70ea07",
       "version_major": 2,
       "version_minor": 0
      },
      "text/plain": [
       "  0%|          | 0/199 [00:00<?, ?it/s]"
      ]
     },
     "metadata": {},
     "output_type": "display_data"
    },
    {
     "data": {
      "application/vnd.jupyter.widget-view+json": {
       "model_id": "4a16336325624cb9ac6ce5de8f0f048d",
       "version_major": 2,
       "version_minor": 0
      },
      "text/plain": [
       "  0%|          | 0/100 [00:00<?, ?it/s]"
      ]
     },
     "metadata": {},
     "output_type": "display_data"
    },
    {
     "name": "stdout",
     "output_type": "stream",
     "text": [
      "Epoch 15/60 - Train loss: 7.2421 - Val loss: 6.3310 - Val mpe: 4.1600\n"
     ]
    },
    {
     "data": {
      "application/vnd.jupyter.widget-view+json": {
       "model_id": "0abb0d53a3db42f59f4c152e8963daf3",
       "version_major": 2,
       "version_minor": 0
      },
      "text/plain": [
       "  0%|          | 0/199 [00:00<?, ?it/s]"
      ]
     },
     "metadata": {},
     "output_type": "display_data"
    },
    {
     "data": {
      "application/vnd.jupyter.widget-view+json": {
       "model_id": "8acf2780fe3b4172a6c9b69e7aa55d6b",
       "version_major": 2,
       "version_minor": 0
      },
      "text/plain": [
       "  0%|          | 0/100 [00:00<?, ?it/s]"
      ]
     },
     "metadata": {},
     "output_type": "display_data"
    },
    {
     "name": "stdout",
     "output_type": "stream",
     "text": [
      "Epoch 16/60 - Train loss: 7.1283 - Val loss: 6.2296 - Val mpe: 3.7022\n"
     ]
    },
    {
     "data": {
      "application/vnd.jupyter.widget-view+json": {
       "model_id": "b3eb0b3f99fe41b4a5ea98f4fca37fdc",
       "version_major": 2,
       "version_minor": 0
      },
      "text/plain": [
       "  0%|          | 0/199 [00:00<?, ?it/s]"
      ]
     },
     "metadata": {},
     "output_type": "display_data"
    },
    {
     "data": {
      "application/vnd.jupyter.widget-view+json": {
       "model_id": "9851181a2b5745b383e3b43ff9b0f911",
       "version_major": 2,
       "version_minor": 0
      },
      "text/plain": [
       "  0%|          | 0/100 [00:00<?, ?it/s]"
      ]
     },
     "metadata": {},
     "output_type": "display_data"
    },
    {
     "name": "stdout",
     "output_type": "stream",
     "text": [
      "Epoch 17/60 - Train loss: 6.9824 - Val loss: 6.0946 - Val mpe: 3.4488\n"
     ]
    },
    {
     "data": {
      "application/vnd.jupyter.widget-view+json": {
       "model_id": "67a0b9183a0d40a4a1431a15159e2ff3",
       "version_major": 2,
       "version_minor": 0
      },
      "text/plain": [
       "  0%|          | 0/199 [00:00<?, ?it/s]"
      ]
     },
     "metadata": {},
     "output_type": "display_data"
    },
    {
     "data": {
      "application/vnd.jupyter.widget-view+json": {
       "model_id": "43687688b0a9417580b40d1f5693d072",
       "version_major": 2,
       "version_minor": 0
      },
      "text/plain": [
       "  0%|          | 0/100 [00:00<?, ?it/s]"
      ]
     },
     "metadata": {},
     "output_type": "display_data"
    },
    {
     "name": "stdout",
     "output_type": "stream",
     "text": [
      "Epoch 18/60 - Train loss: 6.9375 - Val loss: 6.0371 - Val mpe: 3.1495\n"
     ]
    },
    {
     "data": {
      "application/vnd.jupyter.widget-view+json": {
       "model_id": "bc28851dd15c4af785cae18fbb4e1f4b",
       "version_major": 2,
       "version_minor": 0
      },
      "text/plain": [
       "  0%|          | 0/199 [00:00<?, ?it/s]"
      ]
     },
     "metadata": {},
     "output_type": "display_data"
    },
    {
     "data": {
      "application/vnd.jupyter.widget-view+json": {
       "model_id": "e66694f9a76a487f8c8d9ebed3e67092",
       "version_major": 2,
       "version_minor": 0
      },
      "text/plain": [
       "  0%|          | 0/100 [00:00<?, ?it/s]"
      ]
     },
     "metadata": {},
     "output_type": "display_data"
    },
    {
     "name": "stdout",
     "output_type": "stream",
     "text": [
      "Epoch 19/60 - Train loss: 6.7439 - Val loss: 5.9845 - Val mpe: 3.0110\n"
     ]
    },
    {
     "data": {
      "application/vnd.jupyter.widget-view+json": {
       "model_id": "daaf457ef4204741934c3cfb0b6cbc9a",
       "version_major": 2,
       "version_minor": 0
      },
      "text/plain": [
       "  0%|          | 0/199 [00:00<?, ?it/s]"
      ]
     },
     "metadata": {},
     "output_type": "display_data"
    },
    {
     "data": {
      "application/vnd.jupyter.widget-view+json": {
       "model_id": "091ad0c525b1474ea7c3bbac858bf42b",
       "version_major": 2,
       "version_minor": 0
      },
      "text/plain": [
       "  0%|          | 0/100 [00:00<?, ?it/s]"
      ]
     },
     "metadata": {},
     "output_type": "display_data"
    },
    {
     "name": "stdout",
     "output_type": "stream",
     "text": [
      "Epoch 20/60 - Train loss: 6.6657 - Val loss: 5.9516 - Val mpe: 2.9364\n"
     ]
    },
    {
     "data": {
      "application/vnd.jupyter.widget-view+json": {
       "model_id": "84bce482a92b4e75af37cb3a1daf60fc",
       "version_major": 2,
       "version_minor": 0
      },
      "text/plain": [
       "  0%|          | 0/199 [00:00<?, ?it/s]"
      ]
     },
     "metadata": {},
     "output_type": "display_data"
    },
    {
     "data": {
      "application/vnd.jupyter.widget-view+json": {
       "model_id": "9602a2f5fb9145a488bd013fa2eab4e9",
       "version_major": 2,
       "version_minor": 0
      },
      "text/plain": [
       "  0%|          | 0/100 [00:00<?, ?it/s]"
      ]
     },
     "metadata": {},
     "output_type": "display_data"
    },
    {
     "name": "stdout",
     "output_type": "stream",
     "text": [
      "Epoch 21/60 - Train loss: 6.5495 - Val loss: 5.8250 - Val mpe: 2.7313\n"
     ]
    },
    {
     "data": {
      "application/vnd.jupyter.widget-view+json": {
       "model_id": "cc6f8ad04adf45eb94914fbdb47c4bfb",
       "version_major": 2,
       "version_minor": 0
      },
      "text/plain": [
       "  0%|          | 0/199 [00:00<?, ?it/s]"
      ]
     },
     "metadata": {},
     "output_type": "display_data"
    },
    {
     "data": {
      "application/vnd.jupyter.widget-view+json": {
       "model_id": "3bd7036faa314b6290d4ef62f8f5f398",
       "version_major": 2,
       "version_minor": 0
      },
      "text/plain": [
       "  0%|          | 0/100 [00:00<?, ?it/s]"
      ]
     },
     "metadata": {},
     "output_type": "display_data"
    },
    {
     "name": "stdout",
     "output_type": "stream",
     "text": [
      "Epoch 22/60 - Train loss: 6.4666 - Val loss: 5.8044 - Val mpe: 2.7353\n"
     ]
    },
    {
     "data": {
      "application/vnd.jupyter.widget-view+json": {
       "model_id": "32a61f9f674b4e849ebfd24b86002bef",
       "version_major": 2,
       "version_minor": 0
      },
      "text/plain": [
       "  0%|          | 0/199 [00:00<?, ?it/s]"
      ]
     },
     "metadata": {},
     "output_type": "display_data"
    },
    {
     "data": {
      "application/vnd.jupyter.widget-view+json": {
       "model_id": "e965e87a49f84528a5ccb0797984ce10",
       "version_major": 2,
       "version_minor": 0
      },
      "text/plain": [
       "  0%|          | 0/100 [00:00<?, ?it/s]"
      ]
     },
     "metadata": {},
     "output_type": "display_data"
    },
    {
     "name": "stdout",
     "output_type": "stream",
     "text": [
      "Epoch 23/60 - Train loss: 6.3349 - Val loss: 5.7169 - Val mpe: 2.6575\n"
     ]
    },
    {
     "data": {
      "application/vnd.jupyter.widget-view+json": {
       "model_id": "80b298dab36e42849942dc416ef843e2",
       "version_major": 2,
       "version_minor": 0
      },
      "text/plain": [
       "  0%|          | 0/199 [00:00<?, ?it/s]"
      ]
     },
     "metadata": {},
     "output_type": "display_data"
    },
    {
     "data": {
      "application/vnd.jupyter.widget-view+json": {
       "model_id": "b7144e29436b4039877bab81db4f9da9",
       "version_major": 2,
       "version_minor": 0
      },
      "text/plain": [
       "  0%|          | 0/100 [00:00<?, ?it/s]"
      ]
     },
     "metadata": {},
     "output_type": "display_data"
    },
    {
     "name": "stdout",
     "output_type": "stream",
     "text": [
      "Epoch 24/60 - Train loss: 6.3021 - Val loss: 5.6797 - Val mpe: 2.6324\n"
     ]
    },
    {
     "data": {
      "application/vnd.jupyter.widget-view+json": {
       "model_id": "82cc3715730746dc800dbddd90366e57",
       "version_major": 2,
       "version_minor": 0
      },
      "text/plain": [
       "  0%|          | 0/199 [00:00<?, ?it/s]"
      ]
     },
     "metadata": {},
     "output_type": "display_data"
    },
    {
     "data": {
      "application/vnd.jupyter.widget-view+json": {
       "model_id": "67965849dbd74e56a20d0c4d4a2b3dbc",
       "version_major": 2,
       "version_minor": 0
      },
      "text/plain": [
       "  0%|          | 0/100 [00:00<?, ?it/s]"
      ]
     },
     "metadata": {},
     "output_type": "display_data"
    },
    {
     "name": "stdout",
     "output_type": "stream",
     "text": [
      "Epoch 25/60 - Train loss: 6.2152 - Val loss: 5.6592 - Val mpe: 2.6078\n"
     ]
    },
    {
     "data": {
      "application/vnd.jupyter.widget-view+json": {
       "model_id": "2fc23d0b173844068129f73ad3e9d5c7",
       "version_major": 2,
       "version_minor": 0
      },
      "text/plain": [
       "  0%|          | 0/199 [00:00<?, ?it/s]"
      ]
     },
     "metadata": {},
     "output_type": "display_data"
    },
    {
     "data": {
      "application/vnd.jupyter.widget-view+json": {
       "model_id": "3b609a27b2354987a650e8236dbadced",
       "version_major": 2,
       "version_minor": 0
      },
      "text/plain": [
       "  0%|          | 0/100 [00:00<?, ?it/s]"
      ]
     },
     "metadata": {},
     "output_type": "display_data"
    },
    {
     "name": "stdout",
     "output_type": "stream",
     "text": [
      "Epoch 26/60 - Train loss: 6.1469 - Val loss: 5.6394 - Val mpe: 2.7124\n"
     ]
    },
    {
     "data": {
      "application/vnd.jupyter.widget-view+json": {
       "model_id": "ae0fefadf4034875a8c45275992bd9c9",
       "version_major": 2,
       "version_minor": 0
      },
      "text/plain": [
       "  0%|          | 0/199 [00:00<?, ?it/s]"
      ]
     },
     "metadata": {},
     "output_type": "display_data"
    },
    {
     "data": {
      "application/vnd.jupyter.widget-view+json": {
       "model_id": "5efb2e514dd84509a8daad844bf5fccc",
       "version_major": 2,
       "version_minor": 0
      },
      "text/plain": [
       "  0%|          | 0/100 [00:00<?, ?it/s]"
      ]
     },
     "metadata": {},
     "output_type": "display_data"
    },
    {
     "name": "stdout",
     "output_type": "stream",
     "text": [
      "Epoch 27/60 - Train loss: 6.0800 - Val loss: 5.5844 - Val mpe: 2.5731\n"
     ]
    },
    {
     "data": {
      "application/vnd.jupyter.widget-view+json": {
       "model_id": "928a675ab9a64dcfa6fba2f44f4d108e",
       "version_major": 2,
       "version_minor": 0
      },
      "text/plain": [
       "  0%|          | 0/199 [00:00<?, ?it/s]"
      ]
     },
     "metadata": {},
     "output_type": "display_data"
    },
    {
     "data": {
      "application/vnd.jupyter.widget-view+json": {
       "model_id": "d9edebc9f54b4715bd54ba935cf7d659",
       "version_major": 2,
       "version_minor": 0
      },
      "text/plain": [
       "  0%|          | 0/100 [00:00<?, ?it/s]"
      ]
     },
     "metadata": {},
     "output_type": "display_data"
    },
    {
     "name": "stdout",
     "output_type": "stream",
     "text": [
      "Epoch 28/60 - Train loss: 6.0143 - Val loss: 5.5765 - Val mpe: 2.5272\n"
     ]
    },
    {
     "data": {
      "application/vnd.jupyter.widget-view+json": {
       "model_id": "ca20faf0a42f4e7aac758bbdd2e37b3c",
       "version_major": 2,
       "version_minor": 0
      },
      "text/plain": [
       "  0%|          | 0/199 [00:00<?, ?it/s]"
      ]
     },
     "metadata": {},
     "output_type": "display_data"
    },
    {
     "data": {
      "application/vnd.jupyter.widget-view+json": {
       "model_id": "be12e62fff004a51b14747ff63826602",
       "version_major": 2,
       "version_minor": 0
      },
      "text/plain": [
       "  0%|          | 0/100 [00:00<?, ?it/s]"
      ]
     },
     "metadata": {},
     "output_type": "display_data"
    },
    {
     "name": "stdout",
     "output_type": "stream",
     "text": [
      "Epoch 29/60 - Train loss: 5.9978 - Val loss: 5.5436 - Val mpe: 2.4605\n"
     ]
    },
    {
     "data": {
      "application/vnd.jupyter.widget-view+json": {
       "model_id": "b10c2dadd9f944e798e959425ae4d744",
       "version_major": 2,
       "version_minor": 0
      },
      "text/plain": [
       "  0%|          | 0/199 [00:00<?, ?it/s]"
      ]
     },
     "metadata": {},
     "output_type": "display_data"
    },
    {
     "data": {
      "application/vnd.jupyter.widget-view+json": {
       "model_id": "bda06fcb2b22420b96500461f3eada7c",
       "version_major": 2,
       "version_minor": 0
      },
      "text/plain": [
       "  0%|          | 0/100 [00:00<?, ?it/s]"
      ]
     },
     "metadata": {},
     "output_type": "display_data"
    },
    {
     "name": "stdout",
     "output_type": "stream",
     "text": [
      "Epoch 30/60 - Train loss: 5.9355 - Val loss: 5.5833 - Val mpe: 2.5290\n"
     ]
    },
    {
     "data": {
      "application/vnd.jupyter.widget-view+json": {
       "model_id": "ed3162a0579f40f4a11153e8f053adf2",
       "version_major": 2,
       "version_minor": 0
      },
      "text/plain": [
       "  0%|          | 0/199 [00:00<?, ?it/s]"
      ]
     },
     "metadata": {},
     "output_type": "display_data"
    },
    {
     "data": {
      "application/vnd.jupyter.widget-view+json": {
       "model_id": "727d18a3a966468381937ac1bde99647",
       "version_major": 2,
       "version_minor": 0
      },
      "text/plain": [
       "  0%|          | 0/100 [00:00<?, ?it/s]"
      ]
     },
     "metadata": {},
     "output_type": "display_data"
    },
    {
     "name": "stdout",
     "output_type": "stream",
     "text": [
      "Epoch 31/60 - Train loss: 5.8256 - Val loss: 5.4766 - Val mpe: 2.3692\n"
     ]
    },
    {
     "data": {
      "application/vnd.jupyter.widget-view+json": {
       "model_id": "3879833fff34470f8076be13e22065cd",
       "version_major": 2,
       "version_minor": 0
      },
      "text/plain": [
       "  0%|          | 0/199 [00:00<?, ?it/s]"
      ]
     },
     "metadata": {},
     "output_type": "display_data"
    },
    {
     "data": {
      "application/vnd.jupyter.widget-view+json": {
       "model_id": "8f7c86574e554f71b9b991254045bb2f",
       "version_major": 2,
       "version_minor": 0
      },
      "text/plain": [
       "  0%|          | 0/100 [00:00<?, ?it/s]"
      ]
     },
     "metadata": {},
     "output_type": "display_data"
    },
    {
     "name": "stdout",
     "output_type": "stream",
     "text": [
      "Epoch 32/60 - Train loss: 5.8370 - Val loss: 5.4891 - Val mpe: 2.4370\n"
     ]
    },
    {
     "data": {
      "application/vnd.jupyter.widget-view+json": {
       "model_id": "66b305327e0f44b88700dfd772f623c9",
       "version_major": 2,
       "version_minor": 0
      },
      "text/plain": [
       "  0%|          | 0/199 [00:00<?, ?it/s]"
      ]
     },
     "metadata": {},
     "output_type": "display_data"
    },
    {
     "data": {
      "application/vnd.jupyter.widget-view+json": {
       "model_id": "5aba6a85aea740a7897fa259e7c9f1ff",
       "version_major": 2,
       "version_minor": 0
      },
      "text/plain": [
       "  0%|          | 0/100 [00:00<?, ?it/s]"
      ]
     },
     "metadata": {},
     "output_type": "display_data"
    },
    {
     "name": "stdout",
     "output_type": "stream",
     "text": [
      "Epoch 33/60 - Train loss: 5.7940 - Val loss: 5.4510 - Val mpe: 2.3741\n"
     ]
    },
    {
     "data": {
      "application/vnd.jupyter.widget-view+json": {
       "model_id": "741ee34df88a489a92c18f525b66ff62",
       "version_major": 2,
       "version_minor": 0
      },
      "text/plain": [
       "  0%|          | 0/199 [00:00<?, ?it/s]"
      ]
     },
     "metadata": {},
     "output_type": "display_data"
    },
    {
     "data": {
      "application/vnd.jupyter.widget-view+json": {
       "model_id": "a02e06ccaddf4f089b4ad9261c7043d0",
       "version_major": 2,
       "version_minor": 0
      },
      "text/plain": [
       "  0%|          | 0/100 [00:00<?, ?it/s]"
      ]
     },
     "metadata": {},
     "output_type": "display_data"
    },
    {
     "name": "stdout",
     "output_type": "stream",
     "text": [
      "Epoch 34/60 - Train loss: 5.6998 - Val loss: 5.4596 - Val mpe: 2.4630\n"
     ]
    },
    {
     "data": {
      "application/vnd.jupyter.widget-view+json": {
       "model_id": "ab71301cec88403bab41c0a11362ed77",
       "version_major": 2,
       "version_minor": 0
      },
      "text/plain": [
       "  0%|          | 0/199 [00:00<?, ?it/s]"
      ]
     },
     "metadata": {},
     "output_type": "display_data"
    },
    {
     "data": {
      "application/vnd.jupyter.widget-view+json": {
       "model_id": "39ba6507616e46bda9a3e1d345bd218b",
       "version_major": 2,
       "version_minor": 0
      },
      "text/plain": [
       "  0%|          | 0/100 [00:00<?, ?it/s]"
      ]
     },
     "metadata": {},
     "output_type": "display_data"
    },
    {
     "name": "stdout",
     "output_type": "stream",
     "text": [
      "Epoch 35/60 - Train loss: 5.6500 - Val loss: 5.4451 - Val mpe: 2.4061\n"
     ]
    },
    {
     "data": {
      "application/vnd.jupyter.widget-view+json": {
       "model_id": "916817cccf3f4aeeb95f7d6a625d8277",
       "version_major": 2,
       "version_minor": 0
      },
      "text/plain": [
       "  0%|          | 0/199 [00:00<?, ?it/s]"
      ]
     },
     "metadata": {},
     "output_type": "display_data"
    },
    {
     "data": {
      "application/vnd.jupyter.widget-view+json": {
       "model_id": "e6a3243b778f44c894f2359b6f4a3d3a",
       "version_major": 2,
       "version_minor": 0
      },
      "text/plain": [
       "  0%|          | 0/100 [00:00<?, ?it/s]"
      ]
     },
     "metadata": {},
     "output_type": "display_data"
    },
    {
     "name": "stdout",
     "output_type": "stream",
     "text": [
      "Epoch 36/60 - Train loss: 5.5799 - Val loss: 5.4039 - Val mpe: 2.2553\n"
     ]
    },
    {
     "data": {
      "application/vnd.jupyter.widget-view+json": {
       "model_id": "fe5dcd374eef4e709132da52fdb52d80",
       "version_major": 2,
       "version_minor": 0
      },
      "text/plain": [
       "  0%|          | 0/199 [00:00<?, ?it/s]"
      ]
     },
     "metadata": {},
     "output_type": "display_data"
    },
    {
     "data": {
      "application/vnd.jupyter.widget-view+json": {
       "model_id": "f9b2c36dfc384e828af3f47f8a19cc71",
       "version_major": 2,
       "version_minor": 0
      },
      "text/plain": [
       "  0%|          | 0/100 [00:00<?, ?it/s]"
      ]
     },
     "metadata": {},
     "output_type": "display_data"
    },
    {
     "name": "stdout",
     "output_type": "stream",
     "text": [
      "Epoch 37/60 - Train loss: 5.5267 - Val loss: 5.3885 - Val mpe: 2.2276\n"
     ]
    },
    {
     "data": {
      "application/vnd.jupyter.widget-view+json": {
       "model_id": "1724963720434114a287e373f796c3db",
       "version_major": 2,
       "version_minor": 0
      },
      "text/plain": [
       "  0%|          | 0/199 [00:00<?, ?it/s]"
      ]
     },
     "metadata": {},
     "output_type": "display_data"
    },
    {
     "data": {
      "application/vnd.jupyter.widget-view+json": {
       "model_id": "20f73697cded47f4914f4981ef651770",
       "version_major": 2,
       "version_minor": 0
      },
      "text/plain": [
       "  0%|          | 0/100 [00:00<?, ?it/s]"
      ]
     },
     "metadata": {},
     "output_type": "display_data"
    },
    {
     "name": "stdout",
     "output_type": "stream",
     "text": [
      "Epoch 38/60 - Train loss: 5.4954 - Val loss: 5.3974 - Val mpe: 2.4512\n"
     ]
    },
    {
     "data": {
      "application/vnd.jupyter.widget-view+json": {
       "model_id": "626f70e0080f422883300a23c119fc9d",
       "version_major": 2,
       "version_minor": 0
      },
      "text/plain": [
       "  0%|          | 0/199 [00:00<?, ?it/s]"
      ]
     },
     "metadata": {},
     "output_type": "display_data"
    },
    {
     "data": {
      "application/vnd.jupyter.widget-view+json": {
       "model_id": "677084f3967448bfb17a7475f77ad3b4",
       "version_major": 2,
       "version_minor": 0
      },
      "text/plain": [
       "  0%|          | 0/100 [00:00<?, ?it/s]"
      ]
     },
     "metadata": {},
     "output_type": "display_data"
    },
    {
     "name": "stdout",
     "output_type": "stream",
     "text": [
      "Epoch 39/60 - Train loss: 5.4204 - Val loss: 5.3822 - Val mpe: 2.4493\n"
     ]
    },
    {
     "data": {
      "application/vnd.jupyter.widget-view+json": {
       "model_id": "cb01658ed8cf488eb16a5a322dc21bec",
       "version_major": 2,
       "version_minor": 0
      },
      "text/plain": [
       "  0%|          | 0/199 [00:00<?, ?it/s]"
      ]
     },
     "metadata": {},
     "output_type": "display_data"
    },
    {
     "data": {
      "application/vnd.jupyter.widget-view+json": {
       "model_id": "228792a3f4fa46afb89040bbae0fbed7",
       "version_major": 2,
       "version_minor": 0
      },
      "text/plain": [
       "  0%|          | 0/100 [00:00<?, ?it/s]"
      ]
     },
     "metadata": {},
     "output_type": "display_data"
    },
    {
     "name": "stdout",
     "output_type": "stream",
     "text": [
      "Epoch 40/60 - Train loss: 5.4198 - Val loss: 5.4089 - Val mpe: 2.3253\n"
     ]
    },
    {
     "data": {
      "application/vnd.jupyter.widget-view+json": {
       "model_id": "350a696733bf4a748da41fdfa1ee80ef",
       "version_major": 2,
       "version_minor": 0
      },
      "text/plain": [
       "  0%|          | 0/199 [00:00<?, ?it/s]"
      ]
     },
     "metadata": {},
     "output_type": "display_data"
    },
    {
     "data": {
      "application/vnd.jupyter.widget-view+json": {
       "model_id": "095dca5e1be34604aee59402cde4c40f",
       "version_major": 2,
       "version_minor": 0
      },
      "text/plain": [
       "  0%|          | 0/100 [00:00<?, ?it/s]"
      ]
     },
     "metadata": {},
     "output_type": "display_data"
    },
    {
     "name": "stdout",
     "output_type": "stream",
     "text": [
      "Epoch 41/60 - Train loss: 5.3810 - Val loss: 5.3777 - Val mpe: 2.3584\n"
     ]
    },
    {
     "data": {
      "application/vnd.jupyter.widget-view+json": {
       "model_id": "ef149eb6c5ef466ea56c06c2a522fd7d",
       "version_major": 2,
       "version_minor": 0
      },
      "text/plain": [
       "  0%|          | 0/199 [00:00<?, ?it/s]"
      ]
     },
     "metadata": {},
     "output_type": "display_data"
    },
    {
     "data": {
      "application/vnd.jupyter.widget-view+json": {
       "model_id": "7d7dc3b0396542e3b33bfcc5185d276b",
       "version_major": 2,
       "version_minor": 0
      },
      "text/plain": [
       "  0%|          | 0/100 [00:00<?, ?it/s]"
      ]
     },
     "metadata": {},
     "output_type": "display_data"
    },
    {
     "name": "stdout",
     "output_type": "stream",
     "text": [
      "Epoch 42/60 - Train loss: 5.3267 - Val loss: 5.3954 - Val mpe: 2.3004\n"
     ]
    },
    {
     "data": {
      "application/vnd.jupyter.widget-view+json": {
       "model_id": "007a7ee7d0764589a14d6ea1e1675ad1",
       "version_major": 2,
       "version_minor": 0
      },
      "text/plain": [
       "  0%|          | 0/199 [00:00<?, ?it/s]"
      ]
     },
     "metadata": {},
     "output_type": "display_data"
    },
    {
     "data": {
      "application/vnd.jupyter.widget-view+json": {
       "model_id": "212c8882cd664765b40c2e7fdaabd349",
       "version_major": 2,
       "version_minor": 0
      },
      "text/plain": [
       "  0%|          | 0/100 [00:00<?, ?it/s]"
      ]
     },
     "metadata": {},
     "output_type": "display_data"
    },
    {
     "name": "stdout",
     "output_type": "stream",
     "text": [
      "Epoch 43/60 - Train loss: 5.2859 - Val loss: 5.3714 - Val mpe: 2.2624\n"
     ]
    },
    {
     "data": {
      "application/vnd.jupyter.widget-view+json": {
       "model_id": "e7aeaabc336748a3879e282c33889b9a",
       "version_major": 2,
       "version_minor": 0
      },
      "text/plain": [
       "  0%|          | 0/199 [00:00<?, ?it/s]"
      ]
     },
     "metadata": {},
     "output_type": "display_data"
    },
    {
     "data": {
      "application/vnd.jupyter.widget-view+json": {
       "model_id": "57532ba37d194d8080c8d77f66f8c9e6",
       "version_major": 2,
       "version_minor": 0
      },
      "text/plain": [
       "  0%|          | 0/100 [00:00<?, ?it/s]"
      ]
     },
     "metadata": {},
     "output_type": "display_data"
    },
    {
     "name": "stdout",
     "output_type": "stream",
     "text": [
      "Epoch 44/60 - Train loss: 5.2517 - Val loss: 5.3506 - Val mpe: 2.3085\n"
     ]
    },
    {
     "data": {
      "application/vnd.jupyter.widget-view+json": {
       "model_id": "d5b0524d89cb46ada39620a411206e2c",
       "version_major": 2,
       "version_minor": 0
      },
      "text/plain": [
       "  0%|          | 0/199 [00:00<?, ?it/s]"
      ]
     },
     "metadata": {},
     "output_type": "display_data"
    },
    {
     "data": {
      "application/vnd.jupyter.widget-view+json": {
       "model_id": "a5b122dbc6d8476fbb1392aba67c8b45",
       "version_major": 2,
       "version_minor": 0
      },
      "text/plain": [
       "  0%|          | 0/100 [00:00<?, ?it/s]"
      ]
     },
     "metadata": {},
     "output_type": "display_data"
    },
    {
     "name": "stdout",
     "output_type": "stream",
     "text": [
      "Epoch 45/60 - Train loss: 5.2162 - Val loss: 5.3774 - Val mpe: 2.4262\n"
     ]
    },
    {
     "data": {
      "application/vnd.jupyter.widget-view+json": {
       "model_id": "86c27d7d87884e3088139174f2695562",
       "version_major": 2,
       "version_minor": 0
      },
      "text/plain": [
       "  0%|          | 0/199 [00:00<?, ?it/s]"
      ]
     },
     "metadata": {},
     "output_type": "display_data"
    },
    {
     "data": {
      "application/vnd.jupyter.widget-view+json": {
       "model_id": "fb98afa84bf8401192605de851cafd3d",
       "version_major": 2,
       "version_minor": 0
      },
      "text/plain": [
       "  0%|          | 0/100 [00:00<?, ?it/s]"
      ]
     },
     "metadata": {},
     "output_type": "display_data"
    },
    {
     "name": "stdout",
     "output_type": "stream",
     "text": [
      "Epoch 46/60 - Train loss: 5.1680 - Val loss: 5.3671 - Val mpe: 2.3427\n"
     ]
    },
    {
     "data": {
      "application/vnd.jupyter.widget-view+json": {
       "model_id": "2536844ed2814fb6aa85aaaf7e4a56c6",
       "version_major": 2,
       "version_minor": 0
      },
      "text/plain": [
       "  0%|          | 0/199 [00:00<?, ?it/s]"
      ]
     },
     "metadata": {},
     "output_type": "display_data"
    },
    {
     "data": {
      "application/vnd.jupyter.widget-view+json": {
       "model_id": "a59d7230b4264d038e6197a3b49e47b4",
       "version_major": 2,
       "version_minor": 0
      },
      "text/plain": [
       "  0%|          | 0/100 [00:00<?, ?it/s]"
      ]
     },
     "metadata": {},
     "output_type": "display_data"
    },
    {
     "name": "stdout",
     "output_type": "stream",
     "text": [
      "Epoch 47/60 - Train loss: 5.1511 - Val loss: 5.3600 - Val mpe: 2.2358\n"
     ]
    },
    {
     "data": {
      "application/vnd.jupyter.widget-view+json": {
       "model_id": "4fca6e6bea5f4a35b9b905a8014250e3",
       "version_major": 2,
       "version_minor": 0
      },
      "text/plain": [
       "  0%|          | 0/199 [00:00<?, ?it/s]"
      ]
     },
     "metadata": {},
     "output_type": "display_data"
    },
    {
     "data": {
      "application/vnd.jupyter.widget-view+json": {
       "model_id": "45b1d63cc0f947239ca8d6c60cdbaee7",
       "version_major": 2,
       "version_minor": 0
      },
      "text/plain": [
       "  0%|          | 0/100 [00:00<?, ?it/s]"
      ]
     },
     "metadata": {},
     "output_type": "display_data"
    },
    {
     "name": "stdout",
     "output_type": "stream",
     "text": [
      "Epoch 48/60 - Train loss: 5.0686 - Val loss: 5.3624 - Val mpe: 2.1927\n"
     ]
    },
    {
     "data": {
      "application/vnd.jupyter.widget-view+json": {
       "model_id": "79545e7b9282432cbb01b3d6ec76c6fe",
       "version_major": 2,
       "version_minor": 0
      },
      "text/plain": [
       "  0%|          | 0/199 [00:00<?, ?it/s]"
      ]
     },
     "metadata": {},
     "output_type": "display_data"
    },
    {
     "data": {
      "application/vnd.jupyter.widget-view+json": {
       "model_id": "cc033d3ae0684882b2a6f83494e8b2f3",
       "version_major": 2,
       "version_minor": 0
      },
      "text/plain": [
       "  0%|          | 0/100 [00:00<?, ?it/s]"
      ]
     },
     "metadata": {},
     "output_type": "display_data"
    },
    {
     "name": "stdout",
     "output_type": "stream",
     "text": [
      "Epoch 49/60 - Train loss: 5.0631 - Val loss: 5.4156 - Val mpe: 2.3349\n"
     ]
    },
    {
     "data": {
      "application/vnd.jupyter.widget-view+json": {
       "model_id": "ae16dfc9448243a59217b4ff1fb909fc",
       "version_major": 2,
       "version_minor": 0
      },
      "text/plain": [
       "  0%|          | 0/199 [00:00<?, ?it/s]"
      ]
     },
     "metadata": {},
     "output_type": "display_data"
    },
    {
     "data": {
      "application/vnd.jupyter.widget-view+json": {
       "model_id": "1ac754d5e5d8431ca3154ae8ffe1a737",
       "version_major": 2,
       "version_minor": 0
      },
      "text/plain": [
       "  0%|          | 0/100 [00:00<?, ?it/s]"
      ]
     },
     "metadata": {},
     "output_type": "display_data"
    },
    {
     "name": "stdout",
     "output_type": "stream",
     "text": [
      "Epoch 50/60 - Train loss: 5.0215 - Val loss: 5.3805 - Val mpe: 2.2567\n"
     ]
    },
    {
     "data": {
      "application/vnd.jupyter.widget-view+json": {
       "model_id": "c797aa57bf424de593406dda18846a68",
       "version_major": 2,
       "version_minor": 0
      },
      "text/plain": [
       "  0%|          | 0/199 [00:00<?, ?it/s]"
      ]
     },
     "metadata": {},
     "output_type": "display_data"
    },
    {
     "data": {
      "application/vnd.jupyter.widget-view+json": {
       "model_id": "490f8e9c40034cda939a772abf7fa1c8",
       "version_major": 2,
       "version_minor": 0
      },
      "text/plain": [
       "  0%|          | 0/100 [00:00<?, ?it/s]"
      ]
     },
     "metadata": {},
     "output_type": "display_data"
    },
    {
     "name": "stdout",
     "output_type": "stream",
     "text": [
      "Epoch 51/60 - Train loss: 4.9756 - Val loss: 5.3894 - Val mpe: 2.2176\n"
     ]
    },
    {
     "data": {
      "application/vnd.jupyter.widget-view+json": {
       "model_id": "0a32332ca84843d4884d89117ae95fd0",
       "version_major": 2,
       "version_minor": 0
      },
      "text/plain": [
       "  0%|          | 0/199 [00:00<?, ?it/s]"
      ]
     },
     "metadata": {},
     "output_type": "display_data"
    },
    {
     "data": {
      "application/vnd.jupyter.widget-view+json": {
       "model_id": "da0d00f5adf74830bc50d9a4869f3843",
       "version_major": 2,
       "version_minor": 0
      },
      "text/plain": [
       "  0%|          | 0/100 [00:00<?, ?it/s]"
      ]
     },
     "metadata": {},
     "output_type": "display_data"
    },
    {
     "name": "stdout",
     "output_type": "stream",
     "text": [
      "Epoch 52/60 - Train loss: 4.9549 - Val loss: 5.3873 - Val mpe: 2.1362\n"
     ]
    },
    {
     "data": {
      "application/vnd.jupyter.widget-view+json": {
       "model_id": "e09a1f7988a94d558e6e918b16aa12e8",
       "version_major": 2,
       "version_minor": 0
      },
      "text/plain": [
       "  0%|          | 0/199 [00:00<?, ?it/s]"
      ]
     },
     "metadata": {},
     "output_type": "display_data"
    },
    {
     "data": {
      "application/vnd.jupyter.widget-view+json": {
       "model_id": "781ac8fa08404346b98bbc3979ba1a81",
       "version_major": 2,
       "version_minor": 0
      },
      "text/plain": [
       "  0%|          | 0/100 [00:00<?, ?it/s]"
      ]
     },
     "metadata": {},
     "output_type": "display_data"
    },
    {
     "name": "stdout",
     "output_type": "stream",
     "text": [
      "Epoch 53/60 - Train loss: 4.8994 - Val loss: 5.3969 - Val mpe: 2.2065\n"
     ]
    },
    {
     "data": {
      "application/vnd.jupyter.widget-view+json": {
       "model_id": "800add091b684045872e7511aad40088",
       "version_major": 2,
       "version_minor": 0
      },
      "text/plain": [
       "  0%|          | 0/199 [00:00<?, ?it/s]"
      ]
     },
     "metadata": {},
     "output_type": "display_data"
    },
    {
     "data": {
      "application/vnd.jupyter.widget-view+json": {
       "model_id": "4dc369e83cd54d8d9f6151ff9e89c22b",
       "version_major": 2,
       "version_minor": 0
      },
      "text/plain": [
       "  0%|          | 0/100 [00:00<?, ?it/s]"
      ]
     },
     "metadata": {},
     "output_type": "display_data"
    },
    {
     "name": "stdout",
     "output_type": "stream",
     "text": [
      "Epoch 54/60 - Train loss: 4.8777 - Val loss: 5.4026 - Val mpe: 2.0645\n"
     ]
    },
    {
     "data": {
      "application/vnd.jupyter.widget-view+json": {
       "model_id": "19ef389a9e09401aa5ce2c187105a7d2",
       "version_major": 2,
       "version_minor": 0
      },
      "text/plain": [
       "  0%|          | 0/199 [00:00<?, ?it/s]"
      ]
     },
     "metadata": {},
     "output_type": "display_data"
    },
    {
     "data": {
      "application/vnd.jupyter.widget-view+json": {
       "model_id": "07cfe4bf2e3c482ea61fd4e62fcec0a0",
       "version_major": 2,
       "version_minor": 0
      },
      "text/plain": [
       "  0%|          | 0/100 [00:00<?, ?it/s]"
      ]
     },
     "metadata": {},
     "output_type": "display_data"
    },
    {
     "name": "stdout",
     "output_type": "stream",
     "text": [
      "Epoch 55/60 - Train loss: 4.8202 - Val loss: 5.4019 - Val mpe: 2.1457\n"
     ]
    },
    {
     "data": {
      "application/vnd.jupyter.widget-view+json": {
       "model_id": "4b792a1b922948d098a84eeaba3f5df5",
       "version_major": 2,
       "version_minor": 0
      },
      "text/plain": [
       "  0%|          | 0/199 [00:00<?, ?it/s]"
      ]
     },
     "metadata": {},
     "output_type": "display_data"
    },
    {
     "data": {
      "application/vnd.jupyter.widget-view+json": {
       "model_id": "8658a85506154dee99f8f45de509c5d4",
       "version_major": 2,
       "version_minor": 0
      },
      "text/plain": [
       "  0%|          | 0/100 [00:00<?, ?it/s]"
      ]
     },
     "metadata": {},
     "output_type": "display_data"
    },
    {
     "name": "stdout",
     "output_type": "stream",
     "text": [
      "Epoch 56/60 - Train loss: 4.7835 - Val loss: 5.4449 - Val mpe: 2.1925\n"
     ]
    },
    {
     "data": {
      "application/vnd.jupyter.widget-view+json": {
       "model_id": "8f1dca29f71e412684659db7fb5a06ba",
       "version_major": 2,
       "version_minor": 0
      },
      "text/plain": [
       "  0%|          | 0/199 [00:00<?, ?it/s]"
      ]
     },
     "metadata": {},
     "output_type": "display_data"
    },
    {
     "data": {
      "application/vnd.jupyter.widget-view+json": {
       "model_id": "39848f4d740b4299aa2fcf8c197510e0",
       "version_major": 2,
       "version_minor": 0
      },
      "text/plain": [
       "  0%|          | 0/100 [00:00<?, ?it/s]"
      ]
     },
     "metadata": {},
     "output_type": "display_data"
    },
    {
     "name": "stdout",
     "output_type": "stream",
     "text": [
      "Epoch 57/60 - Train loss: 4.7842 - Val loss: 5.4435 - Val mpe: 2.1724\n"
     ]
    },
    {
     "data": {
      "application/vnd.jupyter.widget-view+json": {
       "model_id": "5baae709d93f4345bd47eddbd9e34658",
       "version_major": 2,
       "version_minor": 0
      },
      "text/plain": [
       "  0%|          | 0/199 [00:00<?, ?it/s]"
      ]
     },
     "metadata": {},
     "output_type": "display_data"
    },
    {
     "data": {
      "application/vnd.jupyter.widget-view+json": {
       "model_id": "726aad5a991e45bb8c2f592bf0f6968c",
       "version_major": 2,
       "version_minor": 0
      },
      "text/plain": [
       "  0%|          | 0/100 [00:00<?, ?it/s]"
      ]
     },
     "metadata": {},
     "output_type": "display_data"
    },
    {
     "name": "stdout",
     "output_type": "stream",
     "text": [
      "Epoch 58/60 - Train loss: 4.7428 - Val loss: 5.4447 - Val mpe: 2.1622\n"
     ]
    },
    {
     "data": {
      "application/vnd.jupyter.widget-view+json": {
       "model_id": "52dabac5f5f54c0580b651587888313f",
       "version_major": 2,
       "version_minor": 0
      },
      "text/plain": [
       "  0%|          | 0/199 [00:00<?, ?it/s]"
      ]
     },
     "metadata": {},
     "output_type": "display_data"
    },
    {
     "data": {
      "application/vnd.jupyter.widget-view+json": {
       "model_id": "a8038638b411469abda97d6478246bef",
       "version_major": 2,
       "version_minor": 0
      },
      "text/plain": [
       "  0%|          | 0/100 [00:00<?, ?it/s]"
      ]
     },
     "metadata": {},
     "output_type": "display_data"
    },
    {
     "name": "stdout",
     "output_type": "stream",
     "text": [
      "Epoch 59/60 - Train loss: 4.7937 - Val loss: 5.4324 - Val mpe: 2.1657\n"
     ]
    },
    {
     "data": {
      "application/vnd.jupyter.widget-view+json": {
       "model_id": "3cad1839902846438b2e510119b57f56",
       "version_major": 2,
       "version_minor": 0
      },
      "text/plain": [
       "  0%|          | 0/199 [00:00<?, ?it/s]"
      ]
     },
     "metadata": {},
     "output_type": "display_data"
    },
    {
     "data": {
      "application/vnd.jupyter.widget-view+json": {
       "model_id": "ce680c31c60b404582c91725a6cf33d8",
       "version_major": 2,
       "version_minor": 0
      },
      "text/plain": [
       "  0%|          | 0/100 [00:00<?, ?it/s]"
      ]
     },
     "metadata": {},
     "output_type": "display_data"
    },
    {
     "name": "stdout",
     "output_type": "stream",
     "text": [
      "Epoch 60/60 - Train loss: 4.7140 - Val loss: 5.4536 - Val mpe: 2.1793\n"
     ]
    }
   ],
   "source": [
    "train(model, train_loader, val_loader, criterion, optimizer, device,\n",
    "      epochs=epochs)"
   ]
  },
  {
   "cell_type": "code",
   "execution_count": null,
   "metadata": {},
   "outputs": [],
   "source": [
    "# torch.save(model.state_dict(), \"3D-mml-one-hot-unet.pt\")"
   ]
  },
  {
   "cell_type": "markdown",
   "metadata": {},
   "source": [
    "## Evaluating the model"
   ]
  },
  {
   "cell_type": "code",
   "execution_count": null,
   "metadata": {},
   "outputs": [],
   "source": [
    "# model.load_state_dict(torch.load(\"3D-mml-one-hot-unet.pt\", weights_only=True))"
   ]
  },
  {
   "cell_type": "code",
   "execution_count": 12,
   "metadata": {},
   "outputs": [
    {
     "data": {
      "application/vnd.jupyter.widget-view+json": {
       "model_id": "4fd543ace9644f6e93040eb4fa608287",
       "version_major": 2,
       "version_minor": 0
      },
      "text/plain": [
       "  0%|          | 0/100 [00:00<?, ?it/s]"
      ]
     },
     "metadata": {},
     "output_type": "display_data"
    },
    {
     "name": "stdout",
     "output_type": "stream",
     "text": [
      "Test Mean PE: 2.5072\n"
     ]
    }
   ],
   "source": [
    "pred_landmarks_test = []\n",
    "true_landmarks_test = []\n",
    "dim_origs_test = []\n",
    "pixel_spacings_test = []\n",
    "paddings_test = []\n",
    "test_mpe = 0\n",
    "model.eval()\n",
    "model.to(device)\n",
    "with torch.no_grad():\n",
    "    for i, batch in enumerate(tqdm(test_loader)):\n",
    "        images = batch[\"image\"].to(device)\n",
    "        outputs = model(images)\n",
    "        dim_orig = batch[\"dim_original\"].to(device)\n",
    "        pixel_spacing = batch[\"spacing\"].to(device)\n",
    "        padding = batch[\"padding\"].to(device)\n",
    "        landmarks = batch[\"landmark\"].to(device)\n",
    "        pred_landmark = heatmap_to_coord(outputs, method=\"argmax\", spatial_dims=3)\n",
    "        test_mpe += point_error(landmarks, pred_landmark, images.shape[-3:], dim_orig,\n",
    "                                pixel_spacing, padding, reduction=\"mean\")\n",
    "        pred_landmarks_test.append(pred_landmark.cpu())\n",
    "        true_landmarks_test.append(landmarks.cpu())\n",
    "        dim_origs_test.append(dim_orig.cpu())\n",
    "        pixel_spacings_test.append(pixel_spacing.cpu())\n",
    "        paddings_test.append(padding.cpu())\n",
    "\n",
    "pred_landmarks_test = torch.cat(pred_landmarks_test)\n",
    "true_landmarks_test = torch.cat(true_landmarks_test)\n",
    "dim_origs_test = torch.cat(dim_origs_test)\n",
    "pixel_spacings_test = torch.cat(pixel_spacings_test)\n",
    "paddings_test = torch.cat(paddings_test)\n",
    "\n",
    "test_mpe /= len(test_loader)\n",
    "\n",
    "print(f\"Test Mean PE: {test_mpe:.4f}\")"
   ]
  },
  {
   "cell_type": "code",
   "execution_count": 13,
   "metadata": {},
   "outputs": [
    {
     "name": "stdout",
     "output_type": "stream",
     "text": [
      "Results on Test Set:\n",
      "SDR for 2.0mm: 68.2143\n",
      "SDR for 2.5mm: 78.3571\n",
      "SDR for 3.0mm: 81.2143\n",
      "SDR for 4.0mm: 86.2143\n"
     ]
    }
   ],
   "source": [
    "from landmarker.metrics import sdr\n",
    "\n",
    "sdr_test = sdr([2.0, 2.5, 3.0, 4.0], true_landmarks=true_landmarks_test, pred_landmarks=pred_landmarks_test,\n",
    "               dim=dim_img, dim_orig=dim_origs_test.int(), pixel_spacing=pixel_spacings_test, padding=paddings_test)\n",
    "\n",
    "print(\"Results on Test Set:\")\n",
    "for key in sdr_test:\n",
    "    print(f\"SDR for {key}mm: {sdr_test[key]:.4f}\")"
   ]
  },
  {
   "cell_type": "code",
   "execution_count": 14,
   "metadata": {},
   "outputs": [
    {
     "name": "stdout",
     "output_type": "stream",
     "text": [
      "Test Set\n",
      "Detection report:\n",
      "1# Point-to-point error (PE) statistics:\n",
      "======================================================================\n",
      "Class               Mean      Median    Std       Min       Max       \n",
      "----------------------------------------------------------------------\n",
      "landmark_0          2.62      1.32      4.43      0.00      40.08     \n",
      "landmark_1          2.50      1.14      3.40      0.01      17.28     \n",
      "landmark_2          2.09      1.17      4.34      0.25      41.70     \n",
      "landmark_3          2.16      1.21      4.72      0.01      46.03     \n",
      "landmark_4          2.06      1.22      2.45      0.15      11.16     \n",
      "landmark_5          3.28      1.91      6.24      0.15      55.77     \n",
      "landmark_6          2.57      1.39      4.47      0.00      42.38     \n",
      "landmark_7          2.94      1.19      6.45      0.00      52.89     \n",
      "landmark_8          2.74      1.21      4.60      0.05      39.47     \n",
      "landmark_9          1.95      1.31      1.73      0.09      8.73      \n",
      "landmark_10         2.62      1.38      5.15      0.05      42.96     \n",
      "landmark_11         2.66      1.10      7.09      0.23      47.77     \n",
      "landmark_12         2.68      1.31      5.31      0.19      45.69     \n",
      "landmark_13         2.25      1.42      2.01      0.03      13.16     \n",
      "======================================================================\n",
      "\n",
      "2# Success detection rate (SDR):\n",
      "================================================================================\n",
      "Class               SDR (PE≤2.0mm) SDR (PE≤2.5mm) SDR (PE≤3.0mm) SDR (PE≤4.0mm) \n",
      "--------------------------------------------------------------------------------\n",
      "landmark_0          65.13          77.91          79.13          80.38          \n",
      "landmark_1          78.39          82.12          83.00          84.01          \n",
      "landmark_2          76.40          85.50          89.31          91.28          \n",
      "landmark_3          74.02          86.87          89.51          92.82          \n",
      "landmark_4          77.34          84.94          87.12          87.28          \n",
      "landmark_5          53.64          63.19          68.00          80.04          \n",
      "landmark_6          61.49          72.34          74.44          86.36          \n",
      "landmark_7          67.75          76.80          79.34          80.37          \n",
      "landmark_8          70.28          80.27          82.37          84.38          \n",
      "landmark_9          68.59          79.81          83.56          88.19          \n",
      "landmark_10         65.19          77.13          81.28          88.10          \n",
      "landmark_11         83.22          89.28          90.38          91.14          \n",
      "landmark_12         64.56          72.93          78.04          90.06          \n",
      "landmark_13         59.88          68.62          72.44          85.22          \n",
      "================================================================================\n"
     ]
    }
   ],
   "source": [
    "from landmarker.visualize import detection_report\n",
    "\n",
    "print(\"Test Set\")\n",
    "detection_report(true_landmarks_test, pred_landmarks_test, dim=dim_img, dim_orig=dim_origs_test.int(),\n",
    "                    pixel_spacing=pixel_spacings_test, padding=paddings_test, class_names=ds_test.class_names,\n",
    "                    radius=[2.0, 2.5, 3.0, 4.0], digits=2)"
   ]
  },
  {
   "cell_type": "code",
   "execution_count": 15,
   "metadata": {},
   "outputs": [
    {
     "data": {
      "image/png": "[encoded data removed]",
      "text/plain": [
       "<Figure size 640x480 with 1 Axes>"
      ]
     },
     "metadata": {},
     "output_type": "display_data"
    }
   ],
   "source": [
    "from landmarker.visualize import plot_cpe\n",
    "\n",
    "plot_cpe(true_landmarks_test, pred_landmarks_test, dim=dim_img, dim_orig=dim_origs_test.int(),\n",
    "                    pixel_spacing=pixel_spacings_test, padding=paddings_test, class_names=ds_test.class_names,\n",
    "                    group=False, title=\"CPE curve\", save_path=None,\n",
    "                    stat='proportion', unit='mm', kind='ecdf')"
   ]
  },
  {
   "cell_type": "code",
   "execution_count": null,
   "metadata": {},
   "outputs": [],
   "source": []
  }
 ],
 "metadata": {
  "kernelspec": {
   "display_name": "vision",
   "language": "python",
   "name": "python3"
  },
  "language_info": {
   "codemirror_mode": {
    "name": "ipython",
    "version": 3
   },
   "file_extension": ".py",
   "mimetype": "text/x-python",
   "name": "python",
   "nbconvert_exporter": "python",
   "pygments_lexer": "ipython3",
   "version": "3.10.15"
  }
 },
 "nbformat": 4,
 "nbformat_minor": 4
}
