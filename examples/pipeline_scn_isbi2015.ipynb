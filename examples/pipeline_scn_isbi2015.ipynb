{
 "cells": [
  {
   "cell_type": "markdown",
   "metadata": {},
   "source": [
    "<p align=\"center\">\n",
    "    <a href=\"https://predict-idlab.github.io/landmarker\">\n",
    "        <img alt=\"landmarker\" src=\"https://raw.githubusercontent.com/predict-idlab/landmarker/main/docs/_static/images/logo.svg\" width=\"66%\">\n",
    "    </a>\n",
    "</p>\n",
    "\n",
    "# Demonstration of Pipeline for Training/Evaluation Landmark Detection (ISBI 2015 Cephalometric X-ray Dataset)\n",
    "\n",
    "In this tutorial, we will demonstrate the use of the Pipline Module in `landmarker` library, which\n",
    "allows for training and evaluating landmark detection algorithms in a few lines of code. We will use \n",
    "the ISBI 2015 Cephalometric X-ray dataset to train and evaluate the SpatialConfiguration model.\n",
    "The ISBI 2015 Cephalometric X-ray dataset is a dataset of 2D cephalometric X-rays. The dataset \n",
    "contains 400 images, each with 19 landmarks annotated. The dataset is split into a training set of \n",
    "150 images and two test sets of 150 and 100 images respectively.\n",
    "\n",
    "<a target=\"_blank\" href=\"https://colab.research.google.com/github/predict-idlab/landmarker/examples/pipeline_scn_isbi2015.ipynb\">\n",
    "  <img src=\"https://colab.research.google.com/assets/colab-badge.svg\" alt=\"Open In Colab\"/>\n",
    "</a>"
   ]
  },
  {
   "cell_type": "code",
   "execution_count": 1,
   "metadata": {},
   "outputs": [],
   "source": [
    "# import everyting from data module which is located ../src/data.py\n",
    "import sys\n",
    "sys.path.append('../src')"
   ]
  },
  {
   "cell_type": "code",
   "execution_count": 2,
   "metadata": {},
   "outputs": [],
   "source": [
    "# !python -c \"import landmarker\" || pip install landmarker"
   ]
  },
  {
   "cell_type": "markdown",
   "metadata": {},
   "source": [
    "## Downloading the dataset\n",
    "The `landmarker` library provides a utility function to download the ISBI 2015 Cephalometric X-ray\n",
    "dataset. The dataset will be downloaded to the `data` folder in the current working directory."
   ]
  },
  {
   "cell_type": "code",
   "execution_count": 3,
   "metadata": {},
   "outputs": [],
   "source": [
    "from landmarker.datasets.cepha400 import get_cepha_dataset\n",
    "path_dir = \"data/\"\n",
    "(image_paths_train, image_paths_test1, image_paths_test2,\n",
    " landmarks_train, landmarks_test1, landmarks_test2,\n",
    " pixel_spacings_train, pixel_spacings_test1, pixel_spacings_test2,\n",
    " ) = get_cepha_dataset(path_dir=path_dir, junior=False, cv=False)"
   ]
  },
  {
   "cell_type": "markdown",
   "metadata": {},
   "source": [
    "## Pipelines in `landmarker`\n",
    "The `landmarker` library provides a `Pipeline` class that allows for training and evaluating landmark\n",
    "detection algorithms in a few lines of code. The `Pipeline` class is a wrapper around different\n",
    "components of the library. There are five main types of pipelines, which are distinguished by our\n",
    "own categorizion of landmark detection algorithms. See the figure below for categorization of\n",
    "landmark detection algorithms.\n",
    "\n",
    "<p align=\"center\">\n",
    "    <img alt=\"landmarker\" src=\"https://raw.githubusercontent.com/predict-idlab/landmarker/main/docs/_static/images/categorization_detection_approaches.svg\" width=\"50%\">\n",
    "</p>\n",
    "\n",
    "We can divide landmark detection algorithms into two main categories: *Heatmap-based* and \n",
    "*Coordinate-based*. Heatmap-based algorithms predict a heatmap for each landmark, this heatmap is\n",
    "than decoded to obtain the landmark location. Coordinate-based algorithms directly predict the\n",
    "landmark location. Heatmap-based algorithms can be further divided into *Direct* and *Indirect*\n",
    "approaches. In direct heatmap-based approaches, a heatmap is generated for each landmark following \n",
    "a probability distrubion (e.g., the bivariate gaussian distribution), this heatmap is than used as \n",
    "target for the network. In indirect heatmap-based approaches, the model predicts an intermediate\n",
    "heatmap, which is than decoded (by a differentiable function) to obtain the landmarks. The Direct \n",
    "Heatmap-based algorithms can be further divided into *Static* and *Adaptive* approaches. In static\n",
    "heatmap-based approaches, the heatmap is generated using a fixed probability distribution, i.e.,\n",
    "the parameters of the probability distribution are constant the entire learning procdeure. In \n",
    "adaptive heatmap-based approaches, the parameters of the probability distribution are learned or\n",
    "are adapted by a scheduler algorithm. The Indirect Heatmap-based algorithms can be further divided\n",
    "into Uncertainty aware and Uncertainty unaware approaches. In Uncertainty aware approaches, the\n",
    "algorithm decodes from the heamtmap the uncertainty besides the landmark location. In Uncertainty\n",
    "unaware approaches, the algorithm only decodes the landmark location from the heatmap.\n",
    "\n",
    "The `landmarker` library provides a `Pipeline` class for each of the five categories of landmark\n",
    "detection algorithms. Each `Pipeline` class has a `fit`, `predict`, and `evaluate` method. \n",
    "The `fit` method is used to train the model, the `predict` method is used to predict landmarks on\n",
    "new images, and the `evaluate` method is used to evaluate the model on a test set and give additional\n",
    "information about the model performance.\n",
    "\n",
    "The five `Pipeline` classes are:\n",
    "- `StaticHeatmapRegressionPipeline`: Static Heatmap-based algorithms\n",
    "- `AdaptiveHeatmapRegressionPipeline`: Adaptive Heatmap-based algorithms\n",
    "- `IndirectUncertaintyAwareHeatmapRegressionPipeline`: Uncertainty aware Indirect Heatmap-based algorithms\n",
    "- `IndirectUncertaintyUnawareHeatmapRegressionPipeline`: Uncertainty unaware Indirect Heatmap-based algorithms\n",
    "- `CoordinateRegressionPipeline`: Coordinate-based algorithms"
   ]
  },
  {
   "cell_type": "code",
   "execution_count": 4,
   "metadata": {},
   "outputs": [],
   "source": [
    "import torch\n",
    "from landmarker.heatmap.decoder import coord_argmax\n",
    "from monai.transforms import (Compose, RandAffined, RandGaussianNoised, RandStdShiftIntensityd,\n",
    "                              RandScaleIntensityd, RandAdjustContrastd, RandHistogramShiftd)\n",
    "import numpy as np\n",
    "\n",
    "device = 'cuda' if torch.cuda.is_available() else 'cpu'\n",
    "epochs = 1000\n",
    "lr = 0.0001\n",
    "batch_size = 4\n",
    "cache_ds = True\n",
    "dim_img = (512, 512)"
   ]
  },
  {
   "cell_type": "markdown",
   "metadata": {},
   "source": [
    "## Static Heatmap Regression"
   ]
  },
  {
   "cell_type": "code",
   "execution_count": 5,
   "metadata": {},
   "outputs": [
    {
     "name": "stdout",
     "output_type": "stream",
     "text": [
      "Reading, normalizing and resizing 150 images and landmarks...\n"
     ]
    },
    {
     "name": "stderr",
     "output_type": "stream",
     "text": [
      "  0%|          | 0/150 [00:00<?, ?it/s]/opt/conda/lib/python3.11/site-packages/torchvision/transforms/functional.py:1603: UserWarning: The default value of the antialias parameter of all the resizing transforms (Resize(), RandomResizedCrop(), etc.) will change from None to True in v0.17, in order to be consistent across the PIL and Tensor backends. To suppress this warning, directly pass antialias=True (recommended, future default), antialias=None (current default, which means False for Tensors and True for PIL), or antialias=False (only works on Tensors - PIL will still use antialiasing). This also applies if you are using the inference transforms from the models weights: update the call to weights.transforms(antialias=True).\n",
      "  warnings.warn(\n",
      "100%|██████████| 150/150 [00:03<00:00, 44.88it/s]\n"
     ]
    },
    {
     "name": "stdout",
     "output_type": "stream",
     "text": [
      "Creating heatmaps for 150 images... (batch size: 32)\n"
     ]
    },
    {
     "name": "stderr",
     "output_type": "stream",
     "text": [
      "100%|██████████| 4/4 [00:19<00:00,  4.90s/it]\n",
      "100%|██████████| 30/30 [00:14<00:00,  2.04it/s]\n",
      "100%|██████████| 8/8 [00:00<00:00, 14.28it/s]\n"
     ]
    },
    {
     "name": "stdout",
     "output_type": "stream",
     "text": [
      "Epoch 1/1000 - Train loss: 0.48456608 - Val loss: 0.07820681\n"
     ]
    },
    {
     "name": "stderr",
     "output_type": "stream",
     "text": [
      "100%|██████████| 30/30 [00:14<00:00,  2.01it/s]\n",
      "100%|██████████| 8/8 [00:00<00:00, 15.00it/s]\n"
     ]
    },
    {
     "name": "stdout",
     "output_type": "stream",
     "text": [
      "Epoch 2/1000 - Train loss: 0.06119466 - Val loss: 0.04535827\n",
      "INFO: Val_Loss improved (0.07820681 --> 0.04535827). Saving model ...\n"
     ]
    },
    {
     "name": "stderr",
     "output_type": "stream",
     "text": [
      "100%|██████████| 30/30 [00:14<00:00,  2.06it/s]\n",
      "100%|██████████| 8/8 [00:00<00:00, 14.64it/s]\n"
     ]
    },
    {
     "name": "stdout",
     "output_type": "stream",
     "text": [
      "Epoch 3/1000 - Train loss: 0.04011767 - Val loss: 0.03184384\n",
      "INFO: Val_Loss improved (0.04535827 --> 0.03184384). Saving model ...\n"
     ]
    },
    {
     "name": "stderr",
     "output_type": "stream",
     "text": [
      "100%|██████████| 30/30 [00:14<00:00,  2.05it/s]\n",
      "100%|██████████| 8/8 [00:00<00:00, 11.75it/s]\n"
     ]
    },
    {
     "name": "stdout",
     "output_type": "stream",
     "text": [
      "Epoch 4/1000 - Train loss: 0.03116542 - Val loss: 0.02627548\n",
      "INFO: Val_Loss improved (0.03184384 --> 0.02627548). Saving model ...\n"
     ]
    },
    {
     "name": "stderr",
     "output_type": "stream",
     "text": [
      "100%|██████████| 30/30 [00:14<00:00,  2.06it/s]\n",
      "100%|██████████| 8/8 [00:00<00:00, 15.20it/s]\n"
     ]
    },
    {
     "name": "stdout",
     "output_type": "stream",
     "text": [
      "Epoch 5/1000 - Train loss: 0.02801667 - Val loss: 0.02402726\n",
      "INFO: Val_Loss improved (0.02627548 --> 0.02402726). Saving model ...\n"
     ]
    },
    {
     "name": "stderr",
     "output_type": "stream",
     "text": [
      "100%|██████████| 30/30 [00:14<00:00,  2.05it/s]\n",
      "100%|██████████| 8/8 [00:00<00:00, 15.16it/s]\n"
     ]
    },
    {
     "name": "stdout",
     "output_type": "stream",
     "text": [
      "Epoch 6/1000 - Train loss: 0.02563009 - Val loss: 0.02298292\n",
      "INFO: Val_Loss improved (0.02402726 --> 0.02298292). Saving model ...\n"
     ]
    },
    {
     "name": "stderr",
     "output_type": "stream",
     "text": [
      "100%|██████████| 30/30 [00:14<00:00,  2.08it/s]\n",
      "100%|██████████| 8/8 [00:00<00:00, 11.74it/s]\n"
     ]
    },
    {
     "name": "stdout",
     "output_type": "stream",
     "text": [
      "Epoch 7/1000 - Train loss: 0.02558527 - Val loss: 0.02249208\n",
      "INFO: Val_Loss improved (0.02298292 --> 0.02249208). Saving model ...\n"
     ]
    },
    {
     "name": "stderr",
     "output_type": "stream",
     "text": [
      "100%|██████████| 30/30 [00:14<00:00,  2.08it/s]\n",
      "100%|██████████| 8/8 [00:00<00:00, 15.09it/s]\n"
     ]
    },
    {
     "name": "stdout",
     "output_type": "stream",
     "text": [
      "Epoch 8/1000 - Train loss: 0.02278032 - Val loss: 0.02075039\n",
      "INFO: Val_Loss improved (0.02249208 --> 0.02075039). Saving model ...\n"
     ]
    },
    {
     "name": "stderr",
     "output_type": "stream",
     "text": [
      "100%|██████████| 30/30 [00:14<00:00,  2.06it/s]\n",
      "100%|██████████| 8/8 [00:00<00:00, 15.18it/s]\n"
     ]
    },
    {
     "name": "stdout",
     "output_type": "stream",
     "text": [
      "Epoch 9/1000 - Train loss: 0.02396483 - Val loss: 0.02115519\n",
      "INFO: Early stopping counter                     1 of 20                         [Best Val Loss: 0.02075039,                             Val Loss: 0.02115519]\n"
     ]
    },
    {
     "name": "stderr",
     "output_type": "stream",
     "text": [
      "100%|██████████| 30/30 [00:14<00:00,  2.10it/s]\n",
      "100%|██████████| 8/8 [00:00<00:00, 15.19it/s]\n"
     ]
    },
    {
     "name": "stdout",
     "output_type": "stream",
     "text": [
      "Epoch 10/1000 - Train loss: 0.02247344 - Val loss: 0.01972099\n",
      "INFO: Val_Loss improved (0.02075039 --> 0.01972099). Saving model ...\n"
     ]
    },
    {
     "name": "stderr",
     "output_type": "stream",
     "text": [
      "100%|██████████| 30/30 [00:14<00:00,  2.05it/s]\n",
      "100%|██████████| 8/8 [00:00<00:00, 15.19it/s]\n"
     ]
    },
    {
     "name": "stdout",
     "output_type": "stream",
     "text": [
      "Epoch 11/1000 - Train loss: 0.02023788 - Val loss: 0.01821169\n",
      "INFO: Val_Loss improved (0.01972099 --> 0.01821169). Saving model ...\n"
     ]
    },
    {
     "name": "stderr",
     "output_type": "stream",
     "text": [
      "100%|██████████| 30/30 [00:14<00:00,  2.03it/s]\n",
      "100%|██████████| 8/8 [00:00<00:00, 15.20it/s]\n"
     ]
    },
    {
     "name": "stdout",
     "output_type": "stream",
     "text": [
      "Epoch 12/1000 - Train loss: 0.01985775 - Val loss: 0.01788033\n",
      "INFO: Val_Loss improved (0.01821169 --> 0.01788033). Saving model ...\n"
     ]
    },
    {
     "name": "stderr",
     "output_type": "stream",
     "text": [
      "100%|██████████| 30/30 [00:14<00:00,  2.06it/s]\n",
      "100%|██████████| 8/8 [00:00<00:00, 14.86it/s]\n"
     ]
    },
    {
     "name": "stdout",
     "output_type": "stream",
     "text": [
      "Epoch 13/1000 - Train loss: 0.01908606 - Val loss: 0.01773746\n",
      "INFO: Val_Loss improved (0.01788033 --> 0.01773746). Saving model ...\n"
     ]
    },
    {
     "name": "stderr",
     "output_type": "stream",
     "text": [
      "100%|██████████| 30/30 [00:14<00:00,  2.07it/s]\n",
      "100%|██████████| 8/8 [00:00<00:00, 14.76it/s]\n"
     ]
    },
    {
     "name": "stdout",
     "output_type": "stream",
     "text": [
      "Epoch 14/1000 - Train loss: 0.01770712 - Val loss: 0.01606670\n",
      "INFO: Val_Loss improved (0.01773746 --> 0.01606670). Saving model ...\n"
     ]
    },
    {
     "name": "stderr",
     "output_type": "stream",
     "text": [
      "100%|██████████| 30/30 [00:14<00:00,  2.04it/s]\n",
      "100%|██████████| 8/8 [00:00<00:00, 14.56it/s]\n"
     ]
    },
    {
     "name": "stdout",
     "output_type": "stream",
     "text": [
      "Epoch 15/1000 - Train loss: 0.01755407 - Val loss: 0.01699400\n",
      "INFO: Early stopping counter                     1 of 20                         [Best Val Loss: 0.01606670,                             Val Loss: 0.01699400]\n"
     ]
    },
    {
     "name": "stderr",
     "output_type": "stream",
     "text": [
      "100%|██████████| 30/30 [00:14<00:00,  2.06it/s]\n",
      "100%|██████████| 8/8 [00:00<00:00, 14.24it/s]\n"
     ]
    },
    {
     "name": "stdout",
     "output_type": "stream",
     "text": [
      "Epoch 16/1000 - Train loss: 0.01730135 - Val loss: 0.01563357\n",
      "INFO: Val_Loss improved (0.01606670 --> 0.01563357). Saving model ...\n"
     ]
    },
    {
     "name": "stderr",
     "output_type": "stream",
     "text": [
      "100%|██████████| 30/30 [00:14<00:00,  2.07it/s]\n",
      "100%|██████████| 8/8 [00:00<00:00, 15.11it/s]\n"
     ]
    },
    {
     "name": "stdout",
     "output_type": "stream",
     "text": [
      "Epoch 17/1000 - Train loss: 0.01651349 - Val loss: 0.01468884\n",
      "INFO: Val_Loss improved (0.01563357 --> 0.01468884). Saving model ...\n"
     ]
    },
    {
     "name": "stderr",
     "output_type": "stream",
     "text": [
      "100%|██████████| 30/30 [00:14<00:00,  2.03it/s]\n",
      "100%|██████████| 8/8 [00:00<00:00, 14.99it/s]\n"
     ]
    },
    {
     "name": "stdout",
     "output_type": "stream",
     "text": [
      "Epoch 18/1000 - Train loss: 0.01547971 - Val loss: 0.01435053\n",
      "INFO: Val_Loss improved (0.01468884 --> 0.01435053). Saving model ...\n"
     ]
    },
    {
     "name": "stderr",
     "output_type": "stream",
     "text": [
      "100%|██████████| 30/30 [00:14<00:00,  2.09it/s]\n",
      "100%|██████████| 8/8 [00:00<00:00, 15.07it/s]\n"
     ]
    },
    {
     "name": "stdout",
     "output_type": "stream",
     "text": [
      "Epoch 19/1000 - Train loss: 0.01581260 - Val loss: 0.01384214\n",
      "INFO: Val_Loss improved (0.01435053 --> 0.01384214). Saving model ...\n"
     ]
    },
    {
     "name": "stderr",
     "output_type": "stream",
     "text": [
      "100%|██████████| 30/30 [00:14<00:00,  2.06it/s]\n",
      "100%|██████████| 8/8 [00:00<00:00, 14.24it/s]\n"
     ]
    },
    {
     "name": "stdout",
     "output_type": "stream",
     "text": [
      "Epoch 20/1000 - Train loss: 0.01496048 - Val loss: 0.01364034\n",
      "INFO: Val_Loss improved (0.01384214 --> 0.01364034). Saving model ...\n"
     ]
    },
    {
     "name": "stderr",
     "output_type": "stream",
     "text": [
      "100%|██████████| 30/30 [00:14<00:00,  2.06it/s]\n",
      "100%|██████████| 8/8 [00:00<00:00, 15.12it/s]\n"
     ]
    },
    {
     "name": "stdout",
     "output_type": "stream",
     "text": [
      "Epoch 21/1000 - Train loss: 0.01448723 - Val loss: 0.01320895\n",
      "INFO: Val_Loss improved (0.01364034 --> 0.01320895). Saving model ...\n"
     ]
    },
    {
     "name": "stderr",
     "output_type": "stream",
     "text": [
      "100%|██████████| 30/30 [00:14<00:00,  2.08it/s]\n",
      "100%|██████████| 8/8 [00:00<00:00, 15.07it/s]\n"
     ]
    },
    {
     "name": "stdout",
     "output_type": "stream",
     "text": [
      "Epoch 22/1000 - Train loss: 0.01408443 - Val loss: 0.01307917\n",
      "INFO: Val_Loss improved (0.01320895 --> 0.01307917). Saving model ...\n"
     ]
    },
    {
     "name": "stderr",
     "output_type": "stream",
     "text": [
      "100%|██████████| 30/30 [00:14<00:00,  2.05it/s]\n",
      "100%|██████████| 8/8 [00:00<00:00, 15.12it/s]\n"
     ]
    },
    {
     "name": "stdout",
     "output_type": "stream",
     "text": [
      "Epoch 23/1000 - Train loss: 0.01417712 - Val loss: 0.01315840\n",
      "INFO: Early stopping counter                     1 of 20                         [Best Val Loss: 0.01307917,                             Val Loss: 0.01315840]\n"
     ]
    },
    {
     "name": "stderr",
     "output_type": "stream",
     "text": [
      "100%|██████████| 30/30 [00:14<00:00,  2.05it/s]\n",
      "100%|██████████| 8/8 [00:00<00:00, 15.07it/s]\n"
     ]
    },
    {
     "name": "stdout",
     "output_type": "stream",
     "text": [
      "Epoch 24/1000 - Train loss: 0.01374987 - Val loss: 0.01357075\n",
      "INFO: Early stopping counter                     2 of 20                         [Best Val Loss: 0.01307917,                             Val Loss: 0.01357075]\n"
     ]
    },
    {
     "name": "stderr",
     "output_type": "stream",
     "text": [
      "100%|██████████| 30/30 [00:14<00:00,  2.06it/s]\n",
      "100%|██████████| 8/8 [00:00<00:00, 15.18it/s]\n"
     ]
    },
    {
     "name": "stdout",
     "output_type": "stream",
     "text": [
      "Epoch 25/1000 - Train loss: 0.01382210 - Val loss: 0.01278199\n",
      "INFO: Val_Loss improved (0.01307917 --> 0.01278199). Saving model ...\n"
     ]
    },
    {
     "name": "stderr",
     "output_type": "stream",
     "text": [
      "100%|██████████| 30/30 [00:14<00:00,  2.05it/s]\n",
      "100%|██████████| 8/8 [00:00<00:00, 14.82it/s]\n"
     ]
    },
    {
     "name": "stdout",
     "output_type": "stream",
     "text": [
      "Epoch 26/1000 - Train loss: 0.01328331 - Val loss: 0.01363062\n",
      "INFO: Early stopping counter                     1 of 20                         [Best Val Loss: 0.01278199,                             Val Loss: 0.01363062]\n"
     ]
    },
    {
     "name": "stderr",
     "output_type": "stream",
     "text": [
      "100%|██████████| 30/30 [00:14<00:00,  2.04it/s]\n",
      "100%|██████████| 8/8 [00:00<00:00, 13.02it/s]\n"
     ]
    },
    {
     "name": "stdout",
     "output_type": "stream",
     "text": [
      "Epoch 27/1000 - Train loss: 0.01309800 - Val loss: 0.01254932\n",
      "INFO: Val_Loss improved (0.01278199 --> 0.01254932). Saving model ...\n"
     ]
    },
    {
     "name": "stderr",
     "output_type": "stream",
     "text": [
      "100%|██████████| 30/30 [00:14<00:00,  2.07it/s]\n",
      "100%|██████████| 8/8 [00:00<00:00, 14.67it/s]\n"
     ]
    },
    {
     "name": "stdout",
     "output_type": "stream",
     "text": [
      "Epoch 28/1000 - Train loss: 0.01313648 - Val loss: 0.01185074\n",
      "INFO: Val_Loss improved (0.01254932 --> 0.01185074). Saving model ...\n"
     ]
    },
    {
     "name": "stderr",
     "output_type": "stream",
     "text": [
      "100%|██████████| 30/30 [00:14<00:00,  2.04it/s]\n",
      "100%|██████████| 8/8 [00:00<00:00, 15.16it/s]\n"
     ]
    },
    {
     "name": "stdout",
     "output_type": "stream",
     "text": [
      "Epoch 29/1000 - Train loss: 0.01284352 - Val loss: 0.01273465\n",
      "INFO: Early stopping counter                     1 of 20                         [Best Val Loss: 0.01185074,                             Val Loss: 0.01273465]\n"
     ]
    },
    {
     "name": "stderr",
     "output_type": "stream",
     "text": [
      "100%|██████████| 30/30 [00:14<00:00,  2.04it/s]\n",
      "100%|██████████| 8/8 [00:00<00:00, 14.74it/s]\n"
     ]
    },
    {
     "name": "stdout",
     "output_type": "stream",
     "text": [
      "Epoch 30/1000 - Train loss: 0.01283666 - Val loss: 0.01191444\n",
      "INFO: Early stopping counter                     2 of 20                         [Best Val Loss: 0.01185074,                             Val Loss: 0.01191444]\n"
     ]
    },
    {
     "name": "stderr",
     "output_type": "stream",
     "text": [
      "100%|██████████| 30/30 [00:14<00:00,  2.08it/s]\n",
      "100%|██████████| 8/8 [00:00<00:00, 15.16it/s]\n"
     ]
    },
    {
     "name": "stdout",
     "output_type": "stream",
     "text": [
      "Epoch 31/1000 - Train loss: 0.01240972 - Val loss: 0.01151623\n",
      "INFO: Val_Loss improved (0.01185074 --> 0.01151623). Saving model ...\n"
     ]
    },
    {
     "name": "stderr",
     "output_type": "stream",
     "text": [
      "100%|██████████| 30/30 [00:14<00:00,  2.05it/s]\n",
      "100%|██████████| 8/8 [00:00<00:00, 15.17it/s]\n"
     ]
    },
    {
     "name": "stdout",
     "output_type": "stream",
     "text": [
      "Epoch 32/1000 - Train loss: 0.01237445 - Val loss: 0.01144978\n",
      "INFO: Val_Loss improved (0.01151623 --> 0.01144978). Saving model ...\n"
     ]
    },
    {
     "name": "stderr",
     "output_type": "stream",
     "text": [
      "100%|██████████| 30/30 [00:14<00:00,  2.08it/s]\n",
      "100%|██████████| 8/8 [00:00<00:00, 11.43it/s]\n"
     ]
    },
    {
     "name": "stdout",
     "output_type": "stream",
     "text": [
      "Epoch 33/1000 - Train loss: 0.01221325 - Val loss: 0.01126695\n",
      "INFO: Val_Loss improved (0.01144978 --> 0.01126695). Saving model ...\n"
     ]
    },
    {
     "name": "stderr",
     "output_type": "stream",
     "text": [
      "100%|██████████| 30/30 [00:14<00:00,  2.06it/s]\n",
      "100%|██████████| 8/8 [00:00<00:00, 14.71it/s]\n"
     ]
    },
    {
     "name": "stdout",
     "output_type": "stream",
     "text": [
      "Epoch 34/1000 - Train loss: 0.01202571 - Val loss: 0.01173629\n",
      "INFO: Early stopping counter                     1 of 20                         [Best Val Loss: 0.01126695,                             Val Loss: 0.01173629]\n"
     ]
    },
    {
     "name": "stderr",
     "output_type": "stream",
     "text": [
      "100%|██████████| 30/30 [00:14<00:00,  2.03it/s]\n",
      "100%|██████████| 8/8 [00:00<00:00, 14.81it/s]\n"
     ]
    },
    {
     "name": "stdout",
     "output_type": "stream",
     "text": [
      "Epoch 35/1000 - Train loss: 0.01226049 - Val loss: 0.01173733\n",
      "INFO: Early stopping counter                     2 of 20                         [Best Val Loss: 0.01126695,                             Val Loss: 0.01173733]\n"
     ]
    },
    {
     "name": "stderr",
     "output_type": "stream",
     "text": [
      "100%|██████████| 30/30 [00:14<00:00,  2.04it/s]\n",
      "100%|██████████| 8/8 [00:00<00:00, 11.94it/s]\n"
     ]
    },
    {
     "name": "stdout",
     "output_type": "stream",
     "text": [
      "Epoch 36/1000 - Train loss: 0.01216949 - Val loss: 0.01171309\n",
      "INFO: Early stopping counter                     3 of 20                         [Best Val Loss: 0.01126695,                             Val Loss: 0.01171309]\n"
     ]
    },
    {
     "name": "stderr",
     "output_type": "stream",
     "text": [
      "100%|██████████| 30/30 [00:14<00:00,  2.07it/s]\n",
      "100%|██████████| 8/8 [00:00<00:00, 15.14it/s]\n"
     ]
    },
    {
     "name": "stdout",
     "output_type": "stream",
     "text": [
      "Epoch 37/1000 - Train loss: 0.01187495 - Val loss: 0.01150904\n",
      "INFO: Early stopping counter                     4 of 20                         [Best Val Loss: 0.01126695,                             Val Loss: 0.01150904]\n"
     ]
    },
    {
     "name": "stderr",
     "output_type": "stream",
     "text": [
      "100%|██████████| 30/30 [00:14<00:00,  2.06it/s]\n",
      "100%|██████████| 8/8 [00:00<00:00, 15.01it/s]\n"
     ]
    },
    {
     "name": "stdout",
     "output_type": "stream",
     "text": [
      "Epoch 38/1000 - Train loss: 0.01159003 - Val loss: 0.01118320\n",
      "INFO: Val_Loss improved (0.01126695 --> 0.01118320). Saving model ...\n"
     ]
    },
    {
     "name": "stderr",
     "output_type": "stream",
     "text": [
      "100%|██████████| 30/30 [00:14<00:00,  2.08it/s]\n",
      "100%|██████████| 8/8 [00:00<00:00, 15.19it/s]\n"
     ]
    },
    {
     "name": "stdout",
     "output_type": "stream",
     "text": [
      "Epoch 39/1000 - Train loss: 0.01154289 - Val loss: 0.01159309\n",
      "INFO: Early stopping counter                     1 of 20                         [Best Val Loss: 0.01118320,                             Val Loss: 0.01159309]\n"
     ]
    },
    {
     "name": "stderr",
     "output_type": "stream",
     "text": [
      "100%|██████████| 30/30 [00:14<00:00,  2.06it/s]\n",
      "100%|██████████| 8/8 [00:00<00:00, 15.05it/s]\n"
     ]
    },
    {
     "name": "stdout",
     "output_type": "stream",
     "text": [
      "Epoch 40/1000 - Train loss: 0.01180986 - Val loss: 0.01124836\n",
      "INFO: Early stopping counter                     2 of 20                         [Best Val Loss: 0.01118320,                             Val Loss: 0.01124836]\n"
     ]
    },
    {
     "name": "stderr",
     "output_type": "stream",
     "text": [
      "100%|██████████| 30/30 [00:14<00:00,  2.07it/s]\n",
      "100%|██████████| 8/8 [00:00<00:00, 14.89it/s]\n"
     ]
    },
    {
     "name": "stdout",
     "output_type": "stream",
     "text": [
      "Epoch 41/1000 - Train loss: 0.01144714 - Val loss: 0.01101789\n",
      "INFO: Val_Loss improved (0.01118320 --> 0.01101789). Saving model ...\n"
     ]
    },
    {
     "name": "stderr",
     "output_type": "stream",
     "text": [
      "100%|██████████| 30/30 [00:14<00:00,  2.05it/s]\n",
      "100%|██████████| 8/8 [00:00<00:00, 15.20it/s]\n"
     ]
    },
    {
     "name": "stdout",
     "output_type": "stream",
     "text": [
      "Epoch 42/1000 - Train loss: 0.01138962 - Val loss: 0.01070085\n",
      "INFO: Val_Loss improved (0.01101789 --> 0.01070085). Saving model ...\n"
     ]
    },
    {
     "name": "stderr",
     "output_type": "stream",
     "text": [
      "100%|██████████| 30/30 [00:14<00:00,  2.04it/s]\n",
      "100%|██████████| 8/8 [00:00<00:00, 14.86it/s]\n"
     ]
    },
    {
     "name": "stdout",
     "output_type": "stream",
     "text": [
      "Epoch 43/1000 - Train loss: 0.01122832 - Val loss: 0.01081460\n",
      "INFO: Early stopping counter                     1 of 20                         [Best Val Loss: 0.01070085,                             Val Loss: 0.01081460]\n"
     ]
    },
    {
     "name": "stderr",
     "output_type": "stream",
     "text": [
      "100%|██████████| 30/30 [00:14<00:00,  2.06it/s]\n",
      "100%|██████████| 8/8 [00:00<00:00, 14.80it/s]\n"
     ]
    },
    {
     "name": "stdout",
     "output_type": "stream",
     "text": [
      "Epoch 44/1000 - Train loss: 0.01134688 - Val loss: 0.01078831\n",
      "INFO: Early stopping counter                     2 of 20                         [Best Val Loss: 0.01070085,                             Val Loss: 0.01078831]\n"
     ]
    },
    {
     "name": "stderr",
     "output_type": "stream",
     "text": [
      "100%|██████████| 30/30 [00:14<00:00,  2.04it/s]\n",
      "100%|██████████| 8/8 [00:00<00:00, 14.72it/s]\n"
     ]
    },
    {
     "name": "stdout",
     "output_type": "stream",
     "text": [
      "Epoch 45/1000 - Train loss: 0.01126763 - Val loss: 0.01073931\n",
      "INFO: Early stopping counter                     3 of 20                         [Best Val Loss: 0.01070085,                             Val Loss: 0.01073931]\n"
     ]
    },
    {
     "name": "stderr",
     "output_type": "stream",
     "text": [
      "100%|██████████| 30/30 [00:14<00:00,  2.06it/s]\n",
      "100%|██████████| 8/8 [00:00<00:00, 11.58it/s]\n"
     ]
    },
    {
     "name": "stdout",
     "output_type": "stream",
     "text": [
      "Epoch 46/1000 - Train loss: 0.01099794 - Val loss: 0.01052524\n",
      "INFO: Val_Loss improved (0.01070085 --> 0.01052524). Saving model ...\n"
     ]
    },
    {
     "name": "stderr",
     "output_type": "stream",
     "text": [
      "100%|██████████| 30/30 [00:14<00:00,  2.06it/s]\n",
      "100%|██████████| 8/8 [00:00<00:00, 14.79it/s]\n"
     ]
    },
    {
     "name": "stdout",
     "output_type": "stream",
     "text": [
      "Epoch 47/1000 - Train loss: 0.01091585 - Val loss: 0.01084511\n",
      "INFO: Early stopping counter                     1 of 20                         [Best Val Loss: 0.01052524,                             Val Loss: 0.01084511]\n"
     ]
    },
    {
     "name": "stderr",
     "output_type": "stream",
     "text": [
      "100%|██████████| 30/30 [00:14<00:00,  2.06it/s]\n",
      "100%|██████████| 8/8 [00:00<00:00, 14.28it/s]\n"
     ]
    },
    {
     "name": "stdout",
     "output_type": "stream",
     "text": [
      "Epoch 48/1000 - Train loss: 0.01087643 - Val loss: 0.01071133\n",
      "INFO: Early stopping counter                     2 of 20                         [Best Val Loss: 0.01052524,                             Val Loss: 0.01071133]\n"
     ]
    },
    {
     "name": "stderr",
     "output_type": "stream",
     "text": [
      "100%|██████████| 30/30 [00:14<00:00,  2.04it/s]\n",
      "100%|██████████| 8/8 [00:00<00:00, 15.00it/s]\n"
     ]
    },
    {
     "name": "stdout",
     "output_type": "stream",
     "text": [
      "Epoch 49/1000 - Train loss: 0.01087959 - Val loss: 0.01118732\n",
      "INFO: Early stopping counter                     3 of 20                         [Best Val Loss: 0.01052524,                             Val Loss: 0.01118732]\n"
     ]
    },
    {
     "name": "stderr",
     "output_type": "stream",
     "text": [
      "100%|██████████| 30/30 [00:14<00:00,  2.03it/s]\n",
      "100%|██████████| 8/8 [00:00<00:00, 14.78it/s]\n"
     ]
    },
    {
     "name": "stdout",
     "output_type": "stream",
     "text": [
      "Epoch 50/1000 - Train loss: 0.01087003 - Val loss: 0.01067984\n",
      "INFO: Early stopping counter                     4 of 20                         [Best Val Loss: 0.01052524,                             Val Loss: 0.01067984]\n"
     ]
    },
    {
     "name": "stderr",
     "output_type": "stream",
     "text": [
      "100%|██████████| 30/30 [00:14<00:00,  2.04it/s]\n",
      "100%|██████████| 8/8 [00:00<00:00, 14.89it/s]\n"
     ]
    },
    {
     "name": "stdout",
     "output_type": "stream",
     "text": [
      "Epoch 51/1000 - Train loss: 0.01087018 - Val loss: 0.01067530\n",
      "INFO: Early stopping counter                     5 of 20                         [Best Val Loss: 0.01052524,                             Val Loss: 0.01067530]\n"
     ]
    },
    {
     "name": "stderr",
     "output_type": "stream",
     "text": [
      "100%|██████████| 30/30 [00:14<00:00,  2.06it/s]\n",
      "100%|██████████| 8/8 [00:00<00:00, 14.80it/s]\n"
     ]
    },
    {
     "name": "stdout",
     "output_type": "stream",
     "text": [
      "Epoch 52/1000 - Train loss: 0.01075756 - Val loss: 0.01051296\n",
      "INFO: Val_Loss improved (0.01052524 --> 0.01051296). Saving model ...\n"
     ]
    },
    {
     "name": "stderr",
     "output_type": "stream",
     "text": [
      "100%|██████████| 30/30 [00:14<00:00,  2.03it/s]\n",
      "100%|██████████| 8/8 [00:00<00:00, 14.89it/s]\n"
     ]
    },
    {
     "name": "stdout",
     "output_type": "stream",
     "text": [
      "Epoch 53/1000 - Train loss: 0.01055805 - Val loss: 0.01061273\n",
      "INFO: Early stopping counter                     1 of 20                         [Best Val Loss: 0.01051296,                             Val Loss: 0.01061273]\n"
     ]
    },
    {
     "name": "stderr",
     "output_type": "stream",
     "text": [
      "100%|██████████| 30/30 [00:14<00:00,  2.08it/s]\n",
      "100%|██████████| 8/8 [00:00<00:00, 11.52it/s]\n"
     ]
    },
    {
     "name": "stdout",
     "output_type": "stream",
     "text": [
      "Epoch 54/1000 - Train loss: 0.01055324 - Val loss: 0.01046159\n",
      "INFO: Val_Loss improved (0.01051296 --> 0.01046159). Saving model ...\n"
     ]
    },
    {
     "name": "stderr",
     "output_type": "stream",
     "text": [
      "100%|██████████| 30/30 [00:14<00:00,  2.06it/s]\n",
      "100%|██████████| 8/8 [00:00<00:00, 15.15it/s]\n"
     ]
    },
    {
     "name": "stdout",
     "output_type": "stream",
     "text": [
      "Epoch 55/1000 - Train loss: 0.01065379 - Val loss: 0.01053972\n",
      "INFO: Early stopping counter                     1 of 20                         [Best Val Loss: 0.01046159,                             Val Loss: 0.01053972]\n"
     ]
    },
    {
     "name": "stderr",
     "output_type": "stream",
     "text": [
      "100%|██████████| 30/30 [00:14<00:00,  2.04it/s]\n",
      "100%|██████████| 8/8 [00:00<00:00, 14.86it/s]\n"
     ]
    },
    {
     "name": "stdout",
     "output_type": "stream",
     "text": [
      "Epoch 56/1000 - Train loss: 0.01060829 - Val loss: 0.01046817\n",
      "INFO: Early stopping counter                     2 of 20                         [Best Val Loss: 0.01046159,                             Val Loss: 0.01046817]\n"
     ]
    },
    {
     "name": "stderr",
     "output_type": "stream",
     "text": [
      "100%|██████████| 30/30 [00:14<00:00,  2.08it/s]\n",
      "100%|██████████| 8/8 [00:00<00:00, 14.70it/s]\n"
     ]
    },
    {
     "name": "stdout",
     "output_type": "stream",
     "text": [
      "Epoch 57/1000 - Train loss: 0.01055616 - Val loss: 0.01094156\n",
      "INFO: Early stopping counter                     3 of 20                         [Best Val Loss: 0.01046159,                             Val Loss: 0.01094156]\n"
     ]
    },
    {
     "name": "stderr",
     "output_type": "stream",
     "text": [
      "100%|██████████| 30/30 [00:14<00:00,  2.01it/s]\n",
      "100%|██████████| 8/8 [00:00<00:00, 14.44it/s]\n"
     ]
    },
    {
     "name": "stdout",
     "output_type": "stream",
     "text": [
      "Epoch 58/1000 - Train loss: 0.01062112 - Val loss: 0.01039732\n",
      "INFO: Val_Loss improved (0.01046159 --> 0.01039732). Saving model ...\n"
     ]
    },
    {
     "name": "stderr",
     "output_type": "stream",
     "text": [
      "100%|██████████| 30/30 [00:14<00:00,  2.05it/s]\n",
      "100%|██████████| 8/8 [00:00<00:00, 15.04it/s]\n"
     ]
    },
    {
     "name": "stdout",
     "output_type": "stream",
     "text": [
      "Epoch 59/1000 - Train loss: 0.01041449 - Val loss: 0.01037637\n",
      "INFO: Val_Loss improved (0.01039732 --> 0.01037637). Saving model ...\n"
     ]
    },
    {
     "name": "stderr",
     "output_type": "stream",
     "text": [
      "100%|██████████| 30/30 [00:14<00:00,  2.05it/s]\n",
      "100%|██████████| 8/8 [00:00<00:00, 14.59it/s]\n"
     ]
    },
    {
     "name": "stdout",
     "output_type": "stream",
     "text": [
      "Epoch 60/1000 - Train loss: 0.01037190 - Val loss: 0.01039623\n",
      "INFO: Early stopping counter                     1 of 20                         [Best Val Loss: 0.01037637,                             Val Loss: 0.01039623]\n"
     ]
    },
    {
     "name": "stderr",
     "output_type": "stream",
     "text": [
      "100%|██████████| 30/30 [00:14<00:00,  2.05it/s]\n",
      "100%|██████████| 8/8 [00:00<00:00, 14.87it/s]\n"
     ]
    },
    {
     "name": "stdout",
     "output_type": "stream",
     "text": [
      "Epoch 61/1000 - Train loss: 0.01044462 - Val loss: 0.01073627\n",
      "INFO: Early stopping counter                     2 of 20                         [Best Val Loss: 0.01037637,                             Val Loss: 0.01073627]\n"
     ]
    },
    {
     "name": "stderr",
     "output_type": "stream",
     "text": [
      "100%|██████████| 30/30 [00:14<00:00,  2.07it/s]\n",
      "100%|██████████| 8/8 [00:00<00:00, 12.35it/s]\n"
     ]
    },
    {
     "name": "stdout",
     "output_type": "stream",
     "text": [
      "Epoch 62/1000 - Train loss: 0.01018149 - Val loss: 0.01039113\n",
      "INFO: Early stopping counter                     3 of 20                         [Best Val Loss: 0.01037637,                             Val Loss: 0.01039113]\n"
     ]
    },
    {
     "name": "stderr",
     "output_type": "stream",
     "text": [
      "100%|██████████| 30/30 [00:14<00:00,  2.06it/s]\n",
      "100%|██████████| 8/8 [00:00<00:00, 14.87it/s]\n"
     ]
    },
    {
     "name": "stdout",
     "output_type": "stream",
     "text": [
      "Epoch 63/1000 - Train loss: 0.01021082 - Val loss: 0.01021087\n",
      "INFO: Val_Loss improved (0.01037637 --> 0.01021087). Saving model ...\n"
     ]
    },
    {
     "name": "stderr",
     "output_type": "stream",
     "text": [
      "100%|██████████| 30/30 [00:14<00:00,  2.04it/s]\n",
      "100%|██████████| 8/8 [00:00<00:00, 14.88it/s]\n"
     ]
    },
    {
     "name": "stdout",
     "output_type": "stream",
     "text": [
      "Epoch 64/1000 - Train loss: 0.01037503 - Val loss: 0.01026311\n",
      "INFO: Early stopping counter                     1 of 20                         [Best Val Loss: 0.01021087,                             Val Loss: 0.01026311]\n"
     ]
    },
    {
     "name": "stderr",
     "output_type": "stream",
     "text": [
      "100%|██████████| 30/30 [00:14<00:00,  2.06it/s]\n",
      "100%|██████████| 8/8 [00:00<00:00, 11.83it/s]\n"
     ]
    },
    {
     "name": "stdout",
     "output_type": "stream",
     "text": [
      "Epoch 65/1000 - Train loss: 0.01032077 - Val loss: 0.01028056\n",
      "INFO: Early stopping counter                     2 of 20                         [Best Val Loss: 0.01021087,                             Val Loss: 0.01028056]\n"
     ]
    },
    {
     "name": "stderr",
     "output_type": "stream",
     "text": [
      "100%|██████████| 30/30 [00:14<00:00,  2.07it/s]\n",
      "100%|██████████| 8/8 [00:00<00:00, 15.12it/s]\n"
     ]
    },
    {
     "name": "stdout",
     "output_type": "stream",
     "text": [
      "Epoch 66/1000 - Train loss: 0.01021410 - Val loss: 0.01017674\n",
      "INFO: Val_Loss improved (0.01021087 --> 0.01017674). Saving model ...\n"
     ]
    },
    {
     "name": "stderr",
     "output_type": "stream",
     "text": [
      "100%|██████████| 30/30 [00:14<00:00,  2.07it/s]\n",
      "100%|██████████| 8/8 [00:00<00:00, 14.83it/s]\n"
     ]
    },
    {
     "name": "stdout",
     "output_type": "stream",
     "text": [
      "Epoch 67/1000 - Train loss: 0.01008175 - Val loss: 0.01016441\n",
      "INFO: Val_Loss improved (0.01017674 --> 0.01016441). Saving model ...\n"
     ]
    },
    {
     "name": "stderr",
     "output_type": "stream",
     "text": [
      "100%|██████████| 30/30 [00:14<00:00,  2.09it/s]\n",
      "100%|██████████| 8/8 [00:00<00:00, 14.82it/s]\n"
     ]
    },
    {
     "name": "stdout",
     "output_type": "stream",
     "text": [
      "Epoch 68/1000 - Train loss: 0.01004059 - Val loss: 0.01012874\n",
      "INFO: Val_Loss improved (0.01016441 --> 0.01012874). Saving model ...\n"
     ]
    },
    {
     "name": "stderr",
     "output_type": "stream",
     "text": [
      "100%|██████████| 30/30 [00:14<00:00,  2.09it/s]\n",
      "100%|██████████| 8/8 [00:00<00:00, 14.86it/s]\n"
     ]
    },
    {
     "name": "stdout",
     "output_type": "stream",
     "text": [
      "Epoch 69/1000 - Train loss: 0.01014923 - Val loss: 0.01023215\n",
      "INFO: Early stopping counter                     1 of 20                         [Best Val Loss: 0.01012874,                             Val Loss: 0.01023215]\n"
     ]
    },
    {
     "name": "stderr",
     "output_type": "stream",
     "text": [
      "100%|██████████| 30/30 [00:14<00:00,  2.10it/s]\n",
      "100%|██████████| 8/8 [00:00<00:00, 12.83it/s]\n"
     ]
    },
    {
     "name": "stdout",
     "output_type": "stream",
     "text": [
      "Epoch 70/1000 - Train loss: 0.01018373 - Val loss: 0.01011526\n",
      "INFO: Val_Loss improved (0.01012874 --> 0.01011526). Saving model ...\n"
     ]
    },
    {
     "name": "stderr",
     "output_type": "stream",
     "text": [
      "100%|██████████| 30/30 [00:14<00:00,  2.06it/s]\n",
      "100%|██████████| 8/8 [00:00<00:00, 15.11it/s]\n"
     ]
    },
    {
     "name": "stdout",
     "output_type": "stream",
     "text": [
      "Epoch 71/1000 - Train loss: 0.00996894 - Val loss: 0.01010693\n",
      "INFO: Val_Loss improved (0.01011526 --> 0.01010693). Saving model ...\n"
     ]
    },
    {
     "name": "stderr",
     "output_type": "stream",
     "text": [
      "100%|██████████| 30/30 [00:14<00:00,  2.05it/s]\n",
      "100%|██████████| 8/8 [00:00<00:00, 15.14it/s]\n"
     ]
    },
    {
     "name": "stdout",
     "output_type": "stream",
     "text": [
      "Epoch 72/1000 - Train loss: 0.00993563 - Val loss: 0.01030059\n",
      "INFO: Early stopping counter                     1 of 20                         [Best Val Loss: 0.01010693,                             Val Loss: 0.01030059]\n"
     ]
    },
    {
     "name": "stderr",
     "output_type": "stream",
     "text": [
      "100%|██████████| 30/30 [00:14<00:00,  2.05it/s]\n",
      "100%|██████████| 8/8 [00:00<00:00, 11.53it/s]\n"
     ]
    },
    {
     "name": "stdout",
     "output_type": "stream",
     "text": [
      "Epoch 73/1000 - Train loss: 0.01014246 - Val loss: 0.01027180\n",
      "INFO: Early stopping counter                     2 of 20                         [Best Val Loss: 0.01010693,                             Val Loss: 0.01027180]\n"
     ]
    },
    {
     "name": "stderr",
     "output_type": "stream",
     "text": [
      "100%|██████████| 30/30 [00:14<00:00,  2.03it/s]\n",
      "100%|██████████| 8/8 [00:00<00:00, 15.12it/s]\n"
     ]
    },
    {
     "name": "stdout",
     "output_type": "stream",
     "text": [
      "Epoch 74/1000 - Train loss: 0.01009416 - Val loss: 0.01022595\n",
      "INFO: Early stopping counter                     3 of 20                         [Best Val Loss: 0.01010693,                             Val Loss: 0.01022595]\n"
     ]
    },
    {
     "name": "stderr",
     "output_type": "stream",
     "text": [
      "100%|██████████| 30/30 [00:14<00:00,  2.03it/s]\n",
      "100%|██████████| 8/8 [00:00<00:00, 14.89it/s]\n"
     ]
    },
    {
     "name": "stdout",
     "output_type": "stream",
     "text": [
      "Epoch 75/1000 - Train loss: 0.00987914 - Val loss: 0.01031398\n",
      "INFO: Early stopping counter                     4 of 20                         [Best Val Loss: 0.01010693,                             Val Loss: 0.01031398]\n"
     ]
    },
    {
     "name": "stderr",
     "output_type": "stream",
     "text": [
      "100%|██████████| 30/30 [00:14<00:00,  2.05it/s]\n",
      "100%|██████████| 8/8 [00:00<00:00, 11.12it/s]\n"
     ]
    },
    {
     "name": "stdout",
     "output_type": "stream",
     "text": [
      "Epoch 76/1000 - Train loss: 0.00990222 - Val loss: 0.01020577\n",
      "INFO: Early stopping counter                     5 of 20                         [Best Val Loss: 0.01010693,                             Val Loss: 0.01020577]\n"
     ]
    },
    {
     "name": "stderr",
     "output_type": "stream",
     "text": [
      "100%|██████████| 30/30 [00:14<00:00,  2.04it/s]\n",
      "100%|██████████| 8/8 [00:00<00:00, 15.11it/s]\n"
     ]
    },
    {
     "name": "stdout",
     "output_type": "stream",
     "text": [
      "Epoch 77/1000 - Train loss: 0.00980769 - Val loss: 0.01022438\n",
      "INFO: Early stopping counter                     6 of 20                         [Best Val Loss: 0.01010693,                             Val Loss: 0.01022438]\n"
     ]
    },
    {
     "name": "stderr",
     "output_type": "stream",
     "text": [
      "100%|██████████| 30/30 [00:14<00:00,  2.06it/s]\n",
      "100%|██████████| 8/8 [00:00<00:00, 14.85it/s]\n"
     ]
    },
    {
     "name": "stdout",
     "output_type": "stream",
     "text": [
      "Epoch 78/1000 - Train loss: 0.00987293 - Val loss: 0.01018776\n",
      "INFO: Early stopping counter                     7 of 20                         [Best Val Loss: 0.01010693,                             Val Loss: 0.01018776]\n"
     ]
    },
    {
     "name": "stderr",
     "output_type": "stream",
     "text": [
      "100%|██████████| 30/30 [00:14<00:00,  2.07it/s]\n",
      "100%|██████████| 8/8 [00:00<00:00, 14.90it/s]\n"
     ]
    },
    {
     "name": "stdout",
     "output_type": "stream",
     "text": [
      "Epoch 79/1000 - Train loss: 0.00991806 - Val loss: 0.01011349\n",
      "INFO: Early stopping counter                     8 of 20                         [Best Val Loss: 0.01010693,                             Val Loss: 0.01011349]\n"
     ]
    },
    {
     "name": "stderr",
     "output_type": "stream",
     "text": [
      "100%|██████████| 30/30 [00:14<00:00,  2.06it/s]\n",
      "100%|██████████| 8/8 [00:00<00:00, 14.79it/s]\n"
     ]
    },
    {
     "name": "stdout",
     "output_type": "stream",
     "text": [
      "Epoch 80/1000 - Train loss: 0.00996851 - Val loss: 0.01016685\n",
      "INFO: Early stopping counter                     9 of 20                         [Best Val Loss: 0.01010693,                             Val Loss: 0.01016685]\n"
     ]
    },
    {
     "name": "stderr",
     "output_type": "stream",
     "text": [
      "100%|██████████| 30/30 [00:14<00:00,  2.04it/s]\n",
      "100%|██████████| 8/8 [00:00<00:00, 11.91it/s]\n"
     ]
    },
    {
     "name": "stdout",
     "output_type": "stream",
     "text": [
      "Epoch 81/1000 - Train loss: 0.00977897 - Val loss: 0.01013217\n",
      "INFO: Early stopping counter                     10 of 20                         [Best Val Loss: 0.01010693,                             Val Loss: 0.01013217]\n"
     ]
    },
    {
     "name": "stderr",
     "output_type": "stream",
     "text": [
      "100%|██████████| 30/30 [00:14<00:00,  2.09it/s]\n",
      "100%|██████████| 8/8 [00:00<00:00, 15.00it/s]\n"
     ]
    },
    {
     "name": "stdout",
     "output_type": "stream",
     "text": [
      "Epoch 82/1000 - Train loss: 0.00975014 - Val loss: 0.01028129\n",
      "INFO: Early stopping counter                     11 of 20                         [Best Val Loss: 0.01010693,                             Val Loss: 0.01028129]\n",
      "Epoch 00082: reducing learning rate of group 0 to 1.0000e-05.\n"
     ]
    },
    {
     "name": "stderr",
     "output_type": "stream",
     "text": [
      "100%|██████████| 30/30 [00:14<00:00,  2.04it/s]\n",
      "100%|██████████| 8/8 [00:00<00:00, 15.11it/s]\n"
     ]
    },
    {
     "name": "stdout",
     "output_type": "stream",
     "text": [
      "Epoch 83/1000 - Train loss: 0.00949251 - Val loss: 0.00985738\n",
      "INFO: Val_Loss improved (0.01010693 --> 0.00985738). Saving model ...\n"
     ]
    },
    {
     "name": "stderr",
     "output_type": "stream",
     "text": [
      "100%|██████████| 30/30 [00:14<00:00,  2.08it/s]\n",
      "100%|██████████| 8/8 [00:00<00:00, 15.00it/s]\n"
     ]
    },
    {
     "name": "stdout",
     "output_type": "stream",
     "text": [
      "Epoch 84/1000 - Train loss: 0.00938011 - Val loss: 0.00983365\n",
      "INFO: Val_Loss improved (0.00985738 --> 0.00983365). Saving model ...\n"
     ]
    },
    {
     "name": "stderr",
     "output_type": "stream",
     "text": [
      "100%|██████████| 30/30 [00:14<00:00,  2.04it/s]\n",
      "100%|██████████| 8/8 [00:00<00:00, 14.63it/s]\n"
     ]
    },
    {
     "name": "stdout",
     "output_type": "stream",
     "text": [
      "Epoch 85/1000 - Train loss: 0.00940332 - Val loss: 0.00981839\n",
      "INFO: Val_Loss improved (0.00983365 --> 0.00981839). Saving model ...\n"
     ]
    },
    {
     "name": "stderr",
     "output_type": "stream",
     "text": [
      "100%|██████████| 30/30 [00:14<00:00,  2.05it/s]\n",
      "100%|██████████| 8/8 [00:00<00:00, 14.68it/s]\n"
     ]
    },
    {
     "name": "stdout",
     "output_type": "stream",
     "text": [
      "Epoch 86/1000 - Train loss: 0.00922132 - Val loss: 0.00983816\n",
      "INFO: Early stopping counter                     1 of 20                         [Best Val Loss: 0.00981839,                             Val Loss: 0.00983816]\n"
     ]
    },
    {
     "name": "stderr",
     "output_type": "stream",
     "text": [
      "100%|██████████| 30/30 [00:14<00:00,  2.07it/s]\n",
      "100%|██████████| 8/8 [00:00<00:00, 14.79it/s]\n"
     ]
    },
    {
     "name": "stdout",
     "output_type": "stream",
     "text": [
      "Epoch 87/1000 - Train loss: 0.00924544 - Val loss: 0.00985642\n",
      "INFO: Early stopping counter                     2 of 20                         [Best Val Loss: 0.00981839,                             Val Loss: 0.00985642]\n"
     ]
    },
    {
     "name": "stderr",
     "output_type": "stream",
     "text": [
      "100%|██████████| 30/30 [00:14<00:00,  2.05it/s]\n",
      "100%|██████████| 8/8 [00:00<00:00, 15.14it/s]\n"
     ]
    },
    {
     "name": "stdout",
     "output_type": "stream",
     "text": [
      "Epoch 88/1000 - Train loss: 0.00927064 - Val loss: 0.00982420\n",
      "INFO: Early stopping counter                     3 of 20                         [Best Val Loss: 0.00981839,                             Val Loss: 0.00982420]\n"
     ]
    },
    {
     "name": "stderr",
     "output_type": "stream",
     "text": [
      "100%|██████████| 30/30 [00:14<00:00,  2.06it/s]\n",
      "100%|██████████| 8/8 [00:00<00:00, 10.92it/s]\n"
     ]
    },
    {
     "name": "stdout",
     "output_type": "stream",
     "text": [
      "Epoch 89/1000 - Train loss: 0.00933471 - Val loss: 0.00980317\n",
      "INFO: Val_Loss improved (0.00981839 --> 0.00980317). Saving model ...\n"
     ]
    },
    {
     "name": "stderr",
     "output_type": "stream",
     "text": [
      "100%|██████████| 30/30 [00:14<00:00,  2.07it/s]\n",
      "100%|██████████| 8/8 [00:00<00:00, 15.17it/s]\n"
     ]
    },
    {
     "name": "stdout",
     "output_type": "stream",
     "text": [
      "Epoch 90/1000 - Train loss: 0.00911487 - Val loss: 0.00981695\n",
      "INFO: Early stopping counter                     1 of 20                         [Best Val Loss: 0.00980317,                             Val Loss: 0.00981695]\n"
     ]
    },
    {
     "name": "stderr",
     "output_type": "stream",
     "text": [
      "100%|██████████| 30/30 [00:14<00:00,  2.05it/s]\n",
      "100%|██████████| 8/8 [00:00<00:00, 15.16it/s]\n"
     ]
    },
    {
     "name": "stdout",
     "output_type": "stream",
     "text": [
      "Epoch 91/1000 - Train loss: 0.00932538 - Val loss: 0.00980277\n",
      "INFO: Val_Loss improved (0.00980317 --> 0.00980277). Saving model ...\n"
     ]
    },
    {
     "name": "stderr",
     "output_type": "stream",
     "text": [
      "100%|██████████| 30/30 [00:14<00:00,  2.11it/s]\n",
      "100%|██████████| 8/8 [00:00<00:00, 14.76it/s]\n"
     ]
    },
    {
     "name": "stdout",
     "output_type": "stream",
     "text": [
      "Epoch 92/1000 - Train loss: 0.00927360 - Val loss: 0.00981150\n",
      "INFO: Early stopping counter                     1 of 20                         [Best Val Loss: 0.00980277,                             Val Loss: 0.00981150]\n"
     ]
    },
    {
     "name": "stderr",
     "output_type": "stream",
     "text": [
      "100%|██████████| 30/30 [00:14<00:00,  2.05it/s]\n",
      "100%|██████████| 8/8 [00:00<00:00, 14.58it/s]\n"
     ]
    },
    {
     "name": "stdout",
     "output_type": "stream",
     "text": [
      "Epoch 93/1000 - Train loss: 0.00924085 - Val loss: 0.00978998\n",
      "INFO: Val_Loss improved (0.00980277 --> 0.00978998). Saving model ...\n"
     ]
    },
    {
     "name": "stderr",
     "output_type": "stream",
     "text": [
      "100%|██████████| 30/30 [00:14<00:00,  2.04it/s]\n",
      "100%|██████████| 8/8 [00:00<00:00, 15.15it/s]\n"
     ]
    },
    {
     "name": "stdout",
     "output_type": "stream",
     "text": [
      "Epoch 94/1000 - Train loss: 0.00904858 - Val loss: 0.00980902\n",
      "INFO: Early stopping counter                     1 of 20                         [Best Val Loss: 0.00978998,                             Val Loss: 0.00980902]\n"
     ]
    },
    {
     "name": "stderr",
     "output_type": "stream",
     "text": [
      "100%|██████████| 30/30 [00:14<00:00,  2.05it/s]\n",
      "100%|██████████| 8/8 [00:00<00:00, 15.05it/s]\n"
     ]
    },
    {
     "name": "stdout",
     "output_type": "stream",
     "text": [
      "Epoch 95/1000 - Train loss: 0.00901913 - Val loss: 0.00984321\n",
      "INFO: Early stopping counter                     2 of 20                         [Best Val Loss: 0.00978998,                             Val Loss: 0.00984321]\n"
     ]
    },
    {
     "name": "stderr",
     "output_type": "stream",
     "text": [
      "100%|██████████| 30/30 [00:14<00:00,  2.09it/s]\n",
      "100%|██████████| 8/8 [00:00<00:00, 15.10it/s]\n"
     ]
    },
    {
     "name": "stdout",
     "output_type": "stream",
     "text": [
      "Epoch 96/1000 - Train loss: 0.00919902 - Val loss: 0.00983568\n",
      "INFO: Early stopping counter                     3 of 20                         [Best Val Loss: 0.00978998,                             Val Loss: 0.00983568]\n"
     ]
    },
    {
     "name": "stderr",
     "output_type": "stream",
     "text": [
      "100%|██████████| 30/30 [00:14<00:00,  2.05it/s]\n",
      "100%|██████████| 8/8 [00:00<00:00, 14.88it/s]\n"
     ]
    },
    {
     "name": "stdout",
     "output_type": "stream",
     "text": [
      "Epoch 97/1000 - Train loss: 0.00925518 - Val loss: 0.00982571\n",
      "INFO: Early stopping counter                     4 of 20                         [Best Val Loss: 0.00978998,                             Val Loss: 0.00982571]\n"
     ]
    },
    {
     "name": "stderr",
     "output_type": "stream",
     "text": [
      "100%|██████████| 30/30 [00:14<00:00,  2.03it/s]\n",
      "100%|██████████| 8/8 [00:00<00:00, 14.74it/s]\n"
     ]
    },
    {
     "name": "stdout",
     "output_type": "stream",
     "text": [
      "Epoch 98/1000 - Train loss: 0.00906396 - Val loss: 0.00984604\n",
      "INFO: Early stopping counter                     5 of 20                         [Best Val Loss: 0.00978998,                             Val Loss: 0.00984604]\n"
     ]
    },
    {
     "name": "stderr",
     "output_type": "stream",
     "text": [
      "100%|██████████| 30/30 [00:14<00:00,  2.03it/s]\n",
      "100%|██████████| 8/8 [00:00<00:00, 14.89it/s]\n"
     ]
    },
    {
     "name": "stdout",
     "output_type": "stream",
     "text": [
      "Epoch 99/1000 - Train loss: 0.00920320 - Val loss: 0.00981750\n",
      "INFO: Early stopping counter                     6 of 20                         [Best Val Loss: 0.00978998,                             Val Loss: 0.00981750]\n"
     ]
    },
    {
     "name": "stderr",
     "output_type": "stream",
     "text": [
      "100%|██████████| 30/30 [00:14<00:00,  2.04it/s]\n",
      "100%|██████████| 8/8 [00:00<00:00, 14.82it/s]\n"
     ]
    },
    {
     "name": "stdout",
     "output_type": "stream",
     "text": [
      "Epoch 100/1000 - Train loss: 0.00902839 - Val loss: 0.00981296\n",
      "INFO: Early stopping counter                     7 of 20                         [Best Val Loss: 0.00978998,                             Val Loss: 0.00981296]\n"
     ]
    },
    {
     "name": "stderr",
     "output_type": "stream",
     "text": [
      "100%|██████████| 30/30 [00:14<00:00,  2.06it/s]\n",
      "100%|██████████| 8/8 [00:00<00:00, 14.82it/s]\n"
     ]
    },
    {
     "name": "stdout",
     "output_type": "stream",
     "text": [
      "Epoch 101/1000 - Train loss: 0.00931925 - Val loss: 0.00978774\n",
      "INFO: Val_Loss improved (0.00978998 --> 0.00978774). Saving model ...\n"
     ]
    },
    {
     "name": "stderr",
     "output_type": "stream",
     "text": [
      "100%|██████████| 30/30 [00:14<00:00,  2.09it/s]\n",
      "100%|██████████| 8/8 [00:00<00:00, 11.74it/s]\n"
     ]
    },
    {
     "name": "stdout",
     "output_type": "stream",
     "text": [
      "Epoch 102/1000 - Train loss: 0.00907969 - Val loss: 0.00985042\n",
      "INFO: Early stopping counter                     1 of 20                         [Best Val Loss: 0.00978774,                             Val Loss: 0.00985042]\n"
     ]
    },
    {
     "name": "stderr",
     "output_type": "stream",
     "text": [
      "100%|██████████| 30/30 [00:14<00:00,  2.08it/s]\n",
      "100%|██████████| 8/8 [00:00<00:00, 14.73it/s]\n"
     ]
    },
    {
     "name": "stdout",
     "output_type": "stream",
     "text": [
      "Epoch 103/1000 - Train loss: 0.00910060 - Val loss: 0.00983125\n",
      "INFO: Early stopping counter                     2 of 20                         [Best Val Loss: 0.00978774,                             Val Loss: 0.00983125]\n"
     ]
    },
    {
     "name": "stderr",
     "output_type": "stream",
     "text": [
      "100%|██████████| 30/30 [00:14<00:00,  2.05it/s]\n",
      "100%|██████████| 8/8 [00:00<00:00, 15.06it/s]\n"
     ]
    },
    {
     "name": "stdout",
     "output_type": "stream",
     "text": [
      "Epoch 104/1000 - Train loss: 0.00925249 - Val loss: 0.00981529\n",
      "INFO: Early stopping counter                     3 of 20                         [Best Val Loss: 0.00978774,                             Val Loss: 0.00981529]\n"
     ]
    },
    {
     "name": "stderr",
     "output_type": "stream",
     "text": [
      "100%|██████████| 30/30 [00:14<00:00,  2.05it/s]\n",
      "100%|██████████| 8/8 [00:00<00:00, 14.89it/s]\n"
     ]
    },
    {
     "name": "stdout",
     "output_type": "stream",
     "text": [
      "Epoch 105/1000 - Train loss: 0.00917958 - Val loss: 0.00984119\n",
      "INFO: Early stopping counter                     4 of 20                         [Best Val Loss: 0.00978774,                             Val Loss: 0.00984119]\n"
     ]
    },
    {
     "name": "stderr",
     "output_type": "stream",
     "text": [
      "100%|██████████| 30/30 [00:14<00:00,  2.01it/s]\n",
      "100%|██████████| 8/8 [00:00<00:00, 14.58it/s]\n"
     ]
    },
    {
     "name": "stdout",
     "output_type": "stream",
     "text": [
      "Epoch 106/1000 - Train loss: 0.00904605 - Val loss: 0.00982259\n",
      "INFO: Early stopping counter                     5 of 20                         [Best Val Loss: 0.00978774,                             Val Loss: 0.00982259]\n"
     ]
    },
    {
     "name": "stderr",
     "output_type": "stream",
     "text": [
      "100%|██████████| 30/30 [00:14<00:00,  2.05it/s]\n",
      "100%|██████████| 8/8 [00:00<00:00, 11.91it/s]\n"
     ]
    },
    {
     "name": "stdout",
     "output_type": "stream",
     "text": [
      "Epoch 107/1000 - Train loss: 0.00909474 - Val loss: 0.00983578\n",
      "INFO: Early stopping counter                     6 of 20                         [Best Val Loss: 0.00978774,                             Val Loss: 0.00983578]\n"
     ]
    },
    {
     "name": "stderr",
     "output_type": "stream",
     "text": [
      "100%|██████████| 30/30 [00:14<00:00,  2.07it/s]\n",
      "100%|██████████| 8/8 [00:00<00:00, 14.97it/s]\n"
     ]
    },
    {
     "name": "stdout",
     "output_type": "stream",
     "text": [
      "Epoch 108/1000 - Train loss: 0.00902998 - Val loss: 0.00984329\n",
      "INFO: Early stopping counter                     7 of 20                         [Best Val Loss: 0.00978774,                             Val Loss: 0.00984329]\n"
     ]
    },
    {
     "name": "stderr",
     "output_type": "stream",
     "text": [
      "100%|██████████| 30/30 [00:14<00:00,  2.04it/s]\n",
      "100%|██████████| 8/8 [00:00<00:00, 15.01it/s]\n"
     ]
    },
    {
     "name": "stdout",
     "output_type": "stream",
     "text": [
      "Epoch 109/1000 - Train loss: 0.00898055 - Val loss: 0.00984011\n",
      "INFO: Early stopping counter                     8 of 20                         [Best Val Loss: 0.00978774,                             Val Loss: 0.00984011]\n"
     ]
    },
    {
     "name": "stderr",
     "output_type": "stream",
     "text": [
      "100%|██████████| 30/30 [00:14<00:00,  2.06it/s]\n",
      "100%|██████████| 8/8 [00:00<00:00, 14.88it/s]\n"
     ]
    },
    {
     "name": "stdout",
     "output_type": "stream",
     "text": [
      "Epoch 110/1000 - Train loss: 0.00895875 - Val loss: 0.00985817\n",
      "INFO: Early stopping counter                     9 of 20                         [Best Val Loss: 0.00978774,                             Val Loss: 0.00985817]\n"
     ]
    },
    {
     "name": "stderr",
     "output_type": "stream",
     "text": [
      "100%|██████████| 30/30 [00:14<00:00,  2.04it/s]\n",
      "100%|██████████| 8/8 [00:00<00:00, 15.17it/s]\n"
     ]
    },
    {
     "name": "stdout",
     "output_type": "stream",
     "text": [
      "Epoch 111/1000 - Train loss: 0.00907765 - Val loss: 0.00984268\n",
      "INFO: Early stopping counter                     10 of 20                         [Best Val Loss: 0.00978774,                             Val Loss: 0.00984268]\n"
     ]
    },
    {
     "name": "stderr",
     "output_type": "stream",
     "text": [
      "100%|██████████| 30/30 [00:14<00:00,  2.07it/s]\n",
      "100%|██████████| 8/8 [00:00<00:00, 12.55it/s]\n"
     ]
    },
    {
     "name": "stdout",
     "output_type": "stream",
     "text": [
      "Epoch 112/1000 - Train loss: 0.00907301 - Val loss: 0.00987383\n",
      "INFO: Early stopping counter                     11 of 20                         [Best Val Loss: 0.00978774,                             Val Loss: 0.00987383]\n",
      "Epoch 00112: reducing learning rate of group 0 to 1.0000e-06.\n"
     ]
    },
    {
     "name": "stderr",
     "output_type": "stream",
     "text": [
      "100%|██████████| 30/30 [00:14<00:00,  2.07it/s]\n",
      "100%|██████████| 8/8 [00:00<00:00, 14.81it/s]\n"
     ]
    },
    {
     "name": "stdout",
     "output_type": "stream",
     "text": [
      "Epoch 113/1000 - Train loss: 0.00904370 - Val loss: 0.00985202\n",
      "INFO: Early stopping counter                     12 of 20                         [Best Val Loss: 0.00978774,                             Val Loss: 0.00985202]\n"
     ]
    },
    {
     "name": "stderr",
     "output_type": "stream",
     "text": [
      "100%|██████████| 30/30 [00:14<00:00,  2.08it/s]\n",
      "100%|██████████| 8/8 [00:00<00:00, 14.08it/s]\n"
     ]
    },
    {
     "name": "stdout",
     "output_type": "stream",
     "text": [
      "Epoch 114/1000 - Train loss: 0.00906327 - Val loss: 0.00984335\n",
      "INFO: Early stopping counter                     13 of 20                         [Best Val Loss: 0.00978774,                             Val Loss: 0.00984335]\n"
     ]
    },
    {
     "name": "stderr",
     "output_type": "stream",
     "text": [
      "100%|██████████| 30/30 [00:14<00:00,  2.09it/s]\n",
      "100%|██████████| 8/8 [00:00<00:00, 14.64it/s]\n"
     ]
    },
    {
     "name": "stdout",
     "output_type": "stream",
     "text": [
      "Epoch 115/1000 - Train loss: 0.00902286 - Val loss: 0.00983205\n",
      "INFO: Early stopping counter                     14 of 20                         [Best Val Loss: 0.00978774,                             Val Loss: 0.00983205]\n"
     ]
    },
    {
     "name": "stderr",
     "output_type": "stream",
     "text": [
      "100%|██████████| 30/30 [00:14<00:00,  2.04it/s]\n",
      "100%|██████████| 8/8 [00:00<00:00, 15.07it/s]\n"
     ]
    },
    {
     "name": "stdout",
     "output_type": "stream",
     "text": [
      "Epoch 116/1000 - Train loss: 0.00887368 - Val loss: 0.00984072\n",
      "INFO: Early stopping counter                     15 of 20                         [Best Val Loss: 0.00978774,                             Val Loss: 0.00984072]\n"
     ]
    },
    {
     "name": "stderr",
     "output_type": "stream",
     "text": [
      "100%|██████████| 30/30 [00:14<00:00,  2.06it/s]\n",
      "100%|██████████| 8/8 [00:00<00:00, 15.15it/s]\n"
     ]
    },
    {
     "name": "stdout",
     "output_type": "stream",
     "text": [
      "Epoch 117/1000 - Train loss: 0.00893007 - Val loss: 0.00983728\n",
      "INFO: Early stopping counter                     16 of 20                         [Best Val Loss: 0.00978774,                             Val Loss: 0.00983728]\n"
     ]
    },
    {
     "name": "stderr",
     "output_type": "stream",
     "text": [
      "100%|██████████| 30/30 [00:14<00:00,  2.05it/s]\n",
      "100%|██████████| 8/8 [00:00<00:00, 15.12it/s]\n"
     ]
    },
    {
     "name": "stdout",
     "output_type": "stream",
     "text": [
      "Epoch 118/1000 - Train loss: 0.00899721 - Val loss: 0.00983874\n",
      "INFO: Early stopping counter                     17 of 20                         [Best Val Loss: 0.00978774,                             Val Loss: 0.00983874]\n"
     ]
    },
    {
     "name": "stderr",
     "output_type": "stream",
     "text": [
      "100%|██████████| 30/30 [00:14<00:00,  2.11it/s]\n",
      "100%|██████████| 8/8 [00:00<00:00, 11.48it/s]\n"
     ]
    },
    {
     "name": "stdout",
     "output_type": "stream",
     "text": [
      "Epoch 119/1000 - Train loss: 0.00886878 - Val loss: 0.00983945\n",
      "INFO: Early stopping counter                     18 of 20                         [Best Val Loss: 0.00978774,                             Val Loss: 0.00983945]\n"
     ]
    },
    {
     "name": "stderr",
     "output_type": "stream",
     "text": [
      "100%|██████████| 30/30 [00:14<00:00,  2.07it/s]\n",
      "100%|██████████| 8/8 [00:00<00:00, 15.05it/s]\n"
     ]
    },
    {
     "name": "stdout",
     "output_type": "stream",
     "text": [
      "Epoch 120/1000 - Train loss: 0.00896552 - Val loss: 0.00984456\n",
      "INFO: Early stopping counter                     19 of 20                         [Best Val Loss: 0.00978774,                             Val Loss: 0.00984456]\n"
     ]
    },
    {
     "name": "stderr",
     "output_type": "stream",
     "text": [
      "100%|██████████| 30/30 [00:14<00:00,  2.09it/s]\n",
      "100%|██████████| 8/8 [00:00<00:00, 13.23it/s]\n"
     ]
    },
    {
     "name": "stdout",
     "output_type": "stream",
     "text": [
      "Epoch 121/1000 - Train loss: 0.00898887 - Val loss: 0.00984438\n",
      "INFO: Early stopping counter                     20 of 20                         [Best Val Loss: 0.00978774,                             Val Loss: 0.00984438]\n",
      "INFO: Early stopping DONE!\n",
      "INFO: Best Val Loss: 0.00978774\n",
      "Loading best model...\n"
     ]
    }
   ],
   "source": [
    "from landmarker.pipeline import StaticHeatmapRegressionPipeline\n",
    "\n",
    "train_config = {\n",
    "    \"criterion\": \"cross_entropy\",\n",
    "    \"optimizer\": \"adam\",\n",
    "    \"lr\": lr,\n",
    "    \"batch_size\": batch_size,\n",
    "    \"epochs\": epochs,\n",
    "    \"lr_scheduler\": True,\n",
    "}\n",
    "\n",
    "\n",
    "staticHeatmapRegressionPipeline = StaticHeatmapRegressionPipeline(\n",
    "    sigmas=3.0, model=\"ProbSpatialConfigurationNet\", in_channels_img=1, nb_landmarks=19, train_config=train_config,\n",
    "    heatmap_decoder=coord_argmax, verbose=True, device=device)\n",
    "\n",
    "fn_keys = ('image', 'seg')\n",
    "spatial_transformd = [RandAffined(fn_keys, prob=1,\n",
    "                        rotate_range=(-np.pi/12, np.pi/12),\n",
    "                        translate_range=(-10, 10),\n",
    "                        scale_range=(-0.1, 0.1),\n",
    "                        shear_range=(-0.1, 0.1)\n",
    "                        )]\n",
    "\n",
    "composed_transformd = Compose(spatial_transformd +\n",
    "                            [RandGaussianNoised(('image', ), prob=0.1, mean=0, std=0.005),  # Add gaussian noise\n",
    "                        RandStdShiftIntensityd(('image', ), prob=0.1, factors=0.1),  # Add random intensity shift\n",
    "                        RandScaleIntensityd(('image', ), factors=0.25, prob=0.1),  # Add random intensity scaling\n",
    "                        RandAdjustContrastd(('image', ), prob=0.1, gamma=(0.5,2)),  # Randomly adjust contrast\n",
    "                        RandHistogramShiftd(('image', ), prob=0.1),  # Randomly shift histogram\n",
    "                        ])\n",
    "\n",
    "staticHeatmapRegressionPipeline.fit(image_paths_train, landmarks_train,\n",
    "                                    transform=composed_transformd, cache_ds=cache_ds)"
   ]
  },
  {
   "cell_type": "code",
   "execution_count": 6,
   "metadata": {},
   "outputs": [
    {
     "name": "stdout",
     "output_type": "stream",
     "text": [
      "Reading, normalizing and resizing 150 images and landmarks...\n"
     ]
    },
    {
     "name": "stderr",
     "output_type": "stream",
     "text": [
      "100%|██████████| 150/150 [00:23<00:00,  6.30it/s]\n",
      "100%|██████████| 150/150 [00:02<00:00, 58.71it/s]"
     ]
    },
    {
     "name": "stdout",
     "output_type": "stream",
     "text": [
      "Detection report:\n",
      "1# Point-to-point error (PE) statistics:\n",
      "======================================================================\n",
      "Class               Mean      Median    Std       Min       Max       \n",
      "----------------------------------------------------------------------\n",
      "Landmark 0          1.15      1.02      1.00      0.02      9.68      \n",
      "Landmark 1          1.98      1.28      1.94      0.13      10.14     \n",
      "Landmark 2          2.09      1.75      1.46      0.33      8.32      \n",
      "Landmark 3          2.88      1.76      2.53      0.13      11.37     \n",
      "Landmark 4          2.52      2.07      1.75      0.20      10.08     \n",
      "Landmark 5          1.73      1.35      1.30      0.10      6.46      \n",
      "Landmark 6          1.28      1.12      0.83      0.06      4.11      \n",
      "Landmark 7          1.12      0.88      0.90      0.06      6.62      \n",
      "Landmark 8          1.07      0.87      0.84      0.05      8.02      \n",
      "Landmark 9          3.88      3.78      2.22      0.29      10.38     \n",
      "Landmark 10         1.31      1.11      0.97      0.03      6.26      \n",
      "Landmark 11         1.07      0.85      0.94      0.02      8.45      \n",
      "Landmark 12         1.08      0.95      0.65      0.05      3.19      \n",
      "Landmark 13         1.01      0.93      0.59      0.02      3.20      \n",
      "Landmark 14         1.46      1.26      1.07      0.04      6.13      \n",
      "Landmark 15         1.85      1.53      1.39      0.13      7.99      \n",
      "Landmark 16         1.26      1.05      0.82      0.10      4.47      \n",
      "Landmark 17         2.11      1.67      1.80      0.06      13.14     \n",
      "Landmark 18         2.76      1.86      2.36      0.03      10.23     \n",
      "======================================================================\n",
      "\n",
      "2# Success detection rate (SDR):\n",
      "================================================================================\n",
      "Class               SDR (PE≤2mm)   SDR (PE≤2.5mm) SDR (PE≤3mm)   SDR (PE≤4mm)   \n",
      "--------------------------------------------------------------------------------\n",
      "Landmark 0          89.33          96.00          97.33          98.67          \n",
      "Landmark 1          68.67          74.00          80.67          89.33          \n",
      "Landmark 2          58.67          68.67          81.33          90.67          \n",
      "Landmark 3          56.00          58.67          62.67          72.00          \n",
      "Landmark 4          47.33          60.00          69.33          84.00          \n",
      "Landmark 5          71.33          81.33          85.33          92.00          \n",
      "Landmark 6          83.33          90.67          95.33          99.33          \n",
      "Landmark 7          86.00          90.67          96.67          98.67          \n",
      "Landmark 8          90.67          97.33          98.67          99.33          \n",
      "Landmark 9          24.67          31.33          38.00          55.33          \n",
      "Landmark 10         84.67          92.00          94.67          98.00          \n",
      "Landmark 11         88.67          95.33          98.00          98.67          \n",
      "Landmark 12         91.33          95.33          97.33          100.00         \n",
      "Landmark 13         94.67          98.00          99.33          100.00         \n",
      "Landmark 14         79.33          88.00          91.33          97.33          \n",
      "Landmark 15         68.00          76.00          83.33          93.33          \n",
      "Landmark 16         82.67          90.00          96.00          98.67          \n",
      "Landmark 17         61.33          74.67          79.33          87.33          \n",
      "Landmark 18         53.33          59.33          62.00          75.33          \n",
      "================================================================================\n"
     ]
    },
    {
     "name": "stderr",
     "output_type": "stream",
     "text": [
      "\n"
     ]
    }
   ],
   "source": [
    "results_static = staticHeatmapRegressionPipeline.evaluate(image_paths_test1, landmarks_test1, pixel_spacings_test1)"
   ]
  },
  {
   "cell_type": "markdown",
   "metadata": {},
   "source": [
    "## Adaptive Heatmap Regression"
   ]
  },
  {
   "cell_type": "code",
   "execution_count": 7,
   "metadata": {},
   "outputs": [
    {
     "name": "stdout",
     "output_type": "stream",
     "text": [
      "Reading, normalizing and resizing 150 images and landmarks...\n"
     ]
    },
    {
     "name": "stderr",
     "output_type": "stream",
     "text": [
      "100%|██████████| 150/150 [00:03<00:00, 46.21it/s]\n",
      "100%|██████████| 120/120 [00:16<00:00,  7.20it/s]\n",
      "100%|██████████| 30/30 [00:01<00:00, 25.07it/s]\n"
     ]
    },
    {
     "name": "stdout",
     "output_type": "stream",
     "text": [
      "Epoch 1/1000 - Train loss: 2520.17437948 - Val loss: 2497.31059570\n"
     ]
    },
    {
     "name": "stderr",
     "output_type": "stream",
     "text": [
      "100%|██████████| 120/120 [00:16<00:00,  7.21it/s]\n",
      "100%|██████████| 30/30 [00:01<00:00, 22.60it/s]\n"
     ]
    },
    {
     "name": "stdout",
     "output_type": "stream",
     "text": [
      "Epoch 2/1000 - Train loss: 2471.79089559 - Val loss: 2446.74260254\n",
      "INFO: Val_Loss improved (2497.31059570 --> 2446.74260254). Saving model ...\n"
     ]
    },
    {
     "name": "stderr",
     "output_type": "stream",
     "text": [
      "100%|██████████| 120/120 [00:16<00:00,  7.26it/s]\n",
      "100%|██████████| 30/30 [00:01<00:00, 24.92it/s]\n"
     ]
    },
    {
     "name": "stdout",
     "output_type": "stream",
     "text": [
      "Epoch 3/1000 - Train loss: 2425.61185303 - Val loss: 2398.70942383\n",
      "INFO: Val_Loss improved (2446.74260254 --> 2398.70942383). Saving model ...\n"
     ]
    },
    {
     "name": "stderr",
     "output_type": "stream",
     "text": [
      "100%|██████████| 120/120 [00:16<00:00,  7.25it/s]\n",
      "100%|██████████| 30/30 [00:01<00:00, 22.49it/s]\n"
     ]
    },
    {
     "name": "stdout",
     "output_type": "stream",
     "text": [
      "Epoch 4/1000 - Train loss: 2377.50608724 - Val loss: 2335.66014811\n",
      "INFO: Val_Loss improved (2398.70942383 --> 2335.66014811). Saving model ...\n"
     ]
    },
    {
     "name": "stderr",
     "output_type": "stream",
     "text": [
      "100%|██████████| 120/120 [00:16<00:00,  7.19it/s]\n",
      "100%|██████████| 30/30 [00:01<00:00, 24.90it/s]\n"
     ]
    },
    {
     "name": "stdout",
     "output_type": "stream",
     "text": [
      "Epoch 5/1000 - Train loss: 2318.95544637 - Val loss: 2269.54754232\n",
      "INFO: Val_Loss improved (2335.66014811 --> 2269.54754232). Saving model ...\n"
     ]
    },
    {
     "name": "stderr",
     "output_type": "stream",
     "text": [
      "100%|██████████| 120/120 [00:16<00:00,  7.24it/s]\n",
      "100%|██████████| 30/30 [00:01<00:00, 22.17it/s]\n"
     ]
    },
    {
     "name": "stdout",
     "output_type": "stream",
     "text": [
      "Epoch 6/1000 - Train loss: 2267.15118612 - Val loss: 2230.64373372\n",
      "INFO: Val_Loss improved (2269.54754232 --> 2230.64373372). Saving model ...\n"
     ]
    },
    {
     "name": "stderr",
     "output_type": "stream",
     "text": [
      "100%|██████████| 120/120 [00:16<00:00,  7.18it/s]\n",
      "100%|██████████| 30/30 [00:01<00:00, 24.94it/s]\n"
     ]
    },
    {
     "name": "stdout",
     "output_type": "stream",
     "text": [
      "Epoch 7/1000 - Train loss: 2230.22536214 - Val loss: 2171.42314453\n",
      "INFO: Val_Loss improved (2230.64373372 --> 2171.42314453). Saving model ...\n"
     ]
    },
    {
     "name": "stderr",
     "output_type": "stream",
     "text": [
      "100%|██████████| 120/120 [00:16<00:00,  7.16it/s]\n",
      "100%|██████████| 30/30 [00:01<00:00, 22.43it/s]\n"
     ]
    },
    {
     "name": "stdout",
     "output_type": "stream",
     "text": [
      "Epoch 8/1000 - Train loss: 2189.79413656 - Val loss: 2145.96385905\n",
      "INFO: Val_Loss improved (2171.42314453 --> 2145.96385905). Saving model ...\n"
     ]
    },
    {
     "name": "stderr",
     "output_type": "stream",
     "text": [
      "100%|██████████| 120/120 [00:16<00:00,  7.19it/s]\n",
      "100%|██████████| 30/30 [00:01<00:00, 25.16it/s]\n"
     ]
    },
    {
     "name": "stdout",
     "output_type": "stream",
     "text": [
      "Epoch 9/1000 - Train loss: 2191.05345662 - Val loss: 2118.52312419\n",
      "INFO: Val_Loss improved (2145.96385905 --> 2118.52312419). Saving model ...\n"
     ]
    },
    {
     "name": "stderr",
     "output_type": "stream",
     "text": [
      "100%|██████████| 120/120 [00:16<00:00,  7.18it/s]\n",
      "100%|██████████| 30/30 [00:01<00:00, 23.45it/s]\n"
     ]
    },
    {
     "name": "stdout",
     "output_type": "stream",
     "text": [
      "Epoch 10/1000 - Train loss: 2139.15714213 - Val loss: 2088.05939535\n",
      "INFO: Val_Loss improved (2118.52312419 --> 2088.05939535). Saving model ...\n"
     ]
    },
    {
     "name": "stderr",
     "output_type": "stream",
     "text": [
      "100%|██████████| 120/120 [00:16<00:00,  7.28it/s]\n",
      "100%|██████████| 30/30 [00:01<00:00, 25.18it/s]\n"
     ]
    },
    {
     "name": "stdout",
     "output_type": "stream",
     "text": [
      "Epoch 11/1000 - Train loss: 2117.69013977 - Val loss: 2081.55734863\n",
      "INFO: Val_Loss improved (2088.05939535 --> 2081.55734863). Saving model ...\n"
     ]
    },
    {
     "name": "stderr",
     "output_type": "stream",
     "text": [
      "100%|██████████| 120/120 [00:16<00:00,  7.26it/s]\n",
      "100%|██████████| 30/30 [00:01<00:00, 21.62it/s]\n"
     ]
    },
    {
     "name": "stdout",
     "output_type": "stream",
     "text": [
      "Epoch 12/1000 - Train loss: 2094.45719604 - Val loss: 2046.68827311\n",
      "INFO: Val_Loss improved (2081.55734863 --> 2046.68827311). Saving model ...\n"
     ]
    },
    {
     "name": "stderr",
     "output_type": "stream",
     "text": [
      "100%|██████████| 120/120 [00:16<00:00,  7.24it/s]\n",
      "100%|██████████| 30/30 [00:01<00:00, 25.20it/s]\n"
     ]
    },
    {
     "name": "stdout",
     "output_type": "stream",
     "text": [
      "Epoch 13/1000 - Train loss: 2074.38592631 - Val loss: 2042.18785807\n",
      "INFO: Val_Loss improved (2046.68827311 --> 2042.18785807). Saving model ...\n"
     ]
    },
    {
     "name": "stderr",
     "output_type": "stream",
     "text": [
      "100%|██████████| 120/120 [00:16<00:00,  7.23it/s]\n",
      "100%|██████████| 30/30 [00:01<00:00, 21.67it/s]\n"
     ]
    },
    {
     "name": "stdout",
     "output_type": "stream",
     "text": [
      "Epoch 14/1000 - Train loss: 2040.59126485 - Val loss: 1971.26418050\n",
      "INFO: Val_Loss improved (2042.18785807 --> 1971.26418050). Saving model ...\n"
     ]
    },
    {
     "name": "stderr",
     "output_type": "stream",
     "text": [
      "100%|██████████| 120/120 [00:16<00:00,  7.24it/s]\n",
      "100%|██████████| 30/30 [00:01<00:00, 24.70it/s]\n"
     ]
    },
    {
     "name": "stdout",
     "output_type": "stream",
     "text": [
      "Epoch 15/1000 - Train loss: 2003.98301900 - Val loss: 1937.48043620\n",
      "INFO: Val_Loss improved (1971.26418050 --> 1937.48043620). Saving model ...\n"
     ]
    },
    {
     "name": "stderr",
     "output_type": "stream",
     "text": [
      "100%|██████████| 120/120 [00:16<00:00,  7.42it/s]\n",
      "100%|██████████| 30/30 [00:01<00:00, 21.93it/s]\n"
     ]
    },
    {
     "name": "stdout",
     "output_type": "stream",
     "text": [
      "Epoch 16/1000 - Train loss: 1958.74205017 - Val loss: 1882.55478109\n",
      "INFO: Val_Loss improved (1937.48043620 --> 1882.55478109). Saving model ...\n"
     ]
    },
    {
     "name": "stderr",
     "output_type": "stream",
     "text": [
      "100%|██████████| 120/120 [00:16<00:00,  7.17it/s]\n",
      "100%|██████████| 30/30 [00:01<00:00, 24.74it/s]\n"
     ]
    },
    {
     "name": "stdout",
     "output_type": "stream",
     "text": [
      "Epoch 17/1000 - Train loss: 1931.64278361 - Val loss: 1867.43637288\n",
      "INFO: Val_Loss improved (1882.55478109 --> 1867.43637288). Saving model ...\n"
     ]
    },
    {
     "name": "stderr",
     "output_type": "stream",
     "text": [
      "100%|██████████| 120/120 [00:16<00:00,  7.27it/s]\n",
      "100%|██████████| 30/30 [00:01<00:00, 21.54it/s]\n"
     ]
    },
    {
     "name": "stdout",
     "output_type": "stream",
     "text": [
      "Epoch 18/1000 - Train loss: 1896.80345357 - Val loss: 1843.63395589\n",
      "INFO: Val_Loss improved (1867.43637288 --> 1843.63395589). Saving model ...\n"
     ]
    },
    {
     "name": "stderr",
     "output_type": "stream",
     "text": [
      "100%|██████████| 120/120 [00:16<00:00,  7.25it/s]\n",
      "100%|██████████| 30/30 [00:01<00:00, 25.12it/s]\n"
     ]
    },
    {
     "name": "stdout",
     "output_type": "stream",
     "text": [
      "Epoch 19/1000 - Train loss: 1863.52335002 - Val loss: 1792.70079753\n",
      "INFO: Val_Loss improved (1843.63395589 --> 1792.70079753). Saving model ...\n"
     ]
    },
    {
     "name": "stderr",
     "output_type": "stream",
     "text": [
      "100%|██████████| 120/120 [00:16<00:00,  7.26it/s]\n",
      "100%|██████████| 30/30 [00:01<00:00, 22.11it/s]\n"
     ]
    },
    {
     "name": "stdout",
     "output_type": "stream",
     "text": [
      "Epoch 20/1000 - Train loss: 1828.09517822 - Val loss: 1774.48603109\n",
      "INFO: Val_Loss improved (1792.70079753 --> 1774.48603109). Saving model ...\n"
     ]
    },
    {
     "name": "stderr",
     "output_type": "stream",
     "text": [
      "100%|██████████| 120/120 [00:16<00:00,  7.21it/s]\n",
      "100%|██████████| 30/30 [00:01<00:00, 24.83it/s]\n"
     ]
    },
    {
     "name": "stdout",
     "output_type": "stream",
     "text": [
      "Epoch 21/1000 - Train loss: 1817.35934041 - Val loss: 1745.99462891\n",
      "INFO: Val_Loss improved (1774.48603109 --> 1745.99462891). Saving model ...\n"
     ]
    },
    {
     "name": "stderr",
     "output_type": "stream",
     "text": [
      "100%|██████████| 120/120 [00:16<00:00,  7.15it/s]\n",
      "100%|██████████| 30/30 [00:01<00:00, 22.07it/s]\n"
     ]
    },
    {
     "name": "stdout",
     "output_type": "stream",
     "text": [
      "Epoch 22/1000 - Train loss: 1790.72115784 - Val loss: 1730.47307129\n",
      "INFO: Val_Loss improved (1745.99462891 --> 1730.47307129). Saving model ...\n"
     ]
    },
    {
     "name": "stderr",
     "output_type": "stream",
     "text": [
      "100%|██████████| 120/120 [00:16<00:00,  7.30it/s]\n",
      "100%|██████████| 30/30 [00:01<00:00, 24.83it/s]\n"
     ]
    },
    {
     "name": "stdout",
     "output_type": "stream",
     "text": [
      "Epoch 23/1000 - Train loss: 1768.49018453 - Val loss: 1728.91549479\n",
      "INFO: Val_Loss improved (1730.47307129 --> 1728.91549479). Saving model ...\n"
     ]
    },
    {
     "name": "stderr",
     "output_type": "stream",
     "text": [
      "100%|██████████| 120/120 [00:16<00:00,  7.25it/s]\n",
      "100%|██████████| 30/30 [00:01<00:00, 22.44it/s]\n"
     ]
    },
    {
     "name": "stdout",
     "output_type": "stream",
     "text": [
      "Epoch 24/1000 - Train loss: 1746.91979167 - Val loss: 1698.89884033\n",
      "INFO: Val_Loss improved (1728.91549479 --> 1698.89884033). Saving model ...\n"
     ]
    },
    {
     "name": "stderr",
     "output_type": "stream",
     "text": [
      "100%|██████████| 120/120 [00:16<00:00,  7.19it/s]\n",
      "100%|██████████| 30/30 [00:01<00:00, 24.43it/s]\n"
     ]
    },
    {
     "name": "stdout",
     "output_type": "stream",
     "text": [
      "Epoch 25/1000 - Train loss: 1735.38847453 - Val loss: 1687.31722819\n",
      "INFO: Val_Loss improved (1698.89884033 --> 1687.31722819). Saving model ...\n"
     ]
    },
    {
     "name": "stderr",
     "output_type": "stream",
     "text": [
      "100%|██████████| 120/120 [00:16<00:00,  7.24it/s]\n",
      "100%|██████████| 30/30 [00:01<00:00, 21.97it/s]\n"
     ]
    },
    {
     "name": "stdout",
     "output_type": "stream",
     "text": [
      "Epoch 26/1000 - Train loss: 1714.79725342 - Val loss: 1672.73883464\n",
      "INFO: Val_Loss improved (1687.31722819 --> 1672.73883464). Saving model ...\n"
     ]
    },
    {
     "name": "stderr",
     "output_type": "stream",
     "text": [
      "100%|██████████| 120/120 [00:16<00:00,  7.28it/s]\n",
      "100%|██████████| 30/30 [00:01<00:00, 24.69it/s]\n"
     ]
    },
    {
     "name": "stdout",
     "output_type": "stream",
     "text": [
      "Epoch 27/1000 - Train loss: 1690.90497335 - Val loss: 1669.00861816\n",
      "INFO: Val_Loss improved (1672.73883464 --> 1669.00861816). Saving model ...\n"
     ]
    },
    {
     "name": "stderr",
     "output_type": "stream",
     "text": [
      "100%|██████████| 120/120 [00:16<00:00,  7.22it/s]\n",
      "100%|██████████| 30/30 [00:01<00:00, 21.82it/s]\n"
     ]
    },
    {
     "name": "stdout",
     "output_type": "stream",
     "text": [
      "Epoch 28/1000 - Train loss: 1669.69746501 - Val loss: 1641.60055339\n",
      "INFO: Val_Loss improved (1669.00861816 --> 1641.60055339). Saving model ...\n"
     ]
    },
    {
     "name": "stderr",
     "output_type": "stream",
     "text": [
      "100%|██████████| 120/120 [00:16<00:00,  7.18it/s]\n",
      "100%|██████████| 30/30 [00:01<00:00, 24.72it/s]\n"
     ]
    },
    {
     "name": "stdout",
     "output_type": "stream",
     "text": [
      "Epoch 29/1000 - Train loss: 1663.16037089 - Val loss: 1626.07932129\n",
      "INFO: Val_Loss improved (1641.60055339 --> 1626.07932129). Saving model ...\n"
     ]
    },
    {
     "name": "stderr",
     "output_type": "stream",
     "text": [
      "100%|██████████| 120/120 [00:16<00:00,  7.23it/s]\n",
      "100%|██████████| 30/30 [00:01<00:00, 22.51it/s]\n"
     ]
    },
    {
     "name": "stdout",
     "output_type": "stream",
     "text": [
      "Epoch 30/1000 - Train loss: 1650.19652100 - Val loss: 1612.13771159\n",
      "INFO: Val_Loss improved (1626.07932129 --> 1612.13771159). Saving model ...\n"
     ]
    },
    {
     "name": "stderr",
     "output_type": "stream",
     "text": [
      "100%|██████████| 120/120 [00:16<00:00,  7.30it/s]\n",
      "100%|██████████| 30/30 [00:01<00:00, 24.93it/s]\n"
     ]
    },
    {
     "name": "stdout",
     "output_type": "stream",
     "text": [
      "Epoch 31/1000 - Train loss: 1633.42124837 - Val loss: 1611.48265381\n",
      "INFO: Val_Loss improved (1612.13771159 --> 1611.48265381). Saving model ...\n"
     ]
    },
    {
     "name": "stderr",
     "output_type": "stream",
     "text": [
      "100%|██████████| 120/120 [00:16<00:00,  7.20it/s]\n",
      "100%|██████████| 30/30 [00:01<00:00, 21.89it/s]\n"
     ]
    },
    {
     "name": "stdout",
     "output_type": "stream",
     "text": [
      "Epoch 32/1000 - Train loss: 1635.30846761 - Val loss: 1602.32178955\n",
      "INFO: Val_Loss improved (1611.48265381 --> 1602.32178955). Saving model ...\n"
     ]
    },
    {
     "name": "stderr",
     "output_type": "stream",
     "text": [
      "100%|██████████| 120/120 [00:16<00:00,  7.22it/s]\n",
      "100%|██████████| 30/30 [00:01<00:00, 25.14it/s]\n"
     ]
    },
    {
     "name": "stdout",
     "output_type": "stream",
     "text": [
      "Epoch 33/1000 - Train loss: 1617.08901265 - Val loss: 1601.25444336\n",
      "INFO: Val_Loss improved (1602.32178955 --> 1601.25444336). Saving model ...\n"
     ]
    },
    {
     "name": "stderr",
     "output_type": "stream",
     "text": [
      "100%|██████████| 120/120 [00:16<00:00,  7.20it/s]\n",
      "100%|██████████| 30/30 [00:01<00:00, 22.47it/s]\n"
     ]
    },
    {
     "name": "stdout",
     "output_type": "stream",
     "text": [
      "Epoch 34/1000 - Train loss: 1592.58872274 - Val loss: 1578.11588542\n",
      "INFO: Val_Loss improved (1601.25444336 --> 1578.11588542). Saving model ...\n"
     ]
    },
    {
     "name": "stderr",
     "output_type": "stream",
     "text": [
      "100%|██████████| 120/120 [00:16<00:00,  7.26it/s]\n",
      "100%|██████████| 30/30 [00:01<00:00, 24.37it/s]\n"
     ]
    },
    {
     "name": "stdout",
     "output_type": "stream",
     "text": [
      "Epoch 35/1000 - Train loss: 1596.56266479 - Val loss: 1571.92644043\n",
      "INFO: Val_Loss improved (1578.11588542 --> 1571.92644043). Saving model ...\n"
     ]
    },
    {
     "name": "stderr",
     "output_type": "stream",
     "text": [
      "100%|██████████| 120/120 [00:16<00:00,  7.27it/s]\n",
      "100%|██████████| 30/30 [00:01<00:00, 21.21it/s]\n"
     ]
    },
    {
     "name": "stdout",
     "output_type": "stream",
     "text": [
      "Epoch 36/1000 - Train loss: 1582.85530904 - Val loss: 1564.39441732\n",
      "INFO: Val_Loss improved (1571.92644043 --> 1564.39441732). Saving model ...\n"
     ]
    },
    {
     "name": "stderr",
     "output_type": "stream",
     "text": [
      "100%|██████████| 120/120 [00:16<00:00,  7.29it/s]\n",
      "100%|██████████| 30/30 [00:01<00:00, 24.80it/s]\n"
     ]
    },
    {
     "name": "stdout",
     "output_type": "stream",
     "text": [
      "Epoch 37/1000 - Train loss: 1579.91471761 - Val loss: 1604.42547607\n",
      "INFO: Early stopping counter                     1 of 20                         [Best Val Loss: 1564.39441732,                             Val Loss: 1604.42547607]\n"
     ]
    },
    {
     "name": "stderr",
     "output_type": "stream",
     "text": [
      "100%|██████████| 120/120 [00:16<00:00,  7.22it/s]\n",
      "100%|██████████| 30/30 [00:01<00:00, 21.87it/s]\n"
     ]
    },
    {
     "name": "stdout",
     "output_type": "stream",
     "text": [
      "Epoch 38/1000 - Train loss: 1564.89337260 - Val loss: 1581.56490885\n",
      "INFO: Early stopping counter                     2 of 20                         [Best Val Loss: 1564.39441732,                             Val Loss: 1581.56490885]\n"
     ]
    },
    {
     "name": "stderr",
     "output_type": "stream",
     "text": [
      "100%|██████████| 120/120 [00:16<00:00,  7.21it/s]\n",
      "100%|██████████| 30/30 [00:01<00:00, 24.84it/s]\n"
     ]
    },
    {
     "name": "stdout",
     "output_type": "stream",
     "text": [
      "Epoch 39/1000 - Train loss: 1562.31970825 - Val loss: 1576.18032227\n",
      "INFO: Early stopping counter                     3 of 20                         [Best Val Loss: 1564.39441732,                             Val Loss: 1576.18032227]\n"
     ]
    },
    {
     "name": "stderr",
     "output_type": "stream",
     "text": [
      "100%|██████████| 120/120 [00:16<00:00,  7.22it/s]\n",
      "100%|██████████| 30/30 [00:01<00:00, 22.22it/s]\n"
     ]
    },
    {
     "name": "stdout",
     "output_type": "stream",
     "text": [
      "Epoch 40/1000 - Train loss: 1561.82283529 - Val loss: 1543.27392171\n",
      "INFO: Val_Loss improved (1564.39441732 --> 1543.27392171). Saving model ...\n"
     ]
    },
    {
     "name": "stderr",
     "output_type": "stream",
     "text": [
      "100%|██████████| 120/120 [00:16<00:00,  7.19it/s]\n",
      "100%|██████████| 30/30 [00:01<00:00, 25.00it/s]\n"
     ]
    },
    {
     "name": "stdout",
     "output_type": "stream",
     "text": [
      "Epoch 41/1000 - Train loss: 1552.04312541 - Val loss: 1579.95044352\n",
      "INFO: Early stopping counter                     1 of 20                         [Best Val Loss: 1543.27392171,                             Val Loss: 1579.95044352]\n"
     ]
    },
    {
     "name": "stderr",
     "output_type": "stream",
     "text": [
      "100%|██████████| 120/120 [00:16<00:00,  7.20it/s]\n",
      "100%|██████████| 30/30 [00:01<00:00, 22.40it/s]\n"
     ]
    },
    {
     "name": "stdout",
     "output_type": "stream",
     "text": [
      "Epoch 42/1000 - Train loss: 1548.36367086 - Val loss: 1547.22502848\n",
      "INFO: Early stopping counter                     2 of 20                         [Best Val Loss: 1543.27392171,                             Val Loss: 1547.22502848]\n"
     ]
    },
    {
     "name": "stderr",
     "output_type": "stream",
     "text": [
      "100%|██████████| 120/120 [00:16<00:00,  7.23it/s]\n",
      "100%|██████████| 30/30 [00:01<00:00, 25.18it/s]\n"
     ]
    },
    {
     "name": "stdout",
     "output_type": "stream",
     "text": [
      "Epoch 43/1000 - Train loss: 1521.50076701 - Val loss: 1551.93543701\n",
      "INFO: Early stopping counter                     3 of 20                         [Best Val Loss: 1543.27392171,                             Val Loss: 1551.93543701]\n"
     ]
    },
    {
     "name": "stderr",
     "output_type": "stream",
     "text": [
      "100%|██████████| 120/120 [00:16<00:00,  7.30it/s]\n",
      "100%|██████████| 30/30 [00:01<00:00, 25.16it/s]\n"
     ]
    },
    {
     "name": "stdout",
     "output_type": "stream",
     "text": [
      "Epoch 44/1000 - Train loss: 1533.50863444 - Val loss: 1551.95876058\n",
      "INFO: Early stopping counter                     4 of 20                         [Best Val Loss: 1543.27392171,                             Val Loss: 1551.95876058]\n"
     ]
    },
    {
     "name": "stderr",
     "output_type": "stream",
     "text": [
      "100%|██████████| 120/120 [00:16<00:00,  7.26it/s]\n",
      "100%|██████████| 30/30 [00:01<00:00, 21.80it/s]\n"
     ]
    },
    {
     "name": "stdout",
     "output_type": "stream",
     "text": [
      "Epoch 45/1000 - Train loss: 1517.34419759 - Val loss: 1524.78242187\n",
      "INFO: Val_Loss improved (1543.27392171 --> 1524.78242187). Saving model ...\n"
     ]
    },
    {
     "name": "stderr",
     "output_type": "stream",
     "text": [
      "100%|██████████| 120/120 [00:16<00:00,  7.27it/s]\n",
      "100%|██████████| 30/30 [00:01<00:00, 25.06it/s]\n"
     ]
    },
    {
     "name": "stdout",
     "output_type": "stream",
     "text": [
      "Epoch 46/1000 - Train loss: 1510.43135274 - Val loss: 1521.74549561\n",
      "INFO: Val_Loss improved (1524.78242187 --> 1521.74549561). Saving model ...\n"
     ]
    },
    {
     "name": "stderr",
     "output_type": "stream",
     "text": [
      "100%|██████████| 120/120 [00:16<00:00,  7.21it/s]\n",
      "100%|██████████| 30/30 [00:01<00:00, 22.04it/s]\n"
     ]
    },
    {
     "name": "stdout",
     "output_type": "stream",
     "text": [
      "Epoch 47/1000 - Train loss: 1499.74609172 - Val loss: 1534.25233154\n",
      "INFO: Early stopping counter                     1 of 20                         [Best Val Loss: 1521.74549561,                             Val Loss: 1534.25233154]\n"
     ]
    },
    {
     "name": "stderr",
     "output_type": "stream",
     "text": [
      "100%|██████████| 120/120 [00:16<00:00,  7.26it/s]\n",
      "100%|██████████| 30/30 [00:01<00:00, 25.28it/s]\n"
     ]
    },
    {
     "name": "stdout",
     "output_type": "stream",
     "text": [
      "Epoch 48/1000 - Train loss: 1494.28978678 - Val loss: 1535.73928630\n",
      "INFO: Early stopping counter                     2 of 20                         [Best Val Loss: 1521.74549561,                             Val Loss: 1535.73928630]\n"
     ]
    },
    {
     "name": "stderr",
     "output_type": "stream",
     "text": [
      "100%|██████████| 120/120 [00:16<00:00,  7.18it/s]\n",
      "100%|██████████| 30/30 [00:01<00:00, 21.80it/s]\n"
     ]
    },
    {
     "name": "stdout",
     "output_type": "stream",
     "text": [
      "Epoch 49/1000 - Train loss: 1485.46776733 - Val loss: 1529.94301758\n",
      "INFO: Early stopping counter                     3 of 20                         [Best Val Loss: 1521.74549561,                             Val Loss: 1529.94301758]\n"
     ]
    },
    {
     "name": "stderr",
     "output_type": "stream",
     "text": [
      "100%|██████████| 120/120 [00:16<00:00,  7.25it/s]\n",
      "100%|██████████| 30/30 [00:01<00:00, 25.25it/s]\n"
     ]
    },
    {
     "name": "stdout",
     "output_type": "stream",
     "text": [
      "Epoch 50/1000 - Train loss: 1497.27207235 - Val loss: 1533.38873291\n",
      "INFO: Early stopping counter                     4 of 20                         [Best Val Loss: 1521.74549561,                             Val Loss: 1533.38873291]\n"
     ]
    },
    {
     "name": "stderr",
     "output_type": "stream",
     "text": [
      "100%|██████████| 120/120 [00:16<00:00,  7.23it/s]\n",
      "100%|██████████| 30/30 [00:01<00:00, 25.35it/s]\n"
     ]
    },
    {
     "name": "stdout",
     "output_type": "stream",
     "text": [
      "Epoch 51/1000 - Train loss: 1480.23327942 - Val loss: 1537.81709798\n",
      "INFO: Early stopping counter                     5 of 20                         [Best Val Loss: 1521.74549561,                             Val Loss: 1537.81709798]\n"
     ]
    },
    {
     "name": "stderr",
     "output_type": "stream",
     "text": [
      "100%|██████████| 120/120 [00:16<00:00,  7.32it/s]\n",
      "100%|██████████| 30/30 [00:01<00:00, 21.39it/s]\n"
     ]
    },
    {
     "name": "stdout",
     "output_type": "stream",
     "text": [
      "Epoch 52/1000 - Train loss: 1465.88573100 - Val loss: 1520.88831380\n",
      "INFO: Val_Loss improved (1521.74549561 --> 1520.88831380). Saving model ...\n"
     ]
    },
    {
     "name": "stderr",
     "output_type": "stream",
     "text": [
      "100%|██████████| 120/120 [00:16<00:00,  7.27it/s]\n",
      "100%|██████████| 30/30 [00:01<00:00, 25.39it/s]\n"
     ]
    },
    {
     "name": "stdout",
     "output_type": "stream",
     "text": [
      "Epoch 53/1000 - Train loss: 1483.87281087 - Val loss: 1503.93408203\n",
      "INFO: Val_Loss improved (1520.88831380 --> 1503.93408203). Saving model ...\n"
     ]
    },
    {
     "name": "stderr",
     "output_type": "stream",
     "text": [
      "100%|██████████| 120/120 [00:16<00:00,  7.21it/s]\n",
      "100%|██████████| 30/30 [00:01<00:00, 22.48it/s]\n"
     ]
    },
    {
     "name": "stdout",
     "output_type": "stream",
     "text": [
      "Epoch 54/1000 - Train loss: 1480.88431702 - Val loss: 1514.97798258\n",
      "INFO: Early stopping counter                     1 of 20                         [Best Val Loss: 1503.93408203,                             Val Loss: 1514.97798258]\n"
     ]
    },
    {
     "name": "stderr",
     "output_type": "stream",
     "text": [
      "100%|██████████| 120/120 [00:16<00:00,  7.21it/s]\n",
      "100%|██████████| 30/30 [00:01<00:00, 24.71it/s]\n"
     ]
    },
    {
     "name": "stdout",
     "output_type": "stream",
     "text": [
      "Epoch 55/1000 - Train loss: 1479.31743266 - Val loss: 1503.74938965\n",
      "INFO: Val_Loss improved (1503.93408203 --> 1503.74938965). Saving model ...\n"
     ]
    },
    {
     "name": "stderr",
     "output_type": "stream",
     "text": [
      "100%|██████████| 120/120 [00:16<00:00,  7.26it/s]\n",
      "100%|██████████| 30/30 [00:01<00:00, 22.11it/s]\n"
     ]
    },
    {
     "name": "stdout",
     "output_type": "stream",
     "text": [
      "Epoch 56/1000 - Train loss: 1466.65839132 - Val loss: 1506.43861898\n",
      "INFO: Early stopping counter                     1 of 20                         [Best Val Loss: 1503.74938965,                             Val Loss: 1506.43861898]\n"
     ]
    },
    {
     "name": "stderr",
     "output_type": "stream",
     "text": [
      "100%|██████████| 120/120 [00:16<00:00,  7.23it/s]\n",
      "100%|██████████| 30/30 [00:01<00:00, 24.78it/s]\n"
     ]
    },
    {
     "name": "stdout",
     "output_type": "stream",
     "text": [
      "Epoch 57/1000 - Train loss: 1462.62595317 - Val loss: 1524.08071696\n",
      "INFO: Early stopping counter                     2 of 20                         [Best Val Loss: 1503.74938965,                             Val Loss: 1524.08071696]\n"
     ]
    },
    {
     "name": "stderr",
     "output_type": "stream",
     "text": [
      "100%|██████████| 120/120 [00:16<00:00,  7.17it/s]\n",
      "100%|██████████| 30/30 [00:01<00:00, 22.08it/s]\n"
     ]
    },
    {
     "name": "stdout",
     "output_type": "stream",
     "text": [
      "Epoch 58/1000 - Train loss: 1461.18101705 - Val loss: 1506.32097575\n",
      "INFO: Early stopping counter                     3 of 20                         [Best Val Loss: 1503.74938965,                             Val Loss: 1506.32097575]\n"
     ]
    },
    {
     "name": "stderr",
     "output_type": "stream",
     "text": [
      "100%|██████████| 120/120 [00:16<00:00,  7.27it/s]\n",
      "100%|██████████| 30/30 [00:01<00:00, 24.90it/s]\n"
     ]
    },
    {
     "name": "stdout",
     "output_type": "stream",
     "text": [
      "Epoch 59/1000 - Train loss: 1448.37948303 - Val loss: 1504.56092529\n",
      "INFO: Early stopping counter                     4 of 20                         [Best Val Loss: 1503.74938965,                             Val Loss: 1504.56092529]\n"
     ]
    },
    {
     "name": "stderr",
     "output_type": "stream",
     "text": [
      "100%|██████████| 120/120 [00:16<00:00,  7.27it/s]\n",
      "100%|██████████| 30/30 [00:01<00:00, 25.13it/s]\n"
     ]
    },
    {
     "name": "stdout",
     "output_type": "stream",
     "text": [
      "Epoch 60/1000 - Train loss: 1436.34779154 - Val loss: 1485.80478923\n",
      "INFO: Val_Loss improved (1503.74938965 --> 1485.80478923). Saving model ...\n"
     ]
    },
    {
     "name": "stderr",
     "output_type": "stream",
     "text": [
      "100%|██████████| 120/120 [00:16<00:00,  7.34it/s]\n",
      "100%|██████████| 30/30 [00:01<00:00, 21.97it/s]\n"
     ]
    },
    {
     "name": "stdout",
     "output_type": "stream",
     "text": [
      "Epoch 61/1000 - Train loss: 1440.86187439 - Val loss: 1498.22763672\n",
      "INFO: Early stopping counter                     1 of 20                         [Best Val Loss: 1485.80478923,                             Val Loss: 1498.22763672]\n"
     ]
    },
    {
     "name": "stderr",
     "output_type": "stream",
     "text": [
      "100%|██████████| 120/120 [00:16<00:00,  7.15it/s]\n",
      "100%|██████████| 30/30 [00:01<00:00, 24.60it/s]\n"
     ]
    },
    {
     "name": "stdout",
     "output_type": "stream",
     "text": [
      "Epoch 62/1000 - Train loss: 1434.67921346 - Val loss: 1499.84899089\n",
      "INFO: Early stopping counter                     2 of 20                         [Best Val Loss: 1485.80478923,                             Val Loss: 1499.84899089]\n"
     ]
    },
    {
     "name": "stderr",
     "output_type": "stream",
     "text": [
      "100%|██████████| 120/120 [00:16<00:00,  7.19it/s]\n",
      "100%|██████████| 30/30 [00:01<00:00, 22.10it/s]\n"
     ]
    },
    {
     "name": "stdout",
     "output_type": "stream",
     "text": [
      "Epoch 63/1000 - Train loss: 1429.57323710 - Val loss: 1532.10005290\n",
      "INFO: Early stopping counter                     3 of 20                         [Best Val Loss: 1485.80478923,                             Val Loss: 1532.10005290]\n"
     ]
    },
    {
     "name": "stderr",
     "output_type": "stream",
     "text": [
      "100%|██████████| 120/120 [00:16<00:00,  7.31it/s]\n",
      "100%|██████████| 30/30 [00:01<00:00, 24.61it/s]\n"
     ]
    },
    {
     "name": "stdout",
     "output_type": "stream",
     "text": [
      "Epoch 64/1000 - Train loss: 1429.44683228 - Val loss: 1510.61236165\n",
      "INFO: Early stopping counter                     4 of 20                         [Best Val Loss: 1485.80478923,                             Val Loss: 1510.61236165]\n"
     ]
    },
    {
     "name": "stderr",
     "output_type": "stream",
     "text": [
      "100%|██████████| 120/120 [00:16<00:00,  7.25it/s]\n",
      "100%|██████████| 30/30 [00:01<00:00, 25.11it/s]\n"
     ]
    },
    {
     "name": "stdout",
     "output_type": "stream",
     "text": [
      "Epoch 65/1000 - Train loss: 1414.42365417 - Val loss: 1489.06867269\n",
      "INFO: Early stopping counter                     5 of 20                         [Best Val Loss: 1485.80478923,                             Val Loss: 1489.06867269]\n"
     ]
    },
    {
     "name": "stderr",
     "output_type": "stream",
     "text": [
      "100%|██████████| 120/120 [00:16<00:00,  7.28it/s]\n",
      "100%|██████████| 30/30 [00:01<00:00, 21.77it/s]\n"
     ]
    },
    {
     "name": "stdout",
     "output_type": "stream",
     "text": [
      "Epoch 66/1000 - Train loss: 1400.64874878 - Val loss: 1491.51576742\n",
      "INFO: Early stopping counter                     6 of 20                         [Best Val Loss: 1485.80478923,                             Val Loss: 1491.51576742]\n"
     ]
    },
    {
     "name": "stderr",
     "output_type": "stream",
     "text": [
      "100%|██████████| 120/120 [00:16<00:00,  7.32it/s]\n",
      "100%|██████████| 30/30 [00:01<00:00, 24.78it/s]\n"
     ]
    },
    {
     "name": "stdout",
     "output_type": "stream",
     "text": [
      "Epoch 67/1000 - Train loss: 1392.29015503 - Val loss: 1482.02675374\n",
      "INFO: Val_Loss improved (1485.80478923 --> 1482.02675374). Saving model ...\n"
     ]
    },
    {
     "name": "stderr",
     "output_type": "stream",
     "text": [
      "100%|██████████| 120/120 [00:16<00:00,  7.25it/s]\n",
      "100%|██████████| 30/30 [00:01<00:00, 22.00it/s]\n"
     ]
    },
    {
     "name": "stdout",
     "output_type": "stream",
     "text": [
      "Epoch 68/1000 - Train loss: 1417.37634583 - Val loss: 1486.24620768\n",
      "INFO: Early stopping counter                     1 of 20                         [Best Val Loss: 1482.02675374,                             Val Loss: 1486.24620768]\n"
     ]
    },
    {
     "name": "stderr",
     "output_type": "stream",
     "text": [
      "100%|██████████| 120/120 [00:16<00:00,  7.34it/s]\n",
      "100%|██████████| 30/30 [00:01<00:00, 24.60it/s]\n"
     ]
    },
    {
     "name": "stdout",
     "output_type": "stream",
     "text": [
      "Epoch 69/1000 - Train loss: 1416.52066752 - Val loss: 1489.25712484\n",
      "INFO: Early stopping counter                     2 of 20                         [Best Val Loss: 1482.02675374,                             Val Loss: 1489.25712484]\n"
     ]
    },
    {
     "name": "stderr",
     "output_type": "stream",
     "text": [
      "100%|██████████| 120/120 [00:16<00:00,  7.24it/s]\n",
      "100%|██████████| 30/30 [00:01<00:00, 25.25it/s]\n"
     ]
    },
    {
     "name": "stdout",
     "output_type": "stream",
     "text": [
      "Epoch 70/1000 - Train loss: 1409.18207499 - Val loss: 1496.23450114\n",
      "INFO: Early stopping counter                     3 of 20                         [Best Val Loss: 1482.02675374,                             Val Loss: 1496.23450114]\n"
     ]
    },
    {
     "name": "stderr",
     "output_type": "stream",
     "text": [
      "100%|██████████| 120/120 [00:16<00:00,  7.10it/s]\n",
      "100%|██████████| 30/30 [00:01<00:00, 24.54it/s]\n"
     ]
    },
    {
     "name": "stdout",
     "output_type": "stream",
     "text": [
      "Epoch 71/1000 - Train loss: 1401.15682882 - Val loss: 1475.28702393\n",
      "INFO: Val_Loss improved (1482.02675374 --> 1475.28702393). Saving model ...\n"
     ]
    },
    {
     "name": "stderr",
     "output_type": "stream",
     "text": [
      "100%|██████████| 120/120 [00:16<00:00,  7.23it/s]\n",
      "100%|██████████| 30/30 [00:01<00:00, 25.03it/s]\n"
     ]
    },
    {
     "name": "stdout",
     "output_type": "stream",
     "text": [
      "Epoch 72/1000 - Train loss: 1400.40001221 - Val loss: 1470.05228678\n",
      "INFO: Val_Loss improved (1475.28702393 --> 1470.05228678). Saving model ...\n"
     ]
    },
    {
     "name": "stderr",
     "output_type": "stream",
     "text": [
      "100%|██████████| 120/120 [00:16<00:00,  7.34it/s]\n",
      "100%|██████████| 30/30 [00:01<00:00, 22.47it/s]\n"
     ]
    },
    {
     "name": "stdout",
     "output_type": "stream",
     "text": [
      "Epoch 73/1000 - Train loss: 1384.28774719 - Val loss: 1487.32732747\n",
      "INFO: Early stopping counter                     1 of 20                         [Best Val Loss: 1470.05228678,                             Val Loss: 1487.32732747]\n"
     ]
    },
    {
     "name": "stderr",
     "output_type": "stream",
     "text": [
      "100%|██████████| 120/120 [00:16<00:00,  7.21it/s]\n",
      "100%|██████████| 30/30 [00:01<00:00, 25.16it/s]\n"
     ]
    },
    {
     "name": "stdout",
     "output_type": "stream",
     "text": [
      "Epoch 74/1000 - Train loss: 1401.00240987 - Val loss: 1482.39081624\n",
      "INFO: Early stopping counter                     2 of 20                         [Best Val Loss: 1470.05228678,                             Val Loss: 1482.39081624]\n"
     ]
    },
    {
     "name": "stderr",
     "output_type": "stream",
     "text": [
      "100%|██████████| 120/120 [00:16<00:00,  7.34it/s]\n",
      "100%|██████████| 30/30 [00:01<00:00, 22.19it/s]\n"
     ]
    },
    {
     "name": "stdout",
     "output_type": "stream",
     "text": [
      "Epoch 75/1000 - Train loss: 1385.18510437 - Val loss: 1509.66620687\n",
      "INFO: Early stopping counter                     3 of 20                         [Best Val Loss: 1470.05228678,                             Val Loss: 1509.66620687]\n"
     ]
    },
    {
     "name": "stderr",
     "output_type": "stream",
     "text": [
      "100%|██████████| 120/120 [00:16<00:00,  7.20it/s]\n",
      "100%|██████████| 30/30 [00:01<00:00, 25.17it/s]\n"
     ]
    },
    {
     "name": "stdout",
     "output_type": "stream",
     "text": [
      "Epoch 76/1000 - Train loss: 1386.03049113 - Val loss: 1466.41359456\n",
      "INFO: Val_Loss improved (1470.05228678 --> 1466.41359456). Saving model ...\n"
     ]
    },
    {
     "name": "stderr",
     "output_type": "stream",
     "text": [
      "100%|██████████| 120/120 [00:16<00:00,  7.32it/s]\n",
      "100%|██████████| 30/30 [00:01<00:00, 21.78it/s]\n"
     ]
    },
    {
     "name": "stdout",
     "output_type": "stream",
     "text": [
      "Epoch 77/1000 - Train loss: 1372.62018636 - Val loss: 1474.41927897\n",
      "INFO: Early stopping counter                     1 of 20                         [Best Val Loss: 1466.41359456,                             Val Loss: 1474.41927897]\n"
     ]
    },
    {
     "name": "stderr",
     "output_type": "stream",
     "text": [
      "100%|██████████| 120/120 [00:16<00:00,  7.19it/s]\n",
      "100%|██████████| 30/30 [00:01<00:00, 24.78it/s]\n"
     ]
    },
    {
     "name": "stdout",
     "output_type": "stream",
     "text": [
      "Epoch 78/1000 - Train loss: 1381.02753906 - Val loss: 1475.12618408\n",
      "INFO: Early stopping counter                     2 of 20                         [Best Val Loss: 1466.41359456,                             Val Loss: 1475.12618408]\n"
     ]
    },
    {
     "name": "stderr",
     "output_type": "stream",
     "text": [
      "100%|██████████| 120/120 [00:16<00:00,  7.17it/s]\n",
      "100%|██████████| 30/30 [00:01<00:00, 24.95it/s]\n"
     ]
    },
    {
     "name": "stdout",
     "output_type": "stream",
     "text": [
      "Epoch 79/1000 - Train loss: 1373.49257202 - Val loss: 1492.77657064\n",
      "INFO: Early stopping counter                     3 of 20                         [Best Val Loss: 1466.41359456,                             Val Loss: 1492.77657064]\n"
     ]
    },
    {
     "name": "stderr",
     "output_type": "stream",
     "text": [
      "100%|██████████| 120/120 [00:16<00:00,  7.29it/s]\n",
      "100%|██████████| 30/30 [00:01<00:00, 22.62it/s]\n"
     ]
    },
    {
     "name": "stdout",
     "output_type": "stream",
     "text": [
      "Epoch 80/1000 - Train loss: 1366.05015767 - Val loss: 1481.34626465\n",
      "INFO: Early stopping counter                     4 of 20                         [Best Val Loss: 1466.41359456,                             Val Loss: 1481.34626465]\n"
     ]
    },
    {
     "name": "stderr",
     "output_type": "stream",
     "text": [
      "100%|██████████| 120/120 [00:16<00:00,  7.26it/s]\n",
      "100%|██████████| 30/30 [00:01<00:00, 24.44it/s]\n"
     ]
    },
    {
     "name": "stdout",
     "output_type": "stream",
     "text": [
      "Epoch 81/1000 - Train loss: 1376.96361593 - Val loss: 1478.53971761\n",
      "INFO: Early stopping counter                     5 of 20                         [Best Val Loss: 1466.41359456,                             Val Loss: 1478.53971761]\n"
     ]
    },
    {
     "name": "stderr",
     "output_type": "stream",
     "text": [
      "100%|██████████| 120/120 [00:16<00:00,  7.24it/s]\n",
      "100%|██████████| 30/30 [00:01<00:00, 21.55it/s]\n"
     ]
    },
    {
     "name": "stdout",
     "output_type": "stream",
     "text": [
      "Epoch 82/1000 - Train loss: 1365.36792297 - Val loss: 1483.57531738\n",
      "INFO: Early stopping counter                     6 of 20                         [Best Val Loss: 1466.41359456,                             Val Loss: 1483.57531738]\n"
     ]
    },
    {
     "name": "stderr",
     "output_type": "stream",
     "text": [
      "100%|██████████| 120/120 [00:16<00:00,  7.12it/s]\n",
      "100%|██████████| 30/30 [00:01<00:00, 25.18it/s]\n"
     ]
    },
    {
     "name": "stdout",
     "output_type": "stream",
     "text": [
      "Epoch 83/1000 - Train loss: 1363.81930745 - Val loss: 1503.75220133\n",
      "INFO: Early stopping counter                     7 of 20                         [Best Val Loss: 1466.41359456,                             Val Loss: 1503.75220133]\n"
     ]
    },
    {
     "name": "stderr",
     "output_type": "stream",
     "text": [
      "100%|██████████| 120/120 [00:16<00:00,  7.35it/s]\n",
      "100%|██████████| 30/30 [00:01<00:00, 22.31it/s]\n"
     ]
    },
    {
     "name": "stdout",
     "output_type": "stream",
     "text": [
      "Epoch 84/1000 - Train loss: 1375.25551147 - Val loss: 1469.17236735\n",
      "INFO: Early stopping counter                     8 of 20                         [Best Val Loss: 1466.41359456,                             Val Loss: 1469.17236735]\n"
     ]
    },
    {
     "name": "stderr",
     "output_type": "stream",
     "text": [
      "100%|██████████| 120/120 [00:16<00:00,  7.25it/s]\n",
      "100%|██████████| 30/30 [00:01<00:00, 25.02it/s]\n"
     ]
    },
    {
     "name": "stdout",
     "output_type": "stream",
     "text": [
      "Epoch 85/1000 - Train loss: 1359.73573608 - Val loss: 1477.95154622\n",
      "INFO: Early stopping counter                     9 of 20                         [Best Val Loss: 1466.41359456,                             Val Loss: 1477.95154622]\n"
     ]
    },
    {
     "name": "stderr",
     "output_type": "stream",
     "text": [
      "100%|██████████| 120/120 [00:16<00:00,  7.31it/s]\n",
      "100%|██████████| 30/30 [00:01<00:00, 24.60it/s]\n"
     ]
    },
    {
     "name": "stdout",
     "output_type": "stream",
     "text": [
      "Epoch 86/1000 - Train loss: 1352.54728088 - Val loss: 1487.98225505\n",
      "INFO: Early stopping counter                     10 of 20                         [Best Val Loss: 1466.41359456,                             Val Loss: 1487.98225505]\n"
     ]
    },
    {
     "name": "stderr",
     "output_type": "stream",
     "text": [
      "100%|██████████| 120/120 [00:16<00:00,  7.25it/s]\n",
      "100%|██████████| 30/30 [00:01<00:00, 21.92it/s]\n"
     ]
    },
    {
     "name": "stdout",
     "output_type": "stream",
     "text": [
      "Epoch 87/1000 - Train loss: 1359.97195841 - Val loss: 1464.42423910\n",
      "INFO: Val_Loss improved (1466.41359456 --> 1464.42423910). Saving model ...\n"
     ]
    },
    {
     "name": "stderr",
     "output_type": "stream",
     "text": [
      "100%|██████████| 120/120 [00:16<00:00,  7.25it/s]\n",
      "100%|██████████| 30/30 [00:01<00:00, 25.41it/s]\n"
     ]
    },
    {
     "name": "stdout",
     "output_type": "stream",
     "text": [
      "Epoch 88/1000 - Train loss: 1347.97164103 - Val loss: 1462.62575277\n",
      "INFO: Val_Loss improved (1464.42423910 --> 1462.62575277). Saving model ...\n"
     ]
    },
    {
     "name": "stderr",
     "output_type": "stream",
     "text": [
      "100%|██████████| 120/120 [00:16<00:00,  7.25it/s]\n",
      "100%|██████████| 30/30 [00:01<00:00, 22.48it/s]\n"
     ]
    },
    {
     "name": "stdout",
     "output_type": "stream",
     "text": [
      "Epoch 89/1000 - Train loss: 1341.52504272 - Val loss: 1478.61234538\n",
      "INFO: Early stopping counter                     1 of 20                         [Best Val Loss: 1462.62575277,                             Val Loss: 1478.61234538]\n"
     ]
    },
    {
     "name": "stderr",
     "output_type": "stream",
     "text": [
      "100%|██████████| 120/120 [00:16<00:00,  7.19it/s]\n",
      "100%|██████████| 30/30 [00:01<00:00, 24.82it/s]\n"
     ]
    },
    {
     "name": "stdout",
     "output_type": "stream",
     "text": [
      "Epoch 90/1000 - Train loss: 1338.05002441 - Val loss: 1484.90279948\n",
      "INFO: Early stopping counter                     2 of 20                         [Best Val Loss: 1462.62575277,                             Val Loss: 1484.90279948]\n"
     ]
    },
    {
     "name": "stderr",
     "output_type": "stream",
     "text": [
      "100%|██████████| 120/120 [00:16<00:00,  7.39it/s]\n",
      "100%|██████████| 30/30 [00:01<00:00, 24.29it/s]\n"
     ]
    },
    {
     "name": "stdout",
     "output_type": "stream",
     "text": [
      "Epoch 91/1000 - Train loss: 1333.96632080 - Val loss: 1465.91394450\n",
      "INFO: Early stopping counter                     3 of 20                         [Best Val Loss: 1462.62575277,                             Val Loss: 1465.91394450]\n"
     ]
    },
    {
     "name": "stderr",
     "output_type": "stream",
     "text": [
      "100%|██████████| 120/120 [00:16<00:00,  7.21it/s]\n",
      "100%|██████████| 30/30 [00:01<00:00, 21.61it/s]\n"
     ]
    },
    {
     "name": "stdout",
     "output_type": "stream",
     "text": [
      "Epoch 92/1000 - Train loss: 1330.47940165 - Val loss: 1479.34451090\n",
      "INFO: Early stopping counter                     4 of 20                         [Best Val Loss: 1462.62575277,                             Val Loss: 1479.34451090]\n"
     ]
    },
    {
     "name": "stderr",
     "output_type": "stream",
     "text": [
      "100%|██████████| 120/120 [00:16<00:00,  7.21it/s]\n",
      "100%|██████████| 30/30 [00:01<00:00, 25.08it/s]\n"
     ]
    },
    {
     "name": "stdout",
     "output_type": "stream",
     "text": [
      "Epoch 93/1000 - Train loss: 1343.58989868 - Val loss: 1456.79302165\n",
      "INFO: Val_Loss improved (1462.62575277 --> 1456.79302165). Saving model ...\n"
     ]
    },
    {
     "name": "stderr",
     "output_type": "stream",
     "text": [
      "100%|██████████| 120/120 [00:16<00:00,  7.22it/s]\n",
      "100%|██████████| 30/30 [00:01<00:00, 21.77it/s]\n"
     ]
    },
    {
     "name": "stdout",
     "output_type": "stream",
     "text": [
      "Epoch 94/1000 - Train loss: 1341.85667725 - Val loss: 1482.75269368\n",
      "INFO: Early stopping counter                     1 of 20                         [Best Val Loss: 1456.79302165,                             Val Loss: 1482.75269368]\n"
     ]
    },
    {
     "name": "stderr",
     "output_type": "stream",
     "text": [
      "100%|██████████| 120/120 [00:16<00:00,  7.21it/s]\n",
      "100%|██████████| 30/30 [00:01<00:00, 24.58it/s]\n"
     ]
    },
    {
     "name": "stdout",
     "output_type": "stream",
     "text": [
      "Epoch 95/1000 - Train loss: 1327.94591268 - Val loss: 1468.00319417\n",
      "INFO: Early stopping counter                     2 of 20                         [Best Val Loss: 1456.79302165,                             Val Loss: 1468.00319417]\n"
     ]
    },
    {
     "name": "stderr",
     "output_type": "stream",
     "text": [
      "100%|██████████| 120/120 [00:16<00:00,  7.20it/s]\n",
      "100%|██████████| 30/30 [00:01<00:00, 21.51it/s]\n"
     ]
    },
    {
     "name": "stdout",
     "output_type": "stream",
     "text": [
      "Epoch 96/1000 - Train loss: 1341.89235840 - Val loss: 1505.50149333\n",
      "INFO: Early stopping counter                     3 of 20                         [Best Val Loss: 1456.79302165,                             Val Loss: 1505.50149333]\n"
     ]
    },
    {
     "name": "stderr",
     "output_type": "stream",
     "text": [
      "100%|██████████| 120/120 [00:16<00:00,  7.27it/s]\n",
      "100%|██████████| 30/30 [00:01<00:00, 24.80it/s]\n"
     ]
    },
    {
     "name": "stdout",
     "output_type": "stream",
     "text": [
      "Epoch 97/1000 - Train loss: 1320.53960571 - Val loss: 1469.53007406\n",
      "INFO: Early stopping counter                     4 of 20                         [Best Val Loss: 1456.79302165,                             Val Loss: 1469.53007406]\n"
     ]
    },
    {
     "name": "stderr",
     "output_type": "stream",
     "text": [
      "100%|██████████| 120/120 [00:16<00:00,  7.20it/s]\n",
      "100%|██████████| 30/30 [00:01<00:00, 22.11it/s]\n"
     ]
    },
    {
     "name": "stdout",
     "output_type": "stream",
     "text": [
      "Epoch 98/1000 - Train loss: 1329.71967468 - Val loss: 1471.28465169\n",
      "INFO: Early stopping counter                     5 of 20                         [Best Val Loss: 1456.79302165,                             Val Loss: 1471.28465169]\n"
     ]
    },
    {
     "name": "stderr",
     "output_type": "stream",
     "text": [
      "100%|██████████| 120/120 [00:16<00:00,  7.21it/s]\n",
      "100%|██████████| 30/30 [00:01<00:00, 24.83it/s]\n"
     ]
    },
    {
     "name": "stdout",
     "output_type": "stream",
     "text": [
      "Epoch 99/1000 - Train loss: 1318.38923543 - Val loss: 1460.38648275\n",
      "INFO: Early stopping counter                     6 of 20                         [Best Val Loss: 1456.79302165,                             Val Loss: 1460.38648275]\n"
     ]
    },
    {
     "name": "stderr",
     "output_type": "stream",
     "text": [
      "100%|██████████| 120/120 [00:16<00:00,  7.31it/s]\n",
      "100%|██████████| 30/30 [00:01<00:00, 25.11it/s]\n"
     ]
    },
    {
     "name": "stdout",
     "output_type": "stream",
     "text": [
      "Epoch 100/1000 - Train loss: 1308.92377726 - Val loss: 1476.00021159\n",
      "INFO: Early stopping counter                     7 of 20                         [Best Val Loss: 1456.79302165,                             Val Loss: 1476.00021159]\n"
     ]
    },
    {
     "name": "stderr",
     "output_type": "stream",
     "text": [
      "100%|██████████| 120/120 [00:16<00:00,  7.16it/s]\n",
      "100%|██████████| 30/30 [00:01<00:00, 23.06it/s]\n"
     ]
    },
    {
     "name": "stdout",
     "output_type": "stream",
     "text": [
      "Epoch 101/1000 - Train loss: 1327.68236796 - Val loss: 1464.87981364\n",
      "INFO: Early stopping counter                     8 of 20                         [Best Val Loss: 1456.79302165,                             Val Loss: 1464.87981364]\n"
     ]
    },
    {
     "name": "stderr",
     "output_type": "stream",
     "text": [
      "100%|██████████| 120/120 [00:16<00:00,  7.26it/s]\n",
      "100%|██████████| 30/30 [00:01<00:00, 25.06it/s]\n"
     ]
    },
    {
     "name": "stdout",
     "output_type": "stream",
     "text": [
      "Epoch 102/1000 - Train loss: 1321.35953776 - Val loss: 1484.84060059\n",
      "INFO: Early stopping counter                     9 of 20                         [Best Val Loss: 1456.79302165,                             Val Loss: 1484.84060059]\n"
     ]
    },
    {
     "name": "stderr",
     "output_type": "stream",
     "text": [
      "100%|██████████| 120/120 [00:16<00:00,  7.23it/s]\n",
      "100%|██████████| 30/30 [00:01<00:00, 21.99it/s]\n"
     ]
    },
    {
     "name": "stdout",
     "output_type": "stream",
     "text": [
      "Epoch 103/1000 - Train loss: 1308.20714315 - Val loss: 1504.38103027\n",
      "INFO: Early stopping counter                     10 of 20                         [Best Val Loss: 1456.79302165,                             Val Loss: 1504.38103027]\n"
     ]
    },
    {
     "name": "stderr",
     "output_type": "stream",
     "text": [
      "100%|██████████| 120/120 [00:16<00:00,  7.18it/s]\n",
      "100%|██████████| 30/30 [00:01<00:00, 24.93it/s]\n"
     ]
    },
    {
     "name": "stdout",
     "output_type": "stream",
     "text": [
      "Epoch 104/1000 - Train loss: 1306.83864644 - Val loss: 1491.88827718\n",
      "INFO: Early stopping counter                     11 of 20                         [Best Val Loss: 1456.79302165,                             Val Loss: 1491.88827718]\n",
      "Epoch 00104: reducing learning rate of group 0 to 1.0000e-07.\n",
      "Epoch 00104: reducing learning rate of group 1 to 1.0000e-07.\n",
      "Epoch 00104: reducing learning rate of group 2 to 1.0000e-07.\n"
     ]
    },
    {
     "name": "stderr",
     "output_type": "stream",
     "text": [
      "100%|██████████| 120/120 [00:16<00:00,  7.24it/s]\n",
      "100%|██████████| 30/30 [00:01<00:00, 22.39it/s]\n"
     ]
    },
    {
     "name": "stdout",
     "output_type": "stream",
     "text": [
      "Epoch 105/1000 - Train loss: 1279.85932617 - Val loss: 1449.60711670\n",
      "INFO: Val_Loss improved (1456.79302165 --> 1449.60711670). Saving model ...\n"
     ]
    },
    {
     "name": "stderr",
     "output_type": "stream",
     "text": [
      "100%|██████████| 120/120 [00:16<00:00,  7.19it/s]\n",
      "100%|██████████| 30/30 [00:01<00:00, 25.40it/s]\n"
     ]
    },
    {
     "name": "stdout",
     "output_type": "stream",
     "text": [
      "Epoch 106/1000 - Train loss: 1264.75489400 - Val loss: 1436.74384359\n",
      "INFO: Val_Loss improved (1449.60711670 --> 1436.74384359). Saving model ...\n"
     ]
    },
    {
     "name": "stderr",
     "output_type": "stream",
     "text": [
      "100%|██████████| 120/120 [00:16<00:00,  7.30it/s]\n",
      "100%|██████████| 30/30 [00:01<00:00, 21.87it/s]\n"
     ]
    },
    {
     "name": "stdout",
     "output_type": "stream",
     "text": [
      "Epoch 107/1000 - Train loss: 1243.51479085 - Val loss: 1439.20335693\n",
      "INFO: Early stopping counter                     1 of 20                         [Best Val Loss: 1436.74384359,                             Val Loss: 1439.20335693]\n"
     ]
    },
    {
     "name": "stderr",
     "output_type": "stream",
     "text": [
      "100%|██████████| 120/120 [00:16<00:00,  7.27it/s]\n",
      "100%|██████████| 30/30 [00:01<00:00, 24.72it/s]\n"
     ]
    },
    {
     "name": "stdout",
     "output_type": "stream",
     "text": [
      "Epoch 108/1000 - Train loss: 1256.19158834 - Val loss: 1448.30501302\n",
      "INFO: Early stopping counter                     2 of 20                         [Best Val Loss: 1436.74384359,                             Val Loss: 1448.30501302]\n"
     ]
    },
    {
     "name": "stderr",
     "output_type": "stream",
     "text": [
      "100%|██████████| 120/120 [00:16<00:00,  7.29it/s]\n",
      "100%|██████████| 30/30 [00:01<00:00, 25.03it/s]\n"
     ]
    },
    {
     "name": "stdout",
     "output_type": "stream",
     "text": [
      "Epoch 109/1000 - Train loss: 1246.35949809 - Val loss: 1446.15256755\n",
      "INFO: Early stopping counter                     3 of 20                         [Best Val Loss: 1436.74384359,                             Val Loss: 1446.15256755]\n"
     ]
    },
    {
     "name": "stderr",
     "output_type": "stream",
     "text": [
      "100%|██████████| 120/120 [00:16<00:00,  7.22it/s]\n",
      "100%|██████████| 30/30 [00:01<00:00, 22.18it/s]\n"
     ]
    },
    {
     "name": "stdout",
     "output_type": "stream",
     "text": [
      "Epoch 110/1000 - Train loss: 1262.11881917 - Val loss: 1436.12414958\n",
      "INFO: Val_Loss improved (1436.74384359 --> 1436.12414958). Saving model ...\n"
     ]
    },
    {
     "name": "stderr",
     "output_type": "stream",
     "text": [
      "100%|██████████| 120/120 [00:16<00:00,  7.19it/s]\n",
      "100%|██████████| 30/30 [00:01<00:00, 25.18it/s]\n"
     ]
    },
    {
     "name": "stdout",
     "output_type": "stream",
     "text": [
      "Epoch 111/1000 - Train loss: 1254.50967509 - Val loss: 1437.80731608\n",
      "INFO: Early stopping counter                     1 of 20                         [Best Val Loss: 1436.12414958,                             Val Loss: 1437.80731608]\n"
     ]
    },
    {
     "name": "stderr",
     "output_type": "stream",
     "text": [
      "100%|██████████| 120/120 [00:16<00:00,  7.10it/s]\n",
      "100%|██████████| 30/30 [00:01<00:00, 22.22it/s]\n"
     ]
    },
    {
     "name": "stdout",
     "output_type": "stream",
     "text": [
      "Epoch 112/1000 - Train loss: 1259.48186137 - Val loss: 1435.54129232\n",
      "INFO: Val_Loss improved (1436.12414958 --> 1435.54129232). Saving model ...\n"
     ]
    },
    {
     "name": "stderr",
     "output_type": "stream",
     "text": [
      "100%|██████████| 120/120 [00:16<00:00,  7.30it/s]\n",
      "100%|██████████| 30/30 [00:01<00:00, 24.89it/s]\n"
     ]
    },
    {
     "name": "stdout",
     "output_type": "stream",
     "text": [
      "Epoch 113/1000 - Train loss: 1236.83064779 - Val loss: 1444.17726237\n",
      "INFO: Early stopping counter                     1 of 20                         [Best Val Loss: 1435.54129232,                             Val Loss: 1444.17726237]\n"
     ]
    },
    {
     "name": "stderr",
     "output_type": "stream",
     "text": [
      "100%|██████████| 120/120 [00:16<00:00,  7.21it/s]\n",
      "100%|██████████| 30/30 [00:01<00:00, 21.82it/s]\n"
     ]
    },
    {
     "name": "stdout",
     "output_type": "stream",
     "text": [
      "Epoch 114/1000 - Train loss: 1235.66631266 - Val loss: 1442.45617676\n",
      "INFO: Early stopping counter                     2 of 20                         [Best Val Loss: 1435.54129232,                             Val Loss: 1442.45617676]\n"
     ]
    },
    {
     "name": "stderr",
     "output_type": "stream",
     "text": [
      "100%|██████████| 120/120 [00:16<00:00,  7.20it/s]\n",
      "100%|██████████| 30/30 [00:01<00:00, 24.98it/s]\n"
     ]
    },
    {
     "name": "stdout",
     "output_type": "stream",
     "text": [
      "Epoch 115/1000 - Train loss: 1237.60505981 - Val loss: 1443.30299072\n",
      "INFO: Early stopping counter                     3 of 20                         [Best Val Loss: 1435.54129232,                             Val Loss: 1443.30299072]\n"
     ]
    },
    {
     "name": "stderr",
     "output_type": "stream",
     "text": [
      "100%|██████████| 120/120 [00:16<00:00,  7.22it/s]\n",
      "100%|██████████| 30/30 [00:01<00:00, 21.98it/s]\n"
     ]
    },
    {
     "name": "stdout",
     "output_type": "stream",
     "text": [
      "Epoch 116/1000 - Train loss: 1238.48349915 - Val loss: 1446.86625163\n",
      "INFO: Early stopping counter                     4 of 20                         [Best Val Loss: 1435.54129232,                             Val Loss: 1446.86625163]\n"
     ]
    },
    {
     "name": "stderr",
     "output_type": "stream",
     "text": [
      "100%|██████████| 120/120 [00:16<00:00,  7.21it/s]\n",
      "100%|██████████| 30/30 [00:01<00:00, 25.12it/s]\n"
     ]
    },
    {
     "name": "stdout",
     "output_type": "stream",
     "text": [
      "Epoch 117/1000 - Train loss: 1228.81956685 - Val loss: 1438.73139242\n",
      "INFO: Early stopping counter                     5 of 20                         [Best Val Loss: 1435.54129232,                             Val Loss: 1438.73139242]\n"
     ]
    },
    {
     "name": "stderr",
     "output_type": "stream",
     "text": [
      "100%|██████████| 120/120 [00:16<00:00,  7.24it/s]\n",
      "100%|██████████| 30/30 [00:01<00:00, 22.29it/s]\n"
     ]
    },
    {
     "name": "stdout",
     "output_type": "stream",
     "text": [
      "Epoch 118/1000 - Train loss: 1235.31768494 - Val loss: 1436.46524251\n",
      "INFO: Early stopping counter                     6 of 20                         [Best Val Loss: 1435.54129232,                             Val Loss: 1436.46524251]\n"
     ]
    },
    {
     "name": "stderr",
     "output_type": "stream",
     "text": [
      "100%|██████████| 120/120 [00:16<00:00,  7.22it/s]\n",
      "100%|██████████| 30/30 [00:01<00:00, 24.84it/s]\n"
     ]
    },
    {
     "name": "stdout",
     "output_type": "stream",
     "text": [
      "Epoch 119/1000 - Train loss: 1221.74420980 - Val loss: 1438.38082275\n",
      "INFO: Early stopping counter                     7 of 20                         [Best Val Loss: 1435.54129232,                             Val Loss: 1438.38082275]\n"
     ]
    },
    {
     "name": "stderr",
     "output_type": "stream",
     "text": [
      "100%|██████████| 120/120 [00:16<00:00,  7.26it/s]\n",
      "100%|██████████| 30/30 [00:01<00:00, 25.06it/s]\n"
     ]
    },
    {
     "name": "stdout",
     "output_type": "stream",
     "text": [
      "Epoch 120/1000 - Train loss: 1222.66671143 - Val loss: 1442.09947103\n",
      "INFO: Early stopping counter                     8 of 20                         [Best Val Loss: 1435.54129232,                             Val Loss: 1442.09947103]\n"
     ]
    },
    {
     "name": "stderr",
     "output_type": "stream",
     "text": [
      "100%|██████████| 120/120 [00:16<00:00,  7.18it/s]\n",
      "100%|██████████| 30/30 [00:01<00:00, 22.69it/s]\n"
     ]
    },
    {
     "name": "stdout",
     "output_type": "stream",
     "text": [
      "Epoch 121/1000 - Train loss: 1215.57423859 - Val loss: 1446.69070231\n",
      "INFO: Early stopping counter                     9 of 20                         [Best Val Loss: 1435.54129232,                             Val Loss: 1446.69070231]\n"
     ]
    },
    {
     "name": "stderr",
     "output_type": "stream",
     "text": [
      "100%|██████████| 120/120 [00:16<00:00,  7.24it/s]\n",
      "100%|██████████| 30/30 [00:01<00:00, 24.85it/s]\n"
     ]
    },
    {
     "name": "stdout",
     "output_type": "stream",
     "text": [
      "Epoch 122/1000 - Train loss: 1235.16498667 - Val loss: 1443.17941895\n",
      "INFO: Early stopping counter                     10 of 20                         [Best Val Loss: 1435.54129232,                             Val Loss: 1443.17941895]\n"
     ]
    },
    {
     "name": "stderr",
     "output_type": "stream",
     "text": [
      "100%|██████████| 120/120 [00:16<00:00,  7.25it/s]\n",
      "100%|██████████| 30/30 [00:01<00:00, 21.81it/s]\n"
     ]
    },
    {
     "name": "stdout",
     "output_type": "stream",
     "text": [
      "Epoch 123/1000 - Train loss: 1224.58130798 - Val loss: 1438.14779053\n",
      "INFO: Early stopping counter                     11 of 20                         [Best Val Loss: 1435.54129232,                             Val Loss: 1438.14779053]\n",
      "Epoch 00123: reducing learning rate of group 0 to 1.0000e-08.\n",
      "Epoch 00123: reducing learning rate of group 1 to 1.0000e-08.\n",
      "Epoch 00123: reducing learning rate of group 2 to 1.0000e-08.\n"
     ]
    },
    {
     "name": "stderr",
     "output_type": "stream",
     "text": [
      "100%|██████████| 120/120 [00:16<00:00,  7.20it/s]\n",
      "100%|██████████| 30/30 [00:01<00:00, 24.20it/s]\n"
     ]
    },
    {
     "name": "stdout",
     "output_type": "stream",
     "text": [
      "Epoch 124/1000 - Train loss: 1217.41171468 - Val loss: 1440.67330322\n",
      "INFO: Early stopping counter                     12 of 20                         [Best Val Loss: 1435.54129232,                             Val Loss: 1440.67330322]\n"
     ]
    },
    {
     "name": "stderr",
     "output_type": "stream",
     "text": [
      "100%|██████████| 120/120 [00:16<00:00,  7.32it/s]\n",
      "100%|██████████| 30/30 [00:01<00:00, 22.59it/s]\n"
     ]
    },
    {
     "name": "stdout",
     "output_type": "stream",
     "text": [
      "Epoch 125/1000 - Train loss: 1228.28821411 - Val loss: 1445.15652669\n",
      "INFO: Early stopping counter                     13 of 20                         [Best Val Loss: 1435.54129232,                             Val Loss: 1445.15652669]\n"
     ]
    },
    {
     "name": "stderr",
     "output_type": "stream",
     "text": [
      "100%|██████████| 120/120 [00:16<00:00,  7.24it/s]\n",
      "100%|██████████| 30/30 [00:01<00:00, 24.57it/s]\n"
     ]
    },
    {
     "name": "stdout",
     "output_type": "stream",
     "text": [
      "Epoch 126/1000 - Train loss: 1224.62659912 - Val loss: 1444.86668701\n",
      "INFO: Early stopping counter                     14 of 20                         [Best Val Loss: 1435.54129232,                             Val Loss: 1444.86668701]\n"
     ]
    },
    {
     "name": "stderr",
     "output_type": "stream",
     "text": [
      "100%|██████████| 120/120 [00:16<00:00,  7.26it/s]\n",
      "100%|██████████| 30/30 [00:01<00:00, 25.10it/s]\n"
     ]
    },
    {
     "name": "stdout",
     "output_type": "stream",
     "text": [
      "Epoch 127/1000 - Train loss: 1216.19667664 - Val loss: 1442.61728516\n",
      "INFO: Early stopping counter                     15 of 20                         [Best Val Loss: 1435.54129232,                             Val Loss: 1442.61728516]\n"
     ]
    },
    {
     "name": "stderr",
     "output_type": "stream",
     "text": [
      "100%|██████████| 120/120 [00:16<00:00,  7.29it/s]\n",
      "100%|██████████| 30/30 [00:01<00:00, 22.07it/s]\n"
     ]
    },
    {
     "name": "stdout",
     "output_type": "stream",
     "text": [
      "Epoch 128/1000 - Train loss: 1224.08571574 - Val loss: 1441.93986003\n",
      "INFO: Early stopping counter                     16 of 20                         [Best Val Loss: 1435.54129232,                             Val Loss: 1441.93986003]\n"
     ]
    },
    {
     "name": "stderr",
     "output_type": "stream",
     "text": [
      "100%|██████████| 120/120 [00:16<00:00,  7.24it/s]\n",
      "100%|██████████| 30/30 [00:01<00:00, 24.63it/s]\n"
     ]
    },
    {
     "name": "stdout",
     "output_type": "stream",
     "text": [
      "Epoch 129/1000 - Train loss: 1218.61766357 - Val loss: 1443.84890544\n",
      "INFO: Early stopping counter                     17 of 20                         [Best Val Loss: 1435.54129232,                             Val Loss: 1443.84890544]\n"
     ]
    },
    {
     "name": "stderr",
     "output_type": "stream",
     "text": [
      "100%|██████████| 120/120 [00:16<00:00,  7.21it/s]\n",
      "100%|██████████| 30/30 [00:01<00:00, 22.12it/s]\n"
     ]
    },
    {
     "name": "stdout",
     "output_type": "stream",
     "text": [
      "Epoch 130/1000 - Train loss: 1212.96040141 - Val loss: 1444.55605876\n",
      "INFO: Early stopping counter                     18 of 20                         [Best Val Loss: 1435.54129232,                             Val Loss: 1444.55605876]\n"
     ]
    },
    {
     "name": "stderr",
     "output_type": "stream",
     "text": [
      "100%|██████████| 120/120 [00:16<00:00,  7.19it/s]\n",
      "100%|██████████| 30/30 [00:01<00:00, 24.78it/s]\n"
     ]
    },
    {
     "name": "stdout",
     "output_type": "stream",
     "text": [
      "Epoch 131/1000 - Train loss: 1225.11510468 - Val loss: 1443.43215332\n",
      "INFO: Early stopping counter                     19 of 20                         [Best Val Loss: 1435.54129232,                             Val Loss: 1443.43215332]\n"
     ]
    },
    {
     "name": "stderr",
     "output_type": "stream",
     "text": [
      "100%|██████████| 120/120 [00:16<00:00,  7.21it/s]\n",
      "100%|██████████| 30/30 [00:01<00:00, 21.85it/s]\n"
     ]
    },
    {
     "name": "stdout",
     "output_type": "stream",
     "text": [
      "Epoch 132/1000 - Train loss: 1215.74841410 - Val loss: 1445.45094808\n",
      "INFO: Early stopping counter                     20 of 20                         [Best Val Loss: 1435.54129232,                             Val Loss: 1445.45094808]\n",
      "INFO: Early stopping DONE!\n",
      "INFO: Best Val Loss: 1435.54129232\n",
      "Loading best model...\n"
     ]
    }
   ],
   "source": [
    "from landmarker.pipeline import AdaptiveHeatmapRegressionPipeline\n",
    "\n",
    "train_config = {\n",
    "    \"criterion\": \"l2\",\n",
    "    \"optimizer\": \"sgd\",\n",
    "    \"lr\": 1e-6,\n",
    "    \"batch_size\": 1,\n",
    "    \"epochs\": epochs,\n",
    "    \"lr_scheduler\": True,\n",
    "}\n",
    "\n",
    "\n",
    "fn_keys = ('image', )\n",
    "spatial_transformd = [RandAffined(fn_keys, prob=1,\n",
    "                        rotate_range=(-np.pi/12, np.pi/12),\n",
    "                        translate_range=(-10, 10),\n",
    "                        scale_range=(-0.1, 0.1),\n",
    "                        shear_range=(-0.1, 0.1)\n",
    "                        )]\n",
    "\n",
    "composed_transformd = Compose(spatial_transformd +\n",
    "                            [RandGaussianNoised(('image', ), prob=0.1, mean=0, std=0.005),  # Add gaussian noise\n",
    "                        RandStdShiftIntensityd(('image', ), prob=0.1, factors=0.1),  # Add random intensity shift\n",
    "                        RandScaleIntensityd(('image', ), factors=0.25, prob=0.1),  # Add random intensity scaling\n",
    "                        RandAdjustContrastd(('image', ), prob=0.1, gamma=(0.5,2)),  # Randomly adjust contrast\n",
    "                        RandHistogramShiftd(('image', ), prob=0.1),  # Randomly shift histogram\n",
    "                        ])\n",
    "\n",
    "adaptiveHeatmapRegressionPipeline = AdaptiveHeatmapRegressionPipeline(\n",
    "    sigmas=3.0, alpha=5.0, model=\"OriginalSpatialConfigurationNet\", in_channels_img=1, nb_landmarks=19,\n",
    "    train_config=train_config, heatmap_decoder=coord_argmax, verbose=True, device=device, dim_img=dim_img,\n",
    "    gamma=100\n",
    ")\n",
    "adaptiveHeatmapRegressionPipeline.fit(image_paths_train, landmarks_train,\n",
    "                                        transform=composed_transformd, cache_ds=cache_ds)"
   ]
  },
  {
   "cell_type": "code",
   "execution_count": 8,
   "metadata": {},
   "outputs": [
    {
     "name": "stdout",
     "output_type": "stream",
     "text": [
      "Reading, normalizing and resizing 150 images and landmarks...\n"
     ]
    },
    {
     "name": "stderr",
     "output_type": "stream",
     "text": [
      "100%|██████████| 150/150 [00:03<00:00, 47.15it/s]\n",
      "100%|██████████| 150/150 [00:04<00:00, 34.66it/s]\n"
     ]
    },
    {
     "name": "stdout",
     "output_type": "stream",
     "text": [
      "Detection report:\n",
      "1# Point-to-point error (PE) statistics:\n",
      "======================================================================\n",
      "Class               Mean      Median    Std       Min       Max       \n",
      "----------------------------------------------------------------------\n",
      "Landmark 0          0.72      0.54      1.23      0.03      11.49     \n",
      "Landmark 1          1.71      0.93      1.97      0.03      11.26     \n",
      "Landmark 2          1.94      1.50      1.53      0.07      9.10      \n",
      "Landmark 3          2.98      1.87      2.56      0.05      10.33     \n",
      "Landmark 4          2.24      1.82      1.51      0.14      7.10      \n",
      "Landmark 5          1.70      1.23      1.49      0.03      7.45      \n",
      "Landmark 6          1.06      0.82      0.84      0.08      4.99      \n",
      "Landmark 7          1.04      0.78      1.04      0.06      8.76      \n",
      "Landmark 8          0.96      0.83      0.71      0.08      4.37      \n",
      "Landmark 9          3.64      3.34      2.14      0.06      9.09      \n",
      "Landmark 10         0.89      0.66      0.97      0.03      8.65      \n",
      "Landmark 11         0.67      0.50      0.87      0.02      8.05      \n",
      "Landmark 12         0.96      0.79      0.67      0.05      3.81      \n",
      "Landmark 13         0.82      0.69      0.55      0.04      2.88      \n",
      "Landmark 14         1.13      0.87      1.03      0.05      6.85      \n",
      "Landmark 15         2.04      1.84      1.47      0.07      8.39      \n",
      "Landmark 16         1.07      0.86      0.77      0.08      3.71      \n",
      "Landmark 17         1.74      1.20      1.68      0.10      13.14     \n",
      "Landmark 18         2.69      1.60      2.51      0.13      11.06     \n",
      "======================================================================\n",
      "\n",
      "2# Success detection rate (SDR):\n",
      "================================================================================\n",
      "Class               SDR (PE≤2mm)   SDR (PE≤2.5mm) SDR (PE≤3mm)   SDR (PE≤4mm)   \n",
      "--------------------------------------------------------------------------------\n",
      "Landmark 0          98.00          98.00          98.00          98.67          \n",
      "Landmark 1          75.33          78.67          80.67          86.67          \n",
      "Landmark 2          66.67          73.33          79.33          88.67          \n",
      "Landmark 3          54.00          57.33          60.67          67.33          \n",
      "Landmark 4          56.67          66.00          76.00          87.33          \n",
      "Landmark 5          72.67          82.00          87.33          92.00          \n",
      "Landmark 6          87.33          93.33          96.67          98.67          \n",
      "Landmark 7          89.33          94.00          96.00          98.67          \n",
      "Landmark 8          91.33          96.67          98.00          99.33          \n",
      "Landmark 9          28.00          36.67          44.00          61.33          \n",
      "Landmark 10         90.67          94.67          97.33          98.67          \n",
      "Landmark 11         95.33          96.00          96.67          98.67          \n",
      "Landmark 12         92.00          97.33          98.67          100.00         \n",
      "Landmark 13         96.00          99.33          100.00         100.00         \n",
      "Landmark 14         87.33          91.33          95.33          97.33          \n",
      "Landmark 15         56.00          68.00          82.00          90.67          \n",
      "Landmark 16         84.67          94.67          98.00          100.00         \n",
      "Landmark 17         72.00          80.00          86.00          93.33          \n",
      "Landmark 18         56.00          59.33          60.67          73.33          \n",
      "================================================================================\n"
     ]
    }
   ],
   "source": [
    "results_adaptive = adaptiveHeatmapRegressionPipeline.evaluate(image_paths_test1, landmarks_test1, pixel_spacings_test1)"
   ]
  },
  {
   "cell_type": "markdown",
   "metadata": {},
   "source": [
    "## Indirect Uncertainty Aware Heatmap Regression"
   ]
  },
  {
   "cell_type": "code",
   "execution_count": 9,
   "metadata": {},
   "outputs": [
    {
     "name": "stdout",
     "output_type": "stream",
     "text": [
      "Reading, normalizing and resizing 150 images and landmarks...\n"
     ]
    },
    {
     "name": "stderr",
     "output_type": "stream",
     "text": [
      "100%|██████████| 150/150 [00:03<00:00, 47.28it/s]\n",
      "100%|██████████| 30/30 [00:09<00:00,  3.22it/s]\n",
      "100%|██████████| 8/8 [00:00<00:00,  9.28it/s]\n"
     ]
    },
    {
     "name": "stdout",
     "output_type": "stream",
     "text": [
      "Epoch 1/1000 - Train loss: 8.85510486 - Val loss: 7.59643334\n"
     ]
    },
    {
     "name": "stderr",
     "output_type": "stream",
     "text": [
      "100%|██████████| 30/30 [00:08<00:00,  3.35it/s]\n",
      "100%|██████████| 8/8 [00:00<00:00,  9.53it/s]\n"
     ]
    },
    {
     "name": "stdout",
     "output_type": "stream",
     "text": [
      "Epoch 2/1000 - Train loss: 6.91894143 - Val loss: 6.12938422\n",
      "INFO: Val_Loss improved (7.59643334 --> 6.12938422). Saving model ...\n"
     ]
    },
    {
     "name": "stderr",
     "output_type": "stream",
     "text": [
      "100%|██████████| 30/30 [00:09<00:00,  3.25it/s]\n",
      "100%|██████████| 8/8 [00:00<00:00,  9.49it/s]\n"
     ]
    },
    {
     "name": "stdout",
     "output_type": "stream",
     "text": [
      "Epoch 3/1000 - Train loss: 6.06907252 - Val loss: 5.84842372\n",
      "INFO: Val_Loss improved (6.12938422 --> 5.84842372). Saving model ...\n"
     ]
    },
    {
     "name": "stderr",
     "output_type": "stream",
     "text": [
      "100%|██████████| 30/30 [00:09<00:00,  3.28it/s]\n",
      "100%|██████████| 8/8 [00:00<00:00,  9.40it/s]\n"
     ]
    },
    {
     "name": "stdout",
     "output_type": "stream",
     "text": [
      "Epoch 4/1000 - Train loss: 5.71870116 - Val loss: 5.36497980\n",
      "INFO: Val_Loss improved (5.84842372 --> 5.36497980). Saving model ...\n"
     ]
    },
    {
     "name": "stderr",
     "output_type": "stream",
     "text": [
      "100%|██████████| 30/30 [00:09<00:00,  3.18it/s]\n",
      "100%|██████████| 8/8 [00:00<00:00,  9.33it/s]\n"
     ]
    },
    {
     "name": "stdout",
     "output_type": "stream",
     "text": [
      "Epoch 5/1000 - Train loss: 5.25066692 - Val loss: 4.96219409\n",
      "INFO: Val_Loss improved (5.36497980 --> 4.96219409). Saving model ...\n"
     ]
    },
    {
     "name": "stderr",
     "output_type": "stream",
     "text": [
      "100%|██████████| 30/30 [00:09<00:00,  3.29it/s]\n",
      "100%|██████████| 8/8 [00:00<00:00,  9.55it/s]\n"
     ]
    },
    {
     "name": "stdout",
     "output_type": "stream",
     "text": [
      "Epoch 6/1000 - Train loss: 5.05971494 - Val loss: 4.93065578\n",
      "INFO: Val_Loss improved (4.96219409 --> 4.93065578). Saving model ...\n"
     ]
    },
    {
     "name": "stderr",
     "output_type": "stream",
     "text": [
      "100%|██████████| 30/30 [00:09<00:00,  3.29it/s]\n",
      "100%|██████████| 8/8 [00:00<00:00,  8.29it/s]\n"
     ]
    },
    {
     "name": "stdout",
     "output_type": "stream",
     "text": [
      "Epoch 7/1000 - Train loss: 5.15118046 - Val loss: 5.10248494\n",
      "INFO: Early stopping counter                     1 of 20                         [Best Val Loss: 4.93065578,                             Val Loss: 5.10248494]\n"
     ]
    },
    {
     "name": "stderr",
     "output_type": "stream",
     "text": [
      "100%|██████████| 30/30 [00:08<00:00,  3.35it/s]\n",
      "100%|██████████| 8/8 [00:01<00:00,  7.93it/s]\n"
     ]
    },
    {
     "name": "stdout",
     "output_type": "stream",
     "text": [
      "Epoch 8/1000 - Train loss: 4.98578777 - Val loss: 4.80787593\n",
      "INFO: Val_Loss improved (4.93065578 --> 4.80787593). Saving model ...\n"
     ]
    },
    {
     "name": "stderr",
     "output_type": "stream",
     "text": [
      "100%|██████████| 30/30 [00:09<00:00,  3.33it/s]\n",
      "100%|██████████| 8/8 [00:00<00:00,  8.43it/s]\n"
     ]
    },
    {
     "name": "stdout",
     "output_type": "stream",
     "text": [
      "Epoch 9/1000 - Train loss: 4.98838374 - Val loss: 4.93277884\n",
      "INFO: Early stopping counter                     1 of 20                         [Best Val Loss: 4.80787593,                             Val Loss: 4.93277884]\n"
     ]
    },
    {
     "name": "stderr",
     "output_type": "stream",
     "text": [
      "100%|██████████| 30/30 [00:09<00:00,  3.28it/s]\n",
      "100%|██████████| 8/8 [00:00<00:00,  8.20it/s]\n"
     ]
    },
    {
     "name": "stdout",
     "output_type": "stream",
     "text": [
      "Epoch 10/1000 - Train loss: 4.99105763 - Val loss: 4.79771185\n",
      "INFO: Val_Loss improved (4.80787593 --> 4.79771185). Saving model ...\n"
     ]
    },
    {
     "name": "stderr",
     "output_type": "stream",
     "text": [
      "100%|██████████| 30/30 [00:08<00:00,  3.34it/s]\n",
      "100%|██████████| 8/8 [00:00<00:00,  9.48it/s]\n"
     ]
    },
    {
     "name": "stdout",
     "output_type": "stream",
     "text": [
      "Epoch 11/1000 - Train loss: 4.93627516 - Val loss: 4.78159946\n",
      "INFO: Val_Loss improved (4.79771185 --> 4.78159946). Saving model ...\n"
     ]
    },
    {
     "name": "stderr",
     "output_type": "stream",
     "text": [
      "100%|██████████| 30/30 [00:09<00:00,  3.28it/s]\n",
      "100%|██████████| 8/8 [00:00<00:00,  9.56it/s]\n"
     ]
    },
    {
     "name": "stdout",
     "output_type": "stream",
     "text": [
      "Epoch 12/1000 - Train loss: 4.79021955 - Val loss: 4.70071155\n",
      "INFO: Val_Loss improved (4.78159946 --> 4.70071155). Saving model ...\n"
     ]
    },
    {
     "name": "stderr",
     "output_type": "stream",
     "text": [
      "100%|██████████| 30/30 [00:09<00:00,  3.29it/s]\n",
      "100%|██████████| 8/8 [00:00<00:00,  9.40it/s]\n"
     ]
    },
    {
     "name": "stdout",
     "output_type": "stream",
     "text": [
      "Epoch 13/1000 - Train loss: 4.61603632 - Val loss: 4.57115924\n",
      "INFO: Val_Loss improved (4.70071155 --> 4.57115924). Saving model ...\n"
     ]
    },
    {
     "name": "stderr",
     "output_type": "stream",
     "text": [
      "100%|██████████| 30/30 [00:09<00:00,  3.29it/s]\n",
      "100%|██████████| 8/8 [00:00<00:00,  9.48it/s]\n"
     ]
    },
    {
     "name": "stdout",
     "output_type": "stream",
     "text": [
      "Epoch 14/1000 - Train loss: 4.67758387 - Val loss: 4.50821054\n",
      "INFO: Val_Loss improved (4.57115924 --> 4.50821054). Saving model ...\n"
     ]
    },
    {
     "name": "stderr",
     "output_type": "stream",
     "text": [
      "100%|██████████| 30/30 [00:09<00:00,  3.27it/s]\n",
      "100%|██████████| 8/8 [00:00<00:00,  9.19it/s]\n"
     ]
    },
    {
     "name": "stdout",
     "output_type": "stream",
     "text": [
      "Epoch 15/1000 - Train loss: 4.72548086 - Val loss: 4.62499678\n",
      "INFO: Early stopping counter                     1 of 20                         [Best Val Loss: 4.50821054,                             Val Loss: 4.62499678]\n"
     ]
    },
    {
     "name": "stderr",
     "output_type": "stream",
     "text": [
      "100%|██████████| 30/30 [00:09<00:00,  3.24it/s]\n",
      "100%|██████████| 8/8 [00:00<00:00,  9.59it/s]\n"
     ]
    },
    {
     "name": "stdout",
     "output_type": "stream",
     "text": [
      "Epoch 16/1000 - Train loss: 4.64401859 - Val loss: 4.53061330\n",
      "INFO: Early stopping counter                     2 of 20                         [Best Val Loss: 4.50821054,                             Val Loss: 4.53061330]\n"
     ]
    },
    {
     "name": "stderr",
     "output_type": "stream",
     "text": [
      "100%|██████████| 30/30 [00:09<00:00,  3.32it/s]\n",
      "100%|██████████| 8/8 [00:00<00:00,  9.60it/s]\n"
     ]
    },
    {
     "name": "stdout",
     "output_type": "stream",
     "text": [
      "Epoch 17/1000 - Train loss: 4.57761165 - Val loss: 4.57983488\n",
      "INFO: Early stopping counter                     3 of 20                         [Best Val Loss: 4.50821054,                             Val Loss: 4.57983488]\n"
     ]
    },
    {
     "name": "stderr",
     "output_type": "stream",
     "text": [
      "100%|██████████| 30/30 [00:09<00:00,  3.33it/s]\n",
      "100%|██████████| 8/8 [00:00<00:00,  9.50it/s]\n"
     ]
    },
    {
     "name": "stdout",
     "output_type": "stream",
     "text": [
      "Epoch 18/1000 - Train loss: 4.51541526 - Val loss: 4.48269498\n",
      "INFO: Val_Loss improved (4.50821054 --> 4.48269498). Saving model ...\n"
     ]
    },
    {
     "name": "stderr",
     "output_type": "stream",
     "text": [
      "100%|██████████| 30/30 [00:09<00:00,  3.28it/s]\n",
      "100%|██████████| 8/8 [00:00<00:00,  9.58it/s]\n"
     ]
    },
    {
     "name": "stdout",
     "output_type": "stream",
     "text": [
      "Epoch 19/1000 - Train loss: 4.40800363 - Val loss: 4.38752508\n",
      "INFO: Val_Loss improved (4.48269498 --> 4.38752508). Saving model ...\n"
     ]
    },
    {
     "name": "stderr",
     "output_type": "stream",
     "text": [
      "100%|██████████| 30/30 [00:09<00:00,  3.25it/s]\n",
      "100%|██████████| 8/8 [00:00<00:00,  9.52it/s]\n"
     ]
    },
    {
     "name": "stdout",
     "output_type": "stream",
     "text": [
      "Epoch 20/1000 - Train loss: 4.46701659 - Val loss: 4.37847430\n",
      "INFO: Val_Loss improved (4.38752508 --> 4.37847430). Saving model ...\n"
     ]
    },
    {
     "name": "stderr",
     "output_type": "stream",
     "text": [
      "100%|██████████| 30/30 [00:08<00:00,  3.34it/s]\n",
      "100%|██████████| 8/8 [00:00<00:00,  9.64it/s]\n"
     ]
    },
    {
     "name": "stdout",
     "output_type": "stream",
     "text": [
      "Epoch 21/1000 - Train loss: 4.69981979 - Val loss: 4.59034610\n",
      "INFO: Early stopping counter                     1 of 20                         [Best Val Loss: 4.37847430,                             Val Loss: 4.59034610]\n"
     ]
    },
    {
     "name": "stderr",
     "output_type": "stream",
     "text": [
      "100%|██████████| 30/30 [00:08<00:00,  3.36it/s]\n",
      "100%|██████████| 8/8 [00:00<00:00,  9.42it/s]\n"
     ]
    },
    {
     "name": "stdout",
     "output_type": "stream",
     "text": [
      "Epoch 22/1000 - Train loss: 4.62229788 - Val loss: 4.37903506\n",
      "INFO: Early stopping counter                     2 of 20                         [Best Val Loss: 4.37847430,                             Val Loss: 4.37903506]\n"
     ]
    },
    {
     "name": "stderr",
     "output_type": "stream",
     "text": [
      "100%|██████████| 30/30 [00:09<00:00,  3.33it/s]\n",
      "100%|██████████| 8/8 [00:00<00:00,  9.35it/s]\n"
     ]
    },
    {
     "name": "stdout",
     "output_type": "stream",
     "text": [
      "Epoch 23/1000 - Train loss: 4.61753197 - Val loss: 4.51658791\n",
      "INFO: Early stopping counter                     3 of 20                         [Best Val Loss: 4.37847430,                             Val Loss: 4.51658791]\n"
     ]
    },
    {
     "name": "stderr",
     "output_type": "stream",
     "text": [
      "100%|██████████| 30/30 [00:09<00:00,  3.25it/s]\n",
      "100%|██████████| 8/8 [00:00<00:00,  8.23it/s]\n"
     ]
    },
    {
     "name": "stdout",
     "output_type": "stream",
     "text": [
      "Epoch 24/1000 - Train loss: 4.54359821 - Val loss: 4.31195867\n",
      "INFO: Val_Loss improved (4.37847430 --> 4.31195867). Saving model ...\n"
     ]
    },
    {
     "name": "stderr",
     "output_type": "stream",
     "text": [
      "100%|██████████| 30/30 [00:09<00:00,  3.31it/s]\n",
      "100%|██████████| 8/8 [00:01<00:00,  7.96it/s]\n"
     ]
    },
    {
     "name": "stdout",
     "output_type": "stream",
     "text": [
      "Epoch 25/1000 - Train loss: 4.35595875 - Val loss: 4.42103237\n",
      "INFO: Early stopping counter                     1 of 20                         [Best Val Loss: 4.31195867,                             Val Loss: 4.42103237]\n"
     ]
    },
    {
     "name": "stderr",
     "output_type": "stream",
     "text": [
      "100%|██████████| 30/30 [00:08<00:00,  3.34it/s]\n",
      "100%|██████████| 8/8 [00:00<00:00,  8.68it/s]\n"
     ]
    },
    {
     "name": "stdout",
     "output_type": "stream",
     "text": [
      "Epoch 26/1000 - Train loss: 4.35665911 - Val loss: 4.28162855\n",
      "INFO: Val_Loss improved (4.31195867 --> 4.28162855). Saving model ...\n"
     ]
    },
    {
     "name": "stderr",
     "output_type": "stream",
     "text": [
      "100%|██████████| 30/30 [00:08<00:00,  3.34it/s]\n",
      "100%|██████████| 8/8 [00:00<00:00,  8.59it/s]\n"
     ]
    },
    {
     "name": "stdout",
     "output_type": "stream",
     "text": [
      "Epoch 27/1000 - Train loss: 5.12586400 - Val loss: 4.96437174\n",
      "INFO: Early stopping counter                     1 of 20                         [Best Val Loss: 4.28162855,                             Val Loss: 4.96437174]\n"
     ]
    },
    {
     "name": "stderr",
     "output_type": "stream",
     "text": [
      "100%|██████████| 30/30 [00:08<00:00,  3.34it/s]\n",
      "100%|██████████| 8/8 [00:00<00:00,  8.11it/s]\n"
     ]
    },
    {
     "name": "stdout",
     "output_type": "stream",
     "text": [
      "Epoch 28/1000 - Train loss: 4.85585357 - Val loss: 4.71523291\n",
      "INFO: Early stopping counter                     2 of 20                         [Best Val Loss: 4.28162855,                             Val Loss: 4.71523291]\n"
     ]
    },
    {
     "name": "stderr",
     "output_type": "stream",
     "text": [
      "100%|██████████| 30/30 [00:09<00:00,  3.29it/s]\n",
      "100%|██████████| 8/8 [00:00<00:00,  9.31it/s]\n"
     ]
    },
    {
     "name": "stdout",
     "output_type": "stream",
     "text": [
      "Epoch 29/1000 - Train loss: 4.59158312 - Val loss: 4.43826681\n",
      "INFO: Early stopping counter                     3 of 20                         [Best Val Loss: 4.28162855,                             Val Loss: 4.43826681]\n"
     ]
    },
    {
     "name": "stderr",
     "output_type": "stream",
     "text": [
      "100%|██████████| 30/30 [00:09<00:00,  3.33it/s]\n",
      "100%|██████████| 8/8 [00:00<00:00,  9.51it/s]\n"
     ]
    },
    {
     "name": "stdout",
     "output_type": "stream",
     "text": [
      "Epoch 30/1000 - Train loss: 4.82431269 - Val loss: 4.52425504\n",
      "INFO: Early stopping counter                     4 of 20                         [Best Val Loss: 4.28162855,                             Val Loss: 4.52425504]\n"
     ]
    },
    {
     "name": "stderr",
     "output_type": "stream",
     "text": [
      "100%|██████████| 30/30 [00:09<00:00,  3.33it/s]\n",
      "100%|██████████| 8/8 [00:00<00:00,  9.39it/s]\n"
     ]
    },
    {
     "name": "stdout",
     "output_type": "stream",
     "text": [
      "Epoch 31/1000 - Train loss: 4.54218276 - Val loss: 4.46837831\n",
      "INFO: Early stopping counter                     5 of 20                         [Best Val Loss: 4.28162855,                             Val Loss: 4.46837831]\n"
     ]
    },
    {
     "name": "stderr",
     "output_type": "stream",
     "text": [
      "100%|██████████| 30/30 [00:09<00:00,  3.24it/s]\n",
      "100%|██████████| 8/8 [00:00<00:00,  9.42it/s]\n"
     ]
    },
    {
     "name": "stdout",
     "output_type": "stream",
     "text": [
      "Epoch 32/1000 - Train loss: 4.39115094 - Val loss: 4.34298444\n",
      "INFO: Early stopping counter                     6 of 20                         [Best Val Loss: 4.28162855,                             Val Loss: 4.34298444]\n"
     ]
    },
    {
     "name": "stderr",
     "output_type": "stream",
     "text": [
      "100%|██████████| 30/30 [00:08<00:00,  3.34it/s]\n",
      "100%|██████████| 8/8 [00:00<00:00,  9.47it/s]\n"
     ]
    },
    {
     "name": "stdout",
     "output_type": "stream",
     "text": [
      "Epoch 33/1000 - Train loss: 4.24387945 - Val loss: 4.14431262\n",
      "INFO: Val_Loss improved (4.28162855 --> 4.14431262). Saving model ...\n"
     ]
    },
    {
     "name": "stderr",
     "output_type": "stream",
     "text": [
      "100%|██████████| 30/30 [00:09<00:00,  3.33it/s]\n",
      "100%|██████████| 8/8 [00:00<00:00,  9.69it/s]\n"
     ]
    },
    {
     "name": "stdout",
     "output_type": "stream",
     "text": [
      "Epoch 34/1000 - Train loss: 4.24269914 - Val loss: 4.17740303\n",
      "INFO: Early stopping counter                     1 of 20                         [Best Val Loss: 4.14431262,                             Val Loss: 4.17740303]\n"
     ]
    },
    {
     "name": "stderr",
     "output_type": "stream",
     "text": [
      "100%|██████████| 30/30 [00:08<00:00,  3.35it/s]\n",
      "100%|██████████| 8/8 [00:00<00:00,  9.21it/s]\n"
     ]
    },
    {
     "name": "stdout",
     "output_type": "stream",
     "text": [
      "Epoch 35/1000 - Train loss: 4.26248790 - Val loss: 4.28302526\n",
      "INFO: Early stopping counter                     2 of 20                         [Best Val Loss: 4.14431262,                             Val Loss: 4.28302526]\n"
     ]
    },
    {
     "name": "stderr",
     "output_type": "stream",
     "text": [
      "100%|██████████| 30/30 [00:08<00:00,  3.34it/s]\n",
      "100%|██████████| 8/8 [00:00<00:00,  9.67it/s]\n"
     ]
    },
    {
     "name": "stdout",
     "output_type": "stream",
     "text": [
      "Epoch 36/1000 - Train loss: 4.26652256 - Val loss: 4.16854298\n",
      "INFO: Early stopping counter                     3 of 20                         [Best Val Loss: 4.14431262,                             Val Loss: 4.16854298]\n"
     ]
    },
    {
     "name": "stderr",
     "output_type": "stream",
     "text": [
      "100%|██████████| 30/30 [00:08<00:00,  3.34it/s]\n",
      "100%|██████████| 8/8 [00:00<00:00,  9.56it/s]\n"
     ]
    },
    {
     "name": "stdout",
     "output_type": "stream",
     "text": [
      "Epoch 37/1000 - Train loss: 4.11032185 - Val loss: 4.10340676\n",
      "INFO: Val_Loss improved (4.14431262 --> 4.10340676). Saving model ...\n"
     ]
    },
    {
     "name": "stderr",
     "output_type": "stream",
     "text": [
      "100%|██████████| 30/30 [00:09<00:00,  3.25it/s]\n",
      "100%|██████████| 8/8 [00:00<00:00,  9.29it/s]\n"
     ]
    },
    {
     "name": "stdout",
     "output_type": "stream",
     "text": [
      "Epoch 38/1000 - Train loss: 4.04608590 - Val loss: 4.01403943\n",
      "INFO: Val_Loss improved (4.10340676 --> 4.01403943). Saving model ...\n"
     ]
    },
    {
     "name": "stderr",
     "output_type": "stream",
     "text": [
      "100%|██████████| 30/30 [00:09<00:00,  3.28it/s]\n",
      "100%|██████████| 8/8 [00:00<00:00,  9.49it/s]\n"
     ]
    },
    {
     "name": "stdout",
     "output_type": "stream",
     "text": [
      "Epoch 39/1000 - Train loss: 4.05152966 - Val loss: 3.98341984\n",
      "INFO: Val_Loss improved (4.01403943 --> 3.98341984). Saving model ...\n"
     ]
    },
    {
     "name": "stderr",
     "output_type": "stream",
     "text": [
      "100%|██████████| 30/30 [00:09<00:00,  3.27it/s]\n",
      "100%|██████████| 8/8 [00:00<00:00,  9.41it/s]\n"
     ]
    },
    {
     "name": "stdout",
     "output_type": "stream",
     "text": [
      "Epoch 40/1000 - Train loss: 4.07697851 - Val loss: 4.11061296\n",
      "INFO: Early stopping counter                     1 of 20                         [Best Val Loss: 3.98341984,                             Val Loss: 4.11061296]\n"
     ]
    },
    {
     "name": "stderr",
     "output_type": "stream",
     "text": [
      "100%|██████████| 30/30 [00:08<00:00,  3.34it/s]\n",
      "100%|██████████| 8/8 [00:00<00:00,  9.40it/s]\n"
     ]
    },
    {
     "name": "stdout",
     "output_type": "stream",
     "text": [
      "Epoch 41/1000 - Train loss: 4.42868789 - Val loss: 4.07130396\n",
      "INFO: Early stopping counter                     2 of 20                         [Best Val Loss: 3.98341984,                             Val Loss: 4.07130396]\n"
     ]
    },
    {
     "name": "stderr",
     "output_type": "stream",
     "text": [
      "100%|██████████| 30/30 [00:08<00:00,  3.35it/s]\n",
      "100%|██████████| 8/8 [00:00<00:00,  9.62it/s]\n"
     ]
    },
    {
     "name": "stdout",
     "output_type": "stream",
     "text": [
      "Epoch 42/1000 - Train loss: 4.09979694 - Val loss: 4.00169739\n",
      "INFO: Early stopping counter                     3 of 20                         [Best Val Loss: 3.98341984,                             Val Loss: 4.00169739]\n"
     ]
    },
    {
     "name": "stderr",
     "output_type": "stream",
     "text": [
      "100%|██████████| 30/30 [00:08<00:00,  3.34it/s]\n",
      "100%|██████████| 8/8 [00:00<00:00,  9.32it/s]\n"
     ]
    },
    {
     "name": "stdout",
     "output_type": "stream",
     "text": [
      "Epoch 43/1000 - Train loss: 4.02112029 - Val loss: 3.92284566\n",
      "INFO: Val_Loss improved (3.98341984 --> 3.92284566). Saving model ...\n"
     ]
    },
    {
     "name": "stderr",
     "output_type": "stream",
     "text": [
      "100%|██████████| 30/30 [00:09<00:00,  3.30it/s]\n",
      "100%|██████████| 8/8 [00:00<00:00,  9.64it/s]\n"
     ]
    },
    {
     "name": "stdout",
     "output_type": "stream",
     "text": [
      "Epoch 44/1000 - Train loss: 3.95782094 - Val loss: 3.95465562\n",
      "INFO: Early stopping counter                     1 of 20                         [Best Val Loss: 3.92284566,                             Val Loss: 3.95465562]\n"
     ]
    },
    {
     "name": "stderr",
     "output_type": "stream",
     "text": [
      "100%|██████████| 30/30 [00:09<00:00,  3.30it/s]\n",
      "100%|██████████| 8/8 [00:00<00:00,  9.49it/s]\n"
     ]
    },
    {
     "name": "stdout",
     "output_type": "stream",
     "text": [
      "Epoch 45/1000 - Train loss: 3.95550180 - Val loss: 3.91840258\n",
      "INFO: Val_Loss improved (3.92284566 --> 3.91840258). Saving model ...\n"
     ]
    },
    {
     "name": "stderr",
     "output_type": "stream",
     "text": [
      "100%|██████████| 30/30 [00:09<00:00,  3.26it/s]\n",
      "100%|██████████| 8/8 [00:00<00:00,  9.59it/s]\n"
     ]
    },
    {
     "name": "stdout",
     "output_type": "stream",
     "text": [
      "Epoch 46/1000 - Train loss: 3.91377574 - Val loss: 3.91609269\n",
      "INFO: Val_Loss improved (3.91840258 --> 3.91609269). Saving model ...\n"
     ]
    },
    {
     "name": "stderr",
     "output_type": "stream",
     "text": [
      "100%|██████████| 30/30 [00:09<00:00,  3.33it/s]\n",
      "100%|██████████| 8/8 [00:00<00:00,  9.65it/s]\n"
     ]
    },
    {
     "name": "stdout",
     "output_type": "stream",
     "text": [
      "Epoch 47/1000 - Train loss: 3.90995443 - Val loss: 3.87182361\n",
      "INFO: Val_Loss improved (3.91609269 --> 3.87182361). Saving model ...\n"
     ]
    },
    {
     "name": "stderr",
     "output_type": "stream",
     "text": [
      "100%|██████████| 30/30 [00:09<00:00,  3.28it/s]\n",
      "100%|██████████| 8/8 [00:00<00:00,  9.58it/s]\n"
     ]
    },
    {
     "name": "stdout",
     "output_type": "stream",
     "text": [
      "Epoch 48/1000 - Train loss: 4.07745135 - Val loss: 4.05069673\n",
      "INFO: Early stopping counter                     1 of 20                         [Best Val Loss: 3.87182361,                             Val Loss: 4.05069673]\n"
     ]
    },
    {
     "name": "stderr",
     "output_type": "stream",
     "text": [
      "100%|██████████| 30/30 [00:09<00:00,  3.31it/s]\n",
      "100%|██████████| 8/8 [00:00<00:00,  9.66it/s]\n"
     ]
    },
    {
     "name": "stdout",
     "output_type": "stream",
     "text": [
      "Epoch 49/1000 - Train loss: 4.02598852 - Val loss: 3.96864817\n",
      "INFO: Early stopping counter                     2 of 20                         [Best Val Loss: 3.87182361,                             Val Loss: 3.96864817]\n"
     ]
    },
    {
     "name": "stderr",
     "output_type": "stream",
     "text": [
      "100%|██████████| 30/30 [00:09<00:00,  3.32it/s]\n",
      "100%|██████████| 8/8 [00:00<00:00,  9.64it/s]\n"
     ]
    },
    {
     "name": "stdout",
     "output_type": "stream",
     "text": [
      "Epoch 50/1000 - Train loss: 3.96653429 - Val loss: 3.88883504\n",
      "INFO: Early stopping counter                     3 of 20                         [Best Val Loss: 3.87182361,                             Val Loss: 3.88883504]\n"
     ]
    },
    {
     "name": "stderr",
     "output_type": "stream",
     "text": [
      "100%|██████████| 30/30 [00:08<00:00,  3.33it/s]\n",
      "100%|██████████| 8/8 [00:00<00:00,  9.21it/s]\n"
     ]
    },
    {
     "name": "stdout",
     "output_type": "stream",
     "text": [
      "Epoch 51/1000 - Train loss: 3.95393209 - Val loss: 3.92625776\n",
      "INFO: Early stopping counter                     4 of 20                         [Best Val Loss: 3.87182361,                             Val Loss: 3.92625776]\n"
     ]
    },
    {
     "name": "stderr",
     "output_type": "stream",
     "text": [
      "100%|██████████| 30/30 [00:09<00:00,  3.26it/s]\n",
      "100%|██████████| 8/8 [00:01<00:00,  7.69it/s]\n"
     ]
    },
    {
     "name": "stdout",
     "output_type": "stream",
     "text": [
      "Epoch 52/1000 - Train loss: 4.08453796 - Val loss: 3.89360470\n",
      "INFO: Early stopping counter                     5 of 20                         [Best Val Loss: 3.87182361,                             Val Loss: 3.89360470]\n"
     ]
    },
    {
     "name": "stderr",
     "output_type": "stream",
     "text": [
      "100%|██████████| 30/30 [00:09<00:00,  3.30it/s]\n",
      "100%|██████████| 8/8 [00:00<00:00,  8.34it/s]\n"
     ]
    },
    {
     "name": "stdout",
     "output_type": "stream",
     "text": [
      "Epoch 53/1000 - Train loss: 3.90907013 - Val loss: 3.85758355\n",
      "INFO: Val_Loss improved (3.87182361 --> 3.85758355). Saving model ...\n"
     ]
    },
    {
     "name": "stderr",
     "output_type": "stream",
     "text": [
      "100%|██████████| 30/30 [00:09<00:00,  3.31it/s]\n",
      "100%|██████████| 8/8 [00:00<00:00,  9.59it/s]\n"
     ]
    },
    {
     "name": "stdout",
     "output_type": "stream",
     "text": [
      "Epoch 54/1000 - Train loss: 4.66085027 - Val loss: 6.74637651\n",
      "INFO: Early stopping counter                     1 of 20                         [Best Val Loss: 3.85758355,                             Val Loss: 6.74637651]\n"
     ]
    },
    {
     "name": "stderr",
     "output_type": "stream",
     "text": [
      "100%|██████████| 30/30 [00:08<00:00,  3.35it/s]\n",
      "100%|██████████| 8/8 [00:00<00:00,  8.03it/s]\n"
     ]
    },
    {
     "name": "stdout",
     "output_type": "stream",
     "text": [
      "Epoch 55/1000 - Train loss: 5.75211306 - Val loss: 4.86323512\n",
      "INFO: Early stopping counter                     2 of 20                         [Best Val Loss: 3.85758355,                             Val Loss: 4.86323512]\n"
     ]
    },
    {
     "name": "stderr",
     "output_type": "stream",
     "text": [
      "100%|██████████| 30/30 [00:09<00:00,  3.27it/s]\n",
      "100%|██████████| 8/8 [00:00<00:00,  9.02it/s]\n"
     ]
    },
    {
     "name": "stdout",
     "output_type": "stream",
     "text": [
      "Epoch 56/1000 - Train loss: 4.75762550 - Val loss: 4.37663180\n",
      "INFO: Early stopping counter                     3 of 20                         [Best Val Loss: 3.85758355,                             Val Loss: 4.37663180]\n"
     ]
    },
    {
     "name": "stderr",
     "output_type": "stream",
     "text": [
      "100%|██████████| 30/30 [00:09<00:00,  3.25it/s]\n",
      "100%|██████████| 8/8 [00:00<00:00,  9.44it/s]\n"
     ]
    },
    {
     "name": "stdout",
     "output_type": "stream",
     "text": [
      "Epoch 57/1000 - Train loss: 4.38826461 - Val loss: 4.21312171\n",
      "INFO: Early stopping counter                     4 of 20                         [Best Val Loss: 3.85758355,                             Val Loss: 4.21312171]\n"
     ]
    },
    {
     "name": "stderr",
     "output_type": "stream",
     "text": [
      "100%|██████████| 30/30 [00:09<00:00,  3.33it/s]\n",
      "100%|██████████| 8/8 [00:00<00:00,  9.38it/s]\n"
     ]
    },
    {
     "name": "stdout",
     "output_type": "stream",
     "text": [
      "Epoch 58/1000 - Train loss: 4.23661785 - Val loss: 4.25166380\n",
      "INFO: Early stopping counter                     5 of 20                         [Best Val Loss: 3.85758355,                             Val Loss: 4.25166380]\n"
     ]
    },
    {
     "name": "stderr",
     "output_type": "stream",
     "text": [
      "100%|██████████| 30/30 [00:09<00:00,  3.33it/s]\n",
      "100%|██████████| 8/8 [00:00<00:00,  9.39it/s]\n"
     ]
    },
    {
     "name": "stdout",
     "output_type": "stream",
     "text": [
      "Epoch 59/1000 - Train loss: 4.17909139 - Val loss: 4.08822960\n",
      "INFO: Early stopping counter                     6 of 20                         [Best Val Loss: 3.85758355,                             Val Loss: 4.08822960]\n"
     ]
    },
    {
     "name": "stderr",
     "output_type": "stream",
     "text": [
      "100%|██████████| 30/30 [00:09<00:00,  3.31it/s]\n",
      "100%|██████████| 8/8 [00:00<00:00,  9.32it/s]\n"
     ]
    },
    {
     "name": "stdout",
     "output_type": "stream",
     "text": [
      "Epoch 60/1000 - Train loss: 4.13937922 - Val loss: 4.09647110\n",
      "INFO: Early stopping counter                     7 of 20                         [Best Val Loss: 3.85758355,                             Val Loss: 4.09647110]\n"
     ]
    },
    {
     "name": "stderr",
     "output_type": "stream",
     "text": [
      "100%|██████████| 30/30 [00:08<00:00,  3.34it/s]\n",
      "100%|██████████| 8/8 [00:00<00:00,  9.46it/s]\n"
     ]
    },
    {
     "name": "stdout",
     "output_type": "stream",
     "text": [
      "Epoch 61/1000 - Train loss: 4.09285215 - Val loss: 4.13667926\n",
      "INFO: Early stopping counter                     8 of 20                         [Best Val Loss: 3.85758355,                             Val Loss: 4.13667926]\n"
     ]
    },
    {
     "name": "stderr",
     "output_type": "stream",
     "text": [
      "100%|██████████| 30/30 [00:08<00:00,  3.34it/s]\n",
      "100%|██████████| 8/8 [00:00<00:00,  9.57it/s]\n"
     ]
    },
    {
     "name": "stdout",
     "output_type": "stream",
     "text": [
      "Epoch 62/1000 - Train loss: 4.01331544 - Val loss: 3.98019740\n",
      "INFO: Early stopping counter                     9 of 20                         [Best Val Loss: 3.85758355,                             Val Loss: 3.98019740]\n"
     ]
    },
    {
     "name": "stderr",
     "output_type": "stream",
     "text": [
      "100%|██████████| 30/30 [00:08<00:00,  3.35it/s]\n",
      "100%|██████████| 8/8 [00:00<00:00,  9.38it/s]\n"
     ]
    },
    {
     "name": "stdout",
     "output_type": "stream",
     "text": [
      "Epoch 63/1000 - Train loss: 4.10436813 - Val loss: 3.99139217\n",
      "INFO: Early stopping counter                     10 of 20                         [Best Val Loss: 3.85758355,                             Val Loss: 3.99139217]\n"
     ]
    },
    {
     "name": "stderr",
     "output_type": "stream",
     "text": [
      "100%|██████████| 30/30 [00:08<00:00,  3.34it/s]\n",
      "100%|██████████| 8/8 [00:00<00:00,  9.32it/s]\n"
     ]
    },
    {
     "name": "stdout",
     "output_type": "stream",
     "text": [
      "Epoch 64/1000 - Train loss: 4.00684422 - Val loss: 3.96545848\n",
      "INFO: Early stopping counter                     11 of 20                         [Best Val Loss: 3.85758355,                             Val Loss: 3.96545848]\n",
      "Epoch 00064: reducing learning rate of group 0 to 1.0000e-05.\n"
     ]
    },
    {
     "name": "stderr",
     "output_type": "stream",
     "text": [
      "100%|██████████| 30/30 [00:08<00:00,  3.35it/s]\n",
      "100%|██████████| 8/8 [00:00<00:00,  9.41it/s]\n"
     ]
    },
    {
     "name": "stdout",
     "output_type": "stream",
     "text": [
      "Epoch 65/1000 - Train loss: 3.93920770 - Val loss: 3.87765694\n",
      "INFO: Early stopping counter                     12 of 20                         [Best Val Loss: 3.85758355,                             Val Loss: 3.87765694]\n"
     ]
    },
    {
     "name": "stderr",
     "output_type": "stream",
     "text": [
      "100%|██████████| 30/30 [00:09<00:00,  3.33it/s]\n",
      "100%|██████████| 8/8 [00:00<00:00,  9.44it/s]\n"
     ]
    },
    {
     "name": "stdout",
     "output_type": "stream",
     "text": [
      "Epoch 66/1000 - Train loss: 3.88295544 - Val loss: 3.84944502\n",
      "INFO: Val_Loss improved (3.85758355 --> 3.84944502). Saving model ...\n"
     ]
    },
    {
     "name": "stderr",
     "output_type": "stream",
     "text": [
      "100%|██████████| 30/30 [00:09<00:00,  3.26it/s]\n",
      "100%|██████████| 8/8 [00:00<00:00,  9.51it/s]\n"
     ]
    },
    {
     "name": "stdout",
     "output_type": "stream",
     "text": [
      "Epoch 67/1000 - Train loss: 3.86767789 - Val loss: 3.82956198\n",
      "INFO: Val_Loss improved (3.84944502 --> 3.82956198). Saving model ...\n"
     ]
    },
    {
     "name": "stderr",
     "output_type": "stream",
     "text": [
      "100%|██████████| 30/30 [00:09<00:00,  3.27it/s]\n",
      "100%|██████████| 8/8 [00:00<00:00,  9.47it/s]\n"
     ]
    },
    {
     "name": "stdout",
     "output_type": "stream",
     "text": [
      "Epoch 68/1000 - Train loss: 3.84284116 - Val loss: 3.83163616\n",
      "INFO: Early stopping counter                     1 of 20                         [Best Val Loss: 3.82956198,                             Val Loss: 3.83163616]\n"
     ]
    },
    {
     "name": "stderr",
     "output_type": "stream",
     "text": [
      "100%|██████████| 30/30 [00:09<00:00,  3.31it/s]\n",
      "100%|██████████| 8/8 [00:00<00:00,  9.44it/s]\n"
     ]
    },
    {
     "name": "stdout",
     "output_type": "stream",
     "text": [
      "Epoch 69/1000 - Train loss: 3.85159651 - Val loss: 3.82200968\n",
      "INFO: Val_Loss improved (3.82956198 --> 3.82200968). Saving model ...\n"
     ]
    },
    {
     "name": "stderr",
     "output_type": "stream",
     "text": [
      "100%|██████████| 30/30 [00:09<00:00,  3.27it/s]\n",
      "100%|██████████| 8/8 [00:00<00:00,  9.52it/s]\n"
     ]
    },
    {
     "name": "stdout",
     "output_type": "stream",
     "text": [
      "Epoch 70/1000 - Train loss: 3.82052618 - Val loss: 3.80827555\n",
      "INFO: Val_Loss improved (3.82200968 --> 3.80827555). Saving model ...\n"
     ]
    },
    {
     "name": "stderr",
     "output_type": "stream",
     "text": [
      "100%|██████████| 30/30 [00:09<00:00,  3.28it/s]\n",
      "100%|██████████| 8/8 [00:00<00:00,  9.41it/s]\n"
     ]
    },
    {
     "name": "stdout",
     "output_type": "stream",
     "text": [
      "Epoch 71/1000 - Train loss: 3.84265261 - Val loss: 3.80577126\n",
      "INFO: Val_Loss improved (3.80827555 --> 3.80577126). Saving model ...\n"
     ]
    },
    {
     "name": "stderr",
     "output_type": "stream",
     "text": [
      "100%|██████████| 30/30 [00:09<00:00,  3.25it/s]\n",
      "100%|██████████| 8/8 [00:00<00:00,  9.37it/s]\n"
     ]
    },
    {
     "name": "stdout",
     "output_type": "stream",
     "text": [
      "Epoch 72/1000 - Train loss: 3.82410820 - Val loss: 3.79334858\n",
      "INFO: Val_Loss improved (3.80577126 --> 3.79334858). Saving model ...\n"
     ]
    },
    {
     "name": "stderr",
     "output_type": "stream",
     "text": [
      "100%|██████████| 30/30 [00:09<00:00,  3.28it/s]\n",
      "100%|██████████| 8/8 [00:00<00:00,  9.01it/s]\n"
     ]
    },
    {
     "name": "stdout",
     "output_type": "stream",
     "text": [
      "Epoch 73/1000 - Train loss: 3.82503133 - Val loss: 3.79687616\n",
      "INFO: Early stopping counter                     1 of 20                         [Best Val Loss: 3.79334858,                             Val Loss: 3.79687616]\n"
     ]
    },
    {
     "name": "stderr",
     "output_type": "stream",
     "text": [
      "100%|██████████| 30/30 [00:09<00:00,  3.23it/s]\n",
      "100%|██████████| 8/8 [00:00<00:00,  8.36it/s]\n"
     ]
    },
    {
     "name": "stdout",
     "output_type": "stream",
     "text": [
      "Epoch 74/1000 - Train loss: 3.80565243 - Val loss: 3.78701562\n",
      "INFO: Val_Loss improved (3.79334858 --> 3.78701562). Saving model ...\n"
     ]
    },
    {
     "name": "stderr",
     "output_type": "stream",
     "text": [
      "100%|██████████| 30/30 [00:09<00:00,  3.30it/s]\n",
      "100%|██████████| 8/8 [00:00<00:00,  9.02it/s]\n"
     ]
    },
    {
     "name": "stdout",
     "output_type": "stream",
     "text": [
      "Epoch 75/1000 - Train loss: 3.80070345 - Val loss: 3.79263958\n",
      "INFO: Early stopping counter                     1 of 20                         [Best Val Loss: 3.78701562,                             Val Loss: 3.79263958]\n"
     ]
    },
    {
     "name": "stderr",
     "output_type": "stream",
     "text": [
      "100%|██████████| 30/30 [00:08<00:00,  3.37it/s]\n",
      "100%|██████████| 8/8 [00:00<00:00,  8.11it/s]\n"
     ]
    },
    {
     "name": "stdout",
     "output_type": "stream",
     "text": [
      "Epoch 76/1000 - Train loss: 3.81755869 - Val loss: 3.78314465\n",
      "INFO: Val_Loss improved (3.78701562 --> 3.78314465). Saving model ...\n"
     ]
    },
    {
     "name": "stderr",
     "output_type": "stream",
     "text": [
      "100%|██████████| 30/30 [00:09<00:00,  3.29it/s]\n",
      "100%|██████████| 8/8 [00:00<00:00,  8.28it/s]\n"
     ]
    },
    {
     "name": "stdout",
     "output_type": "stream",
     "text": [
      "Epoch 77/1000 - Train loss: 3.78451836 - Val loss: 3.78510928\n",
      "INFO: Early stopping counter                     1 of 20                         [Best Val Loss: 3.78314465,                             Val Loss: 3.78510928]\n"
     ]
    },
    {
     "name": "stderr",
     "output_type": "stream",
     "text": [
      "100%|██████████| 30/30 [00:09<00:00,  3.28it/s]\n",
      "100%|██████████| 8/8 [00:00<00:00,  9.11it/s]\n"
     ]
    },
    {
     "name": "stdout",
     "output_type": "stream",
     "text": [
      "Epoch 78/1000 - Train loss: 3.78902260 - Val loss: 3.78523952\n",
      "INFO: Early stopping counter                     2 of 20                         [Best Val Loss: 3.78314465,                             Val Loss: 3.78523952]\n"
     ]
    },
    {
     "name": "stderr",
     "output_type": "stream",
     "text": [
      "100%|██████████| 30/30 [00:09<00:00,  3.33it/s]\n",
      "100%|██████████| 8/8 [00:00<00:00,  9.51it/s]\n"
     ]
    },
    {
     "name": "stdout",
     "output_type": "stream",
     "text": [
      "Epoch 79/1000 - Train loss: 3.78996565 - Val loss: 3.78160250\n",
      "INFO: Val_Loss improved (3.78314465 --> 3.78160250). Saving model ...\n"
     ]
    },
    {
     "name": "stderr",
     "output_type": "stream",
     "text": [
      "100%|██████████| 30/30 [00:09<00:00,  3.28it/s]\n",
      "100%|██████████| 8/8 [00:00<00:00,  9.64it/s]\n"
     ]
    },
    {
     "name": "stdout",
     "output_type": "stream",
     "text": [
      "Epoch 80/1000 - Train loss: 3.79049989 - Val loss: 3.78135321\n",
      "INFO: Val_Loss improved (3.78160250 --> 3.78135321). Saving model ...\n"
     ]
    },
    {
     "name": "stderr",
     "output_type": "stream",
     "text": [
      "100%|██████████| 30/30 [00:09<00:00,  3.28it/s]\n",
      "100%|██████████| 8/8 [00:00<00:00,  9.37it/s]\n"
     ]
    },
    {
     "name": "stdout",
     "output_type": "stream",
     "text": [
      "Epoch 81/1000 - Train loss: 3.78169355 - Val loss: 3.77773052\n",
      "INFO: Val_Loss improved (3.78135321 --> 3.77773052). Saving model ...\n"
     ]
    },
    {
     "name": "stderr",
     "output_type": "stream",
     "text": [
      "100%|██████████| 30/30 [00:09<00:00,  3.26it/s]\n",
      "100%|██████████| 8/8 [00:00<00:00,  9.37it/s]\n"
     ]
    },
    {
     "name": "stdout",
     "output_type": "stream",
     "text": [
      "Epoch 82/1000 - Train loss: 3.79986929 - Val loss: 3.77594328\n",
      "INFO: Val_Loss improved (3.77773052 --> 3.77594328). Saving model ...\n"
     ]
    },
    {
     "name": "stderr",
     "output_type": "stream",
     "text": [
      "100%|██████████| 30/30 [00:09<00:00,  3.26it/s]\n",
      "100%|██████████| 8/8 [00:00<00:00,  9.38it/s]\n"
     ]
    },
    {
     "name": "stdout",
     "output_type": "stream",
     "text": [
      "Epoch 83/1000 - Train loss: 3.78482768 - Val loss: 3.78830889\n",
      "INFO: Early stopping counter                     1 of 20                         [Best Val Loss: 3.77594328,                             Val Loss: 3.78830889]\n"
     ]
    },
    {
     "name": "stderr",
     "output_type": "stream",
     "text": [
      "100%|██████████| 30/30 [00:09<00:00,  3.33it/s]\n",
      "100%|██████████| 8/8 [00:00<00:00,  9.55it/s]\n"
     ]
    },
    {
     "name": "stdout",
     "output_type": "stream",
     "text": [
      "Epoch 84/1000 - Train loss: 3.77490079 - Val loss: 3.77104747\n",
      "INFO: Val_Loss improved (3.77594328 --> 3.77104747). Saving model ...\n"
     ]
    },
    {
     "name": "stderr",
     "output_type": "stream",
     "text": [
      "100%|██████████| 30/30 [00:09<00:00,  3.25it/s]\n",
      "100%|██████████| 8/8 [00:00<00:00,  9.51it/s]\n"
     ]
    },
    {
     "name": "stdout",
     "output_type": "stream",
     "text": [
      "Epoch 85/1000 - Train loss: 3.78201613 - Val loss: 3.76636192\n",
      "INFO: Val_Loss improved (3.77104747 --> 3.76636192). Saving model ...\n"
     ]
    },
    {
     "name": "stderr",
     "output_type": "stream",
     "text": [
      "100%|██████████| 30/30 [00:09<00:00,  3.28it/s]\n",
      "100%|██████████| 8/8 [00:00<00:00,  9.24it/s]\n"
     ]
    },
    {
     "name": "stdout",
     "output_type": "stream",
     "text": [
      "Epoch 86/1000 - Train loss: 3.79024415 - Val loss: 3.76555797\n",
      "INFO: Val_Loss improved (3.76636192 --> 3.76555797). Saving model ...\n"
     ]
    },
    {
     "name": "stderr",
     "output_type": "stream",
     "text": [
      "100%|██████████| 30/30 [00:09<00:00,  3.28it/s]\n",
      "100%|██████████| 8/8 [00:00<00:00,  9.63it/s]\n"
     ]
    },
    {
     "name": "stdout",
     "output_type": "stream",
     "text": [
      "Epoch 87/1000 - Train loss: 3.78525988 - Val loss: 3.76147664\n",
      "INFO: Val_Loss improved (3.76555797 --> 3.76147664). Saving model ...\n"
     ]
    },
    {
     "name": "stderr",
     "output_type": "stream",
     "text": [
      "100%|██████████| 30/30 [00:09<00:00,  3.26it/s]\n",
      "100%|██████████| 8/8 [00:00<00:00,  8.05it/s]\n"
     ]
    },
    {
     "name": "stdout",
     "output_type": "stream",
     "text": [
      "Epoch 88/1000 - Train loss: 3.75150569 - Val loss: 3.76784489\n",
      "INFO: Early stopping counter                     1 of 20                         [Best Val Loss: 3.76147664,                             Val Loss: 3.76784489]\n"
     ]
    },
    {
     "name": "stderr",
     "output_type": "stream",
     "text": [
      "100%|██████████| 30/30 [00:09<00:00,  3.29it/s]\n",
      "100%|██████████| 8/8 [00:00<00:00,  8.05it/s]\n"
     ]
    },
    {
     "name": "stdout",
     "output_type": "stream",
     "text": [
      "Epoch 89/1000 - Train loss: 3.77586070 - Val loss: 3.76030931\n",
      "INFO: Val_Loss improved (3.76147664 --> 3.76030931). Saving model ...\n"
     ]
    },
    {
     "name": "stderr",
     "output_type": "stream",
     "text": [
      "100%|██████████| 30/30 [00:08<00:00,  3.34it/s]\n",
      "100%|██████████| 8/8 [00:00<00:00,  8.42it/s]\n"
     ]
    },
    {
     "name": "stdout",
     "output_type": "stream",
     "text": [
      "Epoch 90/1000 - Train loss: 3.76295729 - Val loss: 3.75988063\n",
      "INFO: Val_Loss improved (3.76030931 --> 3.75988063). Saving model ...\n"
     ]
    },
    {
     "name": "stderr",
     "output_type": "stream",
     "text": [
      "100%|██████████| 30/30 [00:09<00:00,  3.29it/s]\n",
      "100%|██████████| 8/8 [00:00<00:00,  9.48it/s]\n"
     ]
    },
    {
     "name": "stdout",
     "output_type": "stream",
     "text": [
      "Epoch 91/1000 - Train loss: 3.78959276 - Val loss: 3.75728071\n",
      "INFO: Val_Loss improved (3.75988063 --> 3.75728071). Saving model ...\n"
     ]
    },
    {
     "name": "stderr",
     "output_type": "stream",
     "text": [
      "100%|██████████| 30/30 [00:09<00:00,  3.28it/s]\n",
      "100%|██████████| 8/8 [00:00<00:00,  9.13it/s]\n"
     ]
    },
    {
     "name": "stdout",
     "output_type": "stream",
     "text": [
      "Epoch 92/1000 - Train loss: 3.73473466 - Val loss: 3.75538385\n",
      "INFO: Val_Loss improved (3.75728071 --> 3.75538385). Saving model ...\n"
     ]
    },
    {
     "name": "stderr",
     "output_type": "stream",
     "text": [
      "100%|██████████| 30/30 [00:09<00:00,  3.30it/s]\n",
      "100%|██████████| 8/8 [00:00<00:00,  9.53it/s]\n"
     ]
    },
    {
     "name": "stdout",
     "output_type": "stream",
     "text": [
      "Epoch 93/1000 - Train loss: 3.75608141 - Val loss: 3.77317765\n",
      "INFO: Early stopping counter                     1 of 20                         [Best Val Loss: 3.75538385,                             Val Loss: 3.77317765]\n"
     ]
    },
    {
     "name": "stderr",
     "output_type": "stream",
     "text": [
      "100%|██████████| 30/30 [00:08<00:00,  3.35it/s]\n",
      "100%|██████████| 8/8 [00:00<00:00,  9.32it/s]\n"
     ]
    },
    {
     "name": "stdout",
     "output_type": "stream",
     "text": [
      "Epoch 94/1000 - Train loss: 3.88994872 - Val loss: 3.81714508\n",
      "INFO: Early stopping counter                     2 of 20                         [Best Val Loss: 3.75538385,                             Val Loss: 3.81714508]\n"
     ]
    },
    {
     "name": "stderr",
     "output_type": "stream",
     "text": [
      "100%|██████████| 30/30 [00:09<00:00,  3.25it/s]\n",
      "100%|██████████| 8/8 [00:00<00:00,  9.42it/s]\n"
     ]
    },
    {
     "name": "stdout",
     "output_type": "stream",
     "text": [
      "Epoch 95/1000 - Train loss: 3.80783256 - Val loss: 3.78769559\n",
      "INFO: Early stopping counter                     3 of 20                         [Best Val Loss: 3.75538385,                             Val Loss: 3.78769559]\n"
     ]
    },
    {
     "name": "stderr",
     "output_type": "stream",
     "text": [
      "100%|██████████| 30/30 [00:08<00:00,  3.33it/s]\n",
      "100%|██████████| 8/8 [00:00<00:00,  9.50it/s]\n"
     ]
    },
    {
     "name": "stdout",
     "output_type": "stream",
     "text": [
      "Epoch 96/1000 - Train loss: 3.83292464 - Val loss: 3.78950366\n",
      "INFO: Early stopping counter                     4 of 20                         [Best Val Loss: 3.75538385,                             Val Loss: 3.78950366]\n"
     ]
    },
    {
     "name": "stderr",
     "output_type": "stream",
     "text": [
      "100%|██████████| 30/30 [00:08<00:00,  3.34it/s]\n",
      "100%|██████████| 8/8 [00:00<00:00,  9.55it/s]\n"
     ]
    },
    {
     "name": "stdout",
     "output_type": "stream",
     "text": [
      "Epoch 97/1000 - Train loss: 3.76118761 - Val loss: 3.77567178\n",
      "INFO: Early stopping counter                     5 of 20                         [Best Val Loss: 3.75538385,                             Val Loss: 3.77567178]\n"
     ]
    },
    {
     "name": "stderr",
     "output_type": "stream",
     "text": [
      "100%|██████████| 30/30 [00:08<00:00,  3.33it/s]\n",
      "100%|██████████| 8/8 [00:00<00:00,  9.27it/s]\n"
     ]
    },
    {
     "name": "stdout",
     "output_type": "stream",
     "text": [
      "Epoch 98/1000 - Train loss: 3.76332304 - Val loss: 3.77460632\n",
      "INFO: Early stopping counter                     6 of 20                         [Best Val Loss: 3.75538385,                             Val Loss: 3.77460632]\n"
     ]
    },
    {
     "name": "stderr",
     "output_type": "stream",
     "text": [
      "100%|██████████| 30/30 [00:08<00:00,  3.34it/s]\n",
      "100%|██████████| 8/8 [00:00<00:00,  9.20it/s]\n"
     ]
    },
    {
     "name": "stdout",
     "output_type": "stream",
     "text": [
      "Epoch 99/1000 - Train loss: 3.77482249 - Val loss: 3.78226271\n",
      "INFO: Early stopping counter                     7 of 20                         [Best Val Loss: 3.75538385,                             Val Loss: 3.78226271]\n"
     ]
    },
    {
     "name": "stderr",
     "output_type": "stream",
     "text": [
      "100%|██████████| 30/30 [00:08<00:00,  3.34it/s]\n",
      "100%|██████████| 8/8 [00:00<00:00,  9.61it/s]\n"
     ]
    },
    {
     "name": "stdout",
     "output_type": "stream",
     "text": [
      "Epoch 100/1000 - Train loss: 3.73493481 - Val loss: 3.76429901\n",
      "INFO: Early stopping counter                     8 of 20                         [Best Val Loss: 3.75538385,                             Val Loss: 3.76429901]\n"
     ]
    },
    {
     "name": "stderr",
     "output_type": "stream",
     "text": [
      "100%|██████████| 30/30 [00:08<00:00,  3.34it/s]\n",
      "100%|██████████| 8/8 [00:00<00:00,  9.47it/s]\n"
     ]
    },
    {
     "name": "stdout",
     "output_type": "stream",
     "text": [
      "Epoch 101/1000 - Train loss: 3.74984626 - Val loss: 3.76292908\n",
      "INFO: Early stopping counter                     9 of 20                         [Best Val Loss: 3.75538385,                             Val Loss: 3.76292908]\n"
     ]
    },
    {
     "name": "stderr",
     "output_type": "stream",
     "text": [
      "100%|██████████| 30/30 [00:08<00:00,  3.35it/s]\n",
      "100%|██████████| 8/8 [00:00<00:00,  9.28it/s]\n"
     ]
    },
    {
     "name": "stdout",
     "output_type": "stream",
     "text": [
      "Epoch 102/1000 - Train loss: 3.74703756 - Val loss: 3.74859375\n",
      "INFO: Val_Loss improved (3.75538385 --> 3.74859375). Saving model ...\n"
     ]
    },
    {
     "name": "stderr",
     "output_type": "stream",
     "text": [
      "100%|██████████| 30/30 [00:09<00:00,  3.27it/s]\n",
      "100%|██████████| 8/8 [00:00<00:00,  9.13it/s]\n"
     ]
    },
    {
     "name": "stdout",
     "output_type": "stream",
     "text": [
      "Epoch 103/1000 - Train loss: 3.73837921 - Val loss: 3.74923840\n",
      "INFO: Early stopping counter                     1 of 20                         [Best Val Loss: 3.74859375,                             Val Loss: 3.74923840]\n"
     ]
    },
    {
     "name": "stderr",
     "output_type": "stream",
     "text": [
      "100%|██████████| 30/30 [00:09<00:00,  3.31it/s]\n",
      "100%|██████████| 8/8 [00:00<00:00,  9.21it/s]\n"
     ]
    },
    {
     "name": "stdout",
     "output_type": "stream",
     "text": [
      "Epoch 104/1000 - Train loss: 3.75119637 - Val loss: 3.76732951\n",
      "INFO: Early stopping counter                     2 of 20                         [Best Val Loss: 3.74859375,                             Val Loss: 3.76732951]\n"
     ]
    },
    {
     "name": "stderr",
     "output_type": "stream",
     "text": [
      "100%|██████████| 30/30 [00:09<00:00,  3.33it/s]\n",
      "100%|██████████| 8/8 [00:00<00:00,  9.43it/s]\n"
     ]
    },
    {
     "name": "stdout",
     "output_type": "stream",
     "text": [
      "Epoch 105/1000 - Train loss: 3.73819882 - Val loss: 3.75505343\n",
      "INFO: Early stopping counter                     3 of 20                         [Best Val Loss: 3.74859375,                             Val Loss: 3.75505343]\n"
     ]
    },
    {
     "name": "stderr",
     "output_type": "stream",
     "text": [
      "100%|██████████| 30/30 [00:08<00:00,  3.36it/s]\n",
      "100%|██████████| 8/8 [00:00<00:00,  9.68it/s]\n"
     ]
    },
    {
     "name": "stdout",
     "output_type": "stream",
     "text": [
      "Epoch 106/1000 - Train loss: 3.73136776 - Val loss: 3.75483164\n",
      "INFO: Early stopping counter                     4 of 20                         [Best Val Loss: 3.74859375,                             Val Loss: 3.75483164]\n"
     ]
    },
    {
     "name": "stderr",
     "output_type": "stream",
     "text": [
      "100%|██████████| 30/30 [00:09<00:00,  3.31it/s]\n",
      "100%|██████████| 8/8 [00:00<00:00,  9.44it/s]\n"
     ]
    },
    {
     "name": "stdout",
     "output_type": "stream",
     "text": [
      "Epoch 107/1000 - Train loss: 3.72989981 - Val loss: 3.75379816\n",
      "INFO: Early stopping counter                     5 of 20                         [Best Val Loss: 3.74859375,                             Val Loss: 3.75379816]\n"
     ]
    },
    {
     "name": "stderr",
     "output_type": "stream",
     "text": [
      "100%|██████████| 30/30 [00:09<00:00,  3.33it/s]\n",
      "100%|██████████| 8/8 [00:00<00:00,  9.52it/s]\n"
     ]
    },
    {
     "name": "stdout",
     "output_type": "stream",
     "text": [
      "Epoch 108/1000 - Train loss: 3.72725613 - Val loss: 3.74747911\n",
      "INFO: Val_Loss improved (3.74859375 --> 3.74747911). Saving model ...\n"
     ]
    },
    {
     "name": "stderr",
     "output_type": "stream",
     "text": [
      "100%|██████████| 30/30 [00:09<00:00,  3.28it/s]\n",
      "100%|██████████| 8/8 [00:00<00:00,  9.56it/s]\n"
     ]
    },
    {
     "name": "stdout",
     "output_type": "stream",
     "text": [
      "Epoch 109/1000 - Train loss: 3.73011173 - Val loss: 3.73601508\n",
      "INFO: Val_Loss improved (3.74747911 --> 3.73601508). Saving model ...\n"
     ]
    },
    {
     "name": "stderr",
     "output_type": "stream",
     "text": [
      "100%|██████████| 30/30 [00:09<00:00,  3.25it/s]\n",
      "100%|██████████| 8/8 [00:00<00:00,  9.55it/s]\n"
     ]
    },
    {
     "name": "stdout",
     "output_type": "stream",
     "text": [
      "Epoch 110/1000 - Train loss: 3.73187178 - Val loss: 3.75182942\n",
      "INFO: Early stopping counter                     1 of 20                         [Best Val Loss: 3.73601508,                             Val Loss: 3.75182942]\n"
     ]
    },
    {
     "name": "stderr",
     "output_type": "stream",
     "text": [
      "100%|██████████| 30/30 [00:09<00:00,  3.29it/s]\n",
      "100%|██████████| 8/8 [00:00<00:00,  9.49it/s]\n"
     ]
    },
    {
     "name": "stdout",
     "output_type": "stream",
     "text": [
      "Epoch 111/1000 - Train loss: 3.71066221 - Val loss: 3.74586546\n",
      "INFO: Early stopping counter                     2 of 20                         [Best Val Loss: 3.73601508,                             Val Loss: 3.74586546]\n"
     ]
    },
    {
     "name": "stderr",
     "output_type": "stream",
     "text": [
      "100%|██████████| 30/30 [00:09<00:00,  3.28it/s]\n",
      "100%|██████████| 8/8 [00:00<00:00,  9.46it/s]\n"
     ]
    },
    {
     "name": "stdout",
     "output_type": "stream",
     "text": [
      "Epoch 112/1000 - Train loss: 3.71336044 - Val loss: 3.73554242\n",
      "INFO: Val_Loss improved (3.73601508 --> 3.73554242). Saving model ...\n"
     ]
    },
    {
     "name": "stderr",
     "output_type": "stream",
     "text": [
      "100%|██████████| 30/30 [00:09<00:00,  3.27it/s]\n",
      "100%|██████████| 8/8 [00:01<00:00,  7.86it/s]\n"
     ]
    },
    {
     "name": "stdout",
     "output_type": "stream",
     "text": [
      "Epoch 113/1000 - Train loss: 3.72597338 - Val loss: 3.73183063\n",
      "INFO: Val_Loss improved (3.73554242 --> 3.73183063). Saving model ...\n"
     ]
    },
    {
     "name": "stderr",
     "output_type": "stream",
     "text": [
      "100%|██████████| 30/30 [00:08<00:00,  3.35it/s]\n",
      "100%|██████████| 8/8 [00:00<00:00,  8.23it/s]\n"
     ]
    },
    {
     "name": "stdout",
     "output_type": "stream",
     "text": [
      "Epoch 114/1000 - Train loss: 3.68859132 - Val loss: 3.73213685\n",
      "INFO: Early stopping counter                     1 of 20                         [Best Val Loss: 3.73183063,                             Val Loss: 3.73213685]\n"
     ]
    },
    {
     "name": "stderr",
     "output_type": "stream",
     "text": [
      "100%|██████████| 30/30 [00:09<00:00,  3.27it/s]\n",
      "100%|██████████| 8/8 [00:00<00:00,  8.76it/s]\n"
     ]
    },
    {
     "name": "stdout",
     "output_type": "stream",
     "text": [
      "Epoch 115/1000 - Train loss: 3.71711060 - Val loss: 3.72904569\n",
      "INFO: Val_Loss improved (3.73183063 --> 3.72904569). Saving model ...\n"
     ]
    },
    {
     "name": "stderr",
     "output_type": "stream",
     "text": [
      "100%|██████████| 30/30 [00:09<00:00,  3.29it/s]\n",
      "100%|██████████| 8/8 [00:00<00:00,  9.39it/s]\n"
     ]
    },
    {
     "name": "stdout",
     "output_type": "stream",
     "text": [
      "Epoch 116/1000 - Train loss: 3.70393657 - Val loss: 3.72765914\n",
      "INFO: Val_Loss improved (3.72904569 --> 3.72765914). Saving model ...\n"
     ]
    },
    {
     "name": "stderr",
     "output_type": "stream",
     "text": [
      "100%|██████████| 30/30 [00:09<00:00,  3.31it/s]\n",
      "100%|██████████| 8/8 [00:00<00:00,  9.31it/s]\n"
     ]
    },
    {
     "name": "stdout",
     "output_type": "stream",
     "text": [
      "Epoch 117/1000 - Train loss: 3.72524166 - Val loss: 3.73544490\n",
      "INFO: Early stopping counter                     1 of 20                         [Best Val Loss: 3.72765914,                             Val Loss: 3.73544490]\n"
     ]
    },
    {
     "name": "stderr",
     "output_type": "stream",
     "text": [
      "100%|██████████| 30/30 [00:09<00:00,  3.28it/s]\n",
      "100%|██████████| 8/8 [00:00<00:00,  8.94it/s]\n"
     ]
    },
    {
     "name": "stdout",
     "output_type": "stream",
     "text": [
      "Epoch 118/1000 - Train loss: 4.17725425 - Val loss: 3.97696140\n",
      "INFO: Early stopping counter                     2 of 20                         [Best Val Loss: 3.72765914,                             Val Loss: 3.97696140]\n"
     ]
    },
    {
     "name": "stderr",
     "output_type": "stream",
     "text": [
      "100%|██████████| 30/30 [00:09<00:00,  3.32it/s]\n",
      "100%|██████████| 8/8 [00:00<00:00,  9.28it/s]\n"
     ]
    },
    {
     "name": "stdout",
     "output_type": "stream",
     "text": [
      "Epoch 119/1000 - Train loss: 3.91945306 - Val loss: 3.84220195\n",
      "INFO: Early stopping counter                     3 of 20                         [Best Val Loss: 3.72765914,                             Val Loss: 3.84220195]\n"
     ]
    },
    {
     "name": "stderr",
     "output_type": "stream",
     "text": [
      "100%|██████████| 30/30 [00:09<00:00,  3.28it/s]\n",
      "100%|██████████| 8/8 [00:00<00:00,  9.19it/s]\n"
     ]
    },
    {
     "name": "stdout",
     "output_type": "stream",
     "text": [
      "Epoch 120/1000 - Train loss: 3.87438979 - Val loss: 3.79740766\n",
      "INFO: Early stopping counter                     4 of 20                         [Best Val Loss: 3.72765914,                             Val Loss: 3.79740766]\n"
     ]
    },
    {
     "name": "stderr",
     "output_type": "stream",
     "text": [
      "100%|██████████| 30/30 [00:09<00:00,  3.28it/s]\n",
      "100%|██████████| 8/8 [00:00<00:00,  9.50it/s]\n"
     ]
    },
    {
     "name": "stdout",
     "output_type": "stream",
     "text": [
      "Epoch 121/1000 - Train loss: 3.82391456 - Val loss: 3.77655920\n",
      "INFO: Early stopping counter                     5 of 20                         [Best Val Loss: 3.72765914,                             Val Loss: 3.77655920]\n"
     ]
    },
    {
     "name": "stderr",
     "output_type": "stream",
     "text": [
      "100%|██████████| 30/30 [00:09<00:00,  3.32it/s]\n",
      "100%|██████████| 8/8 [00:00<00:00,  9.76it/s]\n"
     ]
    },
    {
     "name": "stdout",
     "output_type": "stream",
     "text": [
      "Epoch 122/1000 - Train loss: 3.79587768 - Val loss: 3.76153845\n",
      "INFO: Early stopping counter                     6 of 20                         [Best Val Loss: 3.72765914,                             Val Loss: 3.76153845]\n"
     ]
    },
    {
     "name": "stderr",
     "output_type": "stream",
     "text": [
      "100%|██████████| 30/30 [00:09<00:00,  3.32it/s]\n",
      "100%|██████████| 8/8 [00:00<00:00,  9.20it/s]\n"
     ]
    },
    {
     "name": "stdout",
     "output_type": "stream",
     "text": [
      "Epoch 123/1000 - Train loss: 3.76190375 - Val loss: 3.75512239\n",
      "INFO: Early stopping counter                     7 of 20                         [Best Val Loss: 3.72765914,                             Val Loss: 3.75512239]\n"
     ]
    },
    {
     "name": "stderr",
     "output_type": "stream",
     "text": [
      "100%|██████████| 30/30 [00:08<00:00,  3.35it/s]\n",
      "100%|██████████| 8/8 [00:00<00:00,  9.38it/s]\n"
     ]
    },
    {
     "name": "stdout",
     "output_type": "stream",
     "text": [
      "Epoch 124/1000 - Train loss: 3.77141262 - Val loss: 3.74580756\n",
      "INFO: Early stopping counter                     8 of 20                         [Best Val Loss: 3.72765914,                             Val Loss: 3.74580756]\n"
     ]
    },
    {
     "name": "stderr",
     "output_type": "stream",
     "text": [
      "100%|██████████| 30/30 [00:08<00:00,  3.34it/s]\n",
      "100%|██████████| 8/8 [00:00<00:00,  9.47it/s]\n"
     ]
    },
    {
     "name": "stdout",
     "output_type": "stream",
     "text": [
      "Epoch 125/1000 - Train loss: 3.75412406 - Val loss: 3.74485603\n",
      "INFO: Early stopping counter                     9 of 20                         [Best Val Loss: 3.72765914,                             Val Loss: 3.74485603]\n"
     ]
    },
    {
     "name": "stderr",
     "output_type": "stream",
     "text": [
      "100%|██████████| 30/30 [00:08<00:00,  3.34it/s]\n",
      "100%|██████████| 8/8 [00:00<00:00,  9.59it/s]\n"
     ]
    },
    {
     "name": "stdout",
     "output_type": "stream",
     "text": [
      "Epoch 126/1000 - Train loss: 3.76170596 - Val loss: 3.73887038\n",
      "INFO: Early stopping counter                     10 of 20                         [Best Val Loss: 3.72765914,                             Val Loss: 3.73887038]\n"
     ]
    },
    {
     "name": "stderr",
     "output_type": "stream",
     "text": [
      "100%|██████████| 30/30 [00:09<00:00,  3.32it/s]\n",
      "100%|██████████| 8/8 [00:00<00:00,  9.51it/s]\n"
     ]
    },
    {
     "name": "stdout",
     "output_type": "stream",
     "text": [
      "Epoch 127/1000 - Train loss: 3.72874257 - Val loss: 3.72954422\n",
      "INFO: Early stopping counter                     11 of 20                         [Best Val Loss: 3.72765914,                             Val Loss: 3.72954422]\n",
      "Epoch 00127: reducing learning rate of group 0 to 1.0000e-06.\n"
     ]
    },
    {
     "name": "stderr",
     "output_type": "stream",
     "text": [
      "100%|██████████| 30/30 [00:09<00:00,  3.33it/s]\n",
      "100%|██████████| 8/8 [00:00<00:00,  9.42it/s]\n"
     ]
    },
    {
     "name": "stdout",
     "output_type": "stream",
     "text": [
      "Epoch 128/1000 - Train loss: 3.73651519 - Val loss: 3.72970301\n",
      "INFO: Early stopping counter                     12 of 20                         [Best Val Loss: 3.72765914,                             Val Loss: 3.72970301]\n"
     ]
    },
    {
     "name": "stderr",
     "output_type": "stream",
     "text": [
      "100%|██████████| 30/30 [00:08<00:00,  3.33it/s]\n",
      "100%|██████████| 8/8 [00:00<00:00,  9.40it/s]\n"
     ]
    },
    {
     "name": "stdout",
     "output_type": "stream",
     "text": [
      "Epoch 129/1000 - Train loss: 3.72904679 - Val loss: 3.73000795\n",
      "INFO: Early stopping counter                     13 of 20                         [Best Val Loss: 3.72765914,                             Val Loss: 3.73000795]\n"
     ]
    },
    {
     "name": "stderr",
     "output_type": "stream",
     "text": [
      "100%|██████████| 30/30 [00:08<00:00,  3.34it/s]\n",
      "100%|██████████| 8/8 [00:00<00:00,  9.47it/s]\n"
     ]
    },
    {
     "name": "stdout",
     "output_type": "stream",
     "text": [
      "Epoch 130/1000 - Train loss: 3.78000259 - Val loss: 3.72892934\n",
      "INFO: Early stopping counter                     14 of 20                         [Best Val Loss: 3.72765914,                             Val Loss: 3.72892934]\n"
     ]
    },
    {
     "name": "stderr",
     "output_type": "stream",
     "text": [
      "100%|██████████| 30/30 [00:08<00:00,  3.35it/s]\n",
      "100%|██████████| 8/8 [00:00<00:00,  9.68it/s]\n"
     ]
    },
    {
     "name": "stdout",
     "output_type": "stream",
     "text": [
      "Epoch 131/1000 - Train loss: 3.74277909 - Val loss: 3.72932908\n",
      "INFO: Early stopping counter                     15 of 20                         [Best Val Loss: 3.72765914,                             Val Loss: 3.72932908]\n"
     ]
    },
    {
     "name": "stderr",
     "output_type": "stream",
     "text": [
      "100%|██████████| 30/30 [00:08<00:00,  3.34it/s]\n",
      "100%|██████████| 8/8 [00:00<00:00,  9.56it/s]\n"
     ]
    },
    {
     "name": "stdout",
     "output_type": "stream",
     "text": [
      "Epoch 132/1000 - Train loss: 3.76630864 - Val loss: 3.72931364\n",
      "INFO: Early stopping counter                     16 of 20                         [Best Val Loss: 3.72765914,                             Val Loss: 3.72931364]\n"
     ]
    },
    {
     "name": "stderr",
     "output_type": "stream",
     "text": [
      "100%|██████████| 30/30 [00:09<00:00,  3.32it/s]\n",
      "100%|██████████| 8/8 [00:00<00:00,  9.56it/s]\n"
     ]
    },
    {
     "name": "stdout",
     "output_type": "stream",
     "text": [
      "Epoch 133/1000 - Train loss: 3.76336833 - Val loss: 3.72902253\n",
      "INFO: Early stopping counter                     17 of 20                         [Best Val Loss: 3.72765914,                             Val Loss: 3.72902253]\n"
     ]
    },
    {
     "name": "stderr",
     "output_type": "stream",
     "text": [
      "100%|██████████| 30/30 [00:08<00:00,  3.34it/s]\n",
      "100%|██████████| 8/8 [00:00<00:00,  9.91it/s]\n"
     ]
    },
    {
     "name": "stdout",
     "output_type": "stream",
     "text": [
      "Epoch 134/1000 - Train loss: 3.73013325 - Val loss: 3.72983351\n",
      "INFO: Early stopping counter                     18 of 20                         [Best Val Loss: 3.72765914,                             Val Loss: 3.72983351]\n"
     ]
    },
    {
     "name": "stderr",
     "output_type": "stream",
     "text": [
      "100%|██████████| 30/30 [00:09<00:00,  3.32it/s]\n",
      "100%|██████████| 8/8 [00:00<00:00,  9.57it/s]\n"
     ]
    },
    {
     "name": "stdout",
     "output_type": "stream",
     "text": [
      "Epoch 135/1000 - Train loss: 3.72845173 - Val loss: 3.73007038\n",
      "INFO: Early stopping counter                     19 of 20                         [Best Val Loss: 3.72765914,                             Val Loss: 3.73007038]\n"
     ]
    },
    {
     "name": "stderr",
     "output_type": "stream",
     "text": [
      "100%|██████████| 30/30 [00:08<00:00,  3.34it/s]\n",
      "100%|██████████| 8/8 [00:00<00:00,  9.40it/s]\n"
     ]
    },
    {
     "name": "stdout",
     "output_type": "stream",
     "text": [
      "Epoch 136/1000 - Train loss: 3.75371335 - Val loss: 3.73033398\n",
      "INFO: Early stopping counter                     20 of 20                         [Best Val Loss: 3.72765914,                             Val Loss: 3.73033398]\n",
      "INFO: Early stopping DONE!\n",
      "INFO: Best Val Loss: 3.72765914\n",
      "Loading best model...\n"
     ]
    }
   ],
   "source": [
    "from landmarker.pipeline import IndirectUncertaintyAwareHeatmapRegressionPipeline\n",
    "\n",
    "train_config = {\n",
    "    \"criterion\": \"multivariate_gaussian_nllloss\",\n",
    "    \"optimizer\": \"adam\",\n",
    "    \"lr\": lr,\n",
    "    \"batch_size\": batch_size,\n",
    "    \"epochs\": epochs,\n",
    "    \"lr_scheduler\": True,\n",
    "}\n",
    "\n",
    "indirectUncertaintyAwareHeatmapRegressionPipeline = IndirectUncertaintyAwareHeatmapRegressionPipeline(\n",
    "    differentiable_decoder=\"softargmax\", model=\"CoordConvUNet\", in_channels_img=1, nb_landmarks=19,\n",
    "    train_config=train_config, heatmap_decoder=coord_argmax, verbose=True, device=device)\n",
    "indirectUncertaintyAwareHeatmapRegressionPipeline.fit(image_paths_train, landmarks_train,\n",
    "                                        transform=composed_transformd, cache_ds=cache_ds)"
   ]
  },
  {
   "cell_type": "code",
   "execution_count": 10,
   "metadata": {},
   "outputs": [
    {
     "name": "stdout",
     "output_type": "stream",
     "text": [
      "Reading, normalizing and resizing 150 images and landmarks...\n"
     ]
    },
    {
     "name": "stderr",
     "output_type": "stream",
     "text": [
      "100%|██████████| 150/150 [00:03<00:00, 47.94it/s]\n",
      "100%|██████████| 150/150 [00:03<00:00, 49.44it/s]\n"
     ]
    },
    {
     "name": "stdout",
     "output_type": "stream",
     "text": [
      "Detection report:\n",
      "1# Point-to-point error (PE) statistics:\n",
      "======================================================================\n",
      "Class               Mean      Median    Std       Min       Max       \n",
      "----------------------------------------------------------------------\n",
      "Landmark 0          2.16      1.95      1.46      0.36      13.21     \n",
      "Landmark 1          2.49      1.86      2.32      0.03      13.28     \n",
      "Landmark 2          2.81      2.47      1.58      0.20      9.41      \n",
      "Landmark 3          3.18      2.80      2.03      0.15      10.20     \n",
      "Landmark 4          4.14      3.78      2.12      0.54      11.39     \n",
      "Landmark 5          3.98      3.74      2.27      0.24      11.98     \n",
      "Landmark 6          2.04      1.80      1.13      0.07      4.89      \n",
      "Landmark 7          1.88      1.72      1.17      0.19      7.28      \n",
      "Landmark 8          1.75      1.56      1.00      0.12      5.16      \n",
      "Landmark 9          4.21      3.64      2.74      0.55      19.02     \n",
      "Landmark 10         3.54      3.35      1.68      0.45      9.58      \n",
      "Landmark 11         3.38      3.27      1.57      0.48      7.74      \n",
      "Landmark 12         3.75      3.57      1.79      0.24      11.72     \n",
      "Landmark 13         3.71      3.44      2.31      0.30      20.06     \n",
      "Landmark 14         2.22      1.99      1.24      0.14      7.45      \n",
      "Landmark 15         2.96      2.43      1.82      0.21      10.11     \n",
      "Landmark 16         2.06      1.97      1.03      0.14      5.64      \n",
      "Landmark 17         3.17      2.80      1.92      0.08      10.34     \n",
      "Landmark 18         3.07      2.57      2.10      0.31      11.41     \n",
      "======================================================================\n",
      "\n",
      "2# Success detection rate (SDR):\n",
      "================================================================================\n",
      "Class               SDR (PE≤2mm)   SDR (PE≤2.5mm) SDR (PE≤3mm)   SDR (PE≤4mm)   \n",
      "--------------------------------------------------------------------------------\n",
      "Landmark 0          52.00          68.67          80.67          94.00          \n",
      "Landmark 1          54.00          65.33          72.00          83.33          \n",
      "Landmark 2          32.67          50.67          58.00          81.33          \n",
      "Landmark 3          30.67          44.67          55.33          72.67          \n",
      "Landmark 4          14.67          19.33          36.00          54.00          \n",
      "Landmark 5          20.00          29.33          38.00          54.67          \n",
      "Landmark 6          54.67          72.00          78.00          92.67          \n",
      "Landmark 7          60.67          76.67          84.67          94.67          \n",
      "Landmark 8          66.00          80.00          87.33          96.67          \n",
      "Landmark 9          20.67          28.00          40.67          58.00          \n",
      "Landmark 10         17.33          30.00          41.33          64.00          \n",
      "Landmark 11         22.67          30.67          39.33          68.67          \n",
      "Landmark 12         16.00          24.67          36.67          62.00          \n",
      "Landmark 13         20.00          32.67          43.33          60.00          \n",
      "Landmark 14         51.33          64.00          79.33          90.67          \n",
      "Landmark 15         36.00          52.00          59.33          73.33          \n",
      "Landmark 16         53.33          69.33          83.33          94.67          \n",
      "Landmark 17         30.00          42.67          54.67          74.00          \n",
      "Landmark 18         38.00          48.67          59.33          70.67          \n",
      "================================================================================\n"
     ]
    }
   ],
   "source": [
    "results_uncertainty_aware = indirectUncertaintyAwareHeatmapRegressionPipeline.evaluate(image_paths_test1, landmarks_test1, pixel_spacings_test1)"
   ]
  },
  {
   "cell_type": "markdown",
   "metadata": {},
   "source": [
    "## Indirect Uncertainty Unaware Heatmap Regression"
   ]
  },
  {
   "cell_type": "code",
   "execution_count": 11,
   "metadata": {},
   "outputs": [
    {
     "name": "stdout",
     "output_type": "stream",
     "text": [
      "Reading, normalizing and resizing 150 images and landmarks...\n"
     ]
    },
    {
     "name": "stderr",
     "output_type": "stream",
     "text": [
      "100%|██████████| 150/150 [00:03<00:00, 47.31it/s]\n",
      "100%|██████████| 30/30 [00:07<00:00,  3.95it/s]\n",
      "100%|██████████| 8/8 [00:00<00:00, 15.27it/s]\n"
     ]
    },
    {
     "name": "stdout",
     "output_type": "stream",
     "text": [
      "Epoch 1/1000 - Train loss: 1432.58005371 - Val loss: 349.50663185\n"
     ]
    },
    {
     "name": "stderr",
     "output_type": "stream",
     "text": [
      "100%|██████████| 30/30 [00:07<00:00,  3.87it/s]\n",
      "100%|██████████| 8/8 [00:00<00:00, 15.27it/s]\n"
     ]
    },
    {
     "name": "stdout",
     "output_type": "stream",
     "text": [
      "Epoch 2/1000 - Train loss: 441.34426168 - Val loss: 328.38031387\n",
      "INFO: Val_Loss improved (349.50663185 --> 328.38031387). Saving model ...\n"
     ]
    },
    {
     "name": "stderr",
     "output_type": "stream",
     "text": [
      "100%|██████████| 30/30 [00:07<00:00,  4.13it/s]\n",
      "100%|██████████| 8/8 [00:00<00:00, 15.26it/s]\n"
     ]
    },
    {
     "name": "stdout",
     "output_type": "stream",
     "text": [
      "Epoch 3/1000 - Train loss: 376.23353424 - Val loss: 276.64474678\n",
      "INFO: Val_Loss improved (328.38031387 --> 276.64474678). Saving model ...\n"
     ]
    },
    {
     "name": "stderr",
     "output_type": "stream",
     "text": [
      "100%|██████████| 30/30 [00:07<00:00,  3.93it/s]\n",
      "100%|██████████| 8/8 [00:00<00:00, 15.64it/s]\n"
     ]
    },
    {
     "name": "stdout",
     "output_type": "stream",
     "text": [
      "Epoch 4/1000 - Train loss: 392.11278585 - Val loss: 292.77058029\n",
      "INFO: Early stopping counter                     1 of 20                         [Best Val Loss: 276.64474678,                             Val Loss: 292.77058029]\n"
     ]
    },
    {
     "name": "stderr",
     "output_type": "stream",
     "text": [
      "100%|██████████| 30/30 [00:07<00:00,  4.05it/s]\n",
      "100%|██████████| 8/8 [00:00<00:00, 15.30it/s]\n"
     ]
    },
    {
     "name": "stdout",
     "output_type": "stream",
     "text": [
      "Epoch 5/1000 - Train loss: 371.33113047 - Val loss: 310.82950592\n",
      "INFO: Early stopping counter                     2 of 20                         [Best Val Loss: 276.64474678,                             Val Loss: 310.82950592]\n"
     ]
    },
    {
     "name": "stderr",
     "output_type": "stream",
     "text": [
      "100%|██████████| 30/30 [00:07<00:00,  4.07it/s]\n",
      "100%|██████████| 8/8 [00:00<00:00, 12.54it/s]\n"
     ]
    },
    {
     "name": "stdout",
     "output_type": "stream",
     "text": [
      "Epoch 6/1000 - Train loss: 363.01584117 - Val loss: 274.11997604\n",
      "INFO: Val_Loss improved (276.64474678 --> 274.11997604). Saving model ...\n"
     ]
    },
    {
     "name": "stderr",
     "output_type": "stream",
     "text": [
      "100%|██████████| 30/30 [00:07<00:00,  4.04it/s]\n",
      "100%|██████████| 8/8 [00:00<00:00, 15.25it/s]\n"
     ]
    },
    {
     "name": "stdout",
     "output_type": "stream",
     "text": [
      "Epoch 7/1000 - Train loss: 357.93456472 - Val loss: 269.37882423\n",
      "INFO: Val_Loss improved (274.11997604 --> 269.37882423). Saving model ...\n"
     ]
    },
    {
     "name": "stderr",
     "output_type": "stream",
     "text": [
      "100%|██████████| 30/30 [00:07<00:00,  4.02it/s]\n",
      "100%|██████████| 8/8 [00:00<00:00, 11.77it/s]\n"
     ]
    },
    {
     "name": "stdout",
     "output_type": "stream",
     "text": [
      "Epoch 8/1000 - Train loss: 289.91758982 - Val loss: 257.82475281\n",
      "INFO: Val_Loss improved (269.37882423 --> 257.82475281). Saving model ...\n"
     ]
    },
    {
     "name": "stderr",
     "output_type": "stream",
     "text": [
      "100%|██████████| 30/30 [00:07<00:00,  4.12it/s]\n",
      "100%|██████████| 8/8 [00:00<00:00, 15.35it/s]\n"
     ]
    },
    {
     "name": "stdout",
     "output_type": "stream",
     "text": [
      "Epoch 9/1000 - Train loss: 308.01807709 - Val loss: 241.84839058\n",
      "INFO: Val_Loss improved (257.82475281 --> 241.84839058). Saving model ...\n"
     ]
    },
    {
     "name": "stderr",
     "output_type": "stream",
     "text": [
      "100%|██████████| 30/30 [00:07<00:00,  4.09it/s]\n",
      "100%|██████████| 8/8 [00:00<00:00, 13.06it/s]\n"
     ]
    },
    {
     "name": "stdout",
     "output_type": "stream",
     "text": [
      "Epoch 10/1000 - Train loss: 288.68202159 - Val loss: 254.95864105\n",
      "INFO: Early stopping counter                     1 of 20                         [Best Val Loss: 241.84839058,                             Val Loss: 254.95864105]\n"
     ]
    },
    {
     "name": "stderr",
     "output_type": "stream",
     "text": [
      "100%|██████████| 30/30 [00:07<00:00,  3.95it/s]\n",
      "100%|██████████| 8/8 [00:00<00:00, 15.28it/s]\n"
     ]
    },
    {
     "name": "stdout",
     "output_type": "stream",
     "text": [
      "Epoch 11/1000 - Train loss: 282.41177114 - Val loss: 238.59182549\n",
      "INFO: Val_Loss improved (241.84839058 --> 238.59182549). Saving model ...\n"
     ]
    },
    {
     "name": "stderr",
     "output_type": "stream",
     "text": [
      "100%|██████████| 30/30 [00:07<00:00,  4.03it/s]\n",
      "100%|██████████| 8/8 [00:00<00:00, 15.33it/s]\n"
     ]
    },
    {
     "name": "stdout",
     "output_type": "stream",
     "text": [
      "Epoch 12/1000 - Train loss: 290.92325134 - Val loss: 291.95289040\n",
      "INFO: Early stopping counter                     1 of 20                         [Best Val Loss: 238.59182549,                             Val Loss: 291.95289040]\n"
     ]
    },
    {
     "name": "stderr",
     "output_type": "stream",
     "text": [
      "100%|██████████| 30/30 [00:07<00:00,  4.04it/s]\n",
      "100%|██████████| 8/8 [00:00<00:00, 15.34it/s]\n"
     ]
    },
    {
     "name": "stdout",
     "output_type": "stream",
     "text": [
      "Epoch 13/1000 - Train loss: 315.44053268 - Val loss: 224.61744308\n",
      "INFO: Val_Loss improved (238.59182549 --> 224.61744308). Saving model ...\n"
     ]
    },
    {
     "name": "stderr",
     "output_type": "stream",
     "text": [
      "100%|██████████| 30/30 [00:07<00:00,  4.01it/s]\n",
      "100%|██████████| 8/8 [00:00<00:00, 15.54it/s]\n"
     ]
    },
    {
     "name": "stdout",
     "output_type": "stream",
     "text": [
      "Epoch 14/1000 - Train loss: 290.51144842 - Val loss: 214.51088142\n",
      "INFO: Val_Loss improved (224.61744308 --> 214.51088142). Saving model ...\n"
     ]
    },
    {
     "name": "stderr",
     "output_type": "stream",
     "text": [
      "100%|██████████| 30/30 [00:07<00:00,  4.07it/s]\n",
      "100%|██████████| 8/8 [00:00<00:00, 15.02it/s]\n"
     ]
    },
    {
     "name": "stdout",
     "output_type": "stream",
     "text": [
      "Epoch 15/1000 - Train loss: 223.35217056 - Val loss: 207.01332283\n",
      "INFO: Val_Loss improved (214.51088142 --> 207.01332283). Saving model ...\n"
     ]
    },
    {
     "name": "stderr",
     "output_type": "stream",
     "text": [
      "100%|██████████| 30/30 [00:07<00:00,  4.08it/s]\n",
      "100%|██████████| 8/8 [00:00<00:00, 15.32it/s]\n"
     ]
    },
    {
     "name": "stdout",
     "output_type": "stream",
     "text": [
      "Epoch 16/1000 - Train loss: 199.61557083 - Val loss: 175.41614342\n",
      "INFO: Val_Loss improved (207.01332283 --> 175.41614342). Saving model ...\n"
     ]
    },
    {
     "name": "stderr",
     "output_type": "stream",
     "text": [
      "100%|██████████| 30/30 [00:07<00:00,  3.87it/s]\n",
      "100%|██████████| 8/8 [00:00<00:00, 14.99it/s]\n"
     ]
    },
    {
     "name": "stdout",
     "output_type": "stream",
     "text": [
      "Epoch 17/1000 - Train loss: 172.55779877 - Val loss: 114.80544949\n",
      "INFO: Val_Loss improved (175.41614342 --> 114.80544949). Saving model ...\n"
     ]
    },
    {
     "name": "stderr",
     "output_type": "stream",
     "text": [
      "100%|██████████| 30/30 [00:07<00:00,  4.07it/s]\n",
      "100%|██████████| 8/8 [00:00<00:00, 14.91it/s]\n"
     ]
    },
    {
     "name": "stdout",
     "output_type": "stream",
     "text": [
      "Epoch 18/1000 - Train loss: 204.76841380 - Val loss: 147.17397022\n",
      "INFO: Early stopping counter                     1 of 20                         [Best Val Loss: 114.80544949,                             Val Loss: 147.17397022]\n"
     ]
    },
    {
     "name": "stderr",
     "output_type": "stream",
     "text": [
      "100%|██████████| 30/30 [00:07<00:00,  4.13it/s]\n",
      "100%|██████████| 8/8 [00:00<00:00, 12.13it/s]\n"
     ]
    },
    {
     "name": "stdout",
     "output_type": "stream",
     "text": [
      "Epoch 19/1000 - Train loss: 149.39702911 - Val loss: 121.54714203\n",
      "INFO: Early stopping counter                     2 of 20                         [Best Val Loss: 114.80544949,                             Val Loss: 121.54714203]\n"
     ]
    },
    {
     "name": "stderr",
     "output_type": "stream",
     "text": [
      "100%|██████████| 30/30 [00:07<00:00,  3.97it/s]\n",
      "100%|██████████| 8/8 [00:00<00:00, 15.05it/s]\n"
     ]
    },
    {
     "name": "stdout",
     "output_type": "stream",
     "text": [
      "Epoch 20/1000 - Train loss: 153.00494130 - Val loss: 92.78096199\n",
      "INFO: Val_Loss improved (114.80544949 --> 92.78096199). Saving model ...\n"
     ]
    },
    {
     "name": "stderr",
     "output_type": "stream",
     "text": [
      "100%|██████████| 30/30 [00:07<00:00,  3.98it/s]\n",
      "100%|██████████| 8/8 [00:00<00:00, 13.66it/s]\n"
     ]
    },
    {
     "name": "stdout",
     "output_type": "stream",
     "text": [
      "Epoch 21/1000 - Train loss: 138.98860906 - Val loss: 90.76975250\n",
      "INFO: Val_Loss improved (92.78096199 --> 90.76975250). Saving model ...\n"
     ]
    },
    {
     "name": "stderr",
     "output_type": "stream",
     "text": [
      "100%|██████████| 30/30 [00:07<00:00,  4.04it/s]\n",
      "100%|██████████| 8/8 [00:00<00:00, 15.25it/s]\n"
     ]
    },
    {
     "name": "stdout",
     "output_type": "stream",
     "text": [
      "Epoch 22/1000 - Train loss: 130.99720917 - Val loss: 105.83924389\n",
      "INFO: Early stopping counter                     1 of 20                         [Best Val Loss: 90.76975250,                             Val Loss: 105.83924389]\n"
     ]
    },
    {
     "name": "stderr",
     "output_type": "stream",
     "text": [
      "100%|██████████| 30/30 [00:07<00:00,  4.09it/s]\n",
      "100%|██████████| 8/8 [00:00<00:00, 15.65it/s]\n"
     ]
    },
    {
     "name": "stdout",
     "output_type": "stream",
     "text": [
      "Epoch 23/1000 - Train loss: 110.34088593 - Val loss: 79.80815887\n",
      "INFO: Val_Loss improved (90.76975250 --> 79.80815887). Saving model ...\n"
     ]
    },
    {
     "name": "stderr",
     "output_type": "stream",
     "text": [
      "100%|██████████| 30/30 [00:07<00:00,  3.95it/s]\n",
      "100%|██████████| 8/8 [00:00<00:00, 15.31it/s]\n"
     ]
    },
    {
     "name": "stdout",
     "output_type": "stream",
     "text": [
      "Epoch 24/1000 - Train loss: 109.50581690 - Val loss: 69.56830406\n",
      "INFO: Val_Loss improved (79.80815887 --> 69.56830406). Saving model ...\n"
     ]
    },
    {
     "name": "stderr",
     "output_type": "stream",
     "text": [
      "100%|██████████| 30/30 [00:07<00:00,  3.96it/s]\n",
      "100%|██████████| 8/8 [00:00<00:00, 15.32it/s]\n"
     ]
    },
    {
     "name": "stdout",
     "output_type": "stream",
     "text": [
      "Epoch 25/1000 - Train loss: 109.02542178 - Val loss: 74.56030130\n",
      "INFO: Early stopping counter                     1 of 20                         [Best Val Loss: 69.56830406,                             Val Loss: 74.56030130]\n"
     ]
    },
    {
     "name": "stderr",
     "output_type": "stream",
     "text": [
      "100%|██████████| 30/30 [00:07<00:00,  3.93it/s]\n",
      "100%|██████████| 8/8 [00:00<00:00, 15.03it/s]\n"
     ]
    },
    {
     "name": "stdout",
     "output_type": "stream",
     "text": [
      "Epoch 26/1000 - Train loss: 100.37559916 - Val loss: 78.38579273\n",
      "INFO: Early stopping counter                     2 of 20                         [Best Val Loss: 69.56830406,                             Val Loss: 78.38579273]\n"
     ]
    },
    {
     "name": "stderr",
     "output_type": "stream",
     "text": [
      "100%|██████████| 30/30 [00:07<00:00,  3.98it/s]\n",
      "100%|██████████| 8/8 [00:00<00:00, 15.25it/s]\n"
     ]
    },
    {
     "name": "stdout",
     "output_type": "stream",
     "text": [
      "Epoch 27/1000 - Train loss: 148.76856906 - Val loss: 166.49565887\n",
      "INFO: Early stopping counter                     3 of 20                         [Best Val Loss: 69.56830406,                             Val Loss: 166.49565887]\n"
     ]
    },
    {
     "name": "stderr",
     "output_type": "stream",
     "text": [
      "100%|██████████| 30/30 [00:07<00:00,  3.96it/s]\n",
      "100%|██████████| 8/8 [00:00<00:00, 15.24it/s]\n"
     ]
    },
    {
     "name": "stdout",
     "output_type": "stream",
     "text": [
      "Epoch 28/1000 - Train loss: 145.68456752 - Val loss: 85.85405684\n",
      "INFO: Early stopping counter                     4 of 20                         [Best Val Loss: 69.56830406,                             Val Loss: 85.85405684]\n"
     ]
    },
    {
     "name": "stderr",
     "output_type": "stream",
     "text": [
      "100%|██████████| 30/30 [00:07<00:00,  4.12it/s]\n",
      "100%|██████████| 8/8 [00:00<00:00, 15.33it/s]\n"
     ]
    },
    {
     "name": "stdout",
     "output_type": "stream",
     "text": [
      "Epoch 29/1000 - Train loss: 133.25662651 - Val loss: 86.95092010\n",
      "INFO: Early stopping counter                     5 of 20                         [Best Val Loss: 69.56830406,                             Val Loss: 86.95092010]\n"
     ]
    },
    {
     "name": "stderr",
     "output_type": "stream",
     "text": [
      "100%|██████████| 30/30 [00:07<00:00,  4.02it/s]\n",
      "100%|██████████| 8/8 [00:00<00:00, 12.17it/s]\n"
     ]
    },
    {
     "name": "stdout",
     "output_type": "stream",
     "text": [
      "Epoch 30/1000 - Train loss: 108.84701869 - Val loss: 77.28955984\n",
      "INFO: Early stopping counter                     6 of 20                         [Best Val Loss: 69.56830406,                             Val Loss: 77.28955984]\n"
     ]
    },
    {
     "name": "stderr",
     "output_type": "stream",
     "text": [
      "100%|██████████| 30/30 [00:07<00:00,  4.00it/s]\n",
      "100%|██████████| 8/8 [00:00<00:00, 15.55it/s]\n"
     ]
    },
    {
     "name": "stdout",
     "output_type": "stream",
     "text": [
      "Epoch 31/1000 - Train loss: 110.51684799 - Val loss: 114.48029804\n",
      "INFO: Early stopping counter                     7 of 20                         [Best Val Loss: 69.56830406,                             Val Loss: 114.48029804]\n"
     ]
    },
    {
     "name": "stderr",
     "output_type": "stream",
     "text": [
      "100%|██████████| 30/30 [00:07<00:00,  4.14it/s]\n",
      "100%|██████████| 8/8 [00:00<00:00, 15.34it/s]\n"
     ]
    },
    {
     "name": "stdout",
     "output_type": "stream",
     "text": [
      "Epoch 32/1000 - Train loss: 123.32030792 - Val loss: 68.40540600\n",
      "INFO: Val_Loss improved (69.56830406 --> 68.40540600). Saving model ...\n"
     ]
    },
    {
     "name": "stderr",
     "output_type": "stream",
     "text": [
      "100%|██████████| 30/30 [00:07<00:00,  3.92it/s]\n",
      "100%|██████████| 8/8 [00:00<00:00, 15.26it/s]\n"
     ]
    },
    {
     "name": "stdout",
     "output_type": "stream",
     "text": [
      "Epoch 33/1000 - Train loss: 101.17132123 - Val loss: 74.78913021\n",
      "INFO: Early stopping counter                     1 of 20                         [Best Val Loss: 68.40540600,                             Val Loss: 74.78913021]\n"
     ]
    },
    {
     "name": "stderr",
     "output_type": "stream",
     "text": [
      "100%|██████████| 30/30 [00:07<00:00,  4.02it/s]\n",
      "100%|██████████| 8/8 [00:00<00:00, 15.00it/s]\n"
     ]
    },
    {
     "name": "stdout",
     "output_type": "stream",
     "text": [
      "Epoch 34/1000 - Train loss: 98.18336678 - Val loss: 87.81921530\n",
      "INFO: Early stopping counter                     2 of 20                         [Best Val Loss: 68.40540600,                             Val Loss: 87.81921530]\n"
     ]
    },
    {
     "name": "stderr",
     "output_type": "stream",
     "text": [
      "100%|██████████| 30/30 [00:07<00:00,  4.06it/s]\n",
      "100%|██████████| 8/8 [00:00<00:00, 14.71it/s]\n"
     ]
    },
    {
     "name": "stdout",
     "output_type": "stream",
     "text": [
      "Epoch 35/1000 - Train loss: 95.39057045 - Val loss: 98.71096706\n",
      "INFO: Early stopping counter                     3 of 20                         [Best Val Loss: 68.40540600,                             Val Loss: 98.71096706]\n"
     ]
    },
    {
     "name": "stderr",
     "output_type": "stream",
     "text": [
      "100%|██████████| 30/30 [00:07<00:00,  4.03it/s]\n",
      "100%|██████████| 8/8 [00:00<00:00, 15.16it/s]\n"
     ]
    },
    {
     "name": "stdout",
     "output_type": "stream",
     "text": [
      "Epoch 36/1000 - Train loss: 90.37196693 - Val loss: 89.67273140\n",
      "INFO: Early stopping counter                     4 of 20                         [Best Val Loss: 68.40540600,                             Val Loss: 89.67273140]\n"
     ]
    },
    {
     "name": "stderr",
     "output_type": "stream",
     "text": [
      "100%|██████████| 30/30 [00:07<00:00,  4.03it/s]\n",
      "100%|██████████| 8/8 [00:00<00:00, 12.77it/s]\n"
     ]
    },
    {
     "name": "stdout",
     "output_type": "stream",
     "text": [
      "Epoch 37/1000 - Train loss: 93.65731392 - Val loss: 69.06077671\n",
      "INFO: Early stopping counter                     5 of 20                         [Best Val Loss: 68.40540600,                             Val Loss: 69.06077671]\n"
     ]
    },
    {
     "name": "stderr",
     "output_type": "stream",
     "text": [
      "100%|██████████| 30/30 [00:07<00:00,  4.02it/s]\n",
      "100%|██████████| 8/8 [00:00<00:00, 15.00it/s]\n"
     ]
    },
    {
     "name": "stdout",
     "output_type": "stream",
     "text": [
      "Epoch 38/1000 - Train loss: 91.11967379 - Val loss: 69.78103781\n",
      "INFO: Early stopping counter                     6 of 20                         [Best Val Loss: 68.40540600,                             Val Loss: 69.78103781]\n"
     ]
    },
    {
     "name": "stderr",
     "output_type": "stream",
     "text": [
      "100%|██████████| 30/30 [00:07<00:00,  4.07it/s]\n",
      "100%|██████████| 8/8 [00:00<00:00, 15.61it/s]\n"
     ]
    },
    {
     "name": "stdout",
     "output_type": "stream",
     "text": [
      "Epoch 39/1000 - Train loss: 82.24810143 - Val loss: 65.18016195\n",
      "INFO: Val_Loss improved (68.40540600 --> 65.18016195). Saving model ...\n"
     ]
    },
    {
     "name": "stderr",
     "output_type": "stream",
     "text": [
      "100%|██████████| 30/30 [00:07<00:00,  3.96it/s]\n",
      "100%|██████████| 8/8 [00:00<00:00, 15.26it/s]\n"
     ]
    },
    {
     "name": "stdout",
     "output_type": "stream",
     "text": [
      "Epoch 40/1000 - Train loss: 88.69924126 - Val loss: 69.67384768\n",
      "INFO: Early stopping counter                     1 of 20                         [Best Val Loss: 65.18016195,                             Val Loss: 69.67384768]\n"
     ]
    },
    {
     "name": "stderr",
     "output_type": "stream",
     "text": [
      "100%|██████████| 30/30 [00:07<00:00,  3.98it/s]\n",
      "100%|██████████| 8/8 [00:00<00:00, 15.56it/s]\n"
     ]
    },
    {
     "name": "stdout",
     "output_type": "stream",
     "text": [
      "Epoch 41/1000 - Train loss: 81.55583661 - Val loss: 69.47547007\n",
      "INFO: Early stopping counter                     2 of 20                         [Best Val Loss: 65.18016195,                             Val Loss: 69.47547007]\n"
     ]
    },
    {
     "name": "stderr",
     "output_type": "stream",
     "text": [
      "100%|██████████| 30/30 [00:07<00:00,  3.98it/s]\n",
      "100%|██████████| 8/8 [00:00<00:00, 15.20it/s]\n"
     ]
    },
    {
     "name": "stdout",
     "output_type": "stream",
     "text": [
      "Epoch 42/1000 - Train loss: 80.23750178 - Val loss: 71.28932667\n",
      "INFO: Early stopping counter                     3 of 20                         [Best Val Loss: 65.18016195,                             Val Loss: 71.28932667]\n"
     ]
    },
    {
     "name": "stderr",
     "output_type": "stream",
     "text": [
      "100%|██████████| 30/30 [00:07<00:00,  4.06it/s]\n",
      "100%|██████████| 8/8 [00:00<00:00, 15.48it/s]\n"
     ]
    },
    {
     "name": "stdout",
     "output_type": "stream",
     "text": [
      "Epoch 43/1000 - Train loss: 72.64606870 - Val loss: 66.98516893\n",
      "INFO: Early stopping counter                     4 of 20                         [Best Val Loss: 65.18016195,                             Val Loss: 66.98516893]\n"
     ]
    },
    {
     "name": "stderr",
     "output_type": "stream",
     "text": [
      "100%|██████████| 30/30 [00:07<00:00,  4.10it/s]\n",
      "100%|██████████| 8/8 [00:00<00:00, 11.61it/s]\n"
     ]
    },
    {
     "name": "stdout",
     "output_type": "stream",
     "text": [
      "Epoch 44/1000 - Train loss: 77.36352310 - Val loss: 70.18756485\n",
      "INFO: Early stopping counter                     5 of 20                         [Best Val Loss: 65.18016195,                             Val Loss: 70.18756485]\n"
     ]
    },
    {
     "name": "stderr",
     "output_type": "stream",
     "text": [
      "100%|██████████| 30/30 [00:07<00:00,  4.04it/s]\n",
      "100%|██████████| 8/8 [00:00<00:00, 15.64it/s]\n"
     ]
    },
    {
     "name": "stdout",
     "output_type": "stream",
     "text": [
      "Epoch 45/1000 - Train loss: 85.56965205 - Val loss: 70.31513977\n",
      "INFO: Early stopping counter                     6 of 20                         [Best Val Loss: 65.18016195,                             Val Loss: 70.31513977]\n"
     ]
    },
    {
     "name": "stderr",
     "output_type": "stream",
     "text": [
      "100%|██████████| 30/30 [00:07<00:00,  4.04it/s]\n",
      "100%|██████████| 8/8 [00:00<00:00, 11.56it/s]\n"
     ]
    },
    {
     "name": "stdout",
     "output_type": "stream",
     "text": [
      "Epoch 46/1000 - Train loss: 78.27993253 - Val loss: 78.45104170\n",
      "INFO: Early stopping counter                     7 of 20                         [Best Val Loss: 65.18016195,                             Val Loss: 78.45104170]\n"
     ]
    },
    {
     "name": "stderr",
     "output_type": "stream",
     "text": [
      "100%|██████████| 30/30 [00:07<00:00,  4.10it/s]\n",
      "100%|██████████| 8/8 [00:00<00:00, 15.35it/s]\n"
     ]
    },
    {
     "name": "stdout",
     "output_type": "stream",
     "text": [
      "Epoch 47/1000 - Train loss: 73.50983734 - Val loss: 63.24764442\n",
      "INFO: Val_Loss improved (65.18016195 --> 63.24764442). Saving model ...\n"
     ]
    },
    {
     "name": "stderr",
     "output_type": "stream",
     "text": [
      "100%|██████████| 30/30 [00:07<00:00,  3.99it/s]\n",
      "100%|██████████| 8/8 [00:00<00:00, 15.32it/s]\n"
     ]
    },
    {
     "name": "stdout",
     "output_type": "stream",
     "text": [
      "Epoch 48/1000 - Train loss: 67.33593432 - Val loss: 69.23108292\n",
      "INFO: Early stopping counter                     1 of 20                         [Best Val Loss: 63.24764442,                             Val Loss: 69.23108292]\n"
     ]
    },
    {
     "name": "stderr",
     "output_type": "stream",
     "text": [
      "100%|██████████| 30/30 [00:07<00:00,  3.96it/s]\n",
      "100%|██████████| 8/8 [00:00<00:00, 15.28it/s]\n"
     ]
    },
    {
     "name": "stdout",
     "output_type": "stream",
     "text": [
      "Epoch 49/1000 - Train loss: 78.84624379 - Val loss: 66.52953577\n",
      "INFO: Early stopping counter                     2 of 20                         [Best Val Loss: 63.24764442,                             Val Loss: 66.52953577]\n"
     ]
    },
    {
     "name": "stderr",
     "output_type": "stream",
     "text": [
      "100%|██████████| 30/30 [00:07<00:00,  4.04it/s]\n",
      "100%|██████████| 8/8 [00:00<00:00, 15.26it/s]\n"
     ]
    },
    {
     "name": "stdout",
     "output_type": "stream",
     "text": [
      "Epoch 50/1000 - Train loss: 68.60206337 - Val loss: 60.32505608\n",
      "INFO: Val_Loss improved (63.24764442 --> 60.32505608). Saving model ...\n"
     ]
    },
    {
     "name": "stderr",
     "output_type": "stream",
     "text": [
      "100%|██████████| 30/30 [00:07<00:00,  4.04it/s]\n",
      "100%|██████████| 8/8 [00:00<00:00, 15.31it/s]\n"
     ]
    },
    {
     "name": "stdout",
     "output_type": "stream",
     "text": [
      "Epoch 51/1000 - Train loss: 72.84241130 - Val loss: 60.93443918\n",
      "INFO: Early stopping counter                     1 of 20                         [Best Val Loss: 60.32505608,                             Val Loss: 60.93443918]\n"
     ]
    },
    {
     "name": "stderr",
     "output_type": "stream",
     "text": [
      "100%|██████████| 30/30 [00:07<00:00,  4.07it/s]\n",
      "100%|██████████| 8/8 [00:00<00:00, 15.21it/s]\n"
     ]
    },
    {
     "name": "stdout",
     "output_type": "stream",
     "text": [
      "Epoch 52/1000 - Train loss: 69.95638072 - Val loss: 60.75983620\n",
      "INFO: Early stopping counter                     2 of 20                         [Best Val Loss: 60.32505608,                             Val Loss: 60.75983620]\n"
     ]
    },
    {
     "name": "stderr",
     "output_type": "stream",
     "text": [
      "100%|██████████| 30/30 [00:07<00:00,  4.13it/s]\n",
      "100%|██████████| 8/8 [00:00<00:00, 11.38it/s]\n"
     ]
    },
    {
     "name": "stdout",
     "output_type": "stream",
     "text": [
      "Epoch 53/1000 - Train loss: 76.11658656 - Val loss: 60.97965384\n",
      "INFO: Early stopping counter                     3 of 20                         [Best Val Loss: 60.32505608,                             Val Loss: 60.97965384]\n"
     ]
    },
    {
     "name": "stderr",
     "output_type": "stream",
     "text": [
      "100%|██████████| 30/30 [00:07<00:00,  4.03it/s]\n",
      "100%|██████████| 8/8 [00:00<00:00, 14.95it/s]\n"
     ]
    },
    {
     "name": "stdout",
     "output_type": "stream",
     "text": [
      "Epoch 54/1000 - Train loss: 66.61078415 - Val loss: 63.43210602\n",
      "INFO: Early stopping counter                     4 of 20                         [Best Val Loss: 60.32505608,                             Val Loss: 63.43210602]\n"
     ]
    },
    {
     "name": "stderr",
     "output_type": "stream",
     "text": [
      "100%|██████████| 30/30 [00:07<00:00,  4.17it/s]\n",
      "100%|██████████| 8/8 [00:00<00:00, 15.46it/s]\n"
     ]
    },
    {
     "name": "stdout",
     "output_type": "stream",
     "text": [
      "Epoch 55/1000 - Train loss: 63.42112401 - Val loss: 58.07504606\n",
      "INFO: Val_Loss improved (60.32505608 --> 58.07504606). Saving model ...\n"
     ]
    },
    {
     "name": "stderr",
     "output_type": "stream",
     "text": [
      "100%|██████████| 30/30 [00:07<00:00,  4.12it/s]\n",
      "100%|██████████| 8/8 [00:00<00:00, 15.37it/s]\n"
     ]
    },
    {
     "name": "stdout",
     "output_type": "stream",
     "text": [
      "Epoch 56/1000 - Train loss: 73.73526713 - Val loss: 73.32352638\n",
      "INFO: Early stopping counter                     1 of 20                         [Best Val Loss: 58.07504606,                             Val Loss: 73.32352638]\n"
     ]
    },
    {
     "name": "stderr",
     "output_type": "stream",
     "text": [
      "100%|██████████| 30/30 [00:07<00:00,  4.01it/s]\n",
      "100%|██████████| 8/8 [00:00<00:00, 15.32it/s]\n"
     ]
    },
    {
     "name": "stdout",
     "output_type": "stream",
     "text": [
      "Epoch 57/1000 - Train loss: 77.40273018 - Val loss: 61.84420347\n",
      "INFO: Early stopping counter                     2 of 20                         [Best Val Loss: 58.07504606,                             Val Loss: 61.84420347]\n"
     ]
    },
    {
     "name": "stderr",
     "output_type": "stream",
     "text": [
      "100%|██████████| 30/30 [00:07<00:00,  3.92it/s]\n",
      "100%|██████████| 8/8 [00:00<00:00, 15.42it/s]\n"
     ]
    },
    {
     "name": "stdout",
     "output_type": "stream",
     "text": [
      "Epoch 58/1000 - Train loss: 81.12803154 - Val loss: 63.48475885\n",
      "INFO: Early stopping counter                     3 of 20                         [Best Val Loss: 58.07504606,                             Val Loss: 63.48475885]\n"
     ]
    },
    {
     "name": "stderr",
     "output_type": "stream",
     "text": [
      "100%|██████████| 30/30 [00:07<00:00,  4.00it/s]\n",
      "100%|██████████| 8/8 [00:00<00:00, 14.97it/s]\n"
     ]
    },
    {
     "name": "stdout",
     "output_type": "stream",
     "text": [
      "Epoch 59/1000 - Train loss: 86.02595889 - Val loss: 82.55435133\n",
      "INFO: Early stopping counter                     4 of 20                         [Best Val Loss: 58.07504606,                             Val Loss: 82.55435133]\n"
     ]
    },
    {
     "name": "stderr",
     "output_type": "stream",
     "text": [
      "100%|██████████| 30/30 [00:07<00:00,  4.04it/s]\n",
      "100%|██████████| 8/8 [00:00<00:00, 12.55it/s]\n"
     ]
    },
    {
     "name": "stdout",
     "output_type": "stream",
     "text": [
      "Epoch 60/1000 - Train loss: 143.24568291 - Val loss: 79.94613171\n",
      "INFO: Early stopping counter                     5 of 20                         [Best Val Loss: 58.07504606,                             Val Loss: 79.94613171]\n"
     ]
    },
    {
     "name": "stderr",
     "output_type": "stream",
     "text": [
      "100%|██████████| 30/30 [00:07<00:00,  4.06it/s]\n",
      "100%|██████████| 8/8 [00:00<00:00, 15.30it/s]\n"
     ]
    },
    {
     "name": "stdout",
     "output_type": "stream",
     "text": [
      "Epoch 61/1000 - Train loss: 96.87782338 - Val loss: 66.95822811\n",
      "INFO: Early stopping counter                     6 of 20                         [Best Val Loss: 58.07504606,                             Val Loss: 66.95822811]\n"
     ]
    },
    {
     "name": "stderr",
     "output_type": "stream",
     "text": [
      "100%|██████████| 30/30 [00:07<00:00,  4.13it/s]\n",
      "100%|██████████| 8/8 [00:00<00:00, 15.20it/s]\n"
     ]
    },
    {
     "name": "stdout",
     "output_type": "stream",
     "text": [
      "Epoch 62/1000 - Train loss: 76.22317467 - Val loss: 60.57251215\n",
      "INFO: Early stopping counter                     7 of 20                         [Best Val Loss: 58.07504606,                             Val Loss: 60.57251215]\n"
     ]
    },
    {
     "name": "stderr",
     "output_type": "stream",
     "text": [
      "100%|██████████| 30/30 [00:07<00:00,  4.01it/s]\n",
      "100%|██████████| 8/8 [00:00<00:00, 15.03it/s]\n"
     ]
    },
    {
     "name": "stdout",
     "output_type": "stream",
     "text": [
      "Epoch 63/1000 - Train loss: 74.11097336 - Val loss: 55.47835255\n",
      "INFO: Val_Loss improved (58.07504606 --> 55.47835255). Saving model ...\n"
     ]
    },
    {
     "name": "stderr",
     "output_type": "stream",
     "text": [
      "100%|██████████| 30/30 [00:07<00:00,  4.11it/s]\n",
      "100%|██████████| 8/8 [00:00<00:00, 15.18it/s]\n"
     ]
    },
    {
     "name": "stdout",
     "output_type": "stream",
     "text": [
      "Epoch 64/1000 - Train loss: 65.94261805 - Val loss: 54.79224634\n",
      "INFO: Val_Loss improved (55.47835255 --> 54.79224634). Saving model ...\n"
     ]
    },
    {
     "name": "stderr",
     "output_type": "stream",
     "text": [
      "100%|██████████| 30/30 [00:07<00:00,  3.96it/s]\n",
      "100%|██████████| 8/8 [00:00<00:00, 15.65it/s]\n"
     ]
    },
    {
     "name": "stdout",
     "output_type": "stream",
     "text": [
      "Epoch 65/1000 - Train loss: 70.43326836 - Val loss: 58.09678173\n",
      "INFO: Early stopping counter                     1 of 20                         [Best Val Loss: 54.79224634,                             Val Loss: 58.09678173]\n"
     ]
    },
    {
     "name": "stderr",
     "output_type": "stream",
     "text": [
      "100%|██████████| 30/30 [00:07<00:00,  4.02it/s]\n",
      "100%|██████████| 8/8 [00:00<00:00, 15.61it/s]\n"
     ]
    },
    {
     "name": "stdout",
     "output_type": "stream",
     "text": [
      "Epoch 66/1000 - Train loss: 67.89893684 - Val loss: 52.04281616\n",
      "INFO: Val_Loss improved (54.79224634 --> 52.04281616). Saving model ...\n"
     ]
    },
    {
     "name": "stderr",
     "output_type": "stream",
     "text": [
      "100%|██████████| 30/30 [00:07<00:00,  4.04it/s]\n",
      "100%|██████████| 8/8 [00:00<00:00, 12.60it/s]\n"
     ]
    },
    {
     "name": "stdout",
     "output_type": "stream",
     "text": [
      "Epoch 67/1000 - Train loss: 64.44804840 - Val loss: 53.40323734\n",
      "INFO: Early stopping counter                     1 of 20                         [Best Val Loss: 52.04281616,                             Val Loss: 53.40323734]\n"
     ]
    },
    {
     "name": "stderr",
     "output_type": "stream",
     "text": [
      "100%|██████████| 30/30 [00:07<00:00,  4.03it/s]\n",
      "100%|██████████| 8/8 [00:00<00:00, 14.69it/s]\n"
     ]
    },
    {
     "name": "stdout",
     "output_type": "stream",
     "text": [
      "Epoch 68/1000 - Train loss: 67.42769814 - Val loss: 64.28558397\n",
      "INFO: Early stopping counter                     2 of 20                         [Best Val Loss: 52.04281616,                             Val Loss: 64.28558397]\n"
     ]
    },
    {
     "name": "stderr",
     "output_type": "stream",
     "text": [
      "100%|██████████| 30/30 [00:07<00:00,  4.08it/s]\n",
      "100%|██████████| 8/8 [00:00<00:00, 12.47it/s]\n"
     ]
    },
    {
     "name": "stdout",
     "output_type": "stream",
     "text": [
      "Epoch 69/1000 - Train loss: 61.12713178 - Val loss: 55.88816166\n",
      "INFO: Early stopping counter                     3 of 20                         [Best Val Loss: 52.04281616,                             Val Loss: 55.88816166]\n"
     ]
    },
    {
     "name": "stderr",
     "output_type": "stream",
     "text": [
      "100%|██████████| 30/30 [00:07<00:00,  4.04it/s]\n",
      "100%|██████████| 8/8 [00:00<00:00, 15.55it/s]\n"
     ]
    },
    {
     "name": "stdout",
     "output_type": "stream",
     "text": [
      "Epoch 70/1000 - Train loss: 69.71374563 - Val loss: 59.79438972\n",
      "INFO: Early stopping counter                     4 of 20                         [Best Val Loss: 52.04281616,                             Val Loss: 59.79438972]\n"
     ]
    },
    {
     "name": "stderr",
     "output_type": "stream",
     "text": [
      "100%|██████████| 30/30 [00:07<00:00,  4.01it/s]\n",
      "100%|██████████| 8/8 [00:00<00:00, 15.31it/s]\n"
     ]
    },
    {
     "name": "stdout",
     "output_type": "stream",
     "text": [
      "Epoch 71/1000 - Train loss: 64.94914627 - Val loss: 58.39906931\n",
      "INFO: Early stopping counter                     5 of 20                         [Best Val Loss: 52.04281616,                             Val Loss: 58.39906931]\n"
     ]
    },
    {
     "name": "stderr",
     "output_type": "stream",
     "text": [
      "100%|██████████| 30/30 [00:07<00:00,  3.94it/s]\n",
      "100%|██████████| 8/8 [00:00<00:00, 15.42it/s]\n"
     ]
    },
    {
     "name": "stdout",
     "output_type": "stream",
     "text": [
      "Epoch 72/1000 - Train loss: 61.72897911 - Val loss: 56.70644999\n",
      "INFO: Early stopping counter                     6 of 20                         [Best Val Loss: 52.04281616,                             Val Loss: 56.70644999]\n"
     ]
    },
    {
     "name": "stderr",
     "output_type": "stream",
     "text": [
      "100%|██████████| 30/30 [00:07<00:00,  4.09it/s]\n",
      "100%|██████████| 8/8 [00:00<00:00, 15.30it/s]\n"
     ]
    },
    {
     "name": "stdout",
     "output_type": "stream",
     "text": [
      "Epoch 73/1000 - Train loss: 61.88589948 - Val loss: 53.61888790\n",
      "INFO: Early stopping counter                     7 of 20                         [Best Val Loss: 52.04281616,                             Val Loss: 53.61888790]\n"
     ]
    },
    {
     "name": "stderr",
     "output_type": "stream",
     "text": [
      "100%|██████████| 30/30 [00:07<00:00,  4.06it/s]\n",
      "100%|██████████| 8/8 [00:00<00:00, 13.68it/s]\n"
     ]
    },
    {
     "name": "stdout",
     "output_type": "stream",
     "text": [
      "Epoch 74/1000 - Train loss: 65.35392011 - Val loss: 57.18182087\n",
      "INFO: Early stopping counter                     8 of 20                         [Best Val Loss: 52.04281616,                             Val Loss: 57.18182087]\n"
     ]
    },
    {
     "name": "stderr",
     "output_type": "stream",
     "text": [
      "100%|██████████| 30/30 [00:07<00:00,  4.12it/s]\n",
      "100%|██████████| 8/8 [00:00<00:00, 15.26it/s]\n"
     ]
    },
    {
     "name": "stdout",
     "output_type": "stream",
     "text": [
      "Epoch 75/1000 - Train loss: 60.89752185 - Val loss: 54.57855415\n",
      "INFO: Early stopping counter                     9 of 20                         [Best Val Loss: 52.04281616,                             Val Loss: 54.57855415]\n"
     ]
    },
    {
     "name": "stderr",
     "output_type": "stream",
     "text": [
      "100%|██████████| 30/30 [00:07<00:00,  4.03it/s]\n",
      "100%|██████████| 8/8 [00:00<00:00, 14.00it/s]\n"
     ]
    },
    {
     "name": "stdout",
     "output_type": "stream",
     "text": [
      "Epoch 76/1000 - Train loss: 57.33588409 - Val loss: 67.31166267\n",
      "INFO: Early stopping counter                     10 of 20                         [Best Val Loss: 52.04281616,                             Val Loss: 67.31166267]\n"
     ]
    },
    {
     "name": "stderr",
     "output_type": "stream",
     "text": [
      "100%|██████████| 30/30 [00:07<00:00,  3.99it/s]\n",
      "100%|██████████| 8/8 [00:00<00:00, 15.62it/s]\n"
     ]
    },
    {
     "name": "stdout",
     "output_type": "stream",
     "text": [
      "Epoch 77/1000 - Train loss: 59.23038228 - Val loss: 64.37057543\n",
      "INFO: Early stopping counter                     11 of 20                         [Best Val Loss: 52.04281616,                             Val Loss: 64.37057543]\n",
      "Epoch 00077: reducing learning rate of group 0 to 1.0000e-05.\n"
     ]
    },
    {
     "name": "stderr",
     "output_type": "stream",
     "text": [
      "100%|██████████| 30/30 [00:07<00:00,  3.94it/s]\n",
      "100%|██████████| 8/8 [00:00<00:00, 15.31it/s]\n"
     ]
    },
    {
     "name": "stdout",
     "output_type": "stream",
     "text": [
      "Epoch 78/1000 - Train loss: 53.99343840 - Val loss: 49.27794266\n",
      "INFO: Val_Loss improved (52.04281616 --> 49.27794266). Saving model ...\n"
     ]
    },
    {
     "name": "stderr",
     "output_type": "stream",
     "text": [
      "100%|██████████| 30/30 [00:07<00:00,  3.98it/s]\n",
      "100%|██████████| 8/8 [00:00<00:00, 15.49it/s]\n"
     ]
    },
    {
     "name": "stdout",
     "output_type": "stream",
     "text": [
      "Epoch 79/1000 - Train loss: 49.95957686 - Val loss: 45.74886751\n",
      "INFO: Val_Loss improved (49.27794266 --> 45.74886751). Saving model ...\n"
     ]
    },
    {
     "name": "stderr",
     "output_type": "stream",
     "text": [
      "100%|██████████| 30/30 [00:07<00:00,  4.10it/s]\n",
      "100%|██████████| 8/8 [00:00<00:00, 15.27it/s]\n"
     ]
    },
    {
     "name": "stdout",
     "output_type": "stream",
     "text": [
      "Epoch 80/1000 - Train loss: 48.05936750 - Val loss: 46.11921215\n",
      "INFO: Early stopping counter                     1 of 20                         [Best Val Loss: 45.74886751,                             Val Loss: 46.11921215]\n"
     ]
    },
    {
     "name": "stderr",
     "output_type": "stream",
     "text": [
      "100%|██████████| 30/30 [00:07<00:00,  3.93it/s]\n",
      "100%|██████████| 8/8 [00:00<00:00, 15.64it/s]\n"
     ]
    },
    {
     "name": "stdout",
     "output_type": "stream",
     "text": [
      "Epoch 81/1000 - Train loss: 47.76334972 - Val loss: 46.49041557\n",
      "INFO: Early stopping counter                     2 of 20                         [Best Val Loss: 45.74886751,                             Val Loss: 46.49041557]\n"
     ]
    },
    {
     "name": "stderr",
     "output_type": "stream",
     "text": [
      "100%|██████████| 30/30 [00:07<00:00,  4.01it/s]\n",
      "100%|██████████| 8/8 [00:00<00:00, 15.29it/s]\n"
     ]
    },
    {
     "name": "stdout",
     "output_type": "stream",
     "text": [
      "Epoch 82/1000 - Train loss: 50.12773304 - Val loss: 45.39162493\n",
      "INFO: Val_Loss improved (45.74886751 --> 45.39162493). Saving model ...\n"
     ]
    },
    {
     "name": "stderr",
     "output_type": "stream",
     "text": [
      "100%|██████████| 30/30 [00:07<00:00,  3.99it/s]\n",
      "100%|██████████| 8/8 [00:00<00:00, 15.31it/s]\n"
     ]
    },
    {
     "name": "stdout",
     "output_type": "stream",
     "text": [
      "Epoch 83/1000 - Train loss: 47.82182096 - Val loss: 46.73012495\n",
      "INFO: Early stopping counter                     1 of 20                         [Best Val Loss: 45.39162493,                             Val Loss: 46.73012495]\n"
     ]
    },
    {
     "name": "stderr",
     "output_type": "stream",
     "text": [
      "100%|██████████| 30/30 [00:07<00:00,  4.00it/s]\n",
      "100%|██████████| 8/8 [00:00<00:00, 15.30it/s]\n"
     ]
    },
    {
     "name": "stdout",
     "output_type": "stream",
     "text": [
      "Epoch 84/1000 - Train loss: 49.85537402 - Val loss: 47.83369255\n",
      "INFO: Early stopping counter                     2 of 20                         [Best Val Loss: 45.39162493,                             Val Loss: 47.83369255]\n"
     ]
    },
    {
     "name": "stderr",
     "output_type": "stream",
     "text": [
      "100%|██████████| 30/30 [00:07<00:00,  4.10it/s]\n",
      "100%|██████████| 8/8 [00:00<00:00, 12.31it/s]\n"
     ]
    },
    {
     "name": "stdout",
     "output_type": "stream",
     "text": [
      "Epoch 85/1000 - Train loss: 47.18789330 - Val loss: 45.34372807\n",
      "INFO: Val_Loss improved (45.39162493 --> 45.34372807). Saving model ...\n"
     ]
    },
    {
     "name": "stderr",
     "output_type": "stream",
     "text": [
      "100%|██████████| 30/30 [00:07<00:00,  4.00it/s]\n",
      "100%|██████████| 8/8 [00:00<00:00, 15.63it/s]\n"
     ]
    },
    {
     "name": "stdout",
     "output_type": "stream",
     "text": [
      "Epoch 86/1000 - Train loss: 47.02933458 - Val loss: 43.69222641\n",
      "INFO: Val_Loss improved (45.34372807 --> 43.69222641). Saving model ...\n"
     ]
    },
    {
     "name": "stderr",
     "output_type": "stream",
     "text": [
      "100%|██████████| 30/30 [00:07<00:00,  4.06it/s]\n",
      "100%|██████████| 8/8 [00:00<00:00, 12.56it/s]\n"
     ]
    },
    {
     "name": "stdout",
     "output_type": "stream",
     "text": [
      "Epoch 87/1000 - Train loss: 43.39310315 - Val loss: 44.21463108\n",
      "INFO: Early stopping counter                     1 of 20                         [Best Val Loss: 43.69222641,                             Val Loss: 44.21463108]\n"
     ]
    },
    {
     "name": "stderr",
     "output_type": "stream",
     "text": [
      "100%|██████████| 30/30 [00:07<00:00,  3.98it/s]\n",
      "100%|██████████| 8/8 [00:00<00:00, 15.63it/s]\n"
     ]
    },
    {
     "name": "stdout",
     "output_type": "stream",
     "text": [
      "Epoch 88/1000 - Train loss: 47.67752323 - Val loss: 44.29642296\n",
      "INFO: Early stopping counter                     2 of 20                         [Best Val Loss: 43.69222641,                             Val Loss: 44.29642296]\n"
     ]
    },
    {
     "name": "stderr",
     "output_type": "stream",
     "text": [
      "100%|██████████| 30/30 [00:07<00:00,  3.98it/s]\n",
      "100%|██████████| 8/8 [00:00<00:00, 11.40it/s]\n"
     ]
    },
    {
     "name": "stdout",
     "output_type": "stream",
     "text": [
      "Epoch 89/1000 - Train loss: 45.24736856 - Val loss: 43.58366776\n",
      "INFO: Val_Loss improved (43.69222641 --> 43.58366776). Saving model ...\n"
     ]
    },
    {
     "name": "stderr",
     "output_type": "stream",
     "text": [
      "100%|██████████| 30/30 [00:07<00:00,  4.00it/s]\n",
      "100%|██████████| 8/8 [00:00<00:00, 15.30it/s]\n"
     ]
    },
    {
     "name": "stdout",
     "output_type": "stream",
     "text": [
      "Epoch 90/1000 - Train loss: 46.55373739 - Val loss: 44.45827913\n",
      "INFO: Early stopping counter                     1 of 20                         [Best Val Loss: 43.58366776,                             Val Loss: 44.45827913]\n"
     ]
    },
    {
     "name": "stderr",
     "output_type": "stream",
     "text": [
      "100%|██████████| 30/30 [00:07<00:00,  4.10it/s]\n",
      "100%|██████████| 8/8 [00:00<00:00, 15.65it/s]\n"
     ]
    },
    {
     "name": "stdout",
     "output_type": "stream",
     "text": [
      "Epoch 91/1000 - Train loss: 44.43442904 - Val loss: 44.21039343\n",
      "INFO: Early stopping counter                     2 of 20                         [Best Val Loss: 43.58366776,                             Val Loss: 44.21039343]\n"
     ]
    },
    {
     "name": "stderr",
     "output_type": "stream",
     "text": [
      "100%|██████████| 30/30 [00:07<00:00,  4.06it/s]\n",
      "100%|██████████| 8/8 [00:00<00:00, 14.97it/s]\n"
     ]
    },
    {
     "name": "stdout",
     "output_type": "stream",
     "text": [
      "Epoch 92/1000 - Train loss: 45.61654078 - Val loss: 45.46934772\n",
      "INFO: Early stopping counter                     3 of 20                         [Best Val Loss: 43.58366776,                             Val Loss: 45.46934772]\n"
     ]
    },
    {
     "name": "stderr",
     "output_type": "stream",
     "text": [
      "100%|██████████| 30/30 [00:07<00:00,  4.02it/s]\n",
      "100%|██████████| 8/8 [00:00<00:00, 15.04it/s]\n"
     ]
    },
    {
     "name": "stdout",
     "output_type": "stream",
     "text": [
      "Epoch 93/1000 - Train loss: 46.54712969 - Val loss: 44.98750424\n",
      "INFO: Early stopping counter                     4 of 20                         [Best Val Loss: 43.58366776,                             Val Loss: 44.98750424]\n"
     ]
    },
    {
     "name": "stderr",
     "output_type": "stream",
     "text": [
      "100%|██████████| 30/30 [00:07<00:00,  4.05it/s]\n",
      "100%|██████████| 8/8 [00:00<00:00, 14.25it/s]\n"
     ]
    },
    {
     "name": "stdout",
     "output_type": "stream",
     "text": [
      "Epoch 94/1000 - Train loss: 45.66402810 - Val loss: 43.06004572\n",
      "INFO: Val_Loss improved (43.58366776 --> 43.06004572). Saving model ...\n"
     ]
    },
    {
     "name": "stderr",
     "output_type": "stream",
     "text": [
      "100%|██████████| 30/30 [00:07<00:00,  4.06it/s]\n",
      "100%|██████████| 8/8 [00:00<00:00, 15.29it/s]\n"
     ]
    },
    {
     "name": "stdout",
     "output_type": "stream",
     "text": [
      "Epoch 95/1000 - Train loss: 44.35696869 - Val loss: 43.56993628\n",
      "INFO: Early stopping counter                     1 of 20                         [Best Val Loss: 43.06004572,                             Val Loss: 43.56993628]\n"
     ]
    },
    {
     "name": "stderr",
     "output_type": "stream",
     "text": [
      "100%|██████████| 30/30 [00:07<00:00,  4.01it/s]\n",
      "100%|██████████| 8/8 [00:00<00:00, 11.85it/s]\n"
     ]
    },
    {
     "name": "stdout",
     "output_type": "stream",
     "text": [
      "Epoch 96/1000 - Train loss: 45.29828281 - Val loss: 43.92742300\n",
      "INFO: Early stopping counter                     2 of 20                         [Best Val Loss: 43.06004572,                             Val Loss: 43.92742300]\n"
     ]
    },
    {
     "name": "stderr",
     "output_type": "stream",
     "text": [
      "100%|██████████| 30/30 [00:07<00:00,  3.99it/s]\n",
      "100%|██████████| 8/8 [00:00<00:00, 14.96it/s]\n"
     ]
    },
    {
     "name": "stdout",
     "output_type": "stream",
     "text": [
      "Epoch 97/1000 - Train loss: 47.01943436 - Val loss: 45.10442710\n",
      "INFO: Early stopping counter                     3 of 20                         [Best Val Loss: 43.06004572,                             Val Loss: 45.10442710]\n"
     ]
    },
    {
     "name": "stderr",
     "output_type": "stream",
     "text": [
      "100%|██████████| 30/30 [00:07<00:00,  4.02it/s]\n",
      "100%|██████████| 8/8 [00:00<00:00, 11.96it/s]\n"
     ]
    },
    {
     "name": "stdout",
     "output_type": "stream",
     "text": [
      "Epoch 98/1000 - Train loss: 43.12115695 - Val loss: 43.46459413\n",
      "INFO: Early stopping counter                     4 of 20                         [Best Val Loss: 43.06004572,                             Val Loss: 43.46459413]\n"
     ]
    },
    {
     "name": "stderr",
     "output_type": "stream",
     "text": [
      "100%|██████████| 30/30 [00:07<00:00,  4.00it/s]\n",
      "100%|██████████| 8/8 [00:00<00:00, 15.49it/s]\n"
     ]
    },
    {
     "name": "stdout",
     "output_type": "stream",
     "text": [
      "Epoch 99/1000 - Train loss: 45.71320915 - Val loss: 44.56985521\n",
      "INFO: Early stopping counter                     5 of 20                         [Best Val Loss: 43.06004572,                             Val Loss: 44.56985521]\n"
     ]
    },
    {
     "name": "stderr",
     "output_type": "stream",
     "text": [
      "100%|██████████| 30/30 [00:07<00:00,  4.00it/s]\n",
      "100%|██████████| 8/8 [00:00<00:00, 15.23it/s]\n"
     ]
    },
    {
     "name": "stdout",
     "output_type": "stream",
     "text": [
      "Epoch 100/1000 - Train loss: 41.93958759 - Val loss: 43.53477526\n",
      "INFO: Early stopping counter                     6 of 20                         [Best Val Loss: 43.06004572,                             Val Loss: 43.53477526]\n"
     ]
    },
    {
     "name": "stderr",
     "output_type": "stream",
     "text": [
      "100%|██████████| 30/30 [00:07<00:00,  4.02it/s]\n",
      "100%|██████████| 8/8 [00:00<00:00, 15.31it/s]\n"
     ]
    },
    {
     "name": "stdout",
     "output_type": "stream",
     "text": [
      "Epoch 101/1000 - Train loss: 44.24736137 - Val loss: 43.19081521\n",
      "INFO: Early stopping counter                     7 of 20                         [Best Val Loss: 43.06004572,                             Val Loss: 43.19081521]\n"
     ]
    },
    {
     "name": "stderr",
     "output_type": "stream",
     "text": [
      "100%|██████████| 30/30 [00:07<00:00,  4.06it/s]\n",
      "100%|██████████| 8/8 [00:00<00:00, 14.86it/s]\n"
     ]
    },
    {
     "name": "stdout",
     "output_type": "stream",
     "text": [
      "Epoch 102/1000 - Train loss: 46.67050610 - Val loss: 45.04051375\n",
      "INFO: Early stopping counter                     8 of 20                         [Best Val Loss: 43.06004572,                             Val Loss: 45.04051375]\n"
     ]
    },
    {
     "name": "stderr",
     "output_type": "stream",
     "text": [
      "100%|██████████| 30/30 [00:07<00:00,  4.13it/s]\n",
      "100%|██████████| 8/8 [00:00<00:00, 11.93it/s]\n"
     ]
    },
    {
     "name": "stdout",
     "output_type": "stream",
     "text": [
      "Epoch 103/1000 - Train loss: 43.33753058 - Val loss: 44.29933929\n",
      "INFO: Early stopping counter                     9 of 20                         [Best Val Loss: 43.06004572,                             Val Loss: 44.29933929]\n"
     ]
    },
    {
     "name": "stderr",
     "output_type": "stream",
     "text": [
      "100%|██████████| 30/30 [00:07<00:00,  4.12it/s]\n",
      "100%|██████████| 8/8 [00:00<00:00, 15.63it/s]\n"
     ]
    },
    {
     "name": "stdout",
     "output_type": "stream",
     "text": [
      "Epoch 104/1000 - Train loss: 43.07311942 - Val loss: 42.00266409\n",
      "INFO: Val_Loss improved (43.06004572 --> 42.00266409). Saving model ...\n"
     ]
    },
    {
     "name": "stderr",
     "output_type": "stream",
     "text": [
      "100%|██████████| 30/30 [00:07<00:00,  4.07it/s]\n",
      "100%|██████████| 8/8 [00:00<00:00, 15.06it/s]\n"
     ]
    },
    {
     "name": "stdout",
     "output_type": "stream",
     "text": [
      "Epoch 105/1000 - Train loss: 42.01729120 - Val loss: 44.21896172\n",
      "INFO: Early stopping counter                     1 of 20                         [Best Val Loss: 42.00266409,                             Val Loss: 44.21896172]\n"
     ]
    },
    {
     "name": "stderr",
     "output_type": "stream",
     "text": [
      "100%|██████████| 30/30 [00:07<00:00,  3.99it/s]\n",
      "100%|██████████| 8/8 [00:00<00:00, 15.55it/s]\n"
     ]
    },
    {
     "name": "stdout",
     "output_type": "stream",
     "text": [
      "Epoch 106/1000 - Train loss: 42.56461398 - Val loss: 43.00169897\n",
      "INFO: Early stopping counter                     2 of 20                         [Best Val Loss: 42.00266409,                             Val Loss: 43.00169897]\n"
     ]
    },
    {
     "name": "stderr",
     "output_type": "stream",
     "text": [
      "100%|██████████| 30/30 [00:07<00:00,  4.02it/s]\n",
      "100%|██████████| 8/8 [00:00<00:00, 15.27it/s]\n"
     ]
    },
    {
     "name": "stdout",
     "output_type": "stream",
     "text": [
      "Epoch 107/1000 - Train loss: 45.27241758 - Val loss: 43.27138710\n",
      "INFO: Early stopping counter                     3 of 20                         [Best Val Loss: 42.00266409,                             Val Loss: 43.27138710]\n"
     ]
    },
    {
     "name": "stderr",
     "output_type": "stream",
     "text": [
      "100%|██████████| 30/30 [00:07<00:00,  4.03it/s]\n",
      "100%|██████████| 8/8 [00:00<00:00, 15.00it/s]\n"
     ]
    },
    {
     "name": "stdout",
     "output_type": "stream",
     "text": [
      "Epoch 108/1000 - Train loss: 44.28864740 - Val loss: 48.00853682\n",
      "INFO: Early stopping counter                     4 of 20                         [Best Val Loss: 42.00266409,                             Val Loss: 48.00853682]\n"
     ]
    },
    {
     "name": "stderr",
     "output_type": "stream",
     "text": [
      "100%|██████████| 30/30 [00:07<00:00,  4.05it/s]\n",
      "100%|██████████| 8/8 [00:00<00:00, 15.21it/s]\n"
     ]
    },
    {
     "name": "stdout",
     "output_type": "stream",
     "text": [
      "Epoch 109/1000 - Train loss: 41.55263081 - Val loss: 45.79313374\n",
      "INFO: Early stopping counter                     5 of 20                         [Best Val Loss: 42.00266409,                             Val Loss: 45.79313374]\n"
     ]
    },
    {
     "name": "stderr",
     "output_type": "stream",
     "text": [
      "100%|██████████| 30/30 [00:07<00:00,  4.03it/s]\n",
      "100%|██████████| 8/8 [00:00<00:00, 12.23it/s]\n"
     ]
    },
    {
     "name": "stdout",
     "output_type": "stream",
     "text": [
      "Epoch 110/1000 - Train loss: 46.41050720 - Val loss: 43.96519136\n",
      "INFO: Early stopping counter                     6 of 20                         [Best Val Loss: 42.00266409,                             Val Loss: 43.96519136]\n"
     ]
    },
    {
     "name": "stderr",
     "output_type": "stream",
     "text": [
      "100%|██████████| 30/30 [00:07<00:00,  4.02it/s]\n",
      "100%|██████████| 8/8 [00:00<00:00, 14.84it/s]\n"
     ]
    },
    {
     "name": "stdout",
     "output_type": "stream",
     "text": [
      "Epoch 111/1000 - Train loss: 44.34117285 - Val loss: 41.72570753\n",
      "INFO: Val_Loss improved (42.00266409 --> 41.72570753). Saving model ...\n"
     ]
    },
    {
     "name": "stderr",
     "output_type": "stream",
     "text": [
      "100%|██████████| 30/30 [00:07<00:00,  4.02it/s]\n",
      "100%|██████████| 8/8 [00:00<00:00, 11.38it/s]\n"
     ]
    },
    {
     "name": "stdout",
     "output_type": "stream",
     "text": [
      "Epoch 112/1000 - Train loss: 42.30998802 - Val loss: 43.60769749\n",
      "INFO: Early stopping counter                     1 of 20                         [Best Val Loss: 41.72570753,                             Val Loss: 43.60769749]\n"
     ]
    },
    {
     "name": "stderr",
     "output_type": "stream",
     "text": [
      "100%|██████████| 30/30 [00:07<00:00,  4.06it/s]\n",
      "100%|██████████| 8/8 [00:00<00:00, 15.25it/s]\n"
     ]
    },
    {
     "name": "stdout",
     "output_type": "stream",
     "text": [
      "Epoch 113/1000 - Train loss: 42.62953256 - Val loss: 43.39713311\n",
      "INFO: Early stopping counter                     2 of 20                         [Best Val Loss: 41.72570753,                             Val Loss: 43.39713311]\n"
     ]
    },
    {
     "name": "stderr",
     "output_type": "stream",
     "text": [
      "100%|██████████| 30/30 [00:07<00:00,  3.99it/s]\n",
      "100%|██████████| 8/8 [00:00<00:00, 15.26it/s]\n"
     ]
    },
    {
     "name": "stdout",
     "output_type": "stream",
     "text": [
      "Epoch 114/1000 - Train loss: 42.67382863 - Val loss: 44.40387130\n",
      "INFO: Early stopping counter                     3 of 20                         [Best Val Loss: 41.72570753,                             Val Loss: 44.40387130]\n"
     ]
    },
    {
     "name": "stderr",
     "output_type": "stream",
     "text": [
      "100%|██████████| 30/30 [00:07<00:00,  4.00it/s]\n",
      "100%|██████████| 8/8 [00:00<00:00, 15.05it/s]\n"
     ]
    },
    {
     "name": "stdout",
     "output_type": "stream",
     "text": [
      "Epoch 115/1000 - Train loss: 40.77759870 - Val loss: 43.19646358\n",
      "INFO: Early stopping counter                     4 of 20                         [Best Val Loss: 41.72570753,                             Val Loss: 43.19646358]\n"
     ]
    },
    {
     "name": "stderr",
     "output_type": "stream",
     "text": [
      "100%|██████████| 30/30 [00:07<00:00,  4.02it/s]\n",
      "100%|██████████| 8/8 [00:00<00:00, 15.63it/s]\n"
     ]
    },
    {
     "name": "stdout",
     "output_type": "stream",
     "text": [
      "Epoch 116/1000 - Train loss: 41.72474073 - Val loss: 41.55093575\n",
      "INFO: Val_Loss improved (41.72570753 --> 41.55093575). Saving model ...\n"
     ]
    },
    {
     "name": "stderr",
     "output_type": "stream",
     "text": [
      "100%|██████████| 30/30 [00:07<00:00,  3.98it/s]\n",
      "100%|██████████| 8/8 [00:00<00:00, 15.51it/s]\n"
     ]
    },
    {
     "name": "stdout",
     "output_type": "stream",
     "text": [
      "Epoch 117/1000 - Train loss: 43.65695718 - Val loss: 41.72132754\n",
      "INFO: Early stopping counter                     1 of 20                         [Best Val Loss: 41.55093575,                             Val Loss: 41.72132754]\n"
     ]
    },
    {
     "name": "stderr",
     "output_type": "stream",
     "text": [
      "100%|██████████| 30/30 [00:07<00:00,  4.01it/s]\n",
      "100%|██████████| 8/8 [00:00<00:00, 15.59it/s]\n"
     ]
    },
    {
     "name": "stdout",
     "output_type": "stream",
     "text": [
      "Epoch 118/1000 - Train loss: 41.00299683 - Val loss: 42.18699288\n",
      "INFO: Early stopping counter                     2 of 20                         [Best Val Loss: 41.55093575,                             Val Loss: 42.18699288]\n"
     ]
    },
    {
     "name": "stderr",
     "output_type": "stream",
     "text": [
      "100%|██████████| 30/30 [00:07<00:00,  4.07it/s]\n",
      "100%|██████████| 8/8 [00:00<00:00, 11.53it/s]\n"
     ]
    },
    {
     "name": "stdout",
     "output_type": "stream",
     "text": [
      "Epoch 119/1000 - Train loss: 41.38116411 - Val loss: 44.10482073\n",
      "INFO: Early stopping counter                     3 of 20                         [Best Val Loss: 41.55093575,                             Val Loss: 44.10482073]\n"
     ]
    },
    {
     "name": "stderr",
     "output_type": "stream",
     "text": [
      "100%|██████████| 30/30 [00:07<00:00,  4.05it/s]\n",
      "100%|██████████| 8/8 [00:00<00:00, 15.19it/s]\n"
     ]
    },
    {
     "name": "stdout",
     "output_type": "stream",
     "text": [
      "Epoch 120/1000 - Train loss: 38.15060463 - Val loss: 43.15365267\n",
      "INFO: Early stopping counter                     4 of 20                         [Best Val Loss: 41.55093575,                             Val Loss: 43.15365267]\n"
     ]
    },
    {
     "name": "stderr",
     "output_type": "stream",
     "text": [
      "100%|██████████| 30/30 [00:07<00:00,  4.02it/s]\n",
      "100%|██████████| 8/8 [00:00<00:00, 13.19it/s]\n"
     ]
    },
    {
     "name": "stdout",
     "output_type": "stream",
     "text": [
      "Epoch 121/1000 - Train loss: 43.02294884 - Val loss: 40.43577290\n",
      "INFO: Val_Loss improved (41.55093575 --> 40.43577290). Saving model ...\n"
     ]
    },
    {
     "name": "stderr",
     "output_type": "stream",
     "text": [
      "100%|██████████| 30/30 [00:07<00:00,  4.01it/s]\n",
      "100%|██████████| 8/8 [00:00<00:00, 15.53it/s]\n"
     ]
    },
    {
     "name": "stdout",
     "output_type": "stream",
     "text": [
      "Epoch 122/1000 - Train loss: 42.94450041 - Val loss: 42.16876364\n",
      "INFO: Early stopping counter                     1 of 20                         [Best Val Loss: 40.43577290,                             Val Loss: 42.16876364]\n"
     ]
    },
    {
     "name": "stderr",
     "output_type": "stream",
     "text": [
      "100%|██████████| 30/30 [00:07<00:00,  4.03it/s]\n",
      "100%|██████████| 8/8 [00:00<00:00, 15.61it/s]\n"
     ]
    },
    {
     "name": "stdout",
     "output_type": "stream",
     "text": [
      "Epoch 123/1000 - Train loss: 40.85943330 - Val loss: 40.82318568\n",
      "INFO: Early stopping counter                     2 of 20                         [Best Val Loss: 40.43577290,                             Val Loss: 40.82318568]\n"
     ]
    },
    {
     "name": "stderr",
     "output_type": "stream",
     "text": [
      "100%|██████████| 30/30 [00:07<00:00,  3.93it/s]\n",
      "100%|██████████| 8/8 [00:00<00:00, 15.04it/s]\n"
     ]
    },
    {
     "name": "stdout",
     "output_type": "stream",
     "text": [
      "Epoch 124/1000 - Train loss: 41.09095338 - Val loss: 41.32658911\n",
      "INFO: Early stopping counter                     3 of 20                         [Best Val Loss: 40.43577290,                             Val Loss: 41.32658911]\n"
     ]
    },
    {
     "name": "stderr",
     "output_type": "stream",
     "text": [
      "100%|██████████| 30/30 [00:07<00:00,  4.01it/s]\n",
      "100%|██████████| 8/8 [00:00<00:00, 15.10it/s]\n"
     ]
    },
    {
     "name": "stdout",
     "output_type": "stream",
     "text": [
      "Epoch 125/1000 - Train loss: 41.13162270 - Val loss: 43.14753413\n",
      "INFO: Early stopping counter                     4 of 20                         [Best Val Loss: 40.43577290,                             Val Loss: 43.14753413]\n"
     ]
    },
    {
     "name": "stderr",
     "output_type": "stream",
     "text": [
      "100%|██████████| 30/30 [00:07<00:00,  4.05it/s]\n",
      "100%|██████████| 8/8 [00:00<00:00, 15.20it/s]\n"
     ]
    },
    {
     "name": "stdout",
     "output_type": "stream",
     "text": [
      "Epoch 126/1000 - Train loss: 40.09490668 - Val loss: 41.58460140\n",
      "INFO: Early stopping counter                     5 of 20                         [Best Val Loss: 40.43577290,                             Val Loss: 41.58460140]\n"
     ]
    },
    {
     "name": "stderr",
     "output_type": "stream",
     "text": [
      "100%|██████████| 30/30 [00:07<00:00,  4.01it/s]\n",
      "100%|██████████| 8/8 [00:00<00:00, 15.26it/s]\n"
     ]
    },
    {
     "name": "stdout",
     "output_type": "stream",
     "text": [
      "Epoch 127/1000 - Train loss: 41.76855564 - Val loss: 42.56486082\n",
      "INFO: Early stopping counter                     6 of 20                         [Best Val Loss: 40.43577290,                             Val Loss: 42.56486082]\n"
     ]
    },
    {
     "name": "stderr",
     "output_type": "stream",
     "text": [
      "100%|██████████| 30/30 [00:07<00:00,  3.98it/s]\n",
      "100%|██████████| 8/8 [00:00<00:00, 12.03it/s]\n"
     ]
    },
    {
     "name": "stdout",
     "output_type": "stream",
     "text": [
      "Epoch 128/1000 - Train loss: 39.98443769 - Val loss: 41.33374763\n",
      "INFO: Early stopping counter                     7 of 20                         [Best Val Loss: 40.43577290,                             Val Loss: 41.33374763]\n"
     ]
    },
    {
     "name": "stderr",
     "output_type": "stream",
     "text": [
      "100%|██████████| 30/30 [00:07<00:00,  3.99it/s]\n",
      "100%|██████████| 8/8 [00:00<00:00, 15.03it/s]\n"
     ]
    },
    {
     "name": "stdout",
     "output_type": "stream",
     "text": [
      "Epoch 129/1000 - Train loss: 41.53404433 - Val loss: 39.90520310\n",
      "INFO: Val_Loss improved (40.43577290 --> 39.90520310). Saving model ...\n"
     ]
    },
    {
     "name": "stderr",
     "output_type": "stream",
     "text": [
      "100%|██████████| 30/30 [00:07<00:00,  3.95it/s]\n",
      "100%|██████████| 8/8 [00:00<00:00, 13.59it/s]\n"
     ]
    },
    {
     "name": "stdout",
     "output_type": "stream",
     "text": [
      "Epoch 130/1000 - Train loss: 38.86129697 - Val loss: 41.81429601\n",
      "INFO: Early stopping counter                     1 of 20                         [Best Val Loss: 39.90520310,                             Val Loss: 41.81429601]\n"
     ]
    },
    {
     "name": "stderr",
     "output_type": "stream",
     "text": [
      "100%|██████████| 30/30 [00:07<00:00,  4.13it/s]\n",
      "100%|██████████| 8/8 [00:00<00:00, 15.26it/s]\n"
     ]
    },
    {
     "name": "stdout",
     "output_type": "stream",
     "text": [
      "Epoch 131/1000 - Train loss: 41.45553627 - Val loss: 42.05300331\n",
      "INFO: Early stopping counter                     2 of 20                         [Best Val Loss: 39.90520310,                             Val Loss: 42.05300331]\n"
     ]
    },
    {
     "name": "stderr",
     "output_type": "stream",
     "text": [
      "100%|██████████| 30/30 [00:07<00:00,  4.00it/s]\n",
      "100%|██████████| 8/8 [00:00<00:00, 11.03it/s]\n"
     ]
    },
    {
     "name": "stdout",
     "output_type": "stream",
     "text": [
      "Epoch 132/1000 - Train loss: 38.07146428 - Val loss: 41.04862666\n",
      "INFO: Early stopping counter                     3 of 20                         [Best Val Loss: 39.90520310,                             Val Loss: 41.04862666]\n"
     ]
    },
    {
     "name": "stderr",
     "output_type": "stream",
     "text": [
      "100%|██████████| 30/30 [00:07<00:00,  4.07it/s]\n",
      "100%|██████████| 8/8 [00:00<00:00, 15.52it/s]\n"
     ]
    },
    {
     "name": "stdout",
     "output_type": "stream",
     "text": [
      "Epoch 133/1000 - Train loss: 41.89619344 - Val loss: 40.60813403\n",
      "INFO: Early stopping counter                     4 of 20                         [Best Val Loss: 39.90520310,                             Val Loss: 40.60813403]\n"
     ]
    },
    {
     "name": "stderr",
     "output_type": "stream",
     "text": [
      "100%|██████████| 30/30 [00:07<00:00,  3.98it/s]\n",
      "100%|██████████| 8/8 [00:00<00:00, 15.58it/s]\n"
     ]
    },
    {
     "name": "stdout",
     "output_type": "stream",
     "text": [
      "Epoch 134/1000 - Train loss: 38.36455383 - Val loss: 42.45879388\n",
      "INFO: Early stopping counter                     5 of 20                         [Best Val Loss: 39.90520310,                             Val Loss: 42.45879388]\n"
     ]
    },
    {
     "name": "stderr",
     "output_type": "stream",
     "text": [
      "100%|██████████| 30/30 [00:07<00:00,  3.95it/s]\n",
      "100%|██████████| 8/8 [00:00<00:00, 15.45it/s]\n"
     ]
    },
    {
     "name": "stdout",
     "output_type": "stream",
     "text": [
      "Epoch 135/1000 - Train loss: 39.22196128 - Val loss: 41.46722555\n",
      "INFO: Early stopping counter                     6 of 20                         [Best Val Loss: 39.90520310,                             Val Loss: 41.46722555]\n"
     ]
    },
    {
     "name": "stderr",
     "output_type": "stream",
     "text": [
      "100%|██████████| 30/30 [00:07<00:00,  4.02it/s]\n",
      "100%|██████████| 8/8 [00:00<00:00, 15.59it/s]\n"
     ]
    },
    {
     "name": "stdout",
     "output_type": "stream",
     "text": [
      "Epoch 136/1000 - Train loss: 41.04954656 - Val loss: 39.83861184\n",
      "INFO: Val_Loss improved (39.90520310 --> 39.83861184). Saving model ...\n"
     ]
    },
    {
     "name": "stderr",
     "output_type": "stream",
     "text": [
      "100%|██████████| 30/30 [00:07<00:00,  3.90it/s]\n",
      "100%|██████████| 8/8 [00:00<00:00, 15.64it/s]\n"
     ]
    },
    {
     "name": "stdout",
     "output_type": "stream",
     "text": [
      "Epoch 137/1000 - Train loss: 39.66324927 - Val loss: 41.78479123\n",
      "INFO: Early stopping counter                     1 of 20                         [Best Val Loss: 39.83861184,                             Val Loss: 41.78479123]\n"
     ]
    },
    {
     "name": "stderr",
     "output_type": "stream",
     "text": [
      "100%|██████████| 30/30 [00:07<00:00,  4.02it/s]\n",
      "100%|██████████| 8/8 [00:00<00:00, 15.28it/s]\n"
     ]
    },
    {
     "name": "stdout",
     "output_type": "stream",
     "text": [
      "Epoch 138/1000 - Train loss: 38.61101398 - Val loss: 39.69172168\n",
      "INFO: Val_Loss improved (39.83861184 --> 39.69172168). Saving model ...\n"
     ]
    },
    {
     "name": "stderr",
     "output_type": "stream",
     "text": [
      "100%|██████████| 30/30 [00:07<00:00,  3.88it/s]\n",
      "100%|██████████| 8/8 [00:00<00:00, 15.47it/s]\n"
     ]
    },
    {
     "name": "stdout",
     "output_type": "stream",
     "text": [
      "Epoch 139/1000 - Train loss: 38.76593132 - Val loss: 40.63271689\n",
      "INFO: Early stopping counter                     1 of 20                         [Best Val Loss: 39.69172168,                             Val Loss: 40.63271689]\n"
     ]
    },
    {
     "name": "stderr",
     "output_type": "stream",
     "text": [
      "100%|██████████| 30/30 [00:07<00:00,  3.98it/s]\n",
      "100%|██████████| 8/8 [00:00<00:00, 15.61it/s]\n"
     ]
    },
    {
     "name": "stdout",
     "output_type": "stream",
     "text": [
      "Epoch 140/1000 - Train loss: 37.66318372 - Val loss: 39.76094174\n",
      "INFO: Early stopping counter                     2 of 20                         [Best Val Loss: 39.69172168,                             Val Loss: 39.76094174]\n"
     ]
    },
    {
     "name": "stderr",
     "output_type": "stream",
     "text": [
      "100%|██████████| 30/30 [00:07<00:00,  3.93it/s]\n",
      "100%|██████████| 8/8 [00:00<00:00, 15.25it/s]\n"
     ]
    },
    {
     "name": "stdout",
     "output_type": "stream",
     "text": [
      "Epoch 141/1000 - Train loss: 39.09748306 - Val loss: 40.16558433\n",
      "INFO: Early stopping counter                     3 of 20                         [Best Val Loss: 39.69172168,                             Val Loss: 40.16558433]\n"
     ]
    },
    {
     "name": "stderr",
     "output_type": "stream",
     "text": [
      "100%|██████████| 30/30 [00:07<00:00,  4.06it/s]\n",
      "100%|██████████| 8/8 [00:00<00:00, 15.26it/s]\n"
     ]
    },
    {
     "name": "stdout",
     "output_type": "stream",
     "text": [
      "Epoch 142/1000 - Train loss: 38.61544304 - Val loss: 40.27877498\n",
      "INFO: Early stopping counter                     4 of 20                         [Best Val Loss: 39.69172168,                             Val Loss: 40.27877498]\n"
     ]
    },
    {
     "name": "stderr",
     "output_type": "stream",
     "text": [
      "100%|██████████| 30/30 [00:07<00:00,  4.08it/s]\n",
      "100%|██████████| 8/8 [00:00<00:00, 11.02it/s]\n"
     ]
    },
    {
     "name": "stdout",
     "output_type": "stream",
     "text": [
      "Epoch 143/1000 - Train loss: 39.46086292 - Val loss: 39.65192342\n",
      "INFO: Val_Loss improved (39.69172168 --> 39.65192342). Saving model ...\n"
     ]
    },
    {
     "name": "stderr",
     "output_type": "stream",
     "text": [
      "100%|██████████| 30/30 [00:07<00:00,  3.93it/s]\n",
      "100%|██████████| 8/8 [00:00<00:00, 14.96it/s]\n"
     ]
    },
    {
     "name": "stdout",
     "output_type": "stream",
     "text": [
      "Epoch 144/1000 - Train loss: 38.69194209 - Val loss: 39.90435815\n",
      "INFO: Early stopping counter                     1 of 20                         [Best Val Loss: 39.65192342,                             Val Loss: 39.90435815]\n"
     ]
    },
    {
     "name": "stderr",
     "output_type": "stream",
     "text": [
      "100%|██████████| 30/30 [00:07<00:00,  4.03it/s]\n",
      "100%|██████████| 8/8 [00:00<00:00, 12.24it/s]\n"
     ]
    },
    {
     "name": "stdout",
     "output_type": "stream",
     "text": [
      "Epoch 145/1000 - Train loss: 39.35000636 - Val loss: 41.41125917\n",
      "INFO: Early stopping counter                     2 of 20                         [Best Val Loss: 39.65192342,                             Val Loss: 41.41125917]\n"
     ]
    },
    {
     "name": "stderr",
     "output_type": "stream",
     "text": [
      "100%|██████████| 30/30 [00:07<00:00,  4.06it/s]\n",
      "100%|██████████| 8/8 [00:00<00:00, 15.24it/s]\n"
     ]
    },
    {
     "name": "stdout",
     "output_type": "stream",
     "text": [
      "Epoch 146/1000 - Train loss: 38.05909424 - Val loss: 42.26799989\n",
      "INFO: Early stopping counter                     3 of 20                         [Best Val Loss: 39.65192342,                             Val Loss: 42.26799989]\n"
     ]
    },
    {
     "name": "stderr",
     "output_type": "stream",
     "text": [
      "100%|██████████| 30/30 [00:07<00:00,  4.06it/s]\n",
      "100%|██████████| 8/8 [00:00<00:00, 11.57it/s]\n"
     ]
    },
    {
     "name": "stdout",
     "output_type": "stream",
     "text": [
      "Epoch 147/1000 - Train loss: 36.41190917 - Val loss: 41.96804261\n",
      "INFO: Early stopping counter                     4 of 20                         [Best Val Loss: 39.65192342,                             Val Loss: 41.96804261]\n"
     ]
    },
    {
     "name": "stderr",
     "output_type": "stream",
     "text": [
      "100%|██████████| 30/30 [00:07<00:00,  4.01it/s]\n",
      "100%|██████████| 8/8 [00:00<00:00, 15.63it/s]\n"
     ]
    },
    {
     "name": "stdout",
     "output_type": "stream",
     "text": [
      "Epoch 148/1000 - Train loss: 37.47595558 - Val loss: 39.35655808\n",
      "INFO: Val_Loss improved (39.65192342 --> 39.35655808). Saving model ...\n"
     ]
    },
    {
     "name": "stderr",
     "output_type": "stream",
     "text": [
      "100%|██████████| 30/30 [00:07<00:00,  3.96it/s]\n",
      "100%|██████████| 8/8 [00:00<00:00, 13.15it/s]\n"
     ]
    },
    {
     "name": "stdout",
     "output_type": "stream",
     "text": [
      "Epoch 149/1000 - Train loss: 36.11246808 - Val loss: 38.31411266\n",
      "INFO: Val_Loss improved (39.35655808 --> 38.31411266). Saving model ...\n"
     ]
    },
    {
     "name": "stderr",
     "output_type": "stream",
     "text": [
      "100%|██████████| 30/30 [00:07<00:00,  4.03it/s]\n",
      "100%|██████████| 8/8 [00:00<00:00, 15.22it/s]\n"
     ]
    },
    {
     "name": "stdout",
     "output_type": "stream",
     "text": [
      "Epoch 150/1000 - Train loss: 37.98194237 - Val loss: 39.61350465\n",
      "INFO: Early stopping counter                     1 of 20                         [Best Val Loss: 38.31411266,                             Val Loss: 39.61350465]\n"
     ]
    },
    {
     "name": "stderr",
     "output_type": "stream",
     "text": [
      "100%|██████████| 30/30 [00:07<00:00,  4.13it/s]\n",
      "100%|██████████| 8/8 [00:00<00:00, 15.51it/s]\n"
     ]
    },
    {
     "name": "stdout",
     "output_type": "stream",
     "text": [
      "Epoch 151/1000 - Train loss: 38.55883185 - Val loss: 39.88976884\n",
      "INFO: Early stopping counter                     2 of 20                         [Best Val Loss: 38.31411266,                             Val Loss: 39.88976884]\n"
     ]
    },
    {
     "name": "stderr",
     "output_type": "stream",
     "text": [
      "100%|██████████| 30/30 [00:07<00:00,  3.96it/s]\n",
      "100%|██████████| 8/8 [00:00<00:00, 15.28it/s]\n"
     ]
    },
    {
     "name": "stdout",
     "output_type": "stream",
     "text": [
      "Epoch 152/1000 - Train loss: 39.67609978 - Val loss: 39.68302035\n",
      "INFO: Early stopping counter                     3 of 20                         [Best Val Loss: 38.31411266,                             Val Loss: 39.68302035]\n"
     ]
    },
    {
     "name": "stderr",
     "output_type": "stream",
     "text": [
      "100%|██████████| 30/30 [00:07<00:00,  3.95it/s]\n",
      "100%|██████████| 8/8 [00:00<00:00, 15.64it/s]\n"
     ]
    },
    {
     "name": "stdout",
     "output_type": "stream",
     "text": [
      "Epoch 153/1000 - Train loss: 37.21382109 - Val loss: 39.16732073\n",
      "INFO: Early stopping counter                     4 of 20                         [Best Val Loss: 38.31411266,                             Val Loss: 39.16732073]\n"
     ]
    },
    {
     "name": "stderr",
     "output_type": "stream",
     "text": [
      "100%|██████████| 30/30 [00:07<00:00,  3.92it/s]\n",
      "100%|██████████| 8/8 [00:00<00:00, 15.24it/s]\n"
     ]
    },
    {
     "name": "stdout",
     "output_type": "stream",
     "text": [
      "Epoch 154/1000 - Train loss: 37.90754827 - Val loss: 37.09850740\n",
      "INFO: Val_Loss improved (38.31411266 --> 37.09850740). Saving model ...\n"
     ]
    },
    {
     "name": "stderr",
     "output_type": "stream",
     "text": [
      "100%|██████████| 30/30 [00:07<00:00,  4.07it/s]\n",
      "100%|██████████| 8/8 [00:00<00:00, 15.59it/s]\n"
     ]
    },
    {
     "name": "stdout",
     "output_type": "stream",
     "text": [
      "Epoch 155/1000 - Train loss: 36.26669127 - Val loss: 40.05311155\n",
      "INFO: Early stopping counter                     1 of 20                         [Best Val Loss: 37.09850740,                             Val Loss: 40.05311155]\n"
     ]
    },
    {
     "name": "stderr",
     "output_type": "stream",
     "text": [
      "100%|██████████| 30/30 [00:07<00:00,  3.99it/s]\n",
      "100%|██████████| 8/8 [00:00<00:00, 12.13it/s]\n"
     ]
    },
    {
     "name": "stdout",
     "output_type": "stream",
     "text": [
      "Epoch 156/1000 - Train loss: 36.66463846 - Val loss: 39.10835814\n",
      "INFO: Early stopping counter                     2 of 20                         [Best Val Loss: 37.09850740,                             Val Loss: 39.10835814]\n"
     ]
    },
    {
     "name": "stderr",
     "output_type": "stream",
     "text": [
      "100%|██████████| 30/30 [00:07<00:00,  4.09it/s]\n",
      "100%|██████████| 8/8 [00:00<00:00, 14.95it/s]\n"
     ]
    },
    {
     "name": "stdout",
     "output_type": "stream",
     "text": [
      "Epoch 157/1000 - Train loss: 36.74543413 - Val loss: 40.91708088\n",
      "INFO: Early stopping counter                     3 of 20                         [Best Val Loss: 37.09850740,                             Val Loss: 40.91708088]\n"
     ]
    },
    {
     "name": "stderr",
     "output_type": "stream",
     "text": [
      "100%|██████████| 30/30 [00:07<00:00,  4.01it/s]\n",
      "100%|██████████| 8/8 [00:00<00:00, 11.75it/s]\n"
     ]
    },
    {
     "name": "stdout",
     "output_type": "stream",
     "text": [
      "Epoch 158/1000 - Train loss: 40.83118757 - Val loss: 39.15069962\n",
      "INFO: Early stopping counter                     4 of 20                         [Best Val Loss: 37.09850740,                             Val Loss: 39.15069962]\n"
     ]
    },
    {
     "name": "stderr",
     "output_type": "stream",
     "text": [
      "100%|██████████| 30/30 [00:07<00:00,  3.99it/s]\n",
      "100%|██████████| 8/8 [00:00<00:00, 15.22it/s]\n"
     ]
    },
    {
     "name": "stdout",
     "output_type": "stream",
     "text": [
      "Epoch 159/1000 - Train loss: 37.43844662 - Val loss: 39.31073928\n",
      "INFO: Early stopping counter                     5 of 20                         [Best Val Loss: 37.09850740,                             Val Loss: 39.31073928]\n"
     ]
    },
    {
     "name": "stderr",
     "output_type": "stream",
     "text": [
      "100%|██████████| 30/30 [00:07<00:00,  4.18it/s]\n",
      "100%|██████████| 8/8 [00:00<00:00, 15.32it/s]\n"
     ]
    },
    {
     "name": "stdout",
     "output_type": "stream",
     "text": [
      "Epoch 160/1000 - Train loss: 37.32476673 - Val loss: 37.62407756\n",
      "INFO: Early stopping counter                     6 of 20                         [Best Val Loss: 37.09850740,                             Val Loss: 37.62407756]\n"
     ]
    },
    {
     "name": "stderr",
     "output_type": "stream",
     "text": [
      "100%|██████████| 30/30 [00:07<00:00,  3.91it/s]\n",
      "100%|██████████| 8/8 [00:00<00:00, 15.61it/s]\n"
     ]
    },
    {
     "name": "stdout",
     "output_type": "stream",
     "text": [
      "Epoch 161/1000 - Train loss: 36.71446546 - Val loss: 39.28552628\n",
      "INFO: Early stopping counter                     7 of 20                         [Best Val Loss: 37.09850740,                             Val Loss: 39.28552628]\n"
     ]
    },
    {
     "name": "stderr",
     "output_type": "stream",
     "text": [
      "100%|██████████| 30/30 [00:07<00:00,  4.04it/s]\n",
      "100%|██████████| 8/8 [00:00<00:00, 15.49it/s]\n"
     ]
    },
    {
     "name": "stdout",
     "output_type": "stream",
     "text": [
      "Epoch 162/1000 - Train loss: 36.16711082 - Val loss: 39.64702678\n",
      "INFO: Early stopping counter                     8 of 20                         [Best Val Loss: 37.09850740,                             Val Loss: 39.64702678]\n"
     ]
    },
    {
     "name": "stderr",
     "output_type": "stream",
     "text": [
      "100%|██████████| 30/30 [00:07<00:00,  3.90it/s]\n",
      "100%|██████████| 8/8 [00:00<00:00, 14.44it/s]\n"
     ]
    },
    {
     "name": "stdout",
     "output_type": "stream",
     "text": [
      "Epoch 163/1000 - Train loss: 37.23798148 - Val loss: 35.58124685\n",
      "INFO: Val_Loss improved (37.09850740 --> 35.58124685). Saving model ...\n"
     ]
    },
    {
     "name": "stderr",
     "output_type": "stream",
     "text": [
      "100%|██████████| 30/30 [00:07<00:00,  3.96it/s]\n",
      "100%|██████████| 8/8 [00:00<00:00, 15.25it/s]\n"
     ]
    },
    {
     "name": "stdout",
     "output_type": "stream",
     "text": [
      "Epoch 164/1000 - Train loss: 35.80358257 - Val loss: 36.53410912\n",
      "INFO: Early stopping counter                     1 of 20                         [Best Val Loss: 35.58124685,                             Val Loss: 36.53410912]\n"
     ]
    },
    {
     "name": "stderr",
     "output_type": "stream",
     "text": [
      "100%|██████████| 30/30 [00:07<00:00,  3.95it/s]\n",
      "100%|██████████| 8/8 [00:00<00:00, 15.25it/s]\n"
     ]
    },
    {
     "name": "stdout",
     "output_type": "stream",
     "text": [
      "Epoch 165/1000 - Train loss: 35.37853165 - Val loss: 39.37427163\n",
      "INFO: Early stopping counter                     2 of 20                         [Best Val Loss: 35.58124685,                             Val Loss: 39.37427163]\n"
     ]
    },
    {
     "name": "stderr",
     "output_type": "stream",
     "text": [
      "100%|██████████| 30/30 [00:07<00:00,  4.01it/s]\n",
      "100%|██████████| 8/8 [00:00<00:00, 15.17it/s]\n"
     ]
    },
    {
     "name": "stdout",
     "output_type": "stream",
     "text": [
      "Epoch 166/1000 - Train loss: 36.45082251 - Val loss: 36.49728727\n",
      "INFO: Early stopping counter                     3 of 20                         [Best Val Loss: 35.58124685,                             Val Loss: 36.49728727]\n"
     ]
    },
    {
     "name": "stderr",
     "output_type": "stream",
     "text": [
      "100%|██████████| 30/30 [00:07<00:00,  4.02it/s]\n",
      "100%|██████████| 8/8 [00:00<00:00, 11.75it/s]\n"
     ]
    },
    {
     "name": "stdout",
     "output_type": "stream",
     "text": [
      "Epoch 167/1000 - Train loss: 38.67345441 - Val loss: 37.12879968\n",
      "INFO: Early stopping counter                     4 of 20                         [Best Val Loss: 35.58124685,                             Val Loss: 37.12879968]\n"
     ]
    },
    {
     "name": "stderr",
     "output_type": "stream",
     "text": [
      "100%|██████████| 30/30 [00:07<00:00,  4.07it/s]\n",
      "100%|██████████| 8/8 [00:00<00:00, 15.23it/s]\n"
     ]
    },
    {
     "name": "stdout",
     "output_type": "stream",
     "text": [
      "Epoch 168/1000 - Train loss: 37.46104024 - Val loss: 39.44440150\n",
      "INFO: Early stopping counter                     5 of 20                         [Best Val Loss: 35.58124685,                             Val Loss: 39.44440150]\n"
     ]
    },
    {
     "name": "stderr",
     "output_type": "stream",
     "text": [
      "100%|██████████| 30/30 [00:07<00:00,  4.02it/s]\n",
      "100%|██████████| 8/8 [00:00<00:00, 11.62it/s]\n"
     ]
    },
    {
     "name": "stdout",
     "output_type": "stream",
     "text": [
      "Epoch 169/1000 - Train loss: 36.76152350 - Val loss: 37.68941903\n",
      "INFO: Early stopping counter                     6 of 20                         [Best Val Loss: 35.58124685,                             Val Loss: 37.68941903]\n"
     ]
    },
    {
     "name": "stderr",
     "output_type": "stream",
     "text": [
      "100%|██████████| 30/30 [00:07<00:00,  4.05it/s]\n",
      "100%|██████████| 8/8 [00:00<00:00, 15.27it/s]\n"
     ]
    },
    {
     "name": "stdout",
     "output_type": "stream",
     "text": [
      "Epoch 170/1000 - Train loss: 34.79674727 - Val loss: 38.79588413\n",
      "INFO: Early stopping counter                     7 of 20                         [Best Val Loss: 35.58124685,                             Val Loss: 38.79588413]\n"
     ]
    },
    {
     "name": "stderr",
     "output_type": "stream",
     "text": [
      "100%|██████████| 30/30 [00:07<00:00,  3.98it/s]\n",
      "100%|██████████| 8/8 [00:00<00:00, 15.07it/s]\n"
     ]
    },
    {
     "name": "stdout",
     "output_type": "stream",
     "text": [
      "Epoch 171/1000 - Train loss: 34.97310549 - Val loss: 36.43840742\n",
      "INFO: Early stopping counter                     8 of 20                         [Best Val Loss: 35.58124685,                             Val Loss: 36.43840742]\n"
     ]
    },
    {
     "name": "stderr",
     "output_type": "stream",
     "text": [
      "100%|██████████| 30/30 [00:07<00:00,  3.98it/s]\n",
      "100%|██████████| 8/8 [00:00<00:00, 15.25it/s]\n"
     ]
    },
    {
     "name": "stdout",
     "output_type": "stream",
     "text": [
      "Epoch 172/1000 - Train loss: 33.48363825 - Val loss: 37.89077759\n",
      "INFO: Early stopping counter                     9 of 20                         [Best Val Loss: 35.58124685,                             Val Loss: 37.89077759]\n"
     ]
    },
    {
     "name": "stderr",
     "output_type": "stream",
     "text": [
      "100%|██████████| 30/30 [00:07<00:00,  4.09it/s]\n",
      "100%|██████████| 8/8 [00:00<00:00, 15.28it/s]\n"
     ]
    },
    {
     "name": "stdout",
     "output_type": "stream",
     "text": [
      "Epoch 173/1000 - Train loss: 34.97876740 - Val loss: 38.62010837\n",
      "INFO: Early stopping counter                     10 of 20                         [Best Val Loss: 35.58124685,                             Val Loss: 38.62010837]\n"
     ]
    },
    {
     "name": "stderr",
     "output_type": "stream",
     "text": [
      "100%|██████████| 30/30 [00:07<00:00,  4.05it/s]\n",
      "100%|██████████| 8/8 [00:00<00:00, 12.17it/s]\n"
     ]
    },
    {
     "name": "stdout",
     "output_type": "stream",
     "text": [
      "Epoch 174/1000 - Train loss: 35.12396717 - Val loss: 36.46629333\n",
      "INFO: Early stopping counter                     11 of 20                         [Best Val Loss: 35.58124685,                             Val Loss: 36.46629333]\n",
      "Epoch 00174: reducing learning rate of group 0 to 1.0000e-06.\n"
     ]
    },
    {
     "name": "stderr",
     "output_type": "stream",
     "text": [
      "100%|██████████| 30/30 [00:07<00:00,  4.06it/s]\n",
      "100%|██████████| 8/8 [00:00<00:00, 15.58it/s]\n"
     ]
    },
    {
     "name": "stdout",
     "output_type": "stream",
     "text": [
      "Epoch 175/1000 - Train loss: 31.76579800 - Val loss: 36.28238463\n",
      "INFO: Early stopping counter                     12 of 20                         [Best Val Loss: 35.58124685,                             Val Loss: 36.28238463]\n"
     ]
    },
    {
     "name": "stderr",
     "output_type": "stream",
     "text": [
      "100%|██████████| 30/30 [00:07<00:00,  4.11it/s]\n",
      "100%|██████████| 8/8 [00:00<00:00, 15.32it/s]\n"
     ]
    },
    {
     "name": "stdout",
     "output_type": "stream",
     "text": [
      "Epoch 176/1000 - Train loss: 31.95371857 - Val loss: 35.54588366\n",
      "INFO: Val_Loss improved (35.58124685 --> 35.54588366). Saving model ...\n"
     ]
    },
    {
     "name": "stderr",
     "output_type": "stream",
     "text": [
      "100%|██████████| 30/30 [00:07<00:00,  3.94it/s]\n",
      "100%|██████████| 8/8 [00:00<00:00, 15.27it/s]\n"
     ]
    },
    {
     "name": "stdout",
     "output_type": "stream",
     "text": [
      "Epoch 177/1000 - Train loss: 32.47842356 - Val loss: 35.68616509\n",
      "INFO: Early stopping counter                     1 of 20                         [Best Val Loss: 35.54588366,                             Val Loss: 35.68616509]\n"
     ]
    },
    {
     "name": "stderr",
     "output_type": "stream",
     "text": [
      "100%|██████████| 30/30 [00:07<00:00,  4.01it/s]\n",
      "100%|██████████| 8/8 [00:00<00:00, 14.99it/s]\n"
     ]
    },
    {
     "name": "stdout",
     "output_type": "stream",
     "text": [
      "Epoch 178/1000 - Train loss: 31.29053936 - Val loss: 35.28742337\n",
      "INFO: Val_Loss improved (35.54588366 --> 35.28742337). Saving model ...\n"
     ]
    },
    {
     "name": "stderr",
     "output_type": "stream",
     "text": [
      "100%|██████████| 30/30 [00:07<00:00,  3.99it/s]\n",
      "100%|██████████| 8/8 [00:00<00:00, 15.27it/s]\n"
     ]
    },
    {
     "name": "stdout",
     "output_type": "stream",
     "text": [
      "Epoch 179/1000 - Train loss: 31.05234299 - Val loss: 35.73370457\n",
      "INFO: Early stopping counter                     1 of 20                         [Best Val Loss: 35.28742337,                             Val Loss: 35.73370457]\n"
     ]
    },
    {
     "name": "stderr",
     "output_type": "stream",
     "text": [
      "100%|██████████| 30/30 [00:07<00:00,  4.12it/s]\n",
      "100%|██████████| 8/8 [00:00<00:00, 15.67it/s]\n"
     ]
    },
    {
     "name": "stdout",
     "output_type": "stream",
     "text": [
      "Epoch 180/1000 - Train loss: 34.95473512 - Val loss: 35.00746751\n",
      "INFO: Val_Loss improved (35.28742337 --> 35.00746751). Saving model ...\n"
     ]
    },
    {
     "name": "stderr",
     "output_type": "stream",
     "text": [
      "100%|██████████| 30/30 [00:07<00:00,  4.06it/s]\n",
      "100%|██████████| 8/8 [00:00<00:00, 11.64it/s]\n"
     ]
    },
    {
     "name": "stdout",
     "output_type": "stream",
     "text": [
      "Epoch 181/1000 - Train loss: 30.59342505 - Val loss: 34.83002424\n",
      "INFO: Val_Loss improved (35.00746751 --> 34.83002424). Saving model ...\n"
     ]
    },
    {
     "name": "stderr",
     "output_type": "stream",
     "text": [
      "100%|██████████| 30/30 [00:07<00:00,  4.15it/s]\n",
      "100%|██████████| 8/8 [00:00<00:00, 15.29it/s]\n"
     ]
    },
    {
     "name": "stdout",
     "output_type": "stream",
     "text": [
      "Epoch 182/1000 - Train loss: 33.42124945 - Val loss: 34.81971407\n",
      "INFO: Val_Loss improved (34.83002424 --> 34.81971407). Saving model ...\n"
     ]
    },
    {
     "name": "stderr",
     "output_type": "stream",
     "text": [
      "100%|██████████| 30/30 [00:07<00:00,  4.04it/s]\n",
      "100%|██████████| 8/8 [00:00<00:00, 12.53it/s]\n"
     ]
    },
    {
     "name": "stdout",
     "output_type": "stream",
     "text": [
      "Epoch 183/1000 - Train loss: 31.43383859 - Val loss: 34.76997685\n",
      "INFO: Val_Loss improved (34.81971407 --> 34.76997685). Saving model ...\n"
     ]
    },
    {
     "name": "stderr",
     "output_type": "stream",
     "text": [
      "100%|██████████| 30/30 [00:07<00:00,  4.00it/s]\n",
      "100%|██████████| 8/8 [00:00<00:00, 15.28it/s]\n"
     ]
    },
    {
     "name": "stdout",
     "output_type": "stream",
     "text": [
      "Epoch 184/1000 - Train loss: 31.69736621 - Val loss: 34.90452433\n",
      "INFO: Early stopping counter                     1 of 20                         [Best Val Loss: 34.76997685,                             Val Loss: 34.90452433]\n"
     ]
    },
    {
     "name": "stderr",
     "output_type": "stream",
     "text": [
      "100%|██████████| 30/30 [00:07<00:00,  4.07it/s]\n",
      "100%|██████████| 8/8 [00:00<00:00, 13.42it/s]\n"
     ]
    },
    {
     "name": "stdout",
     "output_type": "stream",
     "text": [
      "Epoch 185/1000 - Train loss: 32.84410947 - Val loss: 34.76568055\n",
      "INFO: Val_Loss improved (34.76997685 --> 34.76568055). Saving model ...\n"
     ]
    },
    {
     "name": "stderr",
     "output_type": "stream",
     "text": [
      "100%|██████████| 30/30 [00:07<00:00,  4.15it/s]\n",
      "100%|██████████| 8/8 [00:00<00:00, 15.31it/s]\n"
     ]
    },
    {
     "name": "stdout",
     "output_type": "stream",
     "text": [
      "Epoch 186/1000 - Train loss: 31.34254576 - Val loss: 35.36488295\n",
      "INFO: Early stopping counter                     1 of 20                         [Best Val Loss: 34.76568055,                             Val Loss: 35.36488295]\n"
     ]
    },
    {
     "name": "stderr",
     "output_type": "stream",
     "text": [
      "100%|██████████| 30/30 [00:07<00:00,  4.00it/s]\n",
      "100%|██████████| 8/8 [00:00<00:00, 15.30it/s]\n"
     ]
    },
    {
     "name": "stdout",
     "output_type": "stream",
     "text": [
      "Epoch 187/1000 - Train loss: 32.18668207 - Val loss: 35.41547322\n",
      "INFO: Early stopping counter                     2 of 20                         [Best Val Loss: 34.76568055,                             Val Loss: 35.41547322]\n"
     ]
    },
    {
     "name": "stderr",
     "output_type": "stream",
     "text": [
      "100%|██████████| 30/30 [00:07<00:00,  3.96it/s]\n",
      "100%|██████████| 8/8 [00:00<00:00, 15.41it/s]\n"
     ]
    },
    {
     "name": "stdout",
     "output_type": "stream",
     "text": [
      "Epoch 188/1000 - Train loss: 31.42789682 - Val loss: 34.52363729\n",
      "INFO: Val_Loss improved (34.76568055 --> 34.52363729). Saving model ...\n"
     ]
    },
    {
     "name": "stderr",
     "output_type": "stream",
     "text": [
      "100%|██████████| 30/30 [00:07<00:00,  4.06it/s]\n",
      "100%|██████████| 8/8 [00:00<00:00, 14.98it/s]\n"
     ]
    },
    {
     "name": "stdout",
     "output_type": "stream",
     "text": [
      "Epoch 189/1000 - Train loss: 31.70517286 - Val loss: 34.57112122\n",
      "INFO: Early stopping counter                     1 of 20                         [Best Val Loss: 34.52363729,                             Val Loss: 34.57112122]\n"
     ]
    },
    {
     "name": "stderr",
     "output_type": "stream",
     "text": [
      "100%|██████████| 30/30 [00:07<00:00,  3.96it/s]\n",
      "100%|██████████| 8/8 [00:00<00:00, 14.93it/s]\n"
     ]
    },
    {
     "name": "stdout",
     "output_type": "stream",
     "text": [
      "Epoch 190/1000 - Train loss: 31.72186998 - Val loss: 34.85233045\n",
      "INFO: Early stopping counter                     2 of 20                         [Best Val Loss: 34.52363729,                             Val Loss: 34.85233045]\n"
     ]
    },
    {
     "name": "stderr",
     "output_type": "stream",
     "text": [
      "100%|██████████| 30/30 [00:07<00:00,  4.11it/s]\n",
      "100%|██████████| 8/8 [00:00<00:00, 15.53it/s]\n"
     ]
    },
    {
     "name": "stdout",
     "output_type": "stream",
     "text": [
      "Epoch 191/1000 - Train loss: 31.21776683 - Val loss: 34.34136701\n",
      "INFO: Val_Loss improved (34.52363729 --> 34.34136701). Saving model ...\n"
     ]
    },
    {
     "name": "stderr",
     "output_type": "stream",
     "text": [
      "100%|██████████| 30/30 [00:07<00:00,  3.94it/s]\n",
      "100%|██████████| 8/8 [00:00<00:00, 13.06it/s]\n"
     ]
    },
    {
     "name": "stdout",
     "output_type": "stream",
     "text": [
      "Epoch 192/1000 - Train loss: 31.55443357 - Val loss: 34.69532824\n",
      "INFO: Early stopping counter                     1 of 20                         [Best Val Loss: 34.34136701,                             Val Loss: 34.69532824]\n"
     ]
    },
    {
     "name": "stderr",
     "output_type": "stream",
     "text": [
      "100%|██████████| 30/30 [00:07<00:00,  4.06it/s]\n",
      "100%|██████████| 8/8 [00:00<00:00, 15.21it/s]\n"
     ]
    },
    {
     "name": "stdout",
     "output_type": "stream",
     "text": [
      "Epoch 193/1000 - Train loss: 30.45799491 - Val loss: 35.04775357\n",
      "INFO: Early stopping counter                     2 of 20                         [Best Val Loss: 34.34136701,                             Val Loss: 35.04775357]\n"
     ]
    },
    {
     "name": "stderr",
     "output_type": "stream",
     "text": [
      "100%|██████████| 30/30 [00:07<00:00,  4.02it/s]\n",
      "100%|██████████| 8/8 [00:00<00:00, 12.56it/s]\n"
     ]
    },
    {
     "name": "stdout",
     "output_type": "stream",
     "text": [
      "Epoch 194/1000 - Train loss: 32.25894457 - Val loss: 34.99770403\n",
      "INFO: Early stopping counter                     3 of 20                         [Best Val Loss: 34.34136701,                             Val Loss: 34.99770403]\n"
     ]
    },
    {
     "name": "stderr",
     "output_type": "stream",
     "text": [
      "100%|██████████| 30/30 [00:07<00:00,  4.07it/s]\n",
      "100%|██████████| 8/8 [00:00<00:00, 15.54it/s]\n"
     ]
    },
    {
     "name": "stdout",
     "output_type": "stream",
     "text": [
      "Epoch 195/1000 - Train loss: 32.50859782 - Val loss: 34.33271933\n",
      "INFO: Val_Loss improved (34.34136701 --> 34.33271933). Saving model ...\n"
     ]
    },
    {
     "name": "stderr",
     "output_type": "stream",
     "text": [
      "100%|██████████| 30/30 [00:07<00:00,  3.99it/s]\n",
      "100%|██████████| 8/8 [00:00<00:00, 15.31it/s]\n"
     ]
    },
    {
     "name": "stdout",
     "output_type": "stream",
     "text": [
      "Epoch 196/1000 - Train loss: 32.06724478 - Val loss: 34.70734739\n",
      "INFO: Early stopping counter                     1 of 20                         [Best Val Loss: 34.33271933,                             Val Loss: 34.70734739]\n"
     ]
    },
    {
     "name": "stderr",
     "output_type": "stream",
     "text": [
      "100%|██████████| 30/30 [00:07<00:00,  3.94it/s]\n",
      "100%|██████████| 8/8 [00:00<00:00, 15.60it/s]\n"
     ]
    },
    {
     "name": "stdout",
     "output_type": "stream",
     "text": [
      "Epoch 197/1000 - Train loss: 31.56831258 - Val loss: 34.28079510\n",
      "INFO: Val_Loss improved (34.33271933 --> 34.28079510). Saving model ...\n"
     ]
    },
    {
     "name": "stderr",
     "output_type": "stream",
     "text": [
      "100%|██████████| 30/30 [00:07<00:00,  4.08it/s]\n",
      "100%|██████████| 8/8 [00:00<00:00, 15.20it/s]\n"
     ]
    },
    {
     "name": "stdout",
     "output_type": "stream",
     "text": [
      "Epoch 198/1000 - Train loss: 33.02170887 - Val loss: 34.85013628\n",
      "INFO: Early stopping counter                     1 of 20                         [Best Val Loss: 34.28079510,                             Val Loss: 34.85013628]\n"
     ]
    },
    {
     "name": "stderr",
     "output_type": "stream",
     "text": [
      "100%|██████████| 30/30 [00:07<00:00,  3.92it/s]\n",
      "100%|██████████| 8/8 [00:00<00:00, 15.29it/s]\n"
     ]
    },
    {
     "name": "stdout",
     "output_type": "stream",
     "text": [
      "Epoch 199/1000 - Train loss: 33.77564812 - Val loss: 34.78754306\n",
      "INFO: Early stopping counter                     2 of 20                         [Best Val Loss: 34.28079510,                             Val Loss: 34.78754306]\n"
     ]
    },
    {
     "name": "stderr",
     "output_type": "stream",
     "text": [
      "100%|██████████| 30/30 [00:07<00:00,  4.01it/s]\n",
      "100%|██████████| 8/8 [00:00<00:00, 15.21it/s]\n"
     ]
    },
    {
     "name": "stdout",
     "output_type": "stream",
     "text": [
      "Epoch 200/1000 - Train loss: 30.78012212 - Val loss: 34.89586806\n",
      "INFO: Early stopping counter                     3 of 20                         [Best Val Loss: 34.28079510,                             Val Loss: 34.89586806]\n"
     ]
    },
    {
     "name": "stderr",
     "output_type": "stream",
     "text": [
      "100%|██████████| 30/30 [00:07<00:00,  3.92it/s]\n",
      "100%|██████████| 8/8 [00:00<00:00, 15.64it/s]\n"
     ]
    },
    {
     "name": "stdout",
     "output_type": "stream",
     "text": [
      "Epoch 201/1000 - Train loss: 30.32124557 - Val loss: 35.03154564\n",
      "INFO: Early stopping counter                     4 of 20                         [Best Val Loss: 34.28079510,                             Val Loss: 35.03154564]\n"
     ]
    },
    {
     "name": "stderr",
     "output_type": "stream",
     "text": [
      "100%|██████████| 30/30 [00:07<00:00,  3.99it/s]\n",
      "100%|██████████| 8/8 [00:00<00:00, 14.53it/s]\n"
     ]
    },
    {
     "name": "stdout",
     "output_type": "stream",
     "text": [
      "Epoch 202/1000 - Train loss: 30.50468527 - Val loss: 34.67246771\n",
      "INFO: Early stopping counter                     5 of 20                         [Best Val Loss: 34.28079510,                             Val Loss: 34.67246771]\n"
     ]
    },
    {
     "name": "stderr",
     "output_type": "stream",
     "text": [
      "100%|██████████| 30/30 [00:07<00:00,  4.02it/s]\n",
      "100%|██████████| 8/8 [00:00<00:00, 12.73it/s]\n"
     ]
    },
    {
     "name": "stdout",
     "output_type": "stream",
     "text": [
      "Epoch 203/1000 - Train loss: 30.45641524 - Val loss: 34.82704782\n",
      "INFO: Early stopping counter                     6 of 20                         [Best Val Loss: 34.28079510,                             Val Loss: 34.82704782]\n"
     ]
    },
    {
     "name": "stderr",
     "output_type": "stream",
     "text": [
      "100%|██████████| 30/30 [00:07<00:00,  4.03it/s]\n",
      "100%|██████████| 8/8 [00:00<00:00, 15.05it/s]\n"
     ]
    },
    {
     "name": "stdout",
     "output_type": "stream",
     "text": [
      "Epoch 204/1000 - Train loss: 31.48709227 - Val loss: 34.71329093\n",
      "INFO: Early stopping counter                     7 of 20                         [Best Val Loss: 34.28079510,                             Val Loss: 34.71329093]\n"
     ]
    },
    {
     "name": "stderr",
     "output_type": "stream",
     "text": [
      "100%|██████████| 30/30 [00:07<00:00,  4.03it/s]\n",
      "100%|██████████| 8/8 [00:00<00:00, 12.39it/s]\n"
     ]
    },
    {
     "name": "stdout",
     "output_type": "stream",
     "text": [
      "Epoch 205/1000 - Train loss: 30.88077679 - Val loss: 34.33069372\n",
      "INFO: Early stopping counter                     8 of 20                         [Best Val Loss: 34.28079510,                             Val Loss: 34.33069372]\n"
     ]
    },
    {
     "name": "stderr",
     "output_type": "stream",
     "text": [
      "100%|██████████| 30/30 [00:07<00:00,  4.06it/s]\n",
      "100%|██████████| 8/8 [00:00<00:00, 15.19it/s]\n"
     ]
    },
    {
     "name": "stdout",
     "output_type": "stream",
     "text": [
      "Epoch 206/1000 - Train loss: 31.39557756 - Val loss: 34.42279840\n",
      "INFO: Early stopping counter                     9 of 20                         [Best Val Loss: 34.28079510,                             Val Loss: 34.42279840]\n"
     ]
    },
    {
     "name": "stderr",
     "output_type": "stream",
     "text": [
      "100%|██████████| 30/30 [00:07<00:00,  4.06it/s]\n",
      "100%|██████████| 8/8 [00:00<00:00, 14.72it/s]\n"
     ]
    },
    {
     "name": "stdout",
     "output_type": "stream",
     "text": [
      "Epoch 207/1000 - Train loss: 31.61685689 - Val loss: 34.19430447\n",
      "INFO: Val_Loss improved (34.28079510 --> 34.19430447). Saving model ...\n"
     ]
    },
    {
     "name": "stderr",
     "output_type": "stream",
     "text": [
      "100%|██████████| 30/30 [00:07<00:00,  3.90it/s]\n",
      "100%|██████████| 8/8 [00:00<00:00, 15.54it/s]\n"
     ]
    },
    {
     "name": "stdout",
     "output_type": "stream",
     "text": [
      "Epoch 208/1000 - Train loss: 31.05229143 - Val loss: 33.81500292\n",
      "INFO: Val_Loss improved (34.19430447 --> 33.81500292). Saving model ...\n"
     ]
    },
    {
     "name": "stderr",
     "output_type": "stream",
     "text": [
      "100%|██████████| 30/30 [00:07<00:00,  3.93it/s]\n",
      "100%|██████████| 8/8 [00:00<00:00, 11.65it/s]\n"
     ]
    },
    {
     "name": "stdout",
     "output_type": "stream",
     "text": [
      "Epoch 209/1000 - Train loss: 30.89002991 - Val loss: 34.12603807\n",
      "INFO: Early stopping counter                     1 of 20                         [Best Val Loss: 33.81500292,                             Val Loss: 34.12603807]\n"
     ]
    },
    {
     "name": "stderr",
     "output_type": "stream",
     "text": [
      "100%|██████████| 30/30 [00:07<00:00,  4.01it/s]\n",
      "100%|██████████| 8/8 [00:00<00:00, 15.18it/s]\n"
     ]
    },
    {
     "name": "stdout",
     "output_type": "stream",
     "text": [
      "Epoch 210/1000 - Train loss: 30.69245472 - Val loss: 35.21102190\n",
      "INFO: Early stopping counter                     2 of 20                         [Best Val Loss: 33.81500292,                             Val Loss: 35.21102190]\n"
     ]
    },
    {
     "name": "stderr",
     "output_type": "stream",
     "text": [
      "100%|██████████| 30/30 [00:07<00:00,  3.98it/s]\n",
      "100%|██████████| 8/8 [00:00<00:00, 15.19it/s]\n"
     ]
    },
    {
     "name": "stdout",
     "output_type": "stream",
     "text": [
      "Epoch 211/1000 - Train loss: 30.36144002 - Val loss: 34.03814721\n",
      "INFO: Early stopping counter                     3 of 20                         [Best Val Loss: 33.81500292,                             Val Loss: 34.03814721]\n"
     ]
    },
    {
     "name": "stderr",
     "output_type": "stream",
     "text": [
      "100%|██████████| 30/30 [00:07<00:00,  3.96it/s]\n",
      "100%|██████████| 8/8 [00:00<00:00, 15.30it/s]\n"
     ]
    },
    {
     "name": "stdout",
     "output_type": "stream",
     "text": [
      "Epoch 212/1000 - Train loss: 32.14047769 - Val loss: 34.05796480\n",
      "INFO: Early stopping counter                     4 of 20                         [Best Val Loss: 33.81500292,                             Val Loss: 34.05796480]\n"
     ]
    },
    {
     "name": "stderr",
     "output_type": "stream",
     "text": [
      "100%|██████████| 30/30 [00:07<00:00,  4.03it/s]\n",
      "100%|██████████| 8/8 [00:00<00:00, 15.35it/s]\n"
     ]
    },
    {
     "name": "stdout",
     "output_type": "stream",
     "text": [
      "Epoch 213/1000 - Train loss: 30.52763443 - Val loss: 33.86782050\n",
      "INFO: Early stopping counter                     5 of 20                         [Best Val Loss: 33.81500292,                             Val Loss: 33.86782050]\n"
     ]
    },
    {
     "name": "stderr",
     "output_type": "stream",
     "text": [
      "100%|██████████| 30/30 [00:07<00:00,  4.16it/s]\n",
      "100%|██████████| 8/8 [00:00<00:00, 14.41it/s]\n"
     ]
    },
    {
     "name": "stdout",
     "output_type": "stream",
     "text": [
      "Epoch 214/1000 - Train loss: 32.10073465 - Val loss: 34.00179696\n",
      "INFO: Early stopping counter                     6 of 20                         [Best Val Loss: 33.81500292,                             Val Loss: 34.00179696]\n"
     ]
    },
    {
     "name": "stderr",
     "output_type": "stream",
     "text": [
      "100%|██████████| 30/30 [00:07<00:00,  4.00it/s]\n",
      "100%|██████████| 8/8 [00:00<00:00, 15.61it/s]\n"
     ]
    },
    {
     "name": "stdout",
     "output_type": "stream",
     "text": [
      "Epoch 215/1000 - Train loss: 31.13212051 - Val loss: 34.05943942\n",
      "INFO: Early stopping counter                     7 of 20                         [Best Val Loss: 33.81500292,                             Val Loss: 34.05943942]\n"
     ]
    },
    {
     "name": "stderr",
     "output_type": "stream",
     "text": [
      "100%|██████████| 30/30 [00:07<00:00,  4.03it/s]\n",
      "100%|██████████| 8/8 [00:00<00:00, 12.45it/s]\n"
     ]
    },
    {
     "name": "stdout",
     "output_type": "stream",
     "text": [
      "Epoch 216/1000 - Train loss: 29.96085243 - Val loss: 33.97352171\n",
      "INFO: Early stopping counter                     8 of 20                         [Best Val Loss: 33.81500292,                             Val Loss: 33.97352171]\n"
     ]
    },
    {
     "name": "stderr",
     "output_type": "stream",
     "text": [
      "100%|██████████| 30/30 [00:07<00:00,  3.98it/s]\n",
      "100%|██████████| 8/8 [00:00<00:00, 15.62it/s]\n"
     ]
    },
    {
     "name": "stdout",
     "output_type": "stream",
     "text": [
      "Epoch 217/1000 - Train loss: 29.42524077 - Val loss: 34.48810673\n",
      "INFO: Early stopping counter                     9 of 20                         [Best Val Loss: 33.81500292,                             Val Loss: 34.48810673]\n"
     ]
    },
    {
     "name": "stderr",
     "output_type": "stream",
     "text": [
      "100%|██████████| 30/30 [00:07<00:00,  4.08it/s]\n",
      "100%|██████████| 8/8 [00:00<00:00, 15.03it/s]\n"
     ]
    },
    {
     "name": "stdout",
     "output_type": "stream",
     "text": [
      "Epoch 218/1000 - Train loss: 31.56156489 - Val loss: 34.53911352\n",
      "INFO: Early stopping counter                     10 of 20                         [Best Val Loss: 33.81500292,                             Val Loss: 34.53911352]\n"
     ]
    },
    {
     "name": "stderr",
     "output_type": "stream",
     "text": [
      "100%|██████████| 30/30 [00:07<00:00,  4.05it/s]\n",
      "100%|██████████| 8/8 [00:00<00:00, 15.26it/s]\n"
     ]
    },
    {
     "name": "stdout",
     "output_type": "stream",
     "text": [
      "Epoch 219/1000 - Train loss: 29.88689810 - Val loss: 33.49059629\n",
      "INFO: Val_Loss improved (33.81500292 --> 33.49059629). Saving model ...\n"
     ]
    },
    {
     "name": "stderr",
     "output_type": "stream",
     "text": [
      "100%|██████████| 30/30 [00:07<00:00,  4.02it/s]\n",
      "100%|██████████| 8/8 [00:00<00:00, 15.23it/s]\n"
     ]
    },
    {
     "name": "stdout",
     "output_type": "stream",
     "text": [
      "Epoch 220/1000 - Train loss: 30.47460880 - Val loss: 34.25500298\n",
      "INFO: Early stopping counter                     1 of 20                         [Best Val Loss: 33.49059629,                             Val Loss: 34.25500298]\n"
     ]
    },
    {
     "name": "stderr",
     "output_type": "stream",
     "text": [
      "100%|██████████| 30/30 [00:07<00:00,  4.08it/s]\n",
      "100%|██████████| 8/8 [00:00<00:00, 14.64it/s]\n"
     ]
    },
    {
     "name": "stdout",
     "output_type": "stream",
     "text": [
      "Epoch 221/1000 - Train loss: 30.58950119 - Val loss: 34.25318170\n",
      "INFO: Early stopping counter                     2 of 20                         [Best Val Loss: 33.49059629,                             Val Loss: 34.25318170]\n"
     ]
    },
    {
     "name": "stderr",
     "output_type": "stream",
     "text": [
      "100%|██████████| 30/30 [00:07<00:00,  4.02it/s]\n",
      "100%|██████████| 8/8 [00:00<00:00, 14.74it/s]\n"
     ]
    },
    {
     "name": "stdout",
     "output_type": "stream",
     "text": [
      "Epoch 222/1000 - Train loss: 30.82144953 - Val loss: 33.45077729\n",
      "INFO: Val_Loss improved (33.49059629 --> 33.45077729). Saving model ...\n"
     ]
    },
    {
     "name": "stderr",
     "output_type": "stream",
     "text": [
      "100%|██████████| 30/30 [00:07<00:00,  4.07it/s]\n",
      "100%|██████████| 8/8 [00:00<00:00, 13.59it/s]\n"
     ]
    },
    {
     "name": "stdout",
     "output_type": "stream",
     "text": [
      "Epoch 223/1000 - Train loss: 30.96196607 - Val loss: 33.86279774\n",
      "INFO: Early stopping counter                     1 of 20                         [Best Val Loss: 33.45077729,                             Val Loss: 33.86279774]\n"
     ]
    },
    {
     "name": "stderr",
     "output_type": "stream",
     "text": [
      "100%|██████████| 30/30 [00:07<00:00,  3.95it/s]\n",
      "100%|██████████| 8/8 [00:00<00:00, 14.68it/s]\n"
     ]
    },
    {
     "name": "stdout",
     "output_type": "stream",
     "text": [
      "Epoch 224/1000 - Train loss: 29.15051905 - Val loss: 35.09655619\n",
      "INFO: Early stopping counter                     2 of 20                         [Best Val Loss: 33.45077729,                             Val Loss: 35.09655619]\n"
     ]
    },
    {
     "name": "stderr",
     "output_type": "stream",
     "text": [
      "100%|██████████| 30/30 [00:07<00:00,  4.05it/s]\n",
      "100%|██████████| 8/8 [00:00<00:00, 15.26it/s]\n"
     ]
    },
    {
     "name": "stdout",
     "output_type": "stream",
     "text": [
      "Epoch 225/1000 - Train loss: 32.76077836 - Val loss: 33.51816082\n",
      "INFO: Early stopping counter                     3 of 20                         [Best Val Loss: 33.45077729,                             Val Loss: 33.51816082]\n"
     ]
    },
    {
     "name": "stderr",
     "output_type": "stream",
     "text": [
      "100%|██████████| 30/30 [00:07<00:00,  3.88it/s]\n",
      "100%|██████████| 8/8 [00:00<00:00, 15.26it/s]\n"
     ]
    },
    {
     "name": "stdout",
     "output_type": "stream",
     "text": [
      "Epoch 226/1000 - Train loss: 30.84669577 - Val loss: 33.66254926\n",
      "INFO: Early stopping counter                     4 of 20                         [Best Val Loss: 33.45077729,                             Val Loss: 33.66254926]\n"
     ]
    },
    {
     "name": "stderr",
     "output_type": "stream",
     "text": [
      "100%|██████████| 30/30 [00:07<00:00,  4.00it/s]\n",
      "100%|██████████| 8/8 [00:00<00:00, 15.29it/s]\n"
     ]
    },
    {
     "name": "stdout",
     "output_type": "stream",
     "text": [
      "Epoch 227/1000 - Train loss: 30.29721724 - Val loss: 33.67138219\n",
      "INFO: Early stopping counter                     5 of 20                         [Best Val Loss: 33.45077729,                             Val Loss: 33.67138219]\n"
     ]
    },
    {
     "name": "stderr",
     "output_type": "stream",
     "text": [
      "100%|██████████| 30/30 [00:07<00:00,  4.05it/s]\n",
      "100%|██████████| 8/8 [00:00<00:00, 15.58it/s]\n"
     ]
    },
    {
     "name": "stdout",
     "output_type": "stream",
     "text": [
      "Epoch 228/1000 - Train loss: 30.57647864 - Val loss: 33.46742749\n",
      "INFO: Early stopping counter                     6 of 20                         [Best Val Loss: 33.45077729,                             Val Loss: 33.46742749]\n"
     ]
    },
    {
     "name": "stderr",
     "output_type": "stream",
     "text": [
      "100%|██████████| 30/30 [00:07<00:00,  4.00it/s]\n",
      "100%|██████████| 8/8 [00:00<00:00, 15.03it/s]\n"
     ]
    },
    {
     "name": "stdout",
     "output_type": "stream",
     "text": [
      "Epoch 229/1000 - Train loss: 29.75591106 - Val loss: 33.64926910\n",
      "INFO: Early stopping counter                     7 of 20                         [Best Val Loss: 33.45077729,                             Val Loss: 33.64926910]\n"
     ]
    },
    {
     "name": "stderr",
     "output_type": "stream",
     "text": [
      "100%|██████████| 30/30 [00:07<00:00,  3.95it/s]\n",
      "100%|██████████| 8/8 [00:00<00:00, 15.28it/s]\n"
     ]
    },
    {
     "name": "stdout",
     "output_type": "stream",
     "text": [
      "Epoch 230/1000 - Train loss: 29.97538643 - Val loss: 33.92829490\n",
      "INFO: Early stopping counter                     8 of 20                         [Best Val Loss: 33.45077729,                             Val Loss: 33.92829490]\n"
     ]
    },
    {
     "name": "stderr",
     "output_type": "stream",
     "text": [
      "100%|██████████| 30/30 [00:07<00:00,  4.00it/s]\n",
      "100%|██████████| 8/8 [00:00<00:00, 15.01it/s]\n"
     ]
    },
    {
     "name": "stdout",
     "output_type": "stream",
     "text": [
      "Epoch 231/1000 - Train loss: 31.07698701 - Val loss: 33.83837986\n",
      "INFO: Early stopping counter                     9 of 20                         [Best Val Loss: 33.45077729,                             Val Loss: 33.83837986]\n"
     ]
    },
    {
     "name": "stderr",
     "output_type": "stream",
     "text": [
      "100%|██████████| 30/30 [00:07<00:00,  4.05it/s]\n",
      "100%|██████████| 8/8 [00:00<00:00, 11.96it/s]\n"
     ]
    },
    {
     "name": "stdout",
     "output_type": "stream",
     "text": [
      "Epoch 232/1000 - Train loss: 31.61250674 - Val loss: 33.63209629\n",
      "INFO: Early stopping counter                     10 of 20                         [Best Val Loss: 33.45077729,                             Val Loss: 33.63209629]\n"
     ]
    },
    {
     "name": "stderr",
     "output_type": "stream",
     "text": [
      "100%|██████████| 30/30 [00:07<00:00,  4.07it/s]\n",
      "100%|██████████| 8/8 [00:00<00:00, 15.36it/s]\n"
     ]
    },
    {
     "name": "stdout",
     "output_type": "stream",
     "text": [
      "Epoch 233/1000 - Train loss: 33.61406199 - Val loss: 33.55203414\n",
      "INFO: Early stopping counter                     11 of 20                         [Best Val Loss: 33.45077729,                             Val Loss: 33.55203414]\n",
      "Epoch 00233: reducing learning rate of group 0 to 1.0000e-07.\n"
     ]
    },
    {
     "name": "stderr",
     "output_type": "stream",
     "text": [
      "100%|██████████| 30/30 [00:07<00:00,  4.04it/s]\n",
      "100%|██████████| 8/8 [00:00<00:00, 11.53it/s]\n"
     ]
    },
    {
     "name": "stdout",
     "output_type": "stream",
     "text": [
      "Epoch 234/1000 - Train loss: 31.06579107 - Val loss: 33.54258704\n",
      "INFO: Early stopping counter                     12 of 20                         [Best Val Loss: 33.45077729,                             Val Loss: 33.54258704]\n"
     ]
    },
    {
     "name": "stderr",
     "output_type": "stream",
     "text": [
      "100%|██████████| 30/30 [00:07<00:00,  4.01it/s]\n",
      "100%|██████████| 8/8 [00:00<00:00, 15.63it/s]\n"
     ]
    },
    {
     "name": "stdout",
     "output_type": "stream",
     "text": [
      "Epoch 235/1000 - Train loss: 29.48905837 - Val loss: 33.72266030\n",
      "INFO: Early stopping counter                     13 of 20                         [Best Val Loss: 33.45077729,                             Val Loss: 33.72266030]\n"
     ]
    },
    {
     "name": "stderr",
     "output_type": "stream",
     "text": [
      "100%|██████████| 30/30 [00:07<00:00,  4.02it/s]\n",
      "100%|██████████| 8/8 [00:00<00:00, 14.98it/s]\n"
     ]
    },
    {
     "name": "stdout",
     "output_type": "stream",
     "text": [
      "Epoch 236/1000 - Train loss: 30.70894318 - Val loss: 33.61566901\n",
      "INFO: Early stopping counter                     14 of 20                         [Best Val Loss: 33.45077729,                             Val Loss: 33.61566901]\n"
     ]
    },
    {
     "name": "stderr",
     "output_type": "stream",
     "text": [
      "100%|██████████| 30/30 [00:07<00:00,  4.00it/s]\n",
      "100%|██████████| 8/8 [00:00<00:00, 15.28it/s]\n"
     ]
    },
    {
     "name": "stdout",
     "output_type": "stream",
     "text": [
      "Epoch 237/1000 - Train loss: 29.87960555 - Val loss: 33.53357887\n",
      "INFO: Early stopping counter                     15 of 20                         [Best Val Loss: 33.45077729,                             Val Loss: 33.53357887]\n"
     ]
    },
    {
     "name": "stderr",
     "output_type": "stream",
     "text": [
      "100%|██████████| 30/30 [00:07<00:00,  4.07it/s]\n",
      "100%|██████████| 8/8 [00:00<00:00, 14.97it/s]\n"
     ]
    },
    {
     "name": "stdout",
     "output_type": "stream",
     "text": [
      "Epoch 238/1000 - Train loss: 30.74196650 - Val loss: 33.52477837\n",
      "INFO: Early stopping counter                     16 of 20                         [Best Val Loss: 33.45077729,                             Val Loss: 33.52477837]\n"
     ]
    },
    {
     "name": "stderr",
     "output_type": "stream",
     "text": [
      "100%|██████████| 30/30 [00:07<00:00,  4.11it/s]\n",
      "100%|██████████| 8/8 [00:00<00:00, 12.89it/s]\n"
     ]
    },
    {
     "name": "stdout",
     "output_type": "stream",
     "text": [
      "Epoch 239/1000 - Train loss: 29.69309336 - Val loss: 33.44511509\n",
      "INFO: Val_Loss improved (33.45077729 --> 33.44511509). Saving model ...\n"
     ]
    },
    {
     "name": "stderr",
     "output_type": "stream",
     "text": [
      "100%|██████████| 30/30 [00:07<00:00,  4.06it/s]\n",
      "100%|██████████| 8/8 [00:00<00:00, 15.31it/s]\n"
     ]
    },
    {
     "name": "stdout",
     "output_type": "stream",
     "text": [
      "Epoch 240/1000 - Train loss: 31.17034079 - Val loss: 33.52552247\n",
      "INFO: Early stopping counter                     1 of 20                         [Best Val Loss: 33.44511509,                             Val Loss: 33.52552247]\n"
     ]
    },
    {
     "name": "stderr",
     "output_type": "stream",
     "text": [
      "100%|██████████| 30/30 [00:07<00:00,  3.97it/s]\n",
      "100%|██████████| 8/8 [00:00<00:00, 11.89it/s]\n"
     ]
    },
    {
     "name": "stdout",
     "output_type": "stream",
     "text": [
      "Epoch 241/1000 - Train loss: 30.37048874 - Val loss: 33.67828321\n",
      "INFO: Early stopping counter                     2 of 20                         [Best Val Loss: 33.44511509,                             Val Loss: 33.67828321]\n"
     ]
    },
    {
     "name": "stderr",
     "output_type": "stream",
     "text": [
      "100%|██████████| 30/30 [00:07<00:00,  4.11it/s]\n",
      "100%|██████████| 8/8 [00:00<00:00, 15.55it/s]\n"
     ]
    },
    {
     "name": "stdout",
     "output_type": "stream",
     "text": [
      "Epoch 242/1000 - Train loss: 31.06290627 - Val loss: 33.63413858\n",
      "INFO: Early stopping counter                     3 of 20                         [Best Val Loss: 33.44511509,                             Val Loss: 33.63413858]\n"
     ]
    },
    {
     "name": "stderr",
     "output_type": "stream",
     "text": [
      "100%|██████████| 30/30 [00:07<00:00,  4.03it/s]\n",
      "100%|██████████| 8/8 [00:00<00:00, 15.28it/s]\n"
     ]
    },
    {
     "name": "stdout",
     "output_type": "stream",
     "text": [
      "Epoch 243/1000 - Train loss: 29.24258073 - Val loss: 33.60249090\n",
      "INFO: Early stopping counter                     4 of 20                         [Best Val Loss: 33.44511509,                             Val Loss: 33.60249090]\n"
     ]
    },
    {
     "name": "stderr",
     "output_type": "stream",
     "text": [
      "100%|██████████| 30/30 [00:07<00:00,  3.90it/s]\n",
      "100%|██████████| 8/8 [00:00<00:00, 15.23it/s]\n"
     ]
    },
    {
     "name": "stdout",
     "output_type": "stream",
     "text": [
      "Epoch 244/1000 - Train loss: 28.31119436 - Val loss: 33.59322262\n",
      "INFO: Early stopping counter                     5 of 20                         [Best Val Loss: 33.44511509,                             Val Loss: 33.59322262]\n"
     ]
    },
    {
     "name": "stderr",
     "output_type": "stream",
     "text": [
      "100%|██████████| 30/30 [00:07<00:00,  4.03it/s]\n",
      "100%|██████████| 8/8 [00:00<00:00, 14.97it/s]\n"
     ]
    },
    {
     "name": "stdout",
     "output_type": "stream",
     "text": [
      "Epoch 245/1000 - Train loss: 29.73287519 - Val loss: 33.58637333\n",
      "INFO: Early stopping counter                     6 of 20                         [Best Val Loss: 33.44511509,                             Val Loss: 33.58637333]\n"
     ]
    },
    {
     "name": "stderr",
     "output_type": "stream",
     "text": [
      "100%|██████████| 30/30 [00:07<00:00,  3.98it/s]\n",
      "100%|██████████| 8/8 [00:00<00:00, 15.04it/s]\n"
     ]
    },
    {
     "name": "stdout",
     "output_type": "stream",
     "text": [
      "Epoch 246/1000 - Train loss: 31.60354048 - Val loss: 33.67522287\n",
      "INFO: Early stopping counter                     7 of 20                         [Best Val Loss: 33.44511509,                             Val Loss: 33.67522287]\n"
     ]
    },
    {
     "name": "stderr",
     "output_type": "stream",
     "text": [
      "100%|██████████| 30/30 [00:07<00:00,  4.08it/s]\n",
      "100%|██████████| 8/8 [00:00<00:00, 15.59it/s]\n"
     ]
    },
    {
     "name": "stdout",
     "output_type": "stream",
     "text": [
      "Epoch 247/1000 - Train loss: 33.53346100 - Val loss: 33.64921856\n",
      "INFO: Early stopping counter                     8 of 20                         [Best Val Loss: 33.44511509,                             Val Loss: 33.64921856]\n"
     ]
    },
    {
     "name": "stderr",
     "output_type": "stream",
     "text": [
      "100%|██████████| 30/30 [00:07<00:00,  4.01it/s]\n",
      "100%|██████████| 8/8 [00:00<00:00, 11.88it/s]\n"
     ]
    },
    {
     "name": "stdout",
     "output_type": "stream",
     "text": [
      "Epoch 248/1000 - Train loss: 31.65353432 - Val loss: 33.59572816\n",
      "INFO: Early stopping counter                     9 of 20                         [Best Val Loss: 33.44511509,                             Val Loss: 33.59572816]\n"
     ]
    },
    {
     "name": "stderr",
     "output_type": "stream",
     "text": [
      "100%|██████████| 30/30 [00:07<00:00,  4.02it/s]\n",
      "100%|██████████| 8/8 [00:00<00:00, 15.45it/s]\n"
     ]
    },
    {
     "name": "stdout",
     "output_type": "stream",
     "text": [
      "Epoch 249/1000 - Train loss: 29.99492232 - Val loss: 33.70040941\n",
      "INFO: Early stopping counter                     10 of 20                         [Best Val Loss: 33.44511509,                             Val Loss: 33.70040941]\n"
     ]
    },
    {
     "name": "stderr",
     "output_type": "stream",
     "text": [
      "100%|██████████| 30/30 [00:07<00:00,  4.02it/s]\n",
      "100%|██████████| 8/8 [00:00<00:00, 12.05it/s]\n"
     ]
    },
    {
     "name": "stdout",
     "output_type": "stream",
     "text": [
      "Epoch 250/1000 - Train loss: 30.16097647 - Val loss: 33.66899109\n",
      "INFO: Early stopping counter                     11 of 20                         [Best Val Loss: 33.44511509,                             Val Loss: 33.66899109]\n",
      "Epoch 00250: reducing learning rate of group 0 to 1.0000e-08.\n"
     ]
    },
    {
     "name": "stderr",
     "output_type": "stream",
     "text": [
      "100%|██████████| 30/30 [00:07<00:00,  3.98it/s]\n",
      "100%|██████████| 8/8 [00:00<00:00, 15.45it/s]\n"
     ]
    },
    {
     "name": "stdout",
     "output_type": "stream",
     "text": [
      "Epoch 251/1000 - Train loss: 31.14798743 - Val loss: 33.68243337\n",
      "INFO: Early stopping counter                     12 of 20                         [Best Val Loss: 33.44511509,                             Val Loss: 33.68243337]\n"
     ]
    },
    {
     "name": "stderr",
     "output_type": "stream",
     "text": [
      "100%|██████████| 30/30 [00:07<00:00,  4.01it/s]\n",
      "100%|██████████| 8/8 [00:00<00:00, 11.78it/s]\n"
     ]
    },
    {
     "name": "stdout",
     "output_type": "stream",
     "text": [
      "Epoch 252/1000 - Train loss: 29.06325385 - Val loss: 33.68182397\n",
      "INFO: Early stopping counter                     13 of 20                         [Best Val Loss: 33.44511509,                             Val Loss: 33.68182397]\n"
     ]
    },
    {
     "name": "stderr",
     "output_type": "stream",
     "text": [
      "100%|██████████| 30/30 [00:07<00:00,  4.02it/s]\n",
      "100%|██████████| 8/8 [00:00<00:00, 15.11it/s]\n"
     ]
    },
    {
     "name": "stdout",
     "output_type": "stream",
     "text": [
      "Epoch 253/1000 - Train loss: 27.38106060 - Val loss: 33.68635321\n",
      "INFO: Early stopping counter                     14 of 20                         [Best Val Loss: 33.44511509,                             Val Loss: 33.68635321]\n"
     ]
    },
    {
     "name": "stderr",
     "output_type": "stream",
     "text": [
      "100%|██████████| 30/30 [00:07<00:00,  4.03it/s]\n",
      "100%|██████████| 8/8 [00:00<00:00, 15.30it/s]\n"
     ]
    },
    {
     "name": "stdout",
     "output_type": "stream",
     "text": [
      "Epoch 254/1000 - Train loss: 29.72787266 - Val loss: 33.69096208\n",
      "INFO: Early stopping counter                     15 of 20                         [Best Val Loss: 33.44511509,                             Val Loss: 33.69096208]\n"
     ]
    },
    {
     "name": "stderr",
     "output_type": "stream",
     "text": [
      "100%|██████████| 30/30 [00:07<00:00,  4.03it/s]\n",
      "100%|██████████| 8/8 [00:00<00:00, 15.63it/s]\n"
     ]
    },
    {
     "name": "stdout",
     "output_type": "stream",
     "text": [
      "Epoch 255/1000 - Train loss: 32.04155248 - Val loss: 33.67702913\n",
      "INFO: Early stopping counter                     16 of 20                         [Best Val Loss: 33.44511509,                             Val Loss: 33.67702913]\n"
     ]
    },
    {
     "name": "stderr",
     "output_type": "stream",
     "text": [
      "100%|██████████| 30/30 [00:07<00:00,  3.99it/s]\n",
      "100%|██████████| 8/8 [00:00<00:00, 15.33it/s]\n"
     ]
    },
    {
     "name": "stdout",
     "output_type": "stream",
     "text": [
      "Epoch 256/1000 - Train loss: 29.89670734 - Val loss: 33.66881680\n",
      "INFO: Early stopping counter                     17 of 20                         [Best Val Loss: 33.44511509,                             Val Loss: 33.66881680]\n"
     ]
    },
    {
     "name": "stderr",
     "output_type": "stream",
     "text": [
      "100%|██████████| 30/30 [00:07<00:00,  3.92it/s]\n",
      "100%|██████████| 8/8 [00:00<00:00, 15.33it/s]\n"
     ]
    },
    {
     "name": "stdout",
     "output_type": "stream",
     "text": [
      "Epoch 257/1000 - Train loss: 28.80437730 - Val loss: 33.67543626\n",
      "INFO: Early stopping counter                     18 of 20                         [Best Val Loss: 33.44511509,                             Val Loss: 33.67543626]\n"
     ]
    },
    {
     "name": "stderr",
     "output_type": "stream",
     "text": [
      "100%|██████████| 30/30 [00:07<00:00,  4.11it/s]\n",
      "100%|██████████| 8/8 [00:00<00:00, 15.53it/s]\n"
     ]
    },
    {
     "name": "stdout",
     "output_type": "stream",
     "text": [
      "Epoch 258/1000 - Train loss: 29.39330750 - Val loss: 33.67518425\n",
      "INFO: Early stopping counter                     19 of 20                         [Best Val Loss: 33.44511509,                             Val Loss: 33.67518425]\n"
     ]
    },
    {
     "name": "stderr",
     "output_type": "stream",
     "text": [
      "100%|██████████| 30/30 [00:07<00:00,  4.02it/s]\n",
      "100%|██████████| 8/8 [00:00<00:00, 13.12it/s]\n"
     ]
    },
    {
     "name": "stdout",
     "output_type": "stream",
     "text": [
      "Epoch 259/1000 - Train loss: 30.12864227 - Val loss: 33.67101192\n",
      "INFO: Early stopping counter                     20 of 20                         [Best Val Loss: 33.44511509,                             Val Loss: 33.67101192]\n",
      "INFO: Early stopping DONE!\n",
      "INFO: Best Val Loss: 33.44511509\n",
      "Loading best model...\n"
     ]
    }
   ],
   "source": [
    "from landmarker.pipeline import IndirectUncertaintyUnawareHeatmapRegressionPipeline\n",
    "\n",
    "train_config = {\n",
    "    \"criterion\": \"mse\",\n",
    "    \"optimizer\": \"adam\",\n",
    "    \"lr\": lr,\n",
    "    \"batch_size\": batch_size,\n",
    "    \"epochs\": epochs,\n",
    "    \"lr_scheduler\": True,\n",
    "}\n",
    "\n",
    "indirectUncertaintyUnawareHeatmapRegressionPipeline = IndirectUncertaintyUnawareHeatmapRegressionPipeline(\n",
    "    differentiable_decoder=\"weighted_spatial_mean\", model=\"CoordConvUNet\", in_channels_img=1, nb_landmarks=19,\n",
    "    train_config=train_config, heatmap_decoder=coord_argmax, verbose=True, device=device)\n",
    "\n",
    "indirectUncertaintyUnawareHeatmapRegressionPipeline.fit(image_paths_train, landmarks_train,\n",
    "                                        transform=composed_transformd, cache_ds=cache_ds)"
   ]
  },
  {
   "cell_type": "code",
   "execution_count": 12,
   "metadata": {},
   "outputs": [
    {
     "name": "stdout",
     "output_type": "stream",
     "text": [
      "Reading, normalizing and resizing 150 images and landmarks...\n"
     ]
    },
    {
     "name": "stderr",
     "output_type": "stream",
     "text": [
      "100%|██████████| 150/150 [00:03<00:00, 47.73it/s]\n",
      "100%|██████████| 150/150 [00:02<00:00, 52.91it/s]"
     ]
    },
    {
     "name": "stdout",
     "output_type": "stream",
     "text": [
      "Detection report:\n",
      "1# Point-to-point error (PE) statistics:\n",
      "======================================================================\n",
      "Class               Mean      Median    Std       Min       Max       \n",
      "----------------------------------------------------------------------\n",
      "Landmark 0          123.46    122.84    10.00     102.38    146.31    \n",
      "Landmark 1          112.95    113.62    8.43      82.32     139.87    \n",
      "Landmark 2          89.53     88.91     7.64      71.85     108.62    \n",
      "Landmark 3          120.90    119.42    10.27     98.76     144.31    \n",
      "Landmark 4          56.40     56.65     5.07      35.55     68.80     \n",
      "Landmark 5          26.53     26.62     3.33      5.92      34.57     \n",
      "Landmark 6          14.11     14.03     2.70      6.22      20.56     \n",
      "Landmark 7          14.95     14.94     3.24      2.88      23.62     \n",
      "Landmark 8          12.69     12.70     2.75      4.58      21.13     \n",
      "Landmark 9          79.18     79.23     6.88      52.60     98.88     \n",
      "Landmark 10         39.95     39.92     4.03      18.74     51.52     \n",
      "Landmark 11         39.01     38.84     4.46      20.20     49.50     \n",
      "Landmark 12         47.56     48.15     6.54      8.84      60.84     \n",
      "Landmark 13         29.86     29.36     4.50      11.30     46.40     \n",
      "Landmark 14         59.56     59.26     5.68      34.53     78.03     \n",
      "Landmark 15         6.82      6.78      2.49      1.79      15.79     \n",
      "Landmark 16         82.30     81.26     7.71      65.93     101.29    \n",
      "Landmark 17         65.33     65.29     6.23      39.11     85.99     \n",
      "Landmark 18         108.08    106.84    10.07     85.59     131.33    \n",
      "======================================================================\n",
      "\n",
      "2# Success detection rate (SDR):\n",
      "================================================================================\n",
      "Class               SDR (PE≤2mm)   SDR (PE≤2.5mm) SDR (PE≤3mm)   SDR (PE≤4mm)   \n",
      "--------------------------------------------------------------------------------\n",
      "Landmark 0          0.00           0.00           0.00           0.00           \n",
      "Landmark 1          0.00           0.00           0.00           0.00           \n",
      "Landmark 2          0.00           0.00           0.00           0.00           \n",
      "Landmark 3          0.00           0.00           0.00           0.00           \n",
      "Landmark 4          0.00           0.00           0.00           0.00           \n",
      "Landmark 5          0.00           0.00           0.00           0.00           \n",
      "Landmark 6          0.00           0.00           0.00           0.00           \n",
      "Landmark 7          0.00           0.00           0.67           0.67           \n",
      "Landmark 8          0.00           0.00           0.00           0.00           \n",
      "Landmark 9          0.00           0.00           0.00           0.00           \n",
      "Landmark 10         0.00           0.00           0.00           0.00           \n",
      "Landmark 11         0.00           0.00           0.00           0.00           \n",
      "Landmark 12         0.00           0.00           0.00           0.00           \n",
      "Landmark 13         0.00           0.00           0.00           0.00           \n",
      "Landmark 14         0.00           0.00           0.00           0.00           \n",
      "Landmark 15         1.33           2.67           4.67           13.33          \n",
      "Landmark 16         0.00           0.00           0.00           0.00           \n",
      "Landmark 17         0.00           0.00           0.00           0.00           \n",
      "Landmark 18         0.00           0.00           0.00           0.00           \n",
      "================================================================================\n"
     ]
    },
    {
     "name": "stderr",
     "output_type": "stream",
     "text": [
      "\n"
     ]
    }
   ],
   "source": [
    "results_uncertainty_unaware = indirectUncertaintyUnawareHeatmapRegressionPipeline.evaluate(image_paths_test1, landmarks_test1, pixel_spacings_test1)"
   ]
  },
  {
   "cell_type": "markdown",
   "metadata": {},
   "source": [
    "## Coordinate Regression"
   ]
  },
  {
   "cell_type": "code",
   "execution_count": 13,
   "metadata": {},
   "outputs": [
    {
     "name": "stdout",
     "output_type": "stream",
     "text": [
      "Reading, normalizing and resizing 150 images and landmarks...\n"
     ]
    },
    {
     "name": "stderr",
     "output_type": "stream",
     "text": [
      "100%|██████████| 150/150 [00:03<00:00, 48.42it/s]\n",
      "100%|██████████| 30/30 [00:05<00:00,  5.82it/s]\n",
      "100%|██████████| 8/8 [00:00<00:00, 23.18it/s]\n"
     ]
    },
    {
     "name": "stdout",
     "output_type": "stream",
     "text": [
      "Epoch 1/1000 - Train loss: 324.49358622 - Val loss: 323.91516495\n"
     ]
    },
    {
     "name": "stderr",
     "output_type": "stream",
     "text": [
      "100%|██████████| 30/30 [00:05<00:00,  5.72it/s]\n",
      "100%|██████████| 8/8 [00:00<00:00, 32.02it/s]\n"
     ]
    },
    {
     "name": "stdout",
     "output_type": "stream",
     "text": [
      "Epoch 2/1000 - Train loss: 324.07745972 - Val loss: 322.07958603\n",
      "INFO: Val_Loss improved (323.91516495 --> 322.07958603). Saving model ...\n"
     ]
    },
    {
     "name": "stderr",
     "output_type": "stream",
     "text": [
      "100%|██████████| 30/30 [00:05<00:00,  5.81it/s]\n",
      "100%|██████████| 8/8 [00:00<00:00, 32.16it/s]\n"
     ]
    },
    {
     "name": "stdout",
     "output_type": "stream",
     "text": [
      "Epoch 3/1000 - Train loss: 321.31649475 - Val loss: 320.57791138\n",
      "INFO: Val_Loss improved (322.07958603 --> 320.57791138). Saving model ...\n"
     ]
    },
    {
     "name": "stderr",
     "output_type": "stream",
     "text": [
      "100%|██████████| 30/30 [00:05<00:00,  5.83it/s]\n",
      "100%|██████████| 8/8 [00:00<00:00, 31.74it/s]\n"
     ]
    },
    {
     "name": "stdout",
     "output_type": "stream",
     "text": [
      "Epoch 4/1000 - Train loss: 320.53109233 - Val loss: 319.04413986\n",
      "INFO: Val_Loss improved (320.57791138 --> 319.04413986). Saving model ...\n"
     ]
    },
    {
     "name": "stderr",
     "output_type": "stream",
     "text": [
      "100%|██████████| 30/30 [00:05<00:00,  5.84it/s]\n",
      "100%|██████████| 8/8 [00:00<00:00, 31.22it/s]\n"
     ]
    },
    {
     "name": "stdout",
     "output_type": "stream",
     "text": [
      "Epoch 5/1000 - Train loss: 318.33055827 - Val loss: 317.20576477\n",
      "INFO: Val_Loss improved (319.04413986 --> 317.20576477). Saving model ...\n"
     ]
    },
    {
     "name": "stderr",
     "output_type": "stream",
     "text": [
      "100%|██████████| 30/30 [00:05<00:00,  5.78it/s]\n",
      "100%|██████████| 8/8 [00:00<00:00, 31.39it/s]\n"
     ]
    },
    {
     "name": "stdout",
     "output_type": "stream",
     "text": [
      "Epoch 6/1000 - Train loss: 316.57220968 - Val loss: 315.44232559\n",
      "INFO: Val_Loss improved (317.20576477 --> 315.44232559). Saving model ...\n"
     ]
    },
    {
     "name": "stderr",
     "output_type": "stream",
     "text": [
      "100%|██████████| 30/30 [00:05<00:00,  5.89it/s]\n",
      "100%|██████████| 8/8 [00:00<00:00, 21.74it/s]\n"
     ]
    },
    {
     "name": "stdout",
     "output_type": "stream",
     "text": [
      "Epoch 7/1000 - Train loss: 313.60923767 - Val loss: 313.39818573\n",
      "INFO: Val_Loss improved (315.44232559 --> 313.39818573). Saving model ...\n"
     ]
    },
    {
     "name": "stderr",
     "output_type": "stream",
     "text": [
      "100%|██████████| 30/30 [00:04<00:00,  6.03it/s]\n",
      "100%|██████████| 8/8 [00:00<00:00, 31.96it/s]\n"
     ]
    },
    {
     "name": "stdout",
     "output_type": "stream",
     "text": [
      "Epoch 8/1000 - Train loss: 311.76450195 - Val loss: 311.54541397\n",
      "INFO: Val_Loss improved (313.39818573 --> 311.54541397). Saving model ...\n"
     ]
    },
    {
     "name": "stderr",
     "output_type": "stream",
     "text": [
      "100%|██████████| 30/30 [00:05<00:00,  5.78it/s]\n",
      "100%|██████████| 8/8 [00:00<00:00, 32.06it/s]\n"
     ]
    },
    {
     "name": "stdout",
     "output_type": "stream",
     "text": [
      "Epoch 9/1000 - Train loss: 310.97837524 - Val loss: 309.60527039\n",
      "INFO: Val_Loss improved (311.54541397 --> 309.60527039). Saving model ...\n"
     ]
    },
    {
     "name": "stderr",
     "output_type": "stream",
     "text": [
      "100%|██████████| 30/30 [00:05<00:00,  5.77it/s]\n",
      "100%|██████████| 8/8 [00:00<00:00, 32.13it/s]\n"
     ]
    },
    {
     "name": "stdout",
     "output_type": "stream",
     "text": [
      "Epoch 10/1000 - Train loss: 307.46528524 - Val loss: 307.65011597\n",
      "INFO: Val_Loss improved (309.60527039 --> 307.65011597). Saving model ...\n"
     ]
    },
    {
     "name": "stderr",
     "output_type": "stream",
     "text": [
      "100%|██████████| 30/30 [00:05<00:00,  5.93it/s]\n",
      "100%|██████████| 8/8 [00:00<00:00, 18.39it/s]\n"
     ]
    },
    {
     "name": "stdout",
     "output_type": "stream",
     "text": [
      "Epoch 11/1000 - Train loss: 307.67766317 - Val loss: 305.64563751\n",
      "INFO: Val_Loss improved (307.65011597 --> 305.64563751). Saving model ...\n"
     ]
    },
    {
     "name": "stderr",
     "output_type": "stream",
     "text": [
      "100%|██████████| 30/30 [00:04<00:00,  6.00it/s]\n",
      "100%|██████████| 8/8 [00:00<00:00, 32.28it/s]\n"
     ]
    },
    {
     "name": "stdout",
     "output_type": "stream",
     "text": [
      "Epoch 12/1000 - Train loss: 305.41239014 - Val loss: 303.70878220\n",
      "INFO: Val_Loss improved (305.64563751 --> 303.70878220). Saving model ...\n"
     ]
    },
    {
     "name": "stderr",
     "output_type": "stream",
     "text": [
      "100%|██████████| 30/30 [00:05<00:00,  5.78it/s]\n",
      "100%|██████████| 8/8 [00:00<00:00, 31.27it/s]\n"
     ]
    },
    {
     "name": "stdout",
     "output_type": "stream",
     "text": [
      "Epoch 13/1000 - Train loss: 301.28639221 - Val loss: 301.56871414\n",
      "INFO: Val_Loss improved (303.70878220 --> 301.56871414). Saving model ...\n"
     ]
    },
    {
     "name": "stderr",
     "output_type": "stream",
     "text": [
      "100%|██████████| 30/30 [00:05<00:00,  5.79it/s]\n",
      "100%|██████████| 8/8 [00:00<00:00, 31.97it/s]\n"
     ]
    },
    {
     "name": "stdout",
     "output_type": "stream",
     "text": [
      "Epoch 14/1000 - Train loss: 299.98548482 - Val loss: 299.44775772\n",
      "INFO: Val_Loss improved (301.56871414 --> 299.44775772). Saving model ...\n"
     ]
    },
    {
     "name": "stderr",
     "output_type": "stream",
     "text": [
      "100%|██████████| 30/30 [00:05<00:00,  5.77it/s]\n",
      "100%|██████████| 8/8 [00:00<00:00, 19.59it/s]\n"
     ]
    },
    {
     "name": "stdout",
     "output_type": "stream",
     "text": [
      "Epoch 15/1000 - Train loss: 299.53161519 - Val loss: 297.21219254\n",
      "INFO: Val_Loss improved (299.44775772 --> 297.21219254). Saving model ...\n"
     ]
    },
    {
     "name": "stderr",
     "output_type": "stream",
     "text": [
      "100%|██████████| 30/30 [00:05<00:00,  5.82it/s]\n",
      "100%|██████████| 8/8 [00:00<00:00, 32.24it/s]\n"
     ]
    },
    {
     "name": "stdout",
     "output_type": "stream",
     "text": [
      "Epoch 16/1000 - Train loss: 295.80570679 - Val loss: 295.26533890\n",
      "INFO: Val_Loss improved (297.21219254 --> 295.26533890). Saving model ...\n"
     ]
    },
    {
     "name": "stderr",
     "output_type": "stream",
     "text": [
      "100%|██████████| 30/30 [00:05<00:00,  5.89it/s]\n",
      "100%|██████████| 8/8 [00:00<00:00, 30.91it/s]\n"
     ]
    },
    {
     "name": "stdout",
     "output_type": "stream",
     "text": [
      "Epoch 17/1000 - Train loss: 294.85815837 - Val loss: 292.86143494\n",
      "INFO: Val_Loss improved (295.26533890 --> 292.86143494). Saving model ...\n"
     ]
    },
    {
     "name": "stderr",
     "output_type": "stream",
     "text": [
      "100%|██████████| 30/30 [00:05<00:00,  5.64it/s]\n",
      "100%|██████████| 8/8 [00:00<00:00, 31.82it/s]\n"
     ]
    },
    {
     "name": "stdout",
     "output_type": "stream",
     "text": [
      "Epoch 18/1000 - Train loss: 292.41820577 - Val loss: 290.76452255\n",
      "INFO: Val_Loss improved (292.86143494 --> 290.76452255). Saving model ...\n"
     ]
    },
    {
     "name": "stderr",
     "output_type": "stream",
     "text": [
      "100%|██████████| 30/30 [00:05<00:00,  5.93it/s]\n",
      "100%|██████████| 8/8 [00:00<00:00, 19.63it/s]\n"
     ]
    },
    {
     "name": "stdout",
     "output_type": "stream",
     "text": [
      "Epoch 19/1000 - Train loss: 288.93051758 - Val loss: 288.57660294\n",
      "INFO: Val_Loss improved (290.76452255 --> 288.57660294). Saving model ...\n"
     ]
    },
    {
     "name": "stderr",
     "output_type": "stream",
     "text": [
      "100%|██████████| 30/30 [00:05<00:00,  5.93it/s]\n",
      "100%|██████████| 8/8 [00:00<00:00, 31.92it/s]\n"
     ]
    },
    {
     "name": "stdout",
     "output_type": "stream",
     "text": [
      "Epoch 20/1000 - Train loss: 286.94795837 - Val loss: 286.25555801\n",
      "INFO: Val_Loss improved (288.57660294 --> 286.25555801). Saving model ...\n"
     ]
    },
    {
     "name": "stderr",
     "output_type": "stream",
     "text": [
      "100%|██████████| 30/30 [00:05<00:00,  5.79it/s]\n",
      "100%|██████████| 8/8 [00:00<00:00, 32.10it/s]\n"
     ]
    },
    {
     "name": "stdout",
     "output_type": "stream",
     "text": [
      "Epoch 21/1000 - Train loss: 285.20654195 - Val loss: 283.62291336\n",
      "INFO: Val_Loss improved (286.25555801 --> 283.62291336). Saving model ...\n"
     ]
    },
    {
     "name": "stderr",
     "output_type": "stream",
     "text": [
      "100%|██████████| 30/30 [00:05<00:00,  5.77it/s]\n",
      "100%|██████████| 8/8 [00:00<00:00, 32.06it/s]\n"
     ]
    },
    {
     "name": "stdout",
     "output_type": "stream",
     "text": [
      "Epoch 22/1000 - Train loss: 282.69975891 - Val loss: 281.33041000\n",
      "INFO: Val_Loss improved (283.62291336 --> 281.33041000). Saving model ...\n"
     ]
    },
    {
     "name": "stderr",
     "output_type": "stream",
     "text": [
      "100%|██████████| 30/30 [00:05<00:00,  5.96it/s]\n",
      "100%|██████████| 8/8 [00:00<00:00, 32.50it/s]\n"
     ]
    },
    {
     "name": "stdout",
     "output_type": "stream",
     "text": [
      "Epoch 23/1000 - Train loss: 280.47198181 - Val loss: 279.17103577\n",
      "INFO: Val_Loss improved (281.33041000 --> 279.17103577). Saving model ...\n"
     ]
    },
    {
     "name": "stderr",
     "output_type": "stream",
     "text": [
      "100%|██████████| 30/30 [00:05<00:00,  5.84it/s]\n",
      "100%|██████████| 8/8 [00:00<00:00, 32.28it/s]\n"
     ]
    },
    {
     "name": "stdout",
     "output_type": "stream",
     "text": [
      "Epoch 24/1000 - Train loss: 277.67555745 - Val loss: 276.74807358\n",
      "INFO: Val_Loss improved (279.17103577 --> 276.74807358). Saving model ...\n"
     ]
    },
    {
     "name": "stderr",
     "output_type": "stream",
     "text": [
      "100%|██████████| 30/30 [00:05<00:00,  5.95it/s]\n",
      "100%|██████████| 8/8 [00:00<00:00, 31.15it/s]\n"
     ]
    },
    {
     "name": "stdout",
     "output_type": "stream",
     "text": [
      "Epoch 25/1000 - Train loss: 275.32124634 - Val loss: 274.26492310\n",
      "INFO: Val_Loss improved (276.74807358 --> 274.26492310). Saving model ...\n"
     ]
    },
    {
     "name": "stderr",
     "output_type": "stream",
     "text": [
      "100%|██████████| 30/30 [00:05<00:00,  5.80it/s]\n",
      "100%|██████████| 8/8 [00:00<00:00, 32.18it/s]\n"
     ]
    },
    {
     "name": "stdout",
     "output_type": "stream",
     "text": [
      "Epoch 26/1000 - Train loss: 273.04855245 - Val loss: 272.01168823\n",
      "INFO: Val_Loss improved (274.26492310 --> 272.01168823). Saving model ...\n"
     ]
    },
    {
     "name": "stderr",
     "output_type": "stream",
     "text": [
      "100%|██████████| 30/30 [00:05<00:00,  5.95it/s]\n",
      "100%|██████████| 8/8 [00:00<00:00, 32.03it/s]\n"
     ]
    },
    {
     "name": "stdout",
     "output_type": "stream",
     "text": [
      "Epoch 27/1000 - Train loss: 271.03771261 - Val loss: 268.95243073\n",
      "INFO: Val_Loss improved (272.01168823 --> 268.95243073). Saving model ...\n"
     ]
    },
    {
     "name": "stderr",
     "output_type": "stream",
     "text": [
      "100%|██████████| 30/30 [00:05<00:00,  5.90it/s]\n",
      "100%|██████████| 8/8 [00:00<00:00, 30.74it/s]\n"
     ]
    },
    {
     "name": "stdout",
     "output_type": "stream",
     "text": [
      "Epoch 28/1000 - Train loss: 268.43554382 - Val loss: 266.45378494\n",
      "INFO: Val_Loss improved (268.95243073 --> 266.45378494). Saving model ...\n"
     ]
    },
    {
     "name": "stderr",
     "output_type": "stream",
     "text": [
      "100%|██████████| 30/30 [00:05<00:00,  5.81it/s]\n",
      "100%|██████████| 8/8 [00:00<00:00, 32.10it/s]\n"
     ]
    },
    {
     "name": "stdout",
     "output_type": "stream",
     "text": [
      "Epoch 29/1000 - Train loss: 265.61177470 - Val loss: 263.88727570\n",
      "INFO: Val_Loss improved (266.45378494 --> 263.88727570). Saving model ...\n"
     ]
    },
    {
     "name": "stderr",
     "output_type": "stream",
     "text": [
      "100%|██████████| 30/30 [00:05<00:00,  5.95it/s]\n",
      "100%|██████████| 8/8 [00:00<00:00, 18.23it/s]\n"
     ]
    },
    {
     "name": "stdout",
     "output_type": "stream",
     "text": [
      "Epoch 30/1000 - Train loss: 262.51192067 - Val loss: 261.24892998\n",
      "INFO: Val_Loss improved (263.88727570 --> 261.24892998). Saving model ...\n"
     ]
    },
    {
     "name": "stderr",
     "output_type": "stream",
     "text": [
      "100%|██████████| 30/30 [00:05<00:00,  5.93it/s]\n",
      "100%|██████████| 8/8 [00:00<00:00, 32.56it/s]\n"
     ]
    },
    {
     "name": "stdout",
     "output_type": "stream",
     "text": [
      "Epoch 31/1000 - Train loss: 259.83848521 - Val loss: 258.63055229\n",
      "INFO: Val_Loss improved (261.24892998 --> 258.63055229). Saving model ...\n"
     ]
    },
    {
     "name": "stderr",
     "output_type": "stream",
     "text": [
      "100%|██████████| 30/30 [00:05<00:00,  5.87it/s]\n",
      "100%|██████████| 8/8 [00:00<00:00, 31.92it/s]\n"
     ]
    },
    {
     "name": "stdout",
     "output_type": "stream",
     "text": [
      "Epoch 32/1000 - Train loss: 257.04504852 - Val loss: 255.29321671\n",
      "INFO: Val_Loss improved (258.63055229 --> 255.29321671). Saving model ...\n"
     ]
    },
    {
     "name": "stderr",
     "output_type": "stream",
     "text": [
      "100%|██████████| 30/30 [00:05<00:00,  5.64it/s]\n",
      "100%|██████████| 8/8 [00:00<00:00, 32.31it/s]\n"
     ]
    },
    {
     "name": "stdout",
     "output_type": "stream",
     "text": [
      "Epoch 33/1000 - Train loss: 254.69827372 - Val loss: 253.20640564\n",
      "INFO: Val_Loss improved (255.29321671 --> 253.20640564). Saving model ...\n"
     ]
    },
    {
     "name": "stderr",
     "output_type": "stream",
     "text": [
      "100%|██████████| 30/30 [00:05<00:00,  5.96it/s]\n",
      "100%|██████████| 8/8 [00:00<00:00, 31.50it/s]\n"
     ]
    },
    {
     "name": "stdout",
     "output_type": "stream",
     "text": [
      "Epoch 34/1000 - Train loss: 250.89113770 - Val loss: 250.18988800\n",
      "INFO: Val_Loss improved (253.20640564 --> 250.18988800). Saving model ...\n"
     ]
    },
    {
     "name": "stderr",
     "output_type": "stream",
     "text": [
      "100%|██████████| 30/30 [00:04<00:00,  6.00it/s]\n",
      "100%|██████████| 8/8 [00:00<00:00, 32.27it/s]\n"
     ]
    },
    {
     "name": "stdout",
     "output_type": "stream",
     "text": [
      "Epoch 35/1000 - Train loss: 249.36909587 - Val loss: 247.70144081\n",
      "INFO: Val_Loss improved (250.18988800 --> 247.70144081). Saving model ...\n"
     ]
    },
    {
     "name": "stderr",
     "output_type": "stream",
     "text": [
      "100%|██████████| 30/30 [00:05<00:00,  5.80it/s]\n",
      "100%|██████████| 8/8 [00:00<00:00, 31.87it/s]\n"
     ]
    },
    {
     "name": "stdout",
     "output_type": "stream",
     "text": [
      "Epoch 36/1000 - Train loss: 245.84058685 - Val loss: 244.76080322\n",
      "INFO: Val_Loss improved (247.70144081 --> 244.76080322). Saving model ...\n"
     ]
    },
    {
     "name": "stderr",
     "output_type": "stream",
     "text": [
      "100%|██████████| 30/30 [00:05<00:00,  5.88it/s]\n",
      "100%|██████████| 8/8 [00:00<00:00, 29.57it/s]\n"
     ]
    },
    {
     "name": "stdout",
     "output_type": "stream",
     "text": [
      "Epoch 37/1000 - Train loss: 242.37921855 - Val loss: 242.15181923\n",
      "INFO: Val_Loss improved (244.76080322 --> 242.15181923). Saving model ...\n"
     ]
    },
    {
     "name": "stderr",
     "output_type": "stream",
     "text": [
      "100%|██████████| 30/30 [00:05<00:00,  5.90it/s]\n",
      "100%|██████████| 8/8 [00:00<00:00, 32.76it/s]\n"
     ]
    },
    {
     "name": "stdout",
     "output_type": "stream",
     "text": [
      "Epoch 38/1000 - Train loss: 240.86630096 - Val loss: 238.82681084\n",
      "INFO: Val_Loss improved (242.15181923 --> 238.82681084). Saving model ...\n"
     ]
    },
    {
     "name": "stderr",
     "output_type": "stream",
     "text": [
      "100%|██████████| 30/30 [00:05<00:00,  5.79it/s]\n",
      "100%|██████████| 8/8 [00:00<00:00, 31.70it/s]\n"
     ]
    },
    {
     "name": "stdout",
     "output_type": "stream",
     "text": [
      "Epoch 39/1000 - Train loss: 237.55419871 - Val loss: 235.35786819\n",
      "INFO: Val_Loss improved (238.82681084 --> 235.35786819). Saving model ...\n"
     ]
    },
    {
     "name": "stderr",
     "output_type": "stream",
     "text": [
      "100%|██████████| 30/30 [00:05<00:00,  5.92it/s]\n",
      "100%|██████████| 8/8 [00:00<00:00, 29.88it/s]\n"
     ]
    },
    {
     "name": "stdout",
     "output_type": "stream",
     "text": [
      "Epoch 40/1000 - Train loss: 235.43022817 - Val loss: 233.82107925\n",
      "INFO: Val_Loss improved (235.35786819 --> 233.82107925). Saving model ...\n"
     ]
    },
    {
     "name": "stderr",
     "output_type": "stream",
     "text": [
      "100%|██████████| 30/30 [00:05<00:00,  5.95it/s]\n",
      "100%|██████████| 8/8 [00:00<00:00, 19.08it/s]\n"
     ]
    },
    {
     "name": "stdout",
     "output_type": "stream",
     "text": [
      "Epoch 41/1000 - Train loss: 231.79271291 - Val loss: 229.93412018\n",
      "INFO: Val_Loss improved (233.82107925 --> 229.93412018). Saving model ...\n"
     ]
    },
    {
     "name": "stderr",
     "output_type": "stream",
     "text": [
      "100%|██████████| 30/30 [00:05<00:00,  5.97it/s]\n",
      "100%|██████████| 8/8 [00:00<00:00, 32.32it/s]\n"
     ]
    },
    {
     "name": "stdout",
     "output_type": "stream",
     "text": [
      "Epoch 42/1000 - Train loss: 228.58647766 - Val loss: 227.22703171\n",
      "INFO: Val_Loss improved (229.93412018 --> 227.22703171). Saving model ...\n"
     ]
    },
    {
     "name": "stderr",
     "output_type": "stream",
     "text": [
      "100%|██████████| 30/30 [00:05<00:00,  5.74it/s]\n",
      "100%|██████████| 8/8 [00:00<00:00, 32.55it/s]\n"
     ]
    },
    {
     "name": "stdout",
     "output_type": "stream",
     "text": [
      "Epoch 43/1000 - Train loss: 226.49010010 - Val loss: 223.91348839\n",
      "INFO: Val_Loss improved (227.22703171 --> 223.91348839). Saving model ...\n"
     ]
    },
    {
     "name": "stderr",
     "output_type": "stream",
     "text": [
      "100%|██████████| 30/30 [00:05<00:00,  5.85it/s]\n",
      "100%|██████████| 8/8 [00:00<00:00, 32.50it/s]\n"
     ]
    },
    {
     "name": "stdout",
     "output_type": "stream",
     "text": [
      "Epoch 44/1000 - Train loss: 222.12014669 - Val loss: 221.21554756\n",
      "INFO: Val_Loss improved (223.91348839 --> 221.21554756). Saving model ...\n"
     ]
    },
    {
     "name": "stderr",
     "output_type": "stream",
     "text": [
      "100%|██████████| 30/30 [00:05<00:00,  5.83it/s]\n",
      "100%|██████████| 8/8 [00:00<00:00, 31.97it/s]\n"
     ]
    },
    {
     "name": "stdout",
     "output_type": "stream",
     "text": [
      "Epoch 45/1000 - Train loss: 219.28648834 - Val loss: 217.59727097\n",
      "INFO: Val_Loss improved (221.21554756 --> 217.59727097). Saving model ...\n"
     ]
    },
    {
     "name": "stderr",
     "output_type": "stream",
     "text": [
      "100%|██████████| 30/30 [00:04<00:00,  6.01it/s]\n",
      "100%|██████████| 8/8 [00:00<00:00, 31.21it/s]\n"
     ]
    },
    {
     "name": "stdout",
     "output_type": "stream",
     "text": [
      "Epoch 46/1000 - Train loss: 215.61562602 - Val loss: 214.50060654\n",
      "INFO: Val_Loss improved (217.59727097 --> 214.50060654). Saving model ...\n"
     ]
    },
    {
     "name": "stderr",
     "output_type": "stream",
     "text": [
      "100%|██████████| 30/30 [00:05<00:00,  5.86it/s]\n",
      "100%|██████████| 8/8 [00:00<00:00, 32.64it/s]\n"
     ]
    },
    {
     "name": "stdout",
     "output_type": "stream",
     "text": [
      "Epoch 47/1000 - Train loss: 212.56311747 - Val loss: 211.56612587\n",
      "INFO: Val_Loss improved (214.50060654 --> 211.56612587). Saving model ...\n"
     ]
    },
    {
     "name": "stderr",
     "output_type": "stream",
     "text": [
      "100%|██████████| 30/30 [00:04<00:00,  6.00it/s]\n",
      "100%|██████████| 8/8 [00:00<00:00, 19.20it/s]\n"
     ]
    },
    {
     "name": "stdout",
     "output_type": "stream",
     "text": [
      "Epoch 48/1000 - Train loss: 209.12319234 - Val loss: 208.63616562\n",
      "INFO: Val_Loss improved (211.56612587 --> 208.63616562). Saving model ...\n"
     ]
    },
    {
     "name": "stderr",
     "output_type": "stream",
     "text": [
      "100%|██████████| 30/30 [00:05<00:00,  5.97it/s]\n",
      "100%|██████████| 8/8 [00:00<00:00, 32.08it/s]\n"
     ]
    },
    {
     "name": "stdout",
     "output_type": "stream",
     "text": [
      "Epoch 49/1000 - Train loss: 205.59744670 - Val loss: 204.91158485\n",
      "INFO: Val_Loss improved (208.63616562 --> 204.91158485). Saving model ...\n"
     ]
    },
    {
     "name": "stderr",
     "output_type": "stream",
     "text": [
      "100%|██████████| 30/30 [00:05<00:00,  5.70it/s]\n",
      "100%|██████████| 8/8 [00:00<00:00, 32.22it/s]\n"
     ]
    },
    {
     "name": "stdout",
     "output_type": "stream",
     "text": [
      "Epoch 50/1000 - Train loss: 203.56117910 - Val loss: 201.36930084\n",
      "INFO: Val_Loss improved (204.91158485 --> 201.36930084). Saving model ...\n"
     ]
    },
    {
     "name": "stderr",
     "output_type": "stream",
     "text": [
      "100%|██████████| 30/30 [00:05<00:00,  5.89it/s]\n",
      "100%|██████████| 8/8 [00:00<00:00, 30.75it/s]\n"
     ]
    },
    {
     "name": "stdout",
     "output_type": "stream",
     "text": [
      "Epoch 51/1000 - Train loss: 200.57910817 - Val loss: 198.76955795\n",
      "INFO: Val_Loss improved (201.36930084 --> 198.76955795). Saving model ...\n"
     ]
    },
    {
     "name": "stderr",
     "output_type": "stream",
     "text": [
      "100%|██████████| 30/30 [00:05<00:00,  5.79it/s]\n",
      "100%|██████████| 8/8 [00:00<00:00, 20.61it/s]\n"
     ]
    },
    {
     "name": "stdout",
     "output_type": "stream",
     "text": [
      "Epoch 52/1000 - Train loss: 196.60879924 - Val loss: 194.91108131\n",
      "INFO: Val_Loss improved (198.76955795 --> 194.91108131). Saving model ...\n"
     ]
    },
    {
     "name": "stderr",
     "output_type": "stream",
     "text": [
      "100%|██████████| 30/30 [00:05<00:00,  5.93it/s]\n",
      "100%|██████████| 8/8 [00:00<00:00, 31.82it/s]\n"
     ]
    },
    {
     "name": "stdout",
     "output_type": "stream",
     "text": [
      "Epoch 53/1000 - Train loss: 193.08856710 - Val loss: 191.35575485\n",
      "INFO: Val_Loss improved (194.91108131 --> 191.35575485). Saving model ...\n"
     ]
    },
    {
     "name": "stderr",
     "output_type": "stream",
     "text": [
      "100%|██████████| 30/30 [00:05<00:00,  5.90it/s]\n",
      "100%|██████████| 8/8 [00:00<00:00, 32.48it/s]\n"
     ]
    },
    {
     "name": "stdout",
     "output_type": "stream",
     "text": [
      "Epoch 54/1000 - Train loss: 188.76516724 - Val loss: 188.03713417\n",
      "INFO: Val_Loss improved (191.35575485 --> 188.03713417). Saving model ...\n"
     ]
    },
    {
     "name": "stderr",
     "output_type": "stream",
     "text": [
      "100%|██████████| 30/30 [00:05<00:00,  5.80it/s]\n",
      "100%|██████████| 8/8 [00:00<00:00, 31.41it/s]\n"
     ]
    },
    {
     "name": "stdout",
     "output_type": "stream",
     "text": [
      "Epoch 55/1000 - Train loss: 186.28011627 - Val loss: 183.74325943\n",
      "INFO: Val_Loss improved (188.03713417 --> 183.74325943). Saving model ...\n"
     ]
    },
    {
     "name": "stderr",
     "output_type": "stream",
     "text": [
      "100%|██████████| 30/30 [00:04<00:00,  6.01it/s]\n",
      "100%|██████████| 8/8 [00:00<00:00, 31.90it/s]\n"
     ]
    },
    {
     "name": "stdout",
     "output_type": "stream",
     "text": [
      "Epoch 56/1000 - Train loss: 182.78583171 - Val loss: 180.18282700\n",
      "INFO: Val_Loss improved (183.74325943 --> 180.18282700). Saving model ...\n"
     ]
    },
    {
     "name": "stderr",
     "output_type": "stream",
     "text": [
      "100%|██████████| 30/30 [00:05<00:00,  5.92it/s]\n",
      "100%|██████████| 8/8 [00:00<00:00, 32.21it/s]\n"
     ]
    },
    {
     "name": "stdout",
     "output_type": "stream",
     "text": [
      "Epoch 57/1000 - Train loss: 179.84035594 - Val loss: 176.88437080\n",
      "INFO: Val_Loss improved (180.18282700 --> 176.88437080). Saving model ...\n"
     ]
    },
    {
     "name": "stderr",
     "output_type": "stream",
     "text": [
      "100%|██████████| 30/30 [00:05<00:00,  5.62it/s]\n",
      "100%|██████████| 8/8 [00:00<00:00, 31.78it/s]\n"
     ]
    },
    {
     "name": "stdout",
     "output_type": "stream",
     "text": [
      "Epoch 58/1000 - Train loss: 176.30698497 - Val loss: 174.24897385\n",
      "INFO: Val_Loss improved (176.88437080 --> 174.24897385). Saving model ...\n"
     ]
    },
    {
     "name": "stderr",
     "output_type": "stream",
     "text": [
      "100%|██████████| 30/30 [00:05<00:00,  5.82it/s]\n",
      "100%|██████████| 8/8 [00:00<00:00, 32.08it/s]\n"
     ]
    },
    {
     "name": "stdout",
     "output_type": "stream",
     "text": [
      "Epoch 59/1000 - Train loss: 172.26444906 - Val loss: 170.75498009\n",
      "INFO: Val_Loss improved (174.24897385 --> 170.75498009). Saving model ...\n"
     ]
    },
    {
     "name": "stderr",
     "output_type": "stream",
     "text": [
      "100%|██████████| 30/30 [00:05<00:00,  5.97it/s]\n",
      "100%|██████████| 8/8 [00:00<00:00, 32.60it/s]\n"
     ]
    },
    {
     "name": "stdout",
     "output_type": "stream",
     "text": [
      "Epoch 60/1000 - Train loss: 167.63980713 - Val loss: 166.24442101\n",
      "INFO: Val_Loss improved (170.75498009 --> 166.24442101). Saving model ...\n"
     ]
    },
    {
     "name": "stderr",
     "output_type": "stream",
     "text": [
      "100%|██████████| 30/30 [00:05<00:00,  5.79it/s]\n",
      "100%|██████████| 8/8 [00:00<00:00, 27.99it/s]\n"
     ]
    },
    {
     "name": "stdout",
     "output_type": "stream",
     "text": [
      "Epoch 61/1000 - Train loss: 165.39171600 - Val loss: 163.46861458\n",
      "INFO: Val_Loss improved (166.24442101 --> 163.46861458). Saving model ...\n"
     ]
    },
    {
     "name": "stderr",
     "output_type": "stream",
     "text": [
      "100%|██████████| 30/30 [00:05<00:00,  5.92it/s]\n",
      "100%|██████████| 8/8 [00:00<00:00, 32.33it/s]\n"
     ]
    },
    {
     "name": "stdout",
     "output_type": "stream",
     "text": [
      "Epoch 62/1000 - Train loss: 162.52741241 - Val loss: 158.89403725\n",
      "INFO: Val_Loss improved (163.46861458 --> 158.89403725). Saving model ...\n"
     ]
    },
    {
     "name": "stderr",
     "output_type": "stream",
     "text": [
      "100%|██████████| 30/30 [00:04<00:00,  6.03it/s]\n",
      "100%|██████████| 8/8 [00:00<00:00, 18.91it/s]\n"
     ]
    },
    {
     "name": "stdout",
     "output_type": "stream",
     "text": [
      "Epoch 63/1000 - Train loss: 157.34274902 - Val loss: 155.85675430\n",
      "INFO: Val_Loss improved (158.89403725 --> 155.85675430). Saving model ...\n"
     ]
    },
    {
     "name": "stderr",
     "output_type": "stream",
     "text": [
      "100%|██████████| 30/30 [00:05<00:00,  5.99it/s]\n",
      "100%|██████████| 8/8 [00:00<00:00, 32.24it/s]\n"
     ]
    },
    {
     "name": "stdout",
     "output_type": "stream",
     "text": [
      "Epoch 64/1000 - Train loss: 154.14562124 - Val loss: 152.42170906\n",
      "INFO: Val_Loss improved (155.85675430 --> 152.42170906). Saving model ...\n"
     ]
    },
    {
     "name": "stderr",
     "output_type": "stream",
     "text": [
      "100%|██████████| 30/30 [00:05<00:00,  5.82it/s]\n",
      "100%|██████████| 8/8 [00:00<00:00, 32.25it/s]\n"
     ]
    },
    {
     "name": "stdout",
     "output_type": "stream",
     "text": [
      "Epoch 65/1000 - Train loss: 150.27391154 - Val loss: 148.58396339\n",
      "INFO: Val_Loss improved (152.42170906 --> 148.58396339). Saving model ...\n"
     ]
    },
    {
     "name": "stderr",
     "output_type": "stream",
     "text": [
      "100%|██████████| 30/30 [00:05<00:00,  5.83it/s]\n",
      "100%|██████████| 8/8 [00:00<00:00, 32.36it/s]\n"
     ]
    },
    {
     "name": "stdout",
     "output_type": "stream",
     "text": [
      "Epoch 66/1000 - Train loss: 146.54411926 - Val loss: 144.47958183\n",
      "INFO: Val_Loss improved (148.58396339 --> 144.47958183). Saving model ...\n"
     ]
    },
    {
     "name": "stderr",
     "output_type": "stream",
     "text": [
      "100%|██████████| 30/30 [00:04<00:00,  6.01it/s]\n",
      "100%|██████████| 8/8 [00:00<00:00, 32.16it/s]\n"
     ]
    },
    {
     "name": "stdout",
     "output_type": "stream",
     "text": [
      "Epoch 67/1000 - Train loss: 145.36394450 - Val loss: 140.07986069\n",
      "INFO: Val_Loss improved (144.47958183 --> 140.07986069). Saving model ...\n"
     ]
    },
    {
     "name": "stderr",
     "output_type": "stream",
     "text": [
      "100%|██████████| 30/30 [00:05<00:00,  5.84it/s]\n",
      "100%|██████████| 8/8 [00:00<00:00, 30.80it/s]\n"
     ]
    },
    {
     "name": "stdout",
     "output_type": "stream",
     "text": [
      "Epoch 68/1000 - Train loss: 140.47779719 - Val loss: 137.96055412\n",
      "INFO: Val_Loss improved (140.07986069 --> 137.96055412). Saving model ...\n"
     ]
    },
    {
     "name": "stderr",
     "output_type": "stream",
     "text": [
      "100%|██████████| 30/30 [00:05<00:00,  5.76it/s]\n",
      "100%|██████████| 8/8 [00:00<00:00, 29.35it/s]\n"
     ]
    },
    {
     "name": "stdout",
     "output_type": "stream",
     "text": [
      "Epoch 69/1000 - Train loss: 135.90234375 - Val loss: 132.62303543\n",
      "INFO: Val_Loss improved (137.96055412 --> 132.62303543). Saving model ...\n"
     ]
    },
    {
     "name": "stderr",
     "output_type": "stream",
     "text": [
      "100%|██████████| 30/30 [00:05<00:00,  5.77it/s]\n",
      "100%|██████████| 8/8 [00:00<00:00, 32.58it/s]\n"
     ]
    },
    {
     "name": "stdout",
     "output_type": "stream",
     "text": [
      "Epoch 70/1000 - Train loss: 131.86049220 - Val loss: 129.09889317\n",
      "INFO: Val_Loss improved (132.62303543 --> 129.09889317). Saving model ...\n"
     ]
    },
    {
     "name": "stderr",
     "output_type": "stream",
     "text": [
      "100%|██████████| 30/30 [00:05<00:00,  5.75it/s]\n",
      "100%|██████████| 8/8 [00:00<00:00, 32.10it/s]\n"
     ]
    },
    {
     "name": "stdout",
     "output_type": "stream",
     "text": [
      "Epoch 71/1000 - Train loss: 129.10680008 - Val loss: 125.08409023\n",
      "INFO: Val_Loss improved (129.09889317 --> 125.08409023). Saving model ...\n"
     ]
    },
    {
     "name": "stderr",
     "output_type": "stream",
     "text": [
      "100%|██████████| 30/30 [00:05<00:00,  5.86it/s]\n",
      "100%|██████████| 8/8 [00:00<00:00, 32.49it/s]\n"
     ]
    },
    {
     "name": "stdout",
     "output_type": "stream",
     "text": [
      "Epoch 72/1000 - Train loss: 125.55691833 - Val loss: 122.97891617\n",
      "INFO: Val_Loss improved (125.08409023 --> 122.97891617). Saving model ...\n"
     ]
    },
    {
     "name": "stderr",
     "output_type": "stream",
     "text": [
      "100%|██████████| 30/30 [00:05<00:00,  5.77it/s]\n",
      "100%|██████████| 8/8 [00:00<00:00, 31.05it/s]\n"
     ]
    },
    {
     "name": "stdout",
     "output_type": "stream",
     "text": [
      "Epoch 73/1000 - Train loss: 121.94600856 - Val loss: 119.56179237\n",
      "INFO: Val_Loss improved (122.97891617 --> 119.56179237). Saving model ...\n"
     ]
    },
    {
     "name": "stderr",
     "output_type": "stream",
     "text": [
      "100%|██████████| 30/30 [00:05<00:00,  5.88it/s]\n",
      "100%|██████████| 8/8 [00:00<00:00, 32.17it/s]\n"
     ]
    },
    {
     "name": "stdout",
     "output_type": "stream",
     "text": [
      "Epoch 74/1000 - Train loss: 118.38614502 - Val loss: 116.64122391\n",
      "INFO: Val_Loss improved (119.56179237 --> 116.64122391). Saving model ...\n"
     ]
    },
    {
     "name": "stderr",
     "output_type": "stream",
     "text": [
      "100%|██████████| 30/30 [00:05<00:00,  5.98it/s]\n",
      "100%|██████████| 8/8 [00:00<00:00, 32.48it/s]\n"
     ]
    },
    {
     "name": "stdout",
     "output_type": "stream",
     "text": [
      "Epoch 75/1000 - Train loss: 115.36249924 - Val loss: 112.06975842\n",
      "INFO: Val_Loss improved (116.64122391 --> 112.06975842). Saving model ...\n"
     ]
    },
    {
     "name": "stderr",
     "output_type": "stream",
     "text": [
      "100%|██████████| 30/30 [00:05<00:00,  5.76it/s]\n",
      "100%|██████████| 8/8 [00:00<00:00, 32.08it/s]\n"
     ]
    },
    {
     "name": "stdout",
     "output_type": "stream",
     "text": [
      "Epoch 76/1000 - Train loss: 112.20607630 - Val loss: 110.26883507\n",
      "INFO: Val_Loss improved (112.06975842 --> 110.26883507). Saving model ...\n"
     ]
    },
    {
     "name": "stderr",
     "output_type": "stream",
     "text": [
      "100%|██████████| 30/30 [00:05<00:00,  5.82it/s]\n",
      "100%|██████████| 8/8 [00:00<00:00, 31.24it/s]\n"
     ]
    },
    {
     "name": "stdout",
     "output_type": "stream",
     "text": [
      "Epoch 77/1000 - Train loss: 107.60957692 - Val loss: 105.54768753\n",
      "INFO: Val_Loss improved (110.26883507 --> 105.54768753). Saving model ...\n"
     ]
    },
    {
     "name": "stderr",
     "output_type": "stream",
     "text": [
      "100%|██████████| 30/30 [00:05<00:00,  5.96it/s]\n",
      "100%|██████████| 8/8 [00:00<00:00, 19.54it/s]\n"
     ]
    },
    {
     "name": "stdout",
     "output_type": "stream",
     "text": [
      "Epoch 78/1000 - Train loss: 105.00187556 - Val loss: 101.88102245\n",
      "INFO: Val_Loss improved (105.54768753 --> 101.88102245). Saving model ...\n"
     ]
    },
    {
     "name": "stderr",
     "output_type": "stream",
     "text": [
      "100%|██████████| 30/30 [00:05<00:00,  5.95it/s]\n",
      "100%|██████████| 8/8 [00:00<00:00, 32.52it/s]\n"
     ]
    },
    {
     "name": "stdout",
     "output_type": "stream",
     "text": [
      "Epoch 79/1000 - Train loss: 101.86699041 - Val loss: 98.19607353\n",
      "INFO: Val_Loss improved (101.88102245 --> 98.19607353). Saving model ...\n"
     ]
    },
    {
     "name": "stderr",
     "output_type": "stream",
     "text": [
      "100%|██████████| 30/30 [00:05<00:00,  5.72it/s]\n",
      "100%|██████████| 8/8 [00:00<00:00, 32.50it/s]\n"
     ]
    },
    {
     "name": "stdout",
     "output_type": "stream",
     "text": [
      "Epoch 80/1000 - Train loss: 99.38721135 - Val loss: 95.92329311\n",
      "INFO: Val_Loss improved (98.19607353 --> 95.92329311). Saving model ...\n"
     ]
    },
    {
     "name": "stderr",
     "output_type": "stream",
     "text": [
      "100%|██████████| 30/30 [00:05<00:00,  5.90it/s]\n",
      "100%|██████████| 8/8 [00:00<00:00, 31.99it/s]\n"
     ]
    },
    {
     "name": "stdout",
     "output_type": "stream",
     "text": [
      "Epoch 81/1000 - Train loss: 94.53010534 - Val loss: 92.38360977\n",
      "INFO: Val_Loss improved (95.92329311 --> 92.38360977). Saving model ...\n"
     ]
    },
    {
     "name": "stderr",
     "output_type": "stream",
     "text": [
      "100%|██████████| 30/30 [00:05<00:00,  5.73it/s]\n",
      "100%|██████████| 8/8 [00:00<00:00, 17.67it/s]\n"
     ]
    },
    {
     "name": "stdout",
     "output_type": "stream",
     "text": [
      "Epoch 82/1000 - Train loss: 90.46144969 - Val loss: 87.62308407\n",
      "INFO: Val_Loss improved (92.38360977 --> 87.62308407). Saving model ...\n"
     ]
    },
    {
     "name": "stderr",
     "output_type": "stream",
     "text": [
      "100%|██████████| 30/30 [00:05<00:00,  5.98it/s]\n",
      "100%|██████████| 8/8 [00:00<00:00, 31.96it/s]\n"
     ]
    },
    {
     "name": "stdout",
     "output_type": "stream",
     "text": [
      "Epoch 83/1000 - Train loss: 87.49473089 - Val loss: 83.76825714\n",
      "INFO: Val_Loss improved (87.62308407 --> 83.76825714). Saving model ...\n"
     ]
    },
    {
     "name": "stderr",
     "output_type": "stream",
     "text": [
      "100%|██████████| 30/30 [00:05<00:00,  5.84it/s]\n",
      "100%|██████████| 8/8 [00:00<00:00, 32.54it/s]\n"
     ]
    },
    {
     "name": "stdout",
     "output_type": "stream",
     "text": [
      "Epoch 84/1000 - Train loss: 85.14325994 - Val loss: 80.24900532\n",
      "INFO: Val_Loss improved (83.76825714 --> 80.24900532). Saving model ...\n"
     ]
    },
    {
     "name": "stderr",
     "output_type": "stream",
     "text": [
      "100%|██████████| 30/30 [00:05<00:00,  5.67it/s]\n",
      "100%|██████████| 8/8 [00:00<00:00, 32.28it/s]\n"
     ]
    },
    {
     "name": "stdout",
     "output_type": "stream",
     "text": [
      "Epoch 85/1000 - Train loss: 82.10529404 - Val loss: 77.43313789\n",
      "INFO: Val_Loss improved (80.24900532 --> 77.43313789). Saving model ...\n"
     ]
    },
    {
     "name": "stderr",
     "output_type": "stream",
     "text": [
      "100%|██████████| 30/30 [00:05<00:00,  5.96it/s]\n",
      "100%|██████████| 8/8 [00:00<00:00, 32.29it/s]\n"
     ]
    },
    {
     "name": "stdout",
     "output_type": "stream",
     "text": [
      "Epoch 86/1000 - Train loss: 77.68520101 - Val loss: 72.15098572\n",
      "INFO: Val_Loss improved (77.43313789 --> 72.15098572). Saving model ...\n"
     ]
    },
    {
     "name": "stderr",
     "output_type": "stream",
     "text": [
      "100%|██████████| 30/30 [00:05<00:00,  5.99it/s]\n",
      "100%|██████████| 8/8 [00:00<00:00, 32.37it/s]\n"
     ]
    },
    {
     "name": "stdout",
     "output_type": "stream",
     "text": [
      "Epoch 87/1000 - Train loss: 75.38254573 - Val loss: 68.57639933\n",
      "INFO: Val_Loss improved (72.15098572 --> 68.57639933). Saving model ...\n"
     ]
    },
    {
     "name": "stderr",
     "output_type": "stream",
     "text": [
      "100%|██████████| 30/30 [00:05<00:00,  5.79it/s]\n",
      "100%|██████████| 8/8 [00:00<00:00, 30.26it/s]\n"
     ]
    },
    {
     "name": "stdout",
     "output_type": "stream",
     "text": [
      "Epoch 88/1000 - Train loss: 71.95964864 - Val loss: 69.60506296\n",
      "INFO: Early stopping counter                     1 of 20                         [Best Val Loss: 68.57639933,                             Val Loss: 69.60506296]\n"
     ]
    },
    {
     "name": "stderr",
     "output_type": "stream",
     "text": [
      "100%|██████████| 30/30 [00:04<00:00,  6.09it/s]\n",
      "100%|██████████| 8/8 [00:00<00:00, 18.14it/s]\n"
     ]
    },
    {
     "name": "stdout",
     "output_type": "stream",
     "text": [
      "Epoch 89/1000 - Train loss: 69.96128527 - Val loss: 65.90269756\n",
      "INFO: Val_Loss improved (68.57639933 --> 65.90269756). Saving model ...\n"
     ]
    },
    {
     "name": "stderr",
     "output_type": "stream",
     "text": [
      "100%|██████████| 30/30 [00:05<00:00,  5.85it/s]\n",
      "100%|██████████| 8/8 [00:00<00:00, 32.55it/s]\n"
     ]
    },
    {
     "name": "stdout",
     "output_type": "stream",
     "text": [
      "Epoch 90/1000 - Train loss: 65.82599093 - Val loss: 60.41327572\n",
      "INFO: Val_Loss improved (65.90269756 --> 60.41327572). Saving model ...\n"
     ]
    },
    {
     "name": "stderr",
     "output_type": "stream",
     "text": [
      "100%|██████████| 30/30 [00:05<00:00,  5.80it/s]\n",
      "100%|██████████| 8/8 [00:00<00:00, 32.59it/s]\n"
     ]
    },
    {
     "name": "stdout",
     "output_type": "stream",
     "text": [
      "Epoch 91/1000 - Train loss: 62.15390053 - Val loss: 60.32777882\n",
      "INFO: Val_Loss improved (60.41327572 --> 60.32777882). Saving model ...\n"
     ]
    },
    {
     "name": "stderr",
     "output_type": "stream",
     "text": [
      "100%|██████████| 30/30 [00:05<00:00,  5.81it/s]\n",
      "100%|██████████| 8/8 [00:00<00:00, 31.91it/s]\n"
     ]
    },
    {
     "name": "stdout",
     "output_type": "stream",
     "text": [
      "Epoch 92/1000 - Train loss: 59.52071597 - Val loss: 56.33614874\n",
      "INFO: Val_Loss improved (60.32777882 --> 56.33614874). Saving model ...\n"
     ]
    },
    {
     "name": "stderr",
     "output_type": "stream",
     "text": [
      "100%|██████████| 30/30 [00:05<00:00,  5.93it/s]\n",
      "100%|██████████| 8/8 [00:00<00:00, 30.01it/s]\n"
     ]
    },
    {
     "name": "stdout",
     "output_type": "stream",
     "text": [
      "Epoch 93/1000 - Train loss: 57.07577337 - Val loss: 49.44332170\n",
      "INFO: Val_Loss improved (56.33614874 --> 49.44332170). Saving model ...\n"
     ]
    },
    {
     "name": "stderr",
     "output_type": "stream",
     "text": [
      "100%|██████████| 30/30 [00:05<00:00,  5.88it/s]\n",
      "100%|██████████| 8/8 [00:00<00:00, 32.36it/s]\n"
     ]
    },
    {
     "name": "stdout",
     "output_type": "stream",
     "text": [
      "Epoch 94/1000 - Train loss: 53.88066483 - Val loss: 52.60208893\n",
      "INFO: Early stopping counter                     1 of 20                         [Best Val Loss: 49.44332170,                             Val Loss: 52.60208893]\n"
     ]
    },
    {
     "name": "stderr",
     "output_type": "stream",
     "text": [
      "100%|██████████| 30/30 [00:05<00:00,  5.76it/s]\n",
      "100%|██████████| 8/8 [00:00<00:00, 32.20it/s]\n"
     ]
    },
    {
     "name": "stdout",
     "output_type": "stream",
     "text": [
      "Epoch 95/1000 - Train loss: 51.65313517 - Val loss: 43.56783295\n",
      "INFO: Val_Loss improved (49.44332170 --> 43.56783295). Saving model ...\n"
     ]
    },
    {
     "name": "stderr",
     "output_type": "stream",
     "text": [
      "100%|██████████| 30/30 [00:04<00:00,  6.02it/s]\n",
      "100%|██████████| 8/8 [00:00<00:00, 19.80it/s]\n"
     ]
    },
    {
     "name": "stdout",
     "output_type": "stream",
     "text": [
      "Epoch 96/1000 - Train loss: 48.17310168 - Val loss: 50.46462440\n",
      "INFO: Early stopping counter                     1 of 20                         [Best Val Loss: 43.56783295,                             Val Loss: 50.46462440]\n"
     ]
    },
    {
     "name": "stderr",
     "output_type": "stream",
     "text": [
      "100%|██████████| 30/30 [00:04<00:00,  6.01it/s]\n",
      "100%|██████████| 8/8 [00:00<00:00, 32.54it/s]\n"
     ]
    },
    {
     "name": "stdout",
     "output_type": "stream",
     "text": [
      "Epoch 97/1000 - Train loss: 46.94108785 - Val loss: 43.21062946\n",
      "INFO: Val_Loss improved (43.56783295 --> 43.21062946). Saving model ...\n"
     ]
    },
    {
     "name": "stderr",
     "output_type": "stream",
     "text": [
      "100%|██████████| 30/30 [00:05<00:00,  5.89it/s]\n",
      "100%|██████████| 8/8 [00:00<00:00, 29.46it/s]\n"
     ]
    },
    {
     "name": "stdout",
     "output_type": "stream",
     "text": [
      "Epoch 98/1000 - Train loss: 43.68964272 - Val loss: 37.26890635\n",
      "INFO: Val_Loss improved (43.21062946 --> 37.26890635). Saving model ...\n"
     ]
    },
    {
     "name": "stderr",
     "output_type": "stream",
     "text": [
      "100%|██████████| 30/30 [00:04<00:00,  6.00it/s]\n",
      "100%|██████████| 8/8 [00:00<00:00, 22.91it/s]\n"
     ]
    },
    {
     "name": "stdout",
     "output_type": "stream",
     "text": [
      "Epoch 99/1000 - Train loss: 42.42243398 - Val loss: 36.43628573\n",
      "INFO: Val_Loss improved (37.26890635 --> 36.43628573). Saving model ...\n"
     ]
    },
    {
     "name": "stderr",
     "output_type": "stream",
     "text": [
      "100%|██████████| 30/30 [00:05<00:00,  5.97it/s]\n",
      "100%|██████████| 8/8 [00:00<00:00, 31.94it/s]\n"
     ]
    },
    {
     "name": "stdout",
     "output_type": "stream",
     "text": [
      "Epoch 100/1000 - Train loss: 39.00224253 - Val loss: 32.68550730\n",
      "INFO: Val_Loss improved (36.43628573 --> 32.68550730). Saving model ...\n"
     ]
    },
    {
     "name": "stderr",
     "output_type": "stream",
     "text": [
      "100%|██████████| 30/30 [00:05<00:00,  5.79it/s]\n",
      "100%|██████████| 8/8 [00:00<00:00, 32.18it/s]\n"
     ]
    },
    {
     "name": "stdout",
     "output_type": "stream",
     "text": [
      "Epoch 101/1000 - Train loss: 37.56638889 - Val loss: 39.47828817\n",
      "INFO: Early stopping counter                     1 of 20                         [Best Val Loss: 32.68550730,                             Val Loss: 39.47828817]\n"
     ]
    },
    {
     "name": "stderr",
     "output_type": "stream",
     "text": [
      "100%|██████████| 30/30 [00:05<00:00,  5.78it/s]\n",
      "100%|██████████| 8/8 [00:00<00:00, 30.49it/s]\n"
     ]
    },
    {
     "name": "stdout",
     "output_type": "stream",
     "text": [
      "Epoch 102/1000 - Train loss: 35.55153364 - Val loss: 27.67134261\n",
      "INFO: Val_Loss improved (32.68550730 --> 27.67134261). Saving model ...\n"
     ]
    },
    {
     "name": "stderr",
     "output_type": "stream",
     "text": [
      "100%|██████████| 30/30 [00:05<00:00,  5.89it/s]\n",
      "100%|██████████| 8/8 [00:00<00:00, 32.54it/s]\n"
     ]
    },
    {
     "name": "stdout",
     "output_type": "stream",
     "text": [
      "Epoch 103/1000 - Train loss: 33.12477868 - Val loss: 25.26964688\n",
      "INFO: Val_Loss improved (27.67134261 --> 25.26964688). Saving model ...\n"
     ]
    },
    {
     "name": "stderr",
     "output_type": "stream",
     "text": [
      "100%|██████████| 30/30 [00:05<00:00,  5.93it/s]\n",
      "100%|██████████| 8/8 [00:00<00:00, 31.92it/s]\n"
     ]
    },
    {
     "name": "stdout",
     "output_type": "stream",
     "text": [
      "Epoch 104/1000 - Train loss: 32.60506884 - Val loss: 26.32351637\n",
      "INFO: Early stopping counter                     1 of 20                         [Best Val Loss: 25.26964688,                             Val Loss: 26.32351637]\n"
     ]
    },
    {
     "name": "stderr",
     "output_type": "stream",
     "text": [
      "100%|██████████| 30/30 [00:05<00:00,  5.80it/s]\n",
      "100%|██████████| 8/8 [00:00<00:00, 31.31it/s]\n"
     ]
    },
    {
     "name": "stdout",
     "output_type": "stream",
     "text": [
      "Epoch 105/1000 - Train loss: 30.37842197 - Val loss: 26.56780839\n",
      "INFO: Early stopping counter                     2 of 20                         [Best Val Loss: 25.26964688,                             Val Loss: 26.56780839]\n"
     ]
    },
    {
     "name": "stderr",
     "output_type": "stream",
     "text": [
      "100%|██████████| 30/30 [00:05<00:00,  5.87it/s]\n",
      "100%|██████████| 8/8 [00:00<00:00, 31.16it/s]\n"
     ]
    },
    {
     "name": "stdout",
     "output_type": "stream",
     "text": [
      "Epoch 106/1000 - Train loss: 29.16577689 - Val loss: 22.31558633\n",
      "INFO: Val_Loss improved (25.26964688 --> 22.31558633). Saving model ...\n"
     ]
    },
    {
     "name": "stderr",
     "output_type": "stream",
     "text": [
      "100%|██████████| 30/30 [00:05<00:00,  5.96it/s]\n",
      "100%|██████████| 8/8 [00:00<00:00, 31.93it/s]\n"
     ]
    },
    {
     "name": "stdout",
     "output_type": "stream",
     "text": [
      "Epoch 107/1000 - Train loss: 28.06209666 - Val loss: 21.51533818\n",
      "INFO: Val_Loss improved (22.31558633 --> 21.51533818). Saving model ...\n"
     ]
    },
    {
     "name": "stderr",
     "output_type": "stream",
     "text": [
      "100%|██████████| 30/30 [00:05<00:00,  5.92it/s]\n",
      "100%|██████████| 8/8 [00:00<00:00, 31.96it/s]\n"
     ]
    },
    {
     "name": "stdout",
     "output_type": "stream",
     "text": [
      "Epoch 108/1000 - Train loss: 26.33553486 - Val loss: 18.55366063\n",
      "INFO: Val_Loss improved (21.51533818 --> 18.55366063). Saving model ...\n"
     ]
    },
    {
     "name": "stderr",
     "output_type": "stream",
     "text": [
      "100%|██████████| 30/30 [00:05<00:00,  5.99it/s]\n",
      "100%|██████████| 8/8 [00:00<00:00, 20.13it/s]\n"
     ]
    },
    {
     "name": "stdout",
     "output_type": "stream",
     "text": [
      "Epoch 109/1000 - Train loss: 24.96661803 - Val loss: 21.73521042\n",
      "INFO: Early stopping counter                     1 of 20                         [Best Val Loss: 18.55366063,                             Val Loss: 21.73521042]\n"
     ]
    },
    {
     "name": "stderr",
     "output_type": "stream",
     "text": [
      "100%|██████████| 30/30 [00:05<00:00,  5.93it/s]\n",
      "100%|██████████| 8/8 [00:00<00:00, 31.96it/s]\n"
     ]
    },
    {
     "name": "stdout",
     "output_type": "stream",
     "text": [
      "Epoch 110/1000 - Train loss: 24.77166341 - Val loss: 17.40944767\n",
      "INFO: Val_Loss improved (18.55366063 --> 17.40944767). Saving model ...\n"
     ]
    },
    {
     "name": "stderr",
     "output_type": "stream",
     "text": [
      "100%|██████████| 30/30 [00:05<00:00,  5.83it/s]\n",
      "100%|██████████| 8/8 [00:00<00:00, 32.06it/s]\n"
     ]
    },
    {
     "name": "stdout",
     "output_type": "stream",
     "text": [
      "Epoch 111/1000 - Train loss: 23.02669595 - Val loss: 17.49527371\n",
      "INFO: Early stopping counter                     1 of 20                         [Best Val Loss: 17.40944767,                             Val Loss: 17.49527371]\n"
     ]
    },
    {
     "name": "stderr",
     "output_type": "stream",
     "text": [
      "100%|██████████| 30/30 [00:05<00:00,  5.93it/s]\n",
      "100%|██████████| 8/8 [00:00<00:00, 20.37it/s]\n"
     ]
    },
    {
     "name": "stdout",
     "output_type": "stream",
     "text": [
      "Epoch 112/1000 - Train loss: 22.66434469 - Val loss: 15.68894887\n",
      "INFO: Val_Loss improved (17.40944767 --> 15.68894887). Saving model ...\n"
     ]
    },
    {
     "name": "stderr",
     "output_type": "stream",
     "text": [
      "100%|██████████| 30/30 [00:04<00:00,  6.04it/s]\n",
      "100%|██████████| 8/8 [00:00<00:00, 31.72it/s]\n"
     ]
    },
    {
     "name": "stdout",
     "output_type": "stream",
     "text": [
      "Epoch 113/1000 - Train loss: 22.63106330 - Val loss: 15.69560063\n",
      "INFO: Early stopping counter                     1 of 20                         [Best Val Loss: 15.68894887,                             Val Loss: 15.69560063]\n"
     ]
    },
    {
     "name": "stderr",
     "output_type": "stream",
     "text": [
      "100%|██████████| 30/30 [00:05<00:00,  5.78it/s]\n",
      "100%|██████████| 8/8 [00:00<00:00, 32.51it/s]\n"
     ]
    },
    {
     "name": "stdout",
     "output_type": "stream",
     "text": [
      "Epoch 114/1000 - Train loss: 21.76268838 - Val loss: 16.40685701\n",
      "INFO: Early stopping counter                     2 of 20                         [Best Val Loss: 15.68894887,                             Val Loss: 16.40685701]\n"
     ]
    },
    {
     "name": "stderr",
     "output_type": "stream",
     "text": [
      "100%|██████████| 30/30 [00:05<00:00,  6.00it/s]\n",
      "100%|██████████| 8/8 [00:00<00:00, 19.75it/s]\n"
     ]
    },
    {
     "name": "stdout",
     "output_type": "stream",
     "text": [
      "Epoch 115/1000 - Train loss: 19.75447788 - Val loss: 14.02927089\n",
      "INFO: Val_Loss improved (15.68894887 --> 14.02927089). Saving model ...\n"
     ]
    },
    {
     "name": "stderr",
     "output_type": "stream",
     "text": [
      "100%|██████████| 30/30 [00:05<00:00,  5.88it/s]\n",
      "100%|██████████| 8/8 [00:00<00:00, 32.16it/s]\n"
     ]
    },
    {
     "name": "stdout",
     "output_type": "stream",
     "text": [
      "Epoch 116/1000 - Train loss: 20.10812442 - Val loss: 15.20696378\n",
      "INFO: Early stopping counter                     1 of 20                         [Best Val Loss: 14.02927089,                             Val Loss: 15.20696378]\n"
     ]
    },
    {
     "name": "stderr",
     "output_type": "stream",
     "text": [
      "100%|██████████| 30/30 [00:05<00:00,  5.78it/s]\n",
      "100%|██████████| 8/8 [00:00<00:00, 30.56it/s]\n"
     ]
    },
    {
     "name": "stdout",
     "output_type": "stream",
     "text": [
      "Epoch 117/1000 - Train loss: 19.65195293 - Val loss: 16.31894505\n",
      "INFO: Early stopping counter                     2 of 20                         [Best Val Loss: 14.02927089,                             Val Loss: 16.31894505]\n"
     ]
    },
    {
     "name": "stderr",
     "output_type": "stream",
     "text": [
      "100%|██████████| 30/30 [00:05<00:00,  5.90it/s]\n",
      "100%|██████████| 8/8 [00:00<00:00, 30.68it/s]\n"
     ]
    },
    {
     "name": "stdout",
     "output_type": "stream",
     "text": [
      "Epoch 118/1000 - Train loss: 19.63163563 - Val loss: 12.74156284\n",
      "INFO: Val_Loss improved (14.02927089 --> 12.74156284). Saving model ...\n"
     ]
    },
    {
     "name": "stderr",
     "output_type": "stream",
     "text": [
      "100%|██████████| 30/30 [00:05<00:00,  5.98it/s]\n",
      "100%|██████████| 8/8 [00:00<00:00, 30.85it/s]\n"
     ]
    },
    {
     "name": "stdout",
     "output_type": "stream",
     "text": [
      "Epoch 119/1000 - Train loss: 20.44105886 - Val loss: 12.63579750\n",
      "INFO: Val_Loss improved (12.74156284 --> 12.63579750). Saving model ...\n"
     ]
    },
    {
     "name": "stderr",
     "output_type": "stream",
     "text": [
      "100%|██████████| 30/30 [00:05<00:00,  5.78it/s]\n",
      "100%|██████████| 8/8 [00:00<00:00, 32.09it/s]\n"
     ]
    },
    {
     "name": "stdout",
     "output_type": "stream",
     "text": [
      "Epoch 120/1000 - Train loss: 19.02729858 - Val loss: 11.77134919\n",
      "INFO: Val_Loss improved (12.63579750 --> 11.77134919). Saving model ...\n"
     ]
    },
    {
     "name": "stderr",
     "output_type": "stream",
     "text": [
      "100%|██████████| 30/30 [00:05<00:00,  5.78it/s]\n",
      "100%|██████████| 8/8 [00:00<00:00, 32.02it/s]\n"
     ]
    },
    {
     "name": "stdout",
     "output_type": "stream",
     "text": [
      "Epoch 121/1000 - Train loss: 19.29289748 - Val loss: 12.47423220\n",
      "INFO: Early stopping counter                     1 of 20                         [Best Val Loss: 11.77134919,                             Val Loss: 12.47423220]\n"
     ]
    },
    {
     "name": "stderr",
     "output_type": "stream",
     "text": [
      "100%|██████████| 30/30 [00:05<00:00,  5.99it/s]\n",
      "100%|██████████| 8/8 [00:00<00:00, 31.83it/s]\n"
     ]
    },
    {
     "name": "stdout",
     "output_type": "stream",
     "text": [
      "Epoch 122/1000 - Train loss: 18.76131751 - Val loss: 12.08792639\n",
      "INFO: Early stopping counter                     2 of 20                         [Best Val Loss: 11.77134919,                             Val Loss: 12.08792639]\n"
     ]
    },
    {
     "name": "stderr",
     "output_type": "stream",
     "text": [
      "100%|██████████| 30/30 [00:05<00:00,  5.76it/s]\n",
      "100%|██████████| 8/8 [00:00<00:00, 32.07it/s]\n"
     ]
    },
    {
     "name": "stdout",
     "output_type": "stream",
     "text": [
      "Epoch 123/1000 - Train loss: 17.39456431 - Val loss: 11.54369533\n",
      "INFO: Val_Loss improved (11.77134919 --> 11.54369533). Saving model ...\n"
     ]
    },
    {
     "name": "stderr",
     "output_type": "stream",
     "text": [
      "100%|██████████| 30/30 [00:05<00:00,  5.94it/s]\n",
      "100%|██████████| 8/8 [00:00<00:00, 31.91it/s]\n"
     ]
    },
    {
     "name": "stdout",
     "output_type": "stream",
     "text": [
      "Epoch 124/1000 - Train loss: 18.05216783 - Val loss: 18.96053529\n",
      "INFO: Early stopping counter                     1 of 20                         [Best Val Loss: 11.54369533,                             Val Loss: 18.96053529]\n"
     ]
    },
    {
     "name": "stderr",
     "output_type": "stream",
     "text": [
      "100%|██████████| 30/30 [00:05<00:00,  5.86it/s]\n",
      "100%|██████████| 8/8 [00:00<00:00, 32.18it/s]\n"
     ]
    },
    {
     "name": "stdout",
     "output_type": "stream",
     "text": [
      "Epoch 125/1000 - Train loss: 18.55572424 - Val loss: 15.93144655\n",
      "INFO: Early stopping counter                     2 of 20                         [Best Val Loss: 11.54369533,                             Val Loss: 15.93144655]\n"
     ]
    },
    {
     "name": "stderr",
     "output_type": "stream",
     "text": [
      "100%|██████████| 30/30 [00:05<00:00,  5.84it/s]\n",
      "100%|██████████| 8/8 [00:00<00:00, 32.24it/s]\n"
     ]
    },
    {
     "name": "stdout",
     "output_type": "stream",
     "text": [
      "Epoch 126/1000 - Train loss: 18.13236777 - Val loss: 10.03004378\n",
      "INFO: Val_Loss improved (11.54369533 --> 10.03004378). Saving model ...\n"
     ]
    },
    {
     "name": "stderr",
     "output_type": "stream",
     "text": [
      "100%|██████████| 30/30 [00:05<00:00,  5.78it/s]\n",
      "100%|██████████| 8/8 [00:00<00:00, 31.64it/s]\n"
     ]
    },
    {
     "name": "stdout",
     "output_type": "stream",
     "text": [
      "Epoch 127/1000 - Train loss: 17.17478523 - Val loss: 10.16187167\n",
      "INFO: Early stopping counter                     1 of 20                         [Best Val Loss: 10.03004378,                             Val Loss: 10.16187167]\n"
     ]
    },
    {
     "name": "stderr",
     "output_type": "stream",
     "text": [
      "100%|██████████| 30/30 [00:05<00:00,  5.81it/s]\n",
      "100%|██████████| 8/8 [00:00<00:00, 32.39it/s]\n"
     ]
    },
    {
     "name": "stdout",
     "output_type": "stream",
     "text": [
      "Epoch 128/1000 - Train loss: 16.37463732 - Val loss: 10.36763310\n",
      "INFO: Early stopping counter                     2 of 20                         [Best Val Loss: 10.03004378,                             Val Loss: 10.36763310]\n"
     ]
    },
    {
     "name": "stderr",
     "output_type": "stream",
     "text": [
      "100%|██████████| 30/30 [00:05<00:00,  5.80it/s]\n",
      "100%|██████████| 8/8 [00:00<00:00, 31.40it/s]\n"
     ]
    },
    {
     "name": "stdout",
     "output_type": "stream",
     "text": [
      "Epoch 129/1000 - Train loss: 17.92197237 - Val loss: 11.44554365\n",
      "INFO: Early stopping counter                     3 of 20                         [Best Val Loss: 10.03004378,                             Val Loss: 11.44554365]\n"
     ]
    },
    {
     "name": "stderr",
     "output_type": "stream",
     "text": [
      "100%|██████████| 30/30 [00:05<00:00,  5.81it/s]\n",
      "100%|██████████| 8/8 [00:00<00:00, 32.51it/s]\n"
     ]
    },
    {
     "name": "stdout",
     "output_type": "stream",
     "text": [
      "Epoch 130/1000 - Train loss: 16.47363803 - Val loss: 9.36801767\n",
      "INFO: Val_Loss improved (10.03004378 --> 9.36801767). Saving model ...\n"
     ]
    },
    {
     "name": "stderr",
     "output_type": "stream",
     "text": [
      "100%|██████████| 30/30 [00:04<00:00,  6.06it/s]\n",
      "100%|██████████| 8/8 [00:00<00:00, 32.40it/s]\n"
     ]
    },
    {
     "name": "stdout",
     "output_type": "stream",
     "text": [
      "Epoch 131/1000 - Train loss: 17.42978767 - Val loss: 9.89415377\n",
      "INFO: Early stopping counter                     1 of 20                         [Best Val Loss: 9.36801767,                             Val Loss: 9.89415377]\n"
     ]
    },
    {
     "name": "stderr",
     "output_type": "stream",
     "text": [
      "100%|██████████| 30/30 [00:05<00:00,  5.78it/s]\n",
      "100%|██████████| 8/8 [00:00<00:00, 32.05it/s]\n"
     ]
    },
    {
     "name": "stdout",
     "output_type": "stream",
     "text": [
      "Epoch 132/1000 - Train loss: 16.63763870 - Val loss: 9.25365096\n",
      "INFO: Val_Loss improved (9.36801767 --> 9.25365096). Saving model ...\n"
     ]
    },
    {
     "name": "stderr",
     "output_type": "stream",
     "text": [
      "100%|██████████| 30/30 [00:05<00:00,  5.78it/s]\n",
      "100%|██████████| 8/8 [00:00<00:00, 30.41it/s]\n"
     ]
    },
    {
     "name": "stdout",
     "output_type": "stream",
     "text": [
      "Epoch 133/1000 - Train loss: 16.24448760 - Val loss: 10.00427121\n",
      "INFO: Early stopping counter                     1 of 20                         [Best Val Loss: 9.25365096,                             Val Loss: 10.00427121]\n"
     ]
    },
    {
     "name": "stderr",
     "output_type": "stream",
     "text": [
      "100%|██████████| 30/30 [00:05<00:00,  5.90it/s]\n",
      "100%|██████████| 8/8 [00:00<00:00, 32.51it/s]\n"
     ]
    },
    {
     "name": "stdout",
     "output_type": "stream",
     "text": [
      "Epoch 134/1000 - Train loss: 17.09589853 - Val loss: 9.38489401\n",
      "INFO: Early stopping counter                     2 of 20                         [Best Val Loss: 9.25365096,                             Val Loss: 9.38489401]\n"
     ]
    },
    {
     "name": "stderr",
     "output_type": "stream",
     "text": [
      "100%|██████████| 30/30 [00:05<00:00,  5.91it/s]\n",
      "100%|██████████| 8/8 [00:00<00:00, 30.93it/s]\n"
     ]
    },
    {
     "name": "stdout",
     "output_type": "stream",
     "text": [
      "Epoch 135/1000 - Train loss: 16.56568530 - Val loss: 9.11441940\n",
      "INFO: Val_Loss improved (9.25365096 --> 9.11441940). Saving model ...\n"
     ]
    },
    {
     "name": "stderr",
     "output_type": "stream",
     "text": [
      "100%|██████████| 30/30 [00:05<00:00,  5.78it/s]\n",
      "100%|██████████| 8/8 [00:00<00:00, 32.52it/s]\n"
     ]
    },
    {
     "name": "stdout",
     "output_type": "stream",
     "text": [
      "Epoch 136/1000 - Train loss: 16.59870710 - Val loss: 9.31099236\n",
      "INFO: Early stopping counter                     1 of 20                         [Best Val Loss: 9.11441940,                             Val Loss: 9.31099236]\n"
     ]
    },
    {
     "name": "stderr",
     "output_type": "stream",
     "text": [
      "100%|██████████| 30/30 [00:05<00:00,  5.94it/s]\n",
      "100%|██████████| 8/8 [00:00<00:00, 31.36it/s]\n"
     ]
    },
    {
     "name": "stdout",
     "output_type": "stream",
     "text": [
      "Epoch 137/1000 - Train loss: 16.82937164 - Val loss: 9.55657333\n",
      "INFO: Early stopping counter                     2 of 20                         [Best Val Loss: 9.11441940,                             Val Loss: 9.55657333]\n"
     ]
    },
    {
     "name": "stderr",
     "output_type": "stream",
     "text": [
      "100%|██████████| 30/30 [00:05<00:00,  5.88it/s]\n",
      "100%|██████████| 8/8 [00:00<00:00, 31.97it/s]\n"
     ]
    },
    {
     "name": "stdout",
     "output_type": "stream",
     "text": [
      "Epoch 138/1000 - Train loss: 17.23116624 - Val loss: 14.00735557\n",
      "INFO: Early stopping counter                     3 of 20                         [Best Val Loss: 9.11441940,                             Val Loss: 14.00735557]\n"
     ]
    },
    {
     "name": "stderr",
     "output_type": "stream",
     "text": [
      "100%|██████████| 30/30 [00:05<00:00,  5.84it/s]\n",
      "100%|██████████| 8/8 [00:00<00:00, 30.54it/s]\n"
     ]
    },
    {
     "name": "stdout",
     "output_type": "stream",
     "text": [
      "Epoch 139/1000 - Train loss: 17.38641338 - Val loss: 9.08644658\n",
      "INFO: Val_Loss improved (9.11441940 --> 9.08644658). Saving model ...\n"
     ]
    },
    {
     "name": "stderr",
     "output_type": "stream",
     "text": [
      "100%|██████████| 30/30 [00:05<00:00,  5.79it/s]\n",
      "100%|██████████| 8/8 [00:00<00:00, 32.45it/s]\n"
     ]
    },
    {
     "name": "stdout",
     "output_type": "stream",
     "text": [
      "Epoch 140/1000 - Train loss: 16.78854987 - Val loss: 8.88170397\n",
      "INFO: Val_Loss improved (9.08644658 --> 8.88170397). Saving model ...\n"
     ]
    },
    {
     "name": "stderr",
     "output_type": "stream",
     "text": [
      "100%|██████████| 30/30 [00:04<00:00,  6.13it/s]\n",
      "100%|██████████| 8/8 [00:00<00:00, 31.96it/s]\n"
     ]
    },
    {
     "name": "stdout",
     "output_type": "stream",
     "text": [
      "Epoch 141/1000 - Train loss: 16.71876779 - Val loss: 12.03038323\n",
      "INFO: Early stopping counter                     1 of 20                         [Best Val Loss: 8.88170397,                             Val Loss: 12.03038323]\n"
     ]
    },
    {
     "name": "stderr",
     "output_type": "stream",
     "text": [
      "100%|██████████| 30/30 [00:05<00:00,  5.81it/s]\n",
      "100%|██████████| 8/8 [00:00<00:00, 28.44it/s]\n"
     ]
    },
    {
     "name": "stdout",
     "output_type": "stream",
     "text": [
      "Epoch 142/1000 - Train loss: 17.21769164 - Val loss: 9.53168583\n",
      "INFO: Early stopping counter                     2 of 20                         [Best Val Loss: 8.88170397,                             Val Loss: 9.53168583]\n"
     ]
    },
    {
     "name": "stderr",
     "output_type": "stream",
     "text": [
      "100%|██████████| 30/30 [00:04<00:00,  6.07it/s]\n",
      "100%|██████████| 8/8 [00:00<00:00, 32.08it/s]\n"
     ]
    },
    {
     "name": "stdout",
     "output_type": "stream",
     "text": [
      "Epoch 143/1000 - Train loss: 17.42705564 - Val loss: 8.85243350\n",
      "INFO: Val_Loss improved (8.88170397 --> 8.85243350). Saving model ...\n"
     ]
    },
    {
     "name": "stderr",
     "output_type": "stream",
     "text": [
      "100%|██████████| 30/30 [00:05<00:00,  5.80it/s]\n",
      "100%|██████████| 8/8 [00:00<00:00, 30.73it/s]\n"
     ]
    },
    {
     "name": "stdout",
     "output_type": "stream",
     "text": [
      "Epoch 144/1000 - Train loss: 15.04922034 - Val loss: 9.44384068\n",
      "INFO: Early stopping counter                     1 of 20                         [Best Val Loss: 8.85243350,                             Val Loss: 9.44384068]\n"
     ]
    },
    {
     "name": "stderr",
     "output_type": "stream",
     "text": [
      "100%|██████████| 30/30 [00:05<00:00,  5.78it/s]\n",
      "100%|██████████| 8/8 [00:00<00:00, 31.80it/s]\n"
     ]
    },
    {
     "name": "stdout",
     "output_type": "stream",
     "text": [
      "Epoch 145/1000 - Train loss: 16.72757832 - Val loss: 10.30191946\n",
      "INFO: Early stopping counter                     2 of 20                         [Best Val Loss: 8.85243350,                             Val Loss: 10.30191946]\n"
     ]
    },
    {
     "name": "stderr",
     "output_type": "stream",
     "text": [
      "100%|██████████| 30/30 [00:05<00:00,  5.97it/s]\n",
      "100%|██████████| 8/8 [00:00<00:00, 32.20it/s]\n"
     ]
    },
    {
     "name": "stdout",
     "output_type": "stream",
     "text": [
      "Epoch 146/1000 - Train loss: 17.42754758 - Val loss: 8.69546705\n",
      "INFO: Val_Loss improved (8.85243350 --> 8.69546705). Saving model ...\n"
     ]
    },
    {
     "name": "stderr",
     "output_type": "stream",
     "text": [
      "100%|██████████| 30/30 [00:05<00:00,  5.79it/s]\n",
      "100%|██████████| 8/8 [00:00<00:00, 31.46it/s]\n"
     ]
    },
    {
     "name": "stdout",
     "output_type": "stream",
     "text": [
      "Epoch 147/1000 - Train loss: 16.52345877 - Val loss: 9.00765157\n",
      "INFO: Early stopping counter                     1 of 20                         [Best Val Loss: 8.69546705,                             Val Loss: 9.00765157]\n"
     ]
    },
    {
     "name": "stderr",
     "output_type": "stream",
     "text": [
      "100%|██████████| 30/30 [00:05<00:00,  5.77it/s]\n",
      "100%|██████████| 8/8 [00:00<00:00, 32.24it/s]\n"
     ]
    },
    {
     "name": "stdout",
     "output_type": "stream",
     "text": [
      "Epoch 148/1000 - Train loss: 16.29480960 - Val loss: 9.03373230\n",
      "INFO: Early stopping counter                     2 of 20                         [Best Val Loss: 8.69546705,                             Val Loss: 9.03373230]\n"
     ]
    },
    {
     "name": "stderr",
     "output_type": "stream",
     "text": [
      "100%|██████████| 30/30 [00:04<00:00,  6.04it/s]\n",
      "100%|██████████| 8/8 [00:00<00:00, 32.28it/s]\n"
     ]
    },
    {
     "name": "stdout",
     "output_type": "stream",
     "text": [
      "Epoch 149/1000 - Train loss: 16.12279644 - Val loss: 9.83441895\n",
      "INFO: Early stopping counter                     3 of 20                         [Best Val Loss: 8.69546705,                             Val Loss: 9.83441895]\n"
     ]
    },
    {
     "name": "stderr",
     "output_type": "stream",
     "text": [
      "100%|██████████| 30/30 [00:05<00:00,  5.78it/s]\n",
      "100%|██████████| 8/8 [00:00<00:00, 32.03it/s]\n"
     ]
    },
    {
     "name": "stdout",
     "output_type": "stream",
     "text": [
      "Epoch 150/1000 - Train loss: 16.56296597 - Val loss: 8.81636685\n",
      "INFO: Early stopping counter                     4 of 20                         [Best Val Loss: 8.69546705,                             Val Loss: 8.81636685]\n"
     ]
    },
    {
     "name": "stderr",
     "output_type": "stream",
     "text": [
      "100%|██████████| 30/30 [00:05<00:00,  5.91it/s]\n",
      "100%|██████████| 8/8 [00:00<00:00, 23.49it/s]\n"
     ]
    },
    {
     "name": "stdout",
     "output_type": "stream",
     "text": [
      "Epoch 151/1000 - Train loss: 17.61890141 - Val loss: 10.16962945\n",
      "INFO: Early stopping counter                     5 of 20                         [Best Val Loss: 8.69546705,                             Val Loss: 10.16962945]\n"
     ]
    },
    {
     "name": "stderr",
     "output_type": "stream",
     "text": [
      "100%|██████████| 30/30 [00:05<00:00,  5.98it/s]\n",
      "100%|██████████| 8/8 [00:00<00:00, 32.22it/s]\n"
     ]
    },
    {
     "name": "stdout",
     "output_type": "stream",
     "text": [
      "Epoch 152/1000 - Train loss: 16.16431955 - Val loss: 8.65596259\n",
      "INFO: Val_Loss improved (8.69546705 --> 8.65596259). Saving model ...\n"
     ]
    },
    {
     "name": "stderr",
     "output_type": "stream",
     "text": [
      "100%|██████████| 30/30 [00:05<00:00,  5.83it/s]\n",
      "100%|██████████| 8/8 [00:00<00:00, 31.91it/s]\n"
     ]
    },
    {
     "name": "stdout",
     "output_type": "stream",
     "text": [
      "Epoch 153/1000 - Train loss: 16.95704845 - Val loss: 8.75781107\n",
      "INFO: Early stopping counter                     1 of 20                         [Best Val Loss: 8.65596259,                             Val Loss: 8.75781107]\n"
     ]
    },
    {
     "name": "stderr",
     "output_type": "stream",
     "text": [
      "100%|██████████| 30/30 [00:04<00:00,  6.05it/s]\n",
      "100%|██████████| 8/8 [00:00<00:00, 17.84it/s]\n"
     ]
    },
    {
     "name": "stdout",
     "output_type": "stream",
     "text": [
      "Epoch 154/1000 - Train loss: 16.89016250 - Val loss: 10.80084980\n",
      "INFO: Early stopping counter                     2 of 20                         [Best Val Loss: 8.65596259,                             Val Loss: 10.80084980]\n"
     ]
    },
    {
     "name": "stderr",
     "output_type": "stream",
     "text": [
      "100%|██████████| 30/30 [00:04<00:00,  6.00it/s]\n",
      "100%|██████████| 8/8 [00:00<00:00, 32.23it/s]\n"
     ]
    },
    {
     "name": "stdout",
     "output_type": "stream",
     "text": [
      "Epoch 155/1000 - Train loss: 16.44982106 - Val loss: 8.99804312\n",
      "INFO: Early stopping counter                     3 of 20                         [Best Val Loss: 8.65596259,                             Val Loss: 8.99804312]\n"
     ]
    },
    {
     "name": "stderr",
     "output_type": "stream",
     "text": [
      "100%|██████████| 30/30 [00:05<00:00,  5.90it/s]\n",
      "100%|██████████| 8/8 [00:00<00:00, 32.44it/s]\n"
     ]
    },
    {
     "name": "stdout",
     "output_type": "stream",
     "text": [
      "Epoch 156/1000 - Train loss: 17.03195524 - Val loss: 8.72102225\n",
      "INFO: Early stopping counter                     4 of 20                         [Best Val Loss: 8.65596259,                             Val Loss: 8.72102225]\n"
     ]
    },
    {
     "name": "stderr",
     "output_type": "stream",
     "text": [
      "100%|██████████| 30/30 [00:05<00:00,  5.97it/s]\n",
      "100%|██████████| 8/8 [00:00<00:00, 32.46it/s]\n"
     ]
    },
    {
     "name": "stdout",
     "output_type": "stream",
     "text": [
      "Epoch 157/1000 - Train loss: 15.36453902 - Val loss: 8.89173955\n",
      "INFO: Early stopping counter                     5 of 20                         [Best Val Loss: 8.65596259,                             Val Loss: 8.89173955]\n"
     ]
    },
    {
     "name": "stderr",
     "output_type": "stream",
     "text": [
      "100%|██████████| 30/30 [00:05<00:00,  5.82it/s]\n",
      "100%|██████████| 8/8 [00:00<00:00, 32.20it/s]\n"
     ]
    },
    {
     "name": "stdout",
     "output_type": "stream",
     "text": [
      "Epoch 158/1000 - Train loss: 17.04786266 - Val loss: 9.96935630\n",
      "INFO: Early stopping counter                     6 of 20                         [Best Val Loss: 8.65596259,                             Val Loss: 9.96935630]\n"
     ]
    },
    {
     "name": "stderr",
     "output_type": "stream",
     "text": [
      "100%|██████████| 30/30 [00:05<00:00,  5.78it/s]\n",
      "100%|██████████| 8/8 [00:00<00:00, 30.89it/s]\n"
     ]
    },
    {
     "name": "stdout",
     "output_type": "stream",
     "text": [
      "Epoch 159/1000 - Train loss: 16.89169496 - Val loss: 9.57703024\n",
      "INFO: Early stopping counter                     7 of 20                         [Best Val Loss: 8.65596259,                             Val Loss: 9.57703024]\n"
     ]
    },
    {
     "name": "stderr",
     "output_type": "stream",
     "text": [
      "100%|██████████| 30/30 [00:05<00:00,  5.96it/s]\n",
      "100%|██████████| 8/8 [00:00<00:00, 31.21it/s]\n"
     ]
    },
    {
     "name": "stdout",
     "output_type": "stream",
     "text": [
      "Epoch 160/1000 - Train loss: 17.58814090 - Val loss: 9.13229108\n",
      "INFO: Early stopping counter                     8 of 20                         [Best Val Loss: 8.65596259,                             Val Loss: 9.13229108]\n"
     ]
    },
    {
     "name": "stderr",
     "output_type": "stream",
     "text": [
      "100%|██████████| 30/30 [00:05<00:00,  5.93it/s]\n",
      "100%|██████████| 8/8 [00:00<00:00, 31.70it/s]\n"
     ]
    },
    {
     "name": "stdout",
     "output_type": "stream",
     "text": [
      "Epoch 161/1000 - Train loss: 14.82893731 - Val loss: 9.12412882\n",
      "INFO: Early stopping counter                     9 of 20                         [Best Val Loss: 8.65596259,                             Val Loss: 9.12412882]\n"
     ]
    },
    {
     "name": "stderr",
     "output_type": "stream",
     "text": [
      "100%|██████████| 30/30 [00:04<00:00,  6.02it/s]\n",
      "100%|██████████| 8/8 [00:00<00:00, 18.57it/s]\n"
     ]
    },
    {
     "name": "stdout",
     "output_type": "stream",
     "text": [
      "Epoch 162/1000 - Train loss: 16.90921043 - Val loss: 9.12528139\n",
      "INFO: Early stopping counter                     10 of 20                         [Best Val Loss: 8.65596259,                             Val Loss: 9.12528139]\n"
     ]
    },
    {
     "name": "stderr",
     "output_type": "stream",
     "text": [
      "100%|██████████| 30/30 [00:05<00:00,  5.98it/s]\n",
      "100%|██████████| 8/8 [00:00<00:00, 32.13it/s]\n"
     ]
    },
    {
     "name": "stdout",
     "output_type": "stream",
     "text": [
      "Epoch 163/1000 - Train loss: 17.16013110 - Val loss: 9.07301247\n",
      "INFO: Early stopping counter                     11 of 20                         [Best Val Loss: 8.65596259,                             Val Loss: 9.07301247]\n",
      "Epoch 00163: reducing learning rate of group 0 to 1.0000e-05.\n"
     ]
    },
    {
     "name": "stderr",
     "output_type": "stream",
     "text": [
      "100%|██████████| 30/30 [00:05<00:00,  5.78it/s]\n",
      "100%|██████████| 8/8 [00:00<00:00, 31.88it/s]\n"
     ]
    },
    {
     "name": "stdout",
     "output_type": "stream",
     "text": [
      "Epoch 164/1000 - Train loss: 16.81863829 - Val loss: 8.96239024\n",
      "INFO: Early stopping counter                     12 of 20                         [Best Val Loss: 8.65596259,                             Val Loss: 8.96239024]\n"
     ]
    },
    {
     "name": "stderr",
     "output_type": "stream",
     "text": [
      "100%|██████████| 30/30 [00:05<00:00,  5.94it/s]\n",
      "100%|██████████| 8/8 [00:00<00:00, 31.64it/s]\n"
     ]
    },
    {
     "name": "stdout",
     "output_type": "stream",
     "text": [
      "Epoch 165/1000 - Train loss: 15.74133835 - Val loss: 8.89574474\n",
      "INFO: Early stopping counter                     13 of 20                         [Best Val Loss: 8.65596259,                             Val Loss: 8.89574474]\n"
     ]
    },
    {
     "name": "stderr",
     "output_type": "stream",
     "text": [
      "100%|██████████| 30/30 [00:05<00:00,  5.80it/s]\n",
      "100%|██████████| 8/8 [00:00<00:00, 32.15it/s]\n"
     ]
    },
    {
     "name": "stdout",
     "output_type": "stream",
     "text": [
      "Epoch 166/1000 - Train loss: 15.76310212 - Val loss: 8.92132795\n",
      "INFO: Early stopping counter                     14 of 20                         [Best Val Loss: 8.65596259,                             Val Loss: 8.92132795]\n"
     ]
    },
    {
     "name": "stderr",
     "output_type": "stream",
     "text": [
      "100%|██████████| 30/30 [00:05<00:00,  5.77it/s]\n",
      "100%|██████████| 8/8 [00:00<00:00, 31.68it/s]\n"
     ]
    },
    {
     "name": "stdout",
     "output_type": "stream",
     "text": [
      "Epoch 167/1000 - Train loss: 16.44784368 - Val loss: 8.91570193\n",
      "INFO: Early stopping counter                     15 of 20                         [Best Val Loss: 8.65596259,                             Val Loss: 8.91570193]\n"
     ]
    },
    {
     "name": "stderr",
     "output_type": "stream",
     "text": [
      "100%|██████████| 30/30 [00:05<00:00,  5.88it/s]\n",
      "100%|██████████| 8/8 [00:00<00:00, 32.04it/s]\n"
     ]
    },
    {
     "name": "stdout",
     "output_type": "stream",
     "text": [
      "Epoch 168/1000 - Train loss: 16.14062608 - Val loss: 8.91657645\n",
      "INFO: Early stopping counter                     16 of 20                         [Best Val Loss: 8.65596259,                             Val Loss: 8.91657645]\n"
     ]
    },
    {
     "name": "stderr",
     "output_type": "stream",
     "text": [
      "100%|██████████| 30/30 [00:05<00:00,  5.77it/s]\n",
      "100%|██████████| 8/8 [00:00<00:00, 32.20it/s]\n"
     ]
    },
    {
     "name": "stdout",
     "output_type": "stream",
     "text": [
      "Epoch 169/1000 - Train loss: 14.62881838 - Val loss: 8.92999268\n",
      "INFO: Early stopping counter                     17 of 20                         [Best Val Loss: 8.65596259,                             Val Loss: 8.92999268]\n"
     ]
    },
    {
     "name": "stderr",
     "output_type": "stream",
     "text": [
      "100%|██████████| 30/30 [00:05<00:00,  5.71it/s]\n",
      "100%|██████████| 8/8 [00:00<00:00, 31.79it/s]\n"
     ]
    },
    {
     "name": "stdout",
     "output_type": "stream",
     "text": [
      "Epoch 170/1000 - Train loss: 16.02510535 - Val loss: 8.84706682\n",
      "INFO: Early stopping counter                     18 of 20                         [Best Val Loss: 8.65596259,                             Val Loss: 8.84706682]\n"
     ]
    },
    {
     "name": "stderr",
     "output_type": "stream",
     "text": [
      "100%|██████████| 30/30 [00:04<00:00,  6.00it/s]\n",
      "100%|██████████| 8/8 [00:00<00:00, 32.29it/s]\n"
     ]
    },
    {
     "name": "stdout",
     "output_type": "stream",
     "text": [
      "Epoch 171/1000 - Train loss: 14.85677077 - Val loss: 8.83096230\n",
      "INFO: Early stopping counter                     19 of 20                         [Best Val Loss: 8.65596259,                             Val Loss: 8.83096230]\n"
     ]
    },
    {
     "name": "stderr",
     "output_type": "stream",
     "text": [
      "100%|██████████| 30/30 [00:05<00:00,  5.77it/s]\n",
      "100%|██████████| 8/8 [00:00<00:00, 31.56it/s]\n"
     ]
    },
    {
     "name": "stdout",
     "output_type": "stream",
     "text": [
      "Epoch 172/1000 - Train loss: 15.99702911 - Val loss: 8.85800487\n",
      "INFO: Early stopping counter                     20 of 20                         [Best Val Loss: 8.65596259,                             Val Loss: 8.85800487]\n",
      "INFO: Early stopping DONE!\n",
      "INFO: Best Val Loss: 8.65596259\n",
      "Loading best model...\n"
     ]
    }
   ],
   "source": [
    "from landmarker.pipeline import CoordinateRegressionPipeline\n",
    "from monai.networks.nets import DenseNet121\n",
    "\n",
    "train_config = {\n",
    "    \"criterion\": \"l1\",\n",
    "    \"optimizer\": \"adam\",\n",
    "    \"lr\": lr,\n",
    "    \"batch_size\": batch_size,\n",
    "    \"epochs\": epochs,\n",
    "    \"lr_scheduler\": True,\n",
    "}\n",
    "\n",
    "coordinateRegressionPipeline = CoordinateRegressionPipeline(\n",
    "    model=DenseNet121(spatial_dims=2, in_channels=1, out_channels=19*2),\n",
    "    in_channels_img=1, nb_landmarks=19, train_config=train_config, verbose=True, device=device, dim_img=dim_img)\n",
    "\n",
    "coordinateRegressionPipeline.fit(image_paths_train, landmarks_train,\n",
    "                                        transform=composed_transformd, cache_ds=cache_ds)"
   ]
  },
  {
   "cell_type": "code",
   "execution_count": 14,
   "metadata": {},
   "outputs": [
    {
     "name": "stdout",
     "output_type": "stream",
     "text": [
      "Reading and normalizing 150 images...\n"
     ]
    },
    {
     "name": "stderr",
     "output_type": "stream",
     "text": [
      "100%|██████████| 150/150 [00:02<00:00, 61.70it/s]\n",
      "100%|██████████| 150/150 [00:17<00:00,  8.60it/s]"
     ]
    },
    {
     "name": "stdout",
     "output_type": "stream",
     "text": [
      "Detection report:\n",
      "1# Point-to-point error (PE) statistics:\n",
      "======================================================================\n",
      "Class               Mean      Median    Std       Min       Max       \n",
      "----------------------------------------------------------------------\n",
      "Landmark 0          112.22    112.28    4.21      101.73    123.62    \n",
      "Landmark 1          136.47    136.53    5.06      123.94    150.03    \n",
      "Landmark 2          144.14    144.21    5.37      130.80    158.59    \n",
      "Landmark 3          116.74    116.80    4.37      105.85    128.54    \n",
      "Landmark 4          167.86    167.95    6.24      152.39    184.59    \n",
      "Landmark 5          187.13    187.23    6.96      169.86    205.77    \n",
      "Landmark 6          196.39    196.49    7.33      178.20    216.06    \n",
      "Landmark 7          198.34    198.45    7.40      179.99    218.15    \n",
      "Landmark 8          198.40    198.51    7.39      180.07    218.19    \n",
      "Landmark 9          159.48    159.56    5.98      144.60    175.53    \n",
      "Landmark 10         179.67    179.76    6.69      163.06    197.61    \n",
      "Landmark 11         181.07    181.16    6.73      164.37    199.12    \n",
      "Landmark 12         181.24    181.33    6.75      164.48    199.34    \n",
      "Landmark 13         191.99    192.08    7.16      174.21    211.18    \n",
      "Landmark 14         170.61    170.69    6.35      154.87    187.63    \n",
      "Landmark 15         204.16    204.27    7.61      185.27    224.55    \n",
      "Landmark 16         144.44    144.51    5.39      131.04    158.93    \n",
      "Landmark 17         163.40    163.47    6.08      148.33    179.70    \n",
      "Landmark 18         126.18    126.24    4.73      114.40    138.92    \n",
      "======================================================================\n",
      "\n",
      "2# Success detection rate (SDR):\n",
      "================================================================================\n",
      "Class               SDR (PE≤2mm)   SDR (PE≤2.5mm) SDR (PE≤3mm)   SDR (PE≤4mm)   \n",
      "--------------------------------------------------------------------------------\n",
      "Landmark 0          0.00           0.00           0.00           0.00           \n",
      "Landmark 1          0.00           0.00           0.00           0.00           \n",
      "Landmark 2          0.00           0.00           0.00           0.00           \n",
      "Landmark 3          0.00           0.00           0.00           0.00           \n",
      "Landmark 4          0.00           0.00           0.00           0.00           \n",
      "Landmark 5          0.00           0.00           0.00           0.00           \n",
      "Landmark 6          0.00           0.00           0.00           0.00           \n",
      "Landmark 7          0.00           0.00           0.00           0.00           \n",
      "Landmark 8          0.00           0.00           0.00           0.00           \n",
      "Landmark 9          0.00           0.00           0.00           0.00           \n",
      "Landmark 10         0.00           0.00           0.00           0.00           \n",
      "Landmark 11         0.00           0.00           0.00           0.00           \n",
      "Landmark 12         0.00           0.00           0.00           0.00           \n",
      "Landmark 13         0.00           0.00           0.00           0.00           \n",
      "Landmark 14         0.00           0.00           0.00           0.00           \n",
      "Landmark 15         0.00           0.00           0.00           0.00           \n",
      "Landmark 16         0.00           0.00           0.00           0.00           \n",
      "Landmark 17         0.00           0.00           0.00           0.00           \n",
      "Landmark 18         0.00           0.00           0.00           0.00           \n",
      "================================================================================\n"
     ]
    },
    {
     "name": "stderr",
     "output_type": "stream",
     "text": [
      "\n"
     ]
    }
   ],
   "source": [
    "results_coordinate = coordinateRegressionPipeline.evaluate(image_paths_test1, landmarks_test1, pixel_spacings_test1)"
   ]
  },
  {
   "cell_type": "code",
   "execution_count": null,
   "metadata": {},
   "outputs": [],
   "source": []
  }
 ],
 "metadata": {
  "kernelspec": {
   "display_name": "Python 3 (ipykernel)",
   "language": "python",
   "name": "python3"
  },
  "language_info": {
   "codemirror_mode": {
    "name": "ipython",
    "version": 3
   },
   "file_extension": ".py",
   "mimetype": "text/x-python",
   "name": "python",
   "nbconvert_exporter": "python",
   "pygments_lexer": "ipython3",
   "version": "3.10.13"
  }
 },
 "nbformat": 4,
 "nbformat_minor": 4
}
